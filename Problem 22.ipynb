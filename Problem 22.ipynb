{
 "cells": [
  {
   "cell_type": "markdown",
   "id": "bb1ff7e5",
   "metadata": {},
   "source": [
    "# Problem 22: Names scores\n",
    "\n",
    "Using [names.txt](https://projecteuler.net/project/resources/p022_names.txt) (right click and 'Save Link/Target As...'), a 46K text file containing over five-thousand first names, begin by sorting it into alphabetical order. Then working out the alphabetical value for each name, multiply this value by its alphabetical position in the list to obtain a name score.\n",
    "\n",
    "For example, when the list is sorted into alphabetical order, COLIN, which is worth 3 + 15 + 12 + 9 + 14 = 53, is the 938th name in the list. So, COLIN would obtain a score of 938 × 53 = 49714.\n",
    "\n",
    "What is the total of all the name scores in the file?\n"
   ]
  },
  {
   "cell_type": "code",
   "execution_count": 11,
   "id": "5dfc2e6f",
   "metadata": {
    "ExecuteTime": {
     "end_time": "2021-12-06T16:38:57.486959Z",
     "start_time": "2021-12-06T16:38:57.484156Z"
    }
   },
   "outputs": [],
   "source": [
    "with open('names.txt') as f:\n",
    "    data = f.read()\n",
    "data = data.split('\",\"')\n",
    "data[0] = data[0][1:]\n",
    "data[-1] = data[-1][:-1]"
   ]
  },
  {
   "cell_type": "code",
   "execution_count": 14,
   "id": "7cb52dac",
   "metadata": {
    "ExecuteTime": {
     "end_time": "2021-12-06T16:39:17.174554Z",
     "start_time": "2021-12-06T16:39:17.172155Z"
    }
   },
   "outputs": [
    {
     "data": {
      "text/plain": [
       "5163"
      ]
     },
     "execution_count": 14,
     "metadata": {},
     "output_type": "execute_result"
    }
   ],
   "source": [
    "len(data)"
   ]
  },
  {
   "cell_type": "code",
   "execution_count": 15,
   "id": "e4c01bed",
   "metadata": {
    "ExecuteTime": {
     "end_time": "2021-12-06T16:39:40.012132Z",
     "start_time": "2021-12-06T16:39:40.009706Z"
    }
   },
   "outputs": [],
   "source": [
    "data = sorted(data)"
   ]
  },
  {
   "cell_type": "code",
   "execution_count": 16,
   "id": "42105a4a",
   "metadata": {
    "ExecuteTime": {
     "end_time": "2021-12-06T16:39:44.662559Z",
     "start_time": "2021-12-06T16:39:44.659407Z"
    }
   },
   "outputs": [
    {
     "data": {
      "text/plain": [
       "['AARON',\n",
       " 'ABBEY',\n",
       " 'ABBIE',\n",
       " 'ABBY',\n",
       " 'ABDUL',\n",
       " 'ABE',\n",
       " 'ABEL',\n",
       " 'ABIGAIL',\n",
       " 'ABRAHAM',\n",
       " 'ABRAM']"
      ]
     },
     "execution_count": 16,
     "metadata": {},
     "output_type": "execute_result"
    }
   ],
   "source": [
    "data[:10]"
   ]
  },
  {
   "cell_type": "code",
   "execution_count": 25,
   "id": "00d6d2fa",
   "metadata": {
    "ExecuteTime": {
     "end_time": "2021-12-06T16:42:38.839275Z",
     "start_time": "2021-12-06T16:42:38.836923Z"
    }
   },
   "outputs": [
    {
     "data": {
      "text/plain": [
       "'COLIN'"
      ]
     },
     "execution_count": 25,
     "metadata": {},
     "output_type": "execute_result"
    }
   ],
   "source": [
    "name = data[937]\n",
    "name"
   ]
  },
  {
   "cell_type": "code",
   "execution_count": 28,
   "id": "aa25c31b",
   "metadata": {
    "ExecuteTime": {
     "end_time": "2021-12-06T16:44:32.519991Z",
     "start_time": "2021-12-06T16:44:32.514814Z"
    }
   },
   "outputs": [],
   "source": [
    "total = 0\n",
    "for i, name in enumerate(data):\n",
    "    s = sum([ ord(c)-64 for c in name ])\n",
    "    total += (i+1)*s"
   ]
  },
  {
   "cell_type": "code",
   "execution_count": 30,
   "id": "41c303fb",
   "metadata": {
    "ExecuteTime": {
     "end_time": "2021-12-06T16:44:43.314019Z",
     "start_time": "2021-12-06T16:44:43.311695Z"
    }
   },
   "outputs": [
    {
     "data": {
      "text/plain": [
       "871198282"
      ]
     },
     "execution_count": 30,
     "metadata": {},
     "output_type": "execute_result"
    }
   ],
   "source": [
    "total"
   ]
  },
  {
   "cell_type": "code",
   "execution_count": null,
   "id": "dca53731",
   "metadata": {},
   "outputs": [],
   "source": []
  }
 ],
 "metadata": {
  "hide_input": false,
  "kernelspec": {
   "display_name": "Python 3",
   "language": "python",
   "name": "python3"
  },
  "language_info": {
   "codemirror_mode": {
    "name": "ipython",
    "version": 3
   },
   "file_extension": ".py",
   "mimetype": "text/x-python",
   "name": "python",
   "nbconvert_exporter": "python",
   "pygments_lexer": "ipython3",
   "version": "3.8.10"
  },
  "toc": {
   "base_numbering": 1,
   "nav_menu": {},
   "number_sections": true,
   "sideBar": true,
   "skip_h1_title": false,
   "title_cell": "Table of Contents",
   "title_sidebar": "Contents",
   "toc_cell": false,
   "toc_position": {},
   "toc_section_display": true,
   "toc_window_display": false
  }
 },
 "nbformat": 4,
 "nbformat_minor": 5
}
