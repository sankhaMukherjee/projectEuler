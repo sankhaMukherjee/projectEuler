{
 "cells": [
  {
   "cell_type": "markdown",
   "id": "9fc8c9a5",
   "metadata": {},
   "source": [
    "# Problem 75: Singular integer right triangles\n",
    "\n",
    "\n",
    "\n",
    "It turns out that 12 cm is the smallest length of wire that can be bent to form an integer sided right angle triangle in exactly one way, but there are many more examples.\n",
    "\n",
    "```\n",
    "12 cm: (3,4,5)\n",
    "24 cm: (6,8,10)\n",
    "30 cm: (5,12,13)\n",
    "36 cm: (9,12,15)\n",
    "40 cm: (8,15,17)\n",
    "48 cm: (12,16,20)\n",
    "```\n",
    "\n",
    "In contrast, some lengths of wire, like 20 cm, cannot be bent to form an integer sided right angle triangle, and other lengths allow more than one solution to be found; for example, using 120 cm it is possible to form exactly three different integer sided right angle triangles.\n",
    "\n",
    "120 cm: (30,40,50), (20,48,52), (24,45,51)\n",
    "\n",
    "Given that L is the length of the wire, for how many values of L ≤ 1,500,000 can exactly one integer sided right angle triangle be formed?\n",
    "\n"
   ]
  },
  {
   "cell_type": "code",
   "execution_count": 1,
   "id": "aa70b90d",
   "metadata": {},
   "outputs": [],
   "source": [
    "from numba import jit\n",
    "from tqdm.notebook import tqdm\n",
    "from math import gcd"
   ]
  },
  {
   "cell_type": "code",
   "execution_count": 10,
   "id": "63e29e12",
   "metadata": {},
   "outputs": [],
   "source": [
    "l = a + b + c"
   ]
  },
  {
   "cell_type": "code",
   "execution_count": 11,
   "id": "08f704a9",
   "metadata": {},
   "outputs": [
    {
     "data": {
      "text/plain": [
       "12"
      ]
     },
     "execution_count": 11,
     "metadata": {},
     "output_type": "execute_result"
    }
   ],
   "source": [
    "(l**2 // 2 - l * a) // ( l - a )"
   ]
  },
  {
   "cell_type": "code",
   "execution_count": 53,
   "id": "f358b55d",
   "metadata": {},
   "outputs": [],
   "source": [
    "@jit\n",
    "def isSingularRtAngle(l: int) -> bool:\n",
    "    found = 0\n",
    "    minB  = 0\n",
    "    for a in range(1, l//2):\n",
    "        b = (l**2 // 2 - l * a) // ( l - a )\n",
    "        c = l - (a + b)\n",
    "\n",
    "        if a == minB: \n",
    "            break\n",
    "\n",
    "        if c**2 == a**2 + b**2:\n",
    "            minB = b\n",
    "            \n",
    "            found += 1\n",
    "            if found > 1:\n",
    "                return False\n",
    "            \n",
    "            \n",
    "    return found == 1"
   ]
  },
  {
   "cell_type": "code",
   "execution_count": 57,
   "id": "614e7b5a",
   "metadata": {},
   "outputs": [
    {
     "name": "stdout",
     "output_type": "stream",
     "text": [
      "CPU times: user 7.76 s, sys: 0 ns, total: 7.76 s\n",
      "Wall time: 7.76 s\n"
     ]
    },
    {
     "data": {
      "text/plain": [
       "11013"
      ]
     },
     "execution_count": 57,
     "metadata": {},
     "output_type": "execute_result"
    }
   ],
   "source": [
    "%%time\n",
    "N = 100_000\n",
    "counter = 0\n",
    "for l in range(11, N+1):\n",
    "    if isSingularRtAngle(l):\n",
    "        counter += 1\n",
    "counter"
   ]
  },
  {
   "cell_type": "code",
   "execution_count": null,
   "id": "5d8e6525",
   "metadata": {},
   "outputs": [
    {
     "data": {
      "application/json": {
       "ascii": false,
       "bar_format": null,
       "colour": null,
       "elapsed": 0.012992382049560547,
       "initial": 0,
       "n": 0,
       "ncols": null,
       "nrows": 38,
       "postfix": null,
       "prefix": "",
       "rate": null,
       "total": 999990,
       "unit": "it",
       "unit_divisor": 1000,
       "unit_scale": false
      },
      "application/vnd.jupyter.widget-view+json": {
       "model_id": "d078452c29024919b9104acae663553c",
       "version_major": 2,
       "version_minor": 0
      },
      "text/plain": [
       "  0%|          | 0/999990 [00:00<?, ?it/s]"
      ]
     },
     "metadata": {},
     "output_type": "display_data"
    }
   ],
   "source": [
    "counter = 0\n",
    "N = 1_000_000\n",
    "for l in tqdm(range(11, N+1)):\n",
    "    if isSingularRtAngle(l):\n",
    "        counter += 1\n",
    "counter"
   ]
  },
  {
   "cell_type": "code",
   "execution_count": 58,
   "id": "37177721",
   "metadata": {},
   "outputs": [
    {
     "name": "stdout",
     "output_type": "stream",
     "text": [
      "CPU times: user 7.71 s, sys: 0 ns, total: 7.71 s\n",
      "Wall time: 7.71 s\n"
     ]
    },
    {
     "data": {
      "text/plain": [
       "11013"
      ]
     },
     "execution_count": 58,
     "metadata": {},
     "output_type": "execute_result"
    }
   ],
   "source": [
    "%%time\n",
    "sum(isSingularRtAngle(l) for l in range(11, N+1))"
   ]
  },
  {
   "cell_type": "markdown",
   "id": "22f6cba1",
   "metadata": {},
   "source": [
    "## Here we shall use the formulae given in the wiki page:\n",
    "\n",
    "https://en.wikipedia.org/wiki/Pythagorean_triple"
   ]
  },
  {
   "cell_type": "code",
   "execution_count": 15,
   "id": "6acb86c5",
   "metadata": {},
   "outputs": [],
   "source": [
    "from math import gcd, sqrt, ceil"
   ]
  },
  {
   "cell_type": "code",
   "execution_count": 16,
   "id": "de494663",
   "metadata": {},
   "outputs": [],
   "source": [
    "allValues = {}\n",
    "L = 1_500_000\n",
    "M = ceil(sqrt(L/2))\n",
    "for m in range(2, M+1):\n",
    "    for n in range(1, m):\n",
    "        if gcd(m, n) > 1: continue\n",
    "        a = m**2 - n**2\n",
    "        b = 2*m*n\n",
    "        c = m**2 + n**2\n",
    "        l = a + b + c\n",
    "        K = L // l\n",
    "        for k in range(1, K+1):\n",
    "            a1, b1, c1 = k*a, k*b, k*c\n",
    "            l1 = k*l\n",
    "            triple = '_'.join(list(map(str, sorted([a1, b1, c1]))))\n",
    "            if l1 not in allValues:\n",
    "                allValues[l1] = [triple]\n",
    "            else:\n",
    "                if triple not in allValues[l1]:\n",
    "                    allValues[l1].append(triple)\n",
    "                    \n",
    "            # print(f'({a1:4d}, {b1:4d}, {c1:4d}) -> {l1}')"
   ]
  },
  {
   "cell_type": "code",
   "execution_count": 17,
   "id": "8495751d",
   "metadata": {},
   "outputs": [
    {
     "data": {
      "text/plain": [
       "355571"
      ]
     },
     "execution_count": 17,
     "metadata": {},
     "output_type": "execute_result"
    }
   ],
   "source": [
    "len(allValues.items())"
   ]
  },
  {
   "cell_type": "code",
   "execution_count": 18,
   "id": "a3657c3c",
   "metadata": {},
   "outputs": [
    {
     "data": {
      "text/plain": [
       "161667"
      ]
     },
     "execution_count": 18,
     "metadata": {},
     "output_type": "execute_result"
    }
   ],
   "source": [
    "result = 0\n",
    "for v in allValues.values():\n",
    "    if len(v) == 1:\n",
    "        result += 1\n",
    "result"
   ]
  },
  {
   "cell_type": "code",
   "execution_count": null,
   "id": "2fcef6d8",
   "metadata": {},
   "outputs": [],
   "source": []
  }
 ],
 "metadata": {
  "kernelspec": {
   "display_name": "Python 3 (ipykernel)",
   "language": "python",
   "name": "python3"
  },
  "language_info": {
   "codemirror_mode": {
    "name": "ipython",
    "version": 3
   },
   "file_extension": ".py",
   "mimetype": "text/x-python",
   "name": "python",
   "nbconvert_exporter": "python",
   "pygments_lexer": "ipython3",
   "version": "3.10.4"
  }
 },
 "nbformat": 4,
 "nbformat_minor": 5
}
