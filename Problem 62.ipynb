{
 "cells": [
  {
   "cell_type": "markdown",
   "id": "4dff4413",
   "metadata": {},
   "source": [
    "# Problem 62: Cubic permutations\n",
    "\n",
    "The cube, 41063625 ($345^3$), can be permuted to produce two other cubes: 56623104 ($384^3$) and 66430125 ($405^3$). In fact, 41063625 is the smallest cube which has exactly three permutations of its digits which are also cube.\n",
    "\n",
    "Find the smallest cube for which exactly five permutations of its digits are cube."
   ]
  },
  {
   "cell_type": "code",
   "execution_count": 2,
   "id": "2d401c6f",
   "metadata": {
    "ExecuteTime": {
     "end_time": "2022-04-18T13:10:33.983079Z",
     "start_time": "2022-04-18T13:10:33.980571Z"
    }
   },
   "outputs": [
    {
     "data": {
      "text/plain": [
       "True"
      ]
     },
     "execution_count": 2,
     "metadata": {},
     "output_type": "execute_result"
    }
   ],
   "source": [
    "sorted('41063625') == sorted('56623104')"
   ]
  },
  {
   "cell_type": "code",
   "execution_count": 3,
   "id": "5d96ab89",
   "metadata": {
    "ExecuteTime": {
     "end_time": "2022-04-18T13:12:08.621198Z",
     "start_time": "2022-04-18T13:12:08.618842Z"
    }
   },
   "outputs": [],
   "source": []
  },
  {
   "cell_type": "code",
   "execution_count": 12,
   "id": "88762e3e",
   "metadata": {
    "ExecuteTime": {
     "end_time": "2022-04-18T13:16:10.894385Z",
     "start_time": "2022-04-18T13:16:10.853815Z"
    }
   },
   "outputs": [],
   "source": [
    "cubes = {}\n",
    "for i in range(10000):\n",
    "    c = ''.join(sorted(str(i**3)))\n",
    "    if c not in cubes:\n",
    "        cubes[c] = [i]\n",
    "    else:\n",
    "        cubes[c].append(i)"
   ]
  },
  {
   "cell_type": "code",
   "execution_count": 14,
   "id": "b241ca3c",
   "metadata": {
    "ExecuteTime": {
     "end_time": "2022-04-18T13:16:23.636122Z",
     "start_time": "2022-04-18T13:16:23.632752Z"
    }
   },
   "outputs": [
    {
     "data": {
      "text/plain": [
       "[[5027, 7061, 7202, 8288, 8384], [5196, 8124, 8496, 9702, 9783]]"
      ]
     },
     "execution_count": 14,
     "metadata": {},
     "output_type": "execute_result"
    }
   ],
   "source": [
    "[v for c, v in cubes.items() if len(v)>4]"
   ]
  },
  {
   "cell_type": "code",
   "execution_count": 15,
   "id": "53af24ff",
   "metadata": {
    "ExecuteTime": {
     "end_time": "2022-04-18T13:16:49.500951Z",
     "start_time": "2022-04-18T13:16:49.490714Z"
    }
   },
   "outputs": [
    {
     "data": {
      "text/plain": [
       "127035954683"
      ]
     },
     "execution_count": 15,
     "metadata": {},
     "output_type": "execute_result"
    }
   ],
   "source": [
    "5027**3"
   ]
  },
  {
   "cell_type": "code",
   "execution_count": null,
   "id": "c1030807",
   "metadata": {},
   "outputs": [],
   "source": []
  }
 ],
 "metadata": {
  "hide_input": false,
  "kernelspec": {
   "display_name": "Python 3",
   "language": "python",
   "name": "python3"
  },
  "language_info": {
   "codemirror_mode": {
    "name": "ipython",
    "version": 3
   },
   "file_extension": ".py",
   "mimetype": "text/x-python",
   "name": "python",
   "nbconvert_exporter": "python",
   "pygments_lexer": "ipython3",
   "version": "3.8.10"
  },
  "toc": {
   "base_numbering": 1,
   "nav_menu": {},
   "number_sections": true,
   "sideBar": true,
   "skip_h1_title": false,
   "title_cell": "Table of Contents",
   "title_sidebar": "Contents",
   "toc_cell": false,
   "toc_position": {},
   "toc_section_display": true,
   "toc_window_display": false
  }
 },
 "nbformat": 4,
 "nbformat_minor": 5
}
