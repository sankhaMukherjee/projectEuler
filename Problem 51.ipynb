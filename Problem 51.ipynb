{
 "cells": [
  {
   "cell_type": "markdown",
   "id": "c33fbf7b",
   "metadata": {},
   "source": [
    "# Problem 51: Prime digit replacements\n",
    "\n",
    "\n",
    "\n",
    "By replacing the 1st digit of the 2-digit number *3, it turns out that six of the nine possible values: 13, 23, 43, 53, 73, and 83, are all prime.\n",
    "\n",
    "By replacing the 3rd and 4th digits of 56**3 with the same digit, this 5-digit number is the first example having seven primes among the ten generated numbers, yielding the family: 56003, 56113, 56333, 56443, 56663, 56773, and 56993. Consequently 56003, being the first member of this family, is the smallest prime with this property.\n",
    "\n",
    "Find the smallest prime which, by replacing part of the number (not necessarily adjacent digits) with the same digit, is part of an eight prime value family.\n"
   ]
  },
  {
   "cell_type": "code",
   "execution_count": 19,
   "id": "cea41951",
   "metadata": {
    "ExecuteTime": {
     "end_time": "2022-03-10T12:53:15.100968Z",
     "start_time": "2022-03-10T12:53:15.096519Z"
    }
   },
   "outputs": [],
   "source": [
    "import numpy as np\n",
    "import itertools as it\n",
    "import re"
   ]
  },
  {
   "cell_type": "code",
   "execution_count": 4,
   "id": "bb81a3de",
   "metadata": {
    "ExecuteTime": {
     "end_time": "2022-03-10T12:43:15.245977Z",
     "start_time": "2022-03-10T12:43:15.243563Z"
    }
   },
   "outputs": [],
   "source": [
    "primes = np.load('primesToMil.npy')"
   ]
  },
  {
   "cell_type": "code",
   "execution_count": 5,
   "id": "dd2ed67e",
   "metadata": {
    "ExecuteTime": {
     "end_time": "2022-03-10T12:44:14.989284Z",
     "start_time": "2022-03-10T12:44:14.940609Z"
    }
   },
   "outputs": [],
   "source": [
    "fiveDigPrimes = [p for p in primes if (p>9999) and (p<100000)]"
   ]
  },
  {
   "cell_type": "code",
   "execution_count": 76,
   "id": "d72b9834",
   "metadata": {
    "ExecuteTime": {
     "end_time": "2022-03-10T13:23:39.405660Z",
     "start_time": "2022-03-10T13:23:39.356795Z"
    }
   },
   "outputs": [],
   "source": [
    "sixDigPrimes = [p for p in primes if (p>99999)]\n",
    "sixDigPrimesStr = list(map(str, sixDigPrimes))"
   ]
  },
  {
   "cell_type": "code",
   "execution_count": 73,
   "id": "acb26f4f",
   "metadata": {
    "ExecuteTime": {
     "end_time": "2022-03-10T13:22:29.664230Z",
     "start_time": "2022-03-10T13:22:29.657376Z"
    }
   },
   "outputs": [
    {
     "data": {
      "text/plain": [
       "68906"
      ]
     },
     "execution_count": 73,
     "metadata": {},
     "output_type": "execute_result"
    }
   ],
   "source": [
    "len(sixDigPrimes)"
   ]
  },
  {
   "cell_type": "code",
   "execution_count": 74,
   "id": "971379d8",
   "metadata": {
    "ExecuteTime": {
     "end_time": "2022-03-10T13:22:38.513586Z",
     "start_time": "2022-03-10T13:22:38.508169Z"
    }
   },
   "outputs": [
    {
     "data": {
      "text/plain": [
       "([10007, 10009, 10037, 10039, 10061, 10067, 10069, 10079, 10091, 10093],\n",
       " [99877, 99881, 99901, 99907, 99923, 99929, 99961, 99971, 99989, 99991])"
      ]
     },
     "execution_count": 74,
     "metadata": {},
     "output_type": "execute_result"
    }
   ],
   "source": [
    "fiveDigPrimes[:10], fiveDigPrimes[-10:]"
   ]
  },
  {
   "cell_type": "code",
   "execution_count": 9,
   "id": "9a9d9075",
   "metadata": {
    "ExecuteTime": {
     "end_time": "2022-03-10T12:46:04.860497Z",
     "start_time": "2022-03-10T12:46:04.856085Z"
    }
   },
   "outputs": [],
   "source": [
    "fiveDigitPrimesStr = list(map(str, fiveDigPrimes))"
   ]
  },
  {
   "cell_type": "code",
   "execution_count": 65,
   "id": "dc473219",
   "metadata": {
    "ExecuteTime": {
     "end_time": "2022-03-10T13:20:31.249160Z",
     "start_time": "2022-03-10T13:20:31.240597Z"
    }
   },
   "outputs": [],
   "source": [
    "from typing import List\n",
    "\n",
    "def primeToStars(prime:str, nNums:int, charToSearch: str) -> List[str]:\n",
    "    results = []\n",
    "    indices = [i for i, v  in enumerate(prime) if v == charToSearch]\n",
    "    for vs in list(it.combinations(indices, nNums)):\n",
    "        temp = prime\n",
    "        for v in vs:\n",
    "            temp = temp[:v] + '*' + temp[v+1:]\n",
    "        results.append(temp)\n",
    "        \n",
    "    return (results)"
   ]
  },
  {
   "cell_type": "code",
   "execution_count": 45,
   "id": "6b7bd60a",
   "metadata": {
    "ExecuteTime": {
     "end_time": "2022-03-10T13:04:38.018730Z",
     "start_time": "2022-03-10T13:04:38.016078Z"
    }
   },
   "outputs": [
    {
     "data": {
      "text/plain": [
       "['1**07', '1*0*7', '10**7']"
      ]
     },
     "execution_count": 45,
     "metadata": {},
     "output_type": "execute_result"
    }
   ],
   "source": [
    "prime = '10007'\n",
    "primeToStars(prime, 2, '0')"
   ]
  },
  {
   "cell_type": "code",
   "execution_count": 52,
   "id": "5ec0a276",
   "metadata": {
    "ExecuteTime": {
     "end_time": "2022-03-10T13:11:31.796197Z",
     "start_time": "2022-03-10T13:11:31.794458Z"
    }
   },
   "outputs": [],
   "source": []
  },
  {
   "cell_type": "code",
   "execution_count": 59,
   "id": "53e2a620",
   "metadata": {
    "ExecuteTime": {
     "end_time": "2022-03-10T13:16:59.192106Z",
     "start_time": "2022-03-10T13:16:59.107485Z"
    }
   },
   "outputs": [],
   "source": [
    "primeCount = {}\n",
    "for prime in fiveDigitPrimesStr:\n",
    "    for i in map(str, range(10)):\n",
    "        primeList = primeToStars(prime, 2, i)\n",
    "        for p in primeList:\n",
    "            if p not in primeCount:\n",
    "                primeCount[p] = [i]\n",
    "            else:\n",
    "                primeCount[p].append(i)"
   ]
  },
  {
   "cell_type": "code",
   "execution_count": 62,
   "id": "d5f15040",
   "metadata": {
    "ExecuteTime": {
     "end_time": "2022-03-10T13:19:02.196229Z",
     "start_time": "2022-03-10T13:19:02.188038Z"
    }
   },
   "outputs": [
    {
     "name": "stdout",
     "output_type": "stream",
     "text": [
      "1**07 ['0', '4', '6', '7']\n",
      "1**37 ['0', '3', '4', '7', '9']\n",
      "1**61 ['0', '1', '4', '6', '7', '9']\n",
      "56**3 ['0', '1', '3', '4', '6', '7', '9']\n"
     ]
    }
   ],
   "source": [
    "curMax = 0\n",
    "for k, v in primeCount.items():\n",
    "    if len(v) > curMax:\n",
    "        curMax = len(v)\n",
    "        print(k, v)"
   ]
  },
  {
   "cell_type": "code",
   "execution_count": 70,
   "id": "fb8d2f94",
   "metadata": {
    "ExecuteTime": {
     "end_time": "2022-03-10T13:21:32.447238Z",
     "start_time": "2022-03-10T13:21:32.331547Z"
    }
   },
   "outputs": [
    {
     "name": "stdout",
     "output_type": "stream",
     "text": [
      "1*007 ['0', '2', '3', '6']\n",
      "100*9 ['0', '3', '6', '7', '9']\n",
      "*0177 ['1', '2', '4', '5', '7', '8']\n"
     ]
    }
   ],
   "source": [
    "nNum = 1\n",
    "\n",
    "primeCount = {}\n",
    "for prime in fiveDigitPrimesStr:\n",
    "    for i in map(str, range(10)):\n",
    "        primeList = primeToStars(prime, nNum, i)\n",
    "        for p in primeList:\n",
    "            if p not in primeCount:\n",
    "                primeCount[p] = [i]\n",
    "            else:\n",
    "                primeCount[p].append(i)\n",
    "                \n",
    "curMax = 0\n",
    "for k, v in primeCount.items():\n",
    "    if len(v) > curMax:\n",
    "        curMax = len(v)\n",
    "        print(k, v)"
   ]
  },
  {
   "cell_type": "code",
   "execution_count": 80,
   "id": "1c285197",
   "metadata": {
    "ExecuteTime": {
     "end_time": "2022-03-10T13:25:18.272900Z",
     "start_time": "2022-03-10T13:25:17.586148Z"
    }
   },
   "outputs": [
    {
     "name": "stdout",
     "output_type": "stream",
     "text": [
      "1***03 ['0', '1', '2', '3', '6']\n",
      "1*0**3 ['0', '2', '4', '6', '7', '8']\n",
      "***109 ['1', '2', '4', '5', '6', '7', '8']\n",
      "*2*3*3 ['1', '2', '3', '4', '5', '6', '8', '9']\n",
      "CPU times: user 681 ms, sys: 0 ns, total: 681 ms\n",
      "Wall time: 681 ms\n"
     ]
    }
   ],
   "source": [
    "%%time\n",
    "nNum = 3\n",
    "\n",
    "primeCount = {}\n",
    "for prime in sixDigPrimesStr:\n",
    "    for i in map(str, range(10)):\n",
    "        primeList = primeToStars(prime, nNum, i)\n",
    "        for p in primeList:\n",
    "            if p not in primeCount:\n",
    "                primeCount[p] = [i]\n",
    "            else:\n",
    "                primeCount[p].append(i)\n",
    "                \n",
    "curMax = 0\n",
    "for k, v in primeCount.items():\n",
    "    if len(v) > curMax:\n",
    "        curMax = len(v)\n",
    "        print(k, v)"
   ]
  },
  {
   "cell_type": "code",
   "execution_count": null,
   "id": "c5df85a9",
   "metadata": {},
   "outputs": [],
   "source": [
    "121313"
   ]
  }
 ],
 "metadata": {
  "hide_input": false,
  "kernelspec": {
   "display_name": "Python 3",
   "language": "python",
   "name": "python3"
  },
  "language_info": {
   "codemirror_mode": {
    "name": "ipython",
    "version": 3
   },
   "file_extension": ".py",
   "mimetype": "text/x-python",
   "name": "python",
   "nbconvert_exporter": "python",
   "pygments_lexer": "ipython3",
   "version": "3.8.10"
  },
  "toc": {
   "base_numbering": 1,
   "nav_menu": {},
   "number_sections": true,
   "sideBar": true,
   "skip_h1_title": false,
   "title_cell": "Table of Contents",
   "title_sidebar": "Contents",
   "toc_cell": false,
   "toc_position": {},
   "toc_section_display": true,
   "toc_window_display": false
  }
 },
 "nbformat": 4,
 "nbformat_minor": 5
}
