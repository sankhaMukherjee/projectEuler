{
 "cells": [
  {
   "cell_type": "markdown",
   "id": "f37f6964",
   "metadata": {},
   "source": [
    "# Problem 63: Powerful digit counts\n",
    "\n",
    "The 5-digit number, $16807=7^5$ , is also a fifth power. Similarly, the 9-digit number, $134217728=8^9$, is a ninth power.\n",
    "\n",
    "How many n-digit positive integers exist which are also an nth power?"
   ]
  },
  {
   "cell_type": "code",
   "execution_count": 25,
   "id": "4bca8219",
   "metadata": {
    "ExecuteTime": {
     "end_time": "2022-04-19T14:36:02.540775Z",
     "start_time": "2022-04-19T14:36:02.493499Z"
    }
   },
   "outputs": [
    {
     "name": "stdout",
     "output_type": "stream",
     "text": [
      "    |    0   1   2   3   4   5   6   7   8   9  10  11\n",
      "  0 |    1   1   1   1   1   1   1   1   1   1   1   1\n",
      "  1 |    0[ 1][ 1][ 1][ 1][ 1][ 1][ 1][ 1][ 1]   2   2\n",
      "  2 |    0   1   1   1[ 2][ 2][ 2][ 2][ 2][ 2]   3   3\n",
      "  3 |    0   1   1   2   2[ 3][ 3][ 3][ 3][ 3]   4   4\n",
      "  4 |    0   1   2   2   3   3[ 4][ 4][ 4][ 4]   5   5\n",
      "  5 |    0   1   2   3   4   4   4[ 5][ 5][ 5]   6   6\n",
      "  6 |    0   1   2   3   4   5   5[ 6][ 6][ 6]   7   7\n",
      "  7 |    0   1   3   4   5   5   6   6[ 7][ 7]   8   8\n",
      "  8 |    0   1   3   4   5   6   7   7[ 8][ 8]   9   9\n",
      "  9 |    0   1   3   5   6   7   8   8[ 9][ 9]  10  10\n",
      " 10 |    0   1   4   5   7   7   8   9[10][10]  11  11\n",
      " 11 |    0   1   4   6   7   8   9  10  10[11]  12  12\n",
      " 12 |    0   1   4   6   8   9  10  11  11[12]  13  13\n",
      " 13 |    0   1   4   7   8  10  11  11  12[13]  14  14\n",
      " 14 |    0   1   5   7   9  10  11  12  13[14]  15  15\n",
      " 15 |    0   1   5   8  10  11  12  13  14[15]  16  16\n",
      " 16 |    0   1   5   8  10  12  13  14  15[16]  17  17\n",
      " 17 |    0   1   6   9  11  12  14  15  16[17]  18  18\n",
      " 18 |    0   1   6   9  11  13  15  16  17[18]  19  19\n",
      " 19 |    0   1   6  10  12  14  15  17  18[19]  20  20\n",
      " 20 |    0   1   7  10  13  14  16  17  19[20]  21  21\n",
      " 21 |    0   1   7  11  13  15  17  18  19[21]  22  22\n",
      " 22 |    0   1   7  11  14  16  18  19  20  21  23  23\n",
      " 23 |    0   1   7  11  14  17  18  20  21  22  24  24\n",
      " 24 |    0   1   8  12  15  17  19  21  22  23  25  25"
     ]
    }
   ],
   "source": [
    "N, P = 12, 25\n",
    "count = 0\n",
    "print('    | ', end='')\n",
    "for n in range(N):\n",
    "    print(f'{n:4}', end='')\n",
    "for p in range(P):\n",
    "    print(f'\\n{p:3d} | ', end='')\n",
    "    for n in range(N):\n",
    "        v = len(str(n**p).lstrip('0'))\n",
    "        if p == v:\n",
    "            print(f'[{v:2}]', end='')\n",
    "            count += 1\n",
    "        else:\n",
    "            print(f'{v:4}', end='')"
   ]
  },
  {
   "cell_type": "code",
   "execution_count": 26,
   "id": "e7465c5f",
   "metadata": {
    "ExecuteTime": {
     "end_time": "2022-04-19T14:36:08.550872Z",
     "start_time": "2022-04-19T14:36:08.548578Z"
    }
   },
   "outputs": [
    {
     "data": {
      "text/plain": [
       "49"
      ]
     },
     "execution_count": 26,
     "metadata": {},
     "output_type": "execute_result"
    }
   ],
   "source": [
    "count"
   ]
  },
  {
   "cell_type": "code",
   "execution_count": 22,
   "id": "043e967c",
   "metadata": {
    "ExecuteTime": {
     "end_time": "2022-04-19T14:35:10.469658Z",
     "start_time": "2022-04-19T14:35:10.466778Z"
    }
   },
   "outputs": [
    {
     "data": {
      "text/plain": [
       "1073741824"
      ]
     },
     "execution_count": 22,
     "metadata": {},
     "output_type": "execute_result"
    }
   ],
   "source": [
    "8**10"
   ]
  },
  {
   "cell_type": "code",
   "execution_count": null,
   "id": "447f4932",
   "metadata": {},
   "outputs": [],
   "source": []
  }
 ],
 "metadata": {
  "hide_input": false,
  "kernelspec": {
   "display_name": "Python 3",
   "language": "python",
   "name": "python3"
  },
  "language_info": {
   "codemirror_mode": {
    "name": "ipython",
    "version": 3
   },
   "file_extension": ".py",
   "mimetype": "text/x-python",
   "name": "python",
   "nbconvert_exporter": "python",
   "pygments_lexer": "ipython3",
   "version": "3.8.10"
  },
  "toc": {
   "base_numbering": 1,
   "nav_menu": {},
   "number_sections": true,
   "sideBar": true,
   "skip_h1_title": false,
   "title_cell": "Table of Contents",
   "title_sidebar": "Contents",
   "toc_cell": false,
   "toc_position": {},
   "toc_section_display": true,
   "toc_window_display": false
  }
 },
 "nbformat": 4,
 "nbformat_minor": 5
}
