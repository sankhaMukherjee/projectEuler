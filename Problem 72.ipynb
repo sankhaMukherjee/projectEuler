{
 "cells": [
  {
   "cell_type": "markdown",
   "id": "b514a37e",
   "metadata": {},
   "source": [
    "# Problem 72: Counting fractions\n",
    "\n",
    "Consider the fraction, n/d, where n and d are positive integers. If n<d and HCF(n,d)=1, it is called a reduced proper fraction.\n",
    "\n",
    "If we list the set of reduced proper fractions for d ≤ 8 in ascending order of size, we get:\n",
    "\n",
    "1/8, 1/7, 1/6, 1/5, 1/4, 2/7, 1/3, 3/8, 2/5, 3/7, 1/2, 4/7, 3/5, 5/8, 2/3, 5/7, 3/4, 4/5, 5/6, 6/7, 7/8\n",
    "\n",
    "It can be seen that there are 21 elements in this set.\n",
    "\n",
    "How many elements would be contained in the set of reduced proper fractions for d ≤ 1,000,000?"
   ]
  },
  {
   "cell_type": "markdown",
   "id": "29162e63",
   "metadata": {},
   "source": [
    "sum  = 0 \n",
    "1. for each number form 2 to N\n",
    "   1. find the totient number\n",
    "   2. add the totient number to sum"
   ]
  },
  {
   "cell_type": "code",
   "execution_count": 1,
   "id": "79478eb3",
   "metadata": {
    "ExecuteTime": {
     "end_time": "2022-08-18T15:31:53.401340Z",
     "start_time": "2022-08-18T15:31:53.138522Z"
    }
   },
   "outputs": [
    {
     "name": "stdout",
     "output_type": "stream",
     "text": [
      "primesToMil.npy\r\n"
     ]
    }
   ],
   "source": [
    "!ls *.npy"
   ]
  },
  {
   "cell_type": "code",
   "execution_count": 2,
   "id": "38505770",
   "metadata": {
    "ExecuteTime": {
     "end_time": "2022-08-18T15:31:53.669861Z",
     "start_time": "2022-08-18T15:31:53.575057Z"
    }
   },
   "outputs": [],
   "source": [
    "import numpy as np\n",
    "from tqdm import tqdm\n",
    "primes = np.load('primesToMil.npy')"
   ]
  },
  {
   "cell_type": "code",
   "execution_count": 3,
   "id": "22814ea0",
   "metadata": {
    "ExecuteTime": {
     "end_time": "2022-08-18T15:31:56.629235Z",
     "start_time": "2022-08-18T15:31:56.613364Z"
    }
   },
   "outputs": [],
   "source": [
    "def getTot(n:int) -> int:\n",
    "    \n",
    "    if n == 1: return 1\n",
    "\n",
    "    result = n\n",
    "    if n in primes:\n",
    "        return n-1\n",
    "    \n",
    "    for p in primes:\n",
    "        if p > n : break\n",
    "        if n % p == 0:\n",
    "            result *= p - 1\n",
    "            result //= p \n",
    "\n",
    "    return result"
   ]
  },
  {
   "cell_type": "code",
   "execution_count": 7,
   "id": "472b064b",
   "metadata": {
    "ExecuteTime": {
     "end_time": "2022-08-18T15:33:07.135808Z",
     "start_time": "2022-08-18T15:33:06.112430Z"
    }
   },
   "outputs": [
    {
     "name": "stderr",
     "output_type": "stream",
     "text": [
      "100%|███████████████████████████████████████████████████████████████████████████████████████████████████████████████████████████████| 9999/9999 [00:01<00:00, 9912.35it/s]"
     ]
    },
    {
     "name": "stdout",
     "output_type": "stream",
     "text": [
      "30397485\n"
     ]
    },
    {
     "name": "stderr",
     "output_type": "stream",
     "text": [
      "\n"
     ]
    }
   ],
   "source": [
    "result = 0\n",
    "N = 1_000_000\n",
    "N = 8\n",
    "N = 10_000\n",
    "for i in tqdm(range(2, N+1)):\n",
    "    t = getTot(i)\n",
    "    result += t\n",
    "#     print(f'{t:>5} ', end = '')\n",
    "#     if i %10 == 0:\n",
    "#         print('\\n')\n",
    "    \n",
    "print(result)"
   ]
  },
  {
   "cell_type": "code",
   "execution_count": 9,
   "id": "0370d0bb",
   "metadata": {
    "ExecuteTime": {
     "end_time": "2022-08-18T15:34:08.785821Z",
     "start_time": "2022-08-18T15:34:01.728800Z"
    }
   },
   "outputs": [
    {
     "name": "stderr",
     "output_type": "stream",
     "text": [
      "100%|███████████████████████████████████████████████████████████████████████████████████████████████████████████████████████████████| 9592/9592 [00:07<00:00, 1361.42it/s]\n"
     ]
    },
    {
     "data": {
      "text/plain": [
       "3039650753.0"
      ]
     },
     "execution_count": 9,
     "metadata": {},
     "output_type": "execute_result"
    }
   ],
   "source": [
    "result = 0\n",
    "N = 1_000_000\n",
    "# N = 8\n",
    "N = 100_000\n",
    "\n",
    "totients = np.arange(2, N+1).astype(float)\n",
    "numbers  = np.arange(2, N+1)\n",
    "\n",
    "for p in tqdm(primes[ primes <= N ]):\n",
    "    mask = numbers % p == 0\n",
    "    totients[mask] *= float((p-1)/p)\n",
    "    \n",
    "sum(totients)\n",
    "    \n",
    "# for i, t in enumerate(totients):\n",
    "#     print(f'{t:>5} ', end = '')\n",
    "#     if i %10 == 0:\n",
    "#         print('\\n')"
   ]
  },
  {
   "cell_type": "code",
   "execution_count": 29,
   "id": "a4d06e25",
   "metadata": {
    "ExecuteTime": {
     "end_time": "2022-08-18T15:46:34.059062Z",
     "start_time": "2022-08-18T15:46:33.695805Z"
    }
   },
   "outputs": [
    {
     "name": "stderr",
     "output_type": "stream",
     "text": [
      "100%|███████████████████████████████████████████████████████████████████████████████████████████████████████████████████████████| 78498/78498 [00:00<00:00, 262832.91it/s]\n"
     ]
    },
    {
     "data": {
      "text/plain": [
       "303963552391.0"
      ]
     },
     "execution_count": 29,
     "metadata": {},
     "output_type": "execute_result"
    }
   ],
   "source": [
    "N = 1_000_000\n",
    "\n",
    "totients = np.arange(2, N+1).astype(float)\n",
    "\n",
    "for i, p in enumerate(tqdm(primes[ primes <= N ])):\n",
    "    points = np.arange(p, N+1, p) - 2\n",
    "    totients[points] *= float((p-1)/p)\n",
    "    \n",
    "    \n",
    "sum(totients)"
   ]
  },
  {
   "cell_type": "code",
   "execution_count": null,
   "id": "44c9fb2e",
   "metadata": {},
   "outputs": [],
   "source": []
  }
 ],
 "metadata": {
  "hide_input": false,
  "kernelspec": {
   "display_name": "Python 3 (ipykernel)",
   "language": "python",
   "name": "python3"
  },
  "language_info": {
   "codemirror_mode": {
    "name": "ipython",
    "version": 3
   },
   "file_extension": ".py",
   "mimetype": "text/x-python",
   "name": "python",
   "nbconvert_exporter": "python",
   "pygments_lexer": "ipython3",
   "version": "3.10.6"
  },
  "toc": {
   "base_numbering": 1,
   "nav_menu": {},
   "number_sections": true,
   "sideBar": true,
   "skip_h1_title": false,
   "title_cell": "Table of Contents",
   "title_sidebar": "Contents",
   "toc_cell": false,
   "toc_position": {},
   "toc_section_display": true,
   "toc_window_display": false
  }
 },
 "nbformat": 4,
 "nbformat_minor": 5
}
