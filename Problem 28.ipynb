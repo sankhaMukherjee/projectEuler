{
 "cells": [
  {
   "cell_type": "markdown",
   "id": "4b0fa057",
   "metadata": {},
   "source": [
    "\n",
    "# Problem 28: Number spiral diagonals\n",
    "\n",
    "\n",
    "\n",
    "Starting with the number 1 and moving to the right in a clockwise direction a 5 by 5 spiral is formed as follows:\n",
    "\n",
    "```\n",
    "21 22 23 24 25\n",
    "20  7  8  9 10\n",
    "19  6  1  2 11\n",
    "18  5  4  3 12\n",
    "17 16 15 14 13\n",
    "```\n",
    "\n",
    "It can be verified that the sum of the numbers on the diagonals is 101.\n",
    "\n",
    "What is the sum of the numbers on the diagonals in a 1001 by 1001 spiral formed in the same way?\n"
   ]
  },
  {
   "cell_type": "code",
   "execution_count": 20,
   "id": "03e2ceca",
   "metadata": {
    "ExecuteTime": {
     "end_time": "2021-12-10T16:40:42.716918Z",
     "start_time": "2021-12-10T16:40:42.714515Z"
    }
   },
   "outputs": [
    {
     "data": {
      "text/plain": [
       "501"
      ]
     },
     "execution_count": 20,
     "metadata": {},
     "output_type": "execute_result"
    }
   ],
   "source": [
    "square = 1001\n",
    "N = (square + 1)//2\n",
    "N"
   ]
  },
  {
   "cell_type": "code",
   "execution_count": 21,
   "id": "7b7ee67a",
   "metadata": {
    "ExecuteTime": {
     "end_time": "2021-12-10T16:40:45.308569Z",
     "start_time": "2021-12-10T16:40:45.304953Z"
    }
   },
   "outputs": [
    {
     "data": {
      "text/plain": [
       "669171001"
      ]
     },
     "execution_count": 21,
     "metadata": {},
     "output_type": "execute_result"
    }
   ],
   "source": [
    "total = 1\n",
    "for n in range(2, N+1):\n",
    "    v  = 2*n -1\n",
    "    v1 = v - 1\n",
    "    diagValues = [(v**2 - i*(v1)) for i in range(4)]\n",
    "    #print(n, v, v1, diagValues)\n",
    "    total += sum(diagValues)\n",
    "total"
   ]
  },
  {
   "cell_type": "code",
   "execution_count": null,
   "id": "df4b71a4",
   "metadata": {},
   "outputs": [],
   "source": []
  }
 ],
 "metadata": {
  "hide_input": false,
  "kernelspec": {
   "display_name": "Python 3",
   "language": "python",
   "name": "python3"
  },
  "language_info": {
   "codemirror_mode": {
    "name": "ipython",
    "version": 3
   },
   "file_extension": ".py",
   "mimetype": "text/x-python",
   "name": "python",
   "nbconvert_exporter": "python",
   "pygments_lexer": "ipython3",
   "version": "3.8.10"
  },
  "toc": {
   "base_numbering": 1,
   "nav_menu": {},
   "number_sections": true,
   "sideBar": true,
   "skip_h1_title": false,
   "title_cell": "Table of Contents",
   "title_sidebar": "Contents",
   "toc_cell": false,
   "toc_position": {},
   "toc_section_display": true,
   "toc_window_display": false
  }
 },
 "nbformat": 4,
 "nbformat_minor": 5
}
