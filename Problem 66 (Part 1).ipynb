{
 "cells": [
  {
   "cell_type": "markdown",
   "id": "93380ff7",
   "metadata": {},
   "source": [
    "# Problem 66: Diophantine equation\n",
    "\n",
    "Consider quadratic Diophantine equations of the form:\n",
    "\n",
    "$x^2 – Dy^2 = 1$\n",
    "\n",
    "For example, when $D=13$, the minimal solution in $x$ is $649^2 – 13×180^2 = 1$.\n",
    "\n",
    "It can be assumed that there are no solutions in positive integers when D is square.\n",
    "\n",
    "By finding minimal solutions in $x$ for $D = [2, 3, 5, 6, 7]$, we obtain the following:\n",
    "\n",
    "$$\n",
    "3^2 – 2 \\times 2^2 = 1\\\\\n",
    "2^2 – 3 \\times 1^2 = 1\\\\\n",
    "9^2 – 5 \\times 4^2 = 1\\\\\n",
    "5^2 – 6 \\times 2^2 = 1\\\\\n",
    "8^2 – 7 \\times 3^2 = 1\\\\\n",
    "$$\n",
    "\n",
    "Hence, by considering minimal solutions in x for D ≤ 7, the largest x is obtained when D=5.\n",
    "\n",
    "Find the value of D ≤ 1000 in minimal solutions of x for which the largest value of x is obtained."
   ]
  },
  {
   "cell_type": "code",
   "execution_count": 18,
   "id": "37c7b8e4",
   "metadata": {
    "ExecuteTime": {
     "end_time": "2022-06-02T16:28:26.262538Z",
     "start_time": "2022-06-02T16:28:26.256646Z"
    }
   },
   "outputs": [],
   "source": [
    "from typing import Tuple\n",
    "from math import sqrt\n",
    "from tqdm.notebook import tqdm\n",
    "from numba import jit\n",
    "import numpy as np\n",
    "\n",
    "@jit\n",
    "def getXY(D:int) -> Tuple[int, int]:\n",
    "    \n",
    "    y = 1\n",
    "    while True:\n",
    "        x = sqrt( 1 + D*y**2 )\n",
    "        if int(x) == x:\n",
    "            return int(x), y\n",
    "        y += 1\n",
    "        \n",
    "@jit\n",
    "def getXY1(D:int) -> Tuple[int, int]:\n",
    "    \n",
    "    x = 2\n",
    "    while True:\n",
    "        y = sqrt((x**2 - 1.)/D)\n",
    "        if int(y) == y:\n",
    "            return x, int(y)\n",
    "        x += 1"
   ]
  },
  {
   "cell_type": "code",
   "execution_count": 29,
   "id": "3ddcf9a6",
   "metadata": {
    "ExecuteTime": {
     "end_time": "2022-06-02T16:43:40.984031Z",
     "start_time": "2022-06-02T16:38:24.116297Z"
    }
   },
   "outputs": [
    {
     "data": {
      "application/vnd.jupyter.widget-view+json": {
       "model_id": "ee5618dcc4234f9db9004eaab1f14260",
       "version_major": 2,
       "version_minor": 0
      },
      "text/plain": [
       "  0%|          | 0/999 [00:00<?, ?it/s]"
      ]
     },
     "metadata": {},
     "output_type": "display_data"
    },
    {
     "name": "stdout",
     "output_type": "stream",
     "text": [
      "3^2 - 2x2^2 = 1\n",
      "9^2 - 5x4^2 = 1\n",
      "19^2 - 10x6^2 = 1\n",
      "649^2 - 13x180^2 = 1\n",
      "9801^2 - 29x1820^2 = 1\n",
      "24335^2 - 46x3588^2 = 1\n",
      "66249^2 - 53x9100^2 = 1\n",
      "335159612^2 - 61x42912791^2 = 1\n",
      "504078731^2 - 181x37467877^2 = 1\n",
      "534917633^2 - 268x32675295^2 = 1\n",
      "667137236^2 - 271x40525701^2 = 1\n",
      "717616116^2 - 331x39443749^2 = 1\n",
      "724403665^2 - 334x39637605^2 = 1\n",
      "757971985^2 - 433x36425809^2 = 1\n",
      "984014171^2 - 461x45830109^2 = 1\n",
      "1674815669^2 - 617x67425540^2 = 1\n",
      "1905497077^2 - 778x68315380^2 = 1\n",
      "2577061515^2 - 829x89505046^2 = 1\n"
     ]
    }
   ],
   "source": [
    "curMaxX = 0\n",
    "maxD = 1000\n",
    "for D in tqdm(range(2, maxD+1)):\n",
    "    \n",
    "    sD = sqrt(D)\n",
    "    if int(sD) == sD: continue\n",
    "    \n",
    "    x, y = getXY1(D)\n",
    "    if x > curMaxX:\n",
    "        curMaxX = x\n",
    "        tqdm.write(f'{x}^2 - {D}x{y}^2 = 1')\n"
   ]
  }
 ],
 "metadata": {
  "hide_input": false,
  "kernelspec": {
   "display_name": "Python 3",
   "language": "python",
   "name": "python3"
  },
  "language_info": {
   "codemirror_mode": {
    "name": "ipython",
    "version": 3
   },
   "file_extension": ".py",
   "mimetype": "text/x-python",
   "name": "python",
   "nbconvert_exporter": "python",
   "pygments_lexer": "ipython3",
   "version": "3.8.10"
  },
  "toc": {
   "base_numbering": 1,
   "nav_menu": {},
   "number_sections": true,
   "sideBar": true,
   "skip_h1_title": false,
   "title_cell": "Table of Contents",
   "title_sidebar": "Contents",
   "toc_cell": false,
   "toc_position": {},
   "toc_section_display": true,
   "toc_window_display": false
  }
 },
 "nbformat": 4,
 "nbformat_minor": 5
}
