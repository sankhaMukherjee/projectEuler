{
 "cells": [
  {
   "cell_type": "markdown",
   "id": "c67c2b79",
   "metadata": {},
   "source": [
    "# Problem 21: Amicable numbers\n",
    "\n",
    "\n",
    "\n",
    "Let d(n) be defined as the sum of proper divisors of n (numbers less than n which divide evenly into n).\n",
    "If d(a) = b and d(b) = a, where a ≠ b, then a and b are an amicable pair and each of a and b are called amicable numbers.\n",
    "\n",
    "For example, the proper divisors of 220 are 1, 2, 4, 5, 10, 11, 20, 22, 44, 55 and 110; therefore d(220) = 284. The proper divisors of 284 are 1, 2, 4, 71 and 142; so d(284) = 220.\n",
    "\n",
    "Evaluate the sum of all the amicable numbers under 10000.\n"
   ]
  },
  {
   "cell_type": "code",
   "execution_count": 14,
   "id": "2f58eb0f",
   "metadata": {
    "ExecuteTime": {
     "end_time": "2021-12-04T12:53:39.658093Z",
     "start_time": "2021-12-04T12:53:39.655546Z"
    }
   },
   "outputs": [],
   "source": [
    "#1, 2, 3, 4, 5, 6, 7, 8, 9\n",
    "\n",
    "def findFactors(n):\n",
    "    \n",
    "    factors = []\n",
    "    for i in range( 1, n//2+1 ):\n",
    "        if n % i == 0:\n",
    "            factors.append( i )\n",
    "    \n",
    "    return factors\n",
    "\n",
    "def findFactorSums(n):\n",
    "    \n",
    "    factors = []\n",
    "    for i in range( 1, n ):\n",
    "        if n % i == 0:\n",
    "            factors.append( i )\n",
    "    \n",
    "    return sum(factors)\n"
   ]
  },
  {
   "cell_type": "code",
   "execution_count": 37,
   "id": "51ecf81c",
   "metadata": {
    "ExecuteTime": {
     "end_time": "2021-12-04T13:04:40.048814Z",
     "start_time": "2021-12-04T13:04:37.612374Z"
    }
   },
   "outputs": [
    {
     "name": "stdout",
     "output_type": "stream",
     "text": [
      "284 220\n",
      "220 284\n",
      "1210 1184\n",
      "1184 1210\n",
      "2924 2620\n",
      "2620 2924\n",
      "5564 5020\n",
      "5020 5564\n",
      "6368 6232\n",
      "6232 6368\n"
     ]
    },
    {
     "data": {
      "text/plain": [
       "({220, 284, 1184, 1210, 2620, 2924, 5020, 5564, 6232, 6368}, 31626)"
      ]
     },
     "execution_count": 37,
     "metadata": {},
     "output_type": "execute_result"
    }
   ],
   "source": [
    "amicableNumbers = set()\n",
    "allFactorSums = {}\n",
    "for i in range(10, 10000):\n",
    "    if i in allFactorSums:\n",
    "        s1 = allFactorSums[i]\n",
    "    else:\n",
    "        s1 = findFactorSums(i)\n",
    "        allFactorSums[i] = s1\n",
    "        \n",
    "    if s1 in allFactorSums:\n",
    "        s2 = allFactorSums[s1]\n",
    "    else:\n",
    "        s2 = findFactorSums(s1)\n",
    "        allFactorSums[s1] = s2\n",
    "        \n",
    "    if (i == s2) and (s1 != s2):\n",
    "        print(s1, s2)\n",
    "        amicableNumbers.update((s1, s2))\n",
    "    \n",
    "amicableNumbers, sum(amicableNumbers)"
   ]
  },
  {
   "cell_type": "code",
   "execution_count": 35,
   "id": "c5dce357",
   "metadata": {
    "ExecuteTime": {
     "end_time": "2021-12-04T13:04:10.900018Z",
     "start_time": "2021-12-04T13:04:10.897620Z"
    }
   },
   "outputs": [
    {
     "data": {
      "text/plain": [
       "504"
      ]
     },
     "execution_count": 35,
     "metadata": {},
     "output_type": "execute_result"
    }
   ],
   "source": []
  },
  {
   "cell_type": "code",
   "execution_count": null,
   "id": "efa57aa0",
   "metadata": {},
   "outputs": [],
   "source": []
  }
 ],
 "metadata": {
  "hide_input": false,
  "kernelspec": {
   "display_name": "Python 3",
   "language": "python",
   "name": "python3"
  },
  "language_info": {
   "codemirror_mode": {
    "name": "ipython",
    "version": 3
   },
   "file_extension": ".py",
   "mimetype": "text/x-python",
   "name": "python",
   "nbconvert_exporter": "python",
   "pygments_lexer": "ipython3",
   "version": "3.8.10"
  },
  "toc": {
   "base_numbering": 1,
   "nav_menu": {},
   "number_sections": true,
   "sideBar": true,
   "skip_h1_title": false,
   "title_cell": "Table of Contents",
   "title_sidebar": "Contents",
   "toc_cell": false,
   "toc_position": {},
   "toc_section_display": true,
   "toc_window_display": false
  }
 },
 "nbformat": 4,
 "nbformat_minor": 5
}
