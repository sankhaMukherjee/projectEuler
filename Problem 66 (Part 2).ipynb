{
 "cells": [
  {
   "cell_type": "markdown",
   "id": "93380ff7",
   "metadata": {},
   "source": [
    "# Problem 66: Diophantine equation\n",
    "\n",
    "Consider quadratic Diophantine equations of the form:\n",
    "\n",
    "$x^2 – Dy^2 = 1$\n",
    "\n",
    "For example, when $D=13$, the minimal solution in $x$ is $649^2 – 13×180^2 = 1$.\n",
    "\n",
    "It can be assumed that there are no solutions in positive integers when D is square.\n",
    "\n",
    "By finding minimal solutions in $x$ for $D = [2, 3, 5, 6, 7]$, we obtain the following:\n",
    "\n",
    "$$\n",
    "3^2 – 2 \\times 2^2 = 1\\\\\n",
    "2^2 – 3 \\times 1^2 = 1\\\\\n",
    "9^2 – 5 \\times 4^2 = 1\\\\\n",
    "5^2 – 6 \\times 2^2 = 1\\\\\n",
    "8^2 – 7 \\times 3^2 = 1\\\\\n",
    "$$\n",
    "\n",
    "Hence, by considering minimal solutions in x for D ≤ 7, the largest x is obtained when D=5.\n",
    "\n",
    "Find the value of D ≤ 1000 in minimal solutions of x for which the largest value of x is obtained."
   ]
  },
  {
   "cell_type": "markdown",
   "id": "10a41a86",
   "metadata": {},
   "source": [
    "1. [Done] For $D$, find the convergents for $\\sqrt{D} \\rightarrow [a_0; a_1, a_2 , \\cdots]$ \n",
    "2. [Done] Find the fractional rational approximation for $\\sqrt{D}$\n",
    "3. [Done] Check whether this value of $\\frac h k$ is a solution to Pells equation, where $(h, k) = (x, y)$.\n"
   ]
  },
  {
   "cell_type": "code",
   "execution_count": 7,
   "id": "37c7b8e4",
   "metadata": {
    "ExecuteTime": {
     "end_time": "2022-06-23T12:11:09.198960Z",
     "start_time": "2022-06-23T12:11:09.196728Z"
    }
   },
   "outputs": [],
   "source": [
    "from math import sqrt, floor\n",
    "from tqdm.notebook import tqdm\n",
    "\n",
    "import itertools as it\n"
   ]
  },
  {
   "cell_type": "code",
   "execution_count": 8,
   "id": "ec5e7485",
   "metadata": {
    "ExecuteTime": {
     "end_time": "2022-06-23T12:11:13.886417Z",
     "start_time": "2022-06-23T12:11:13.884076Z"
    }
   },
   "outputs": [],
   "source": [
    "def getNext(N, ai, ni, di):\n",
    "    \n",
    "    from math import floor, sqrt\n",
    "    \n",
    "    s    = sqrt(N)\n",
    "    aiP1 = floor( di / ( s - ni ) )\n",
    "    diP1 = int((N - ni**2) / di)\n",
    "    niP1 = aiP1*diP1 - ni\n",
    "    \n",
    "    return aiP1, niP1, diP1"
   ]
  },
  {
   "cell_type": "code",
   "execution_count": 9,
   "id": "211a4494",
   "metadata": {
    "ExecuteTime": {
     "end_time": "2022-06-23T12:11:14.173998Z",
     "start_time": "2022-06-23T12:11:14.171399Z"
    }
   },
   "outputs": [],
   "source": [
    "def getAs(N):\n",
    "    \n",
    "    a, n, d = floor(sqrt(N)), floor(sqrt(N)), 1\n",
    "    yield a\n",
    "    \n",
    "    while True:\n",
    "        a, n, d = getNext(N, a, n, d)\n",
    "        yield a"
   ]
  },
  {
   "cell_type": "code",
   "execution_count": 30,
   "id": "e4b05e3a",
   "metadata": {
    "ExecuteTime": {
     "end_time": "2022-06-23T12:32:38.049204Z",
     "start_time": "2022-06-23T12:32:38.026742Z"
    }
   },
   "outputs": [
    {
     "name": "stdout",
     "output_type": "stream",
     "text": [
      "          3^2 - [2] 2^2 = 1 \n",
      "          9^2 - [5] 4^2 = 1 \n",
      "         19^2 - [10] 6^2 = 1 \n",
      "        649^2 - [13] 180^2 = 1 \n",
      "       9801^2 - [29] 1820^2 = 1 \n",
      "      24335^2 - [46] 3588^2 = 1 \n",
      "      66249^2 - [53] 9100^2 = 1 \n",
      " 1766319049^2 - [61] 226153980^2 = 1 \n",
      " 158070671986249^2 - [109] 15140424455100^2 = 1 \n",
      " 2469645423824185801^2 - [181] 183567298683461940^2 = 1 \n",
      " 159150073798980475849^2 - [277] 9562401173878027020^2 = 1 \n",
      " 838721786045180184649^2 - [397] 42094239791738433660^2 = 1 \n",
      " 25052977273092427986049^2 - [409] 1238789998647218582160^2 = 1 \n",
      " 3879474045914926879468217167061449^2 - [421] 189073995951839020880499780706260^2 = 1 \n",
      " 3707453360023867028800645599667005001^2 - [541] 159395869721270110077187138775196900^2 = 1 \n",
      " 16421658242965910275055840472270471049^2 - [661] 638728478116949861246791167518480580^2 = 1 \n"
     ]
    }
   ],
   "source": [
    "D = 109\n",
    "N = 1000\n",
    "\n",
    "largestX = 0\n",
    "\n",
    "for D in range(2, N+1):\n",
    "    \n",
    "    if sqrt(D) == int(sqrt(D)): \n",
    "        continue\n",
    "        \n",
    "\n",
    "    h_2, k_2 = 0, 1\n",
    "    h_1, k_1 = 1, 0\n",
    "\n",
    "    for i, a in enumerate(getAs(D)):\n",
    "\n",
    "        h = a*h_1 + h_2\n",
    "        k = a*k_1 + k_2\n",
    "\n",
    "        if (h**2 - D * k**2 - 1) == 0:\n",
    "            if h > largestX:\n",
    "                largestX = h\n",
    "                print(f' {h:>10}^2 - [{D}] {k}^2 = 1 ')\n",
    "            \n",
    "            break\n",
    "\n",
    "        h_2, k_2 = h_1, k_1\n",
    "        h_1, k_1 = h, k\n"
   ]
  },
  {
   "cell_type": "code",
   "execution_count": null,
   "id": "6e3841e2",
   "metadata": {},
   "outputs": [],
   "source": []
  }
 ],
 "metadata": {
  "hide_input": false,
  "kernelspec": {
   "display_name": "Python 3",
   "language": "python",
   "name": "python3"
  },
  "language_info": {
   "codemirror_mode": {
    "name": "ipython",
    "version": 3
   },
   "file_extension": ".py",
   "mimetype": "text/x-python",
   "name": "python",
   "nbconvert_exporter": "python",
   "pygments_lexer": "ipython3",
   "version": "3.8.10"
  },
  "toc": {
   "base_numbering": 1,
   "nav_menu": {},
   "number_sections": true,
   "sideBar": true,
   "skip_h1_title": false,
   "title_cell": "Table of Contents",
   "title_sidebar": "Contents",
   "toc_cell": false,
   "toc_position": {},
   "toc_section_display": true,
   "toc_window_display": false
  }
 },
 "nbformat": 4,
 "nbformat_minor": 5
}
