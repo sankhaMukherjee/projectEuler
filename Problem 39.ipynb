{
 "cells": [
  {
   "cell_type": "markdown",
   "id": "c1702451",
   "metadata": {},
   "source": [
    "# Problem 39: Integer right triangles\n",
    "\n",
    "\n",
    "If p is the perimeter of a right angle triangle with integral length sides, {a,b,c}, there are exactly three solutions for p = 120.\n",
    "\n",
    "{20,48,52}, {24,45,51}, {30,40,50}\n",
    "\n",
    "For which value of p ≤ 1000, is the number of solutions maximised?\n",
    "\n",
    "$-\\frac 1 2 p^2 = ab - ap - bp$\n"
   ]
  },
  {
   "cell_type": "code",
   "execution_count": 3,
   "id": "7423a20c",
   "metadata": {
    "ExecuteTime": {
     "end_time": "2022-02-03T13:54:12.277634Z",
     "start_time": "2022-02-03T13:54:12.273901Z"
    }
   },
   "outputs": [
    {
     "data": {
      "text/plain": [
       "7200"
      ]
     },
     "execution_count": 3,
     "metadata": {},
     "output_type": "execute_result"
    }
   ],
   "source": [
    "p = 120\n",
    "a,b,c = 20,48,52\n",
    "\n",
    "p**2//2"
   ]
  },
  {
   "cell_type": "code",
   "execution_count": 4,
   "id": "57fb12be",
   "metadata": {
    "ExecuteTime": {
     "end_time": "2022-02-03T13:54:29.713777Z",
     "start_time": "2022-02-03T13:54:29.711190Z"
    }
   },
   "outputs": [
    {
     "data": {
      "text/plain": [
       "-7200"
      ]
     },
     "execution_count": 4,
     "metadata": {},
     "output_type": "execute_result"
    }
   ],
   "source": [
    "a*b - a*p - b*p"
   ]
  },
  {
   "cell_type": "code",
   "execution_count": 5,
   "id": "816b1e8b",
   "metadata": {
    "ExecuteTime": {
     "end_time": "2022-02-03T13:56:32.151081Z",
     "start_time": "2022-02-03T13:56:32.149058Z"
    }
   },
   "outputs": [],
   "source": [
    "def check(a:int, b:int, p:int) -> bool:\n",
    "    \n",
    "    if p**2//2 == -(a*b - a*p - b*p):\n",
    "        return True\n",
    "    \n",
    "    return False\n",
    "    "
   ]
  },
  {
   "cell_type": "code",
   "execution_count": 6,
   "id": "220984c4",
   "metadata": {
    "ExecuteTime": {
     "end_time": "2022-02-03T13:56:51.602281Z",
     "start_time": "2022-02-03T13:56:51.599773Z"
    }
   },
   "outputs": [
    {
     "data": {
      "text/plain": [
       "True"
      ]
     },
     "execution_count": 6,
     "metadata": {},
     "output_type": "execute_result"
    }
   ],
   "source": [
    "check( 20, 48, 120 )"
   ]
  },
  {
   "cell_type": "code",
   "execution_count": 13,
   "id": "e8ce70b6",
   "metadata": {
    "ExecuteTime": {
     "end_time": "2022-02-03T14:05:46.296840Z",
     "start_time": "2022-02-03T14:05:46.165595Z"
    }
   },
   "outputs": [
    {
     "name": "stdout",
     "output_type": "stream",
     "text": [
      "40 399 401\n",
      "56 390 394\n",
      "105 360 375\n",
      "120 350 370\n",
      "140 336 364\n",
      "168 315 357\n",
      "210 280 350\n",
      "240 252 348\n"
     ]
    }
   ],
   "source": [
    "p = 840\n",
    "for i in range(1, p - 1):\n",
    "    for j in range(i+1, p):\n",
    "        if check(i, j, p):\n",
    "            print(i, j, p-i-j)"
   ]
  },
  {
   "cell_type": "code",
   "execution_count": 10,
   "id": "5ca04d9a",
   "metadata": {
    "ExecuteTime": {
     "end_time": "2022-02-03T14:05:02.776453Z",
     "start_time": "2022-02-03T14:04:34.377424Z"
    }
   },
   "outputs": [
    {
     "name": "stdout",
     "output_type": "stream",
     "text": [
      "   12 | 1\n",
      "   24 | 1\n",
      "   30 | 1\n",
      "   36 | 1\n",
      "   40 | 1\n",
      "   48 | 1\n",
      "   56 | 1\n",
      "   60 | 2\n",
      "   70 | 1\n",
      "   72 | 1\n",
      "   80 | 1\n",
      "   84 | 2\n",
      "   90 | 2\n",
      "   96 | 1\n",
      "  108 | 1\n",
      "  112 | 1\n",
      "  120 | 3\n",
      "  126 | 1\n",
      "  132 | 2\n",
      "  140 | 1\n",
      "  144 | 2\n",
      "  150 | 1\n",
      "  154 | 1\n",
      "  156 | 1\n",
      "  160 | 1\n",
      "  168 | 3\n",
      "  176 | 1\n",
      "  180 | 3\n",
      "  182 | 1\n",
      "  192 | 1\n",
      "  198 | 1\n",
      "  200 | 1\n",
      "  204 | 1\n",
      "  208 | 1\n",
      "  210 | 2\n",
      "  216 | 1\n",
      "  220 | 1\n",
      "  224 | 1\n",
      "  228 | 1\n",
      "  234 | 1\n",
      "  240 | 4\n",
      "  252 | 3\n",
      "  260 | 1\n",
      "  264 | 2\n",
      "  270 | 2\n",
      "  276 | 1\n",
      "  280 | 3\n",
      "  286 | 1\n",
      "  288 | 2\n",
      "  300 | 2\n",
      "  306 | 1\n",
      "  308 | 1\n",
      "  312 | 2\n",
      "  320 | 1\n",
      "  324 | 1\n",
      "  330 | 2\n",
      "  336 | 3\n",
      "  340 | 1\n",
      "  348 | 1\n",
      "  350 | 1\n",
      "  352 | 1\n",
      "  360 | 4\n",
      "  364 | 1\n",
      "  372 | 1\n",
      "  374 | 1\n",
      "  378 | 1\n",
      "  380 | 1\n",
      "  384 | 1\n",
      "  390 | 2\n",
      "  392 | 1\n",
      "  396 | 3\n",
      "  400 | 1\n",
      "  408 | 2\n",
      "  416 | 1\n",
      "  418 | 1\n",
      "  420 | 5\n",
      "  432 | 2\n",
      "  440 | 2\n",
      "  442 | 1\n",
      "  444 | 1\n",
      "  448 | 1\n",
      "  450 | 2\n",
      "  456 | 2\n",
      "  462 | 2\n",
      "  468 | 2\n",
      "  476 | 1\n",
      "  480 | 4\n",
      "  490 | 1\n",
      "  492 | 1\n",
      "  494 | 1\n",
      "  504 | 4\n",
      "  510 | 2\n",
      "  516 | 1\n",
      "  520 | 2\n",
      "  528 | 3\n",
      "  532 | 1\n",
      "  540 | 3\n",
      "  544 | 1\n",
      "  546 | 2\n",
      "  552 | 2\n",
      "  560 | 3\n",
      "  564 | 1\n",
      "  570 | 2\n",
      "  572 | 1\n",
      "  576 | 2\n",
      "  588 | 2\n",
      "  594 | 1\n",
      "  598 | 1\n",
      "  600 | 3\n",
      "  608 | 1\n",
      "  612 | 2\n",
      "  616 | 2\n",
      "  624 | 3\n",
      "  630 | 4\n",
      "  636 | 1\n",
      "  640 | 1\n",
      "  644 | 1\n",
      "  646 | 1\n",
      "  648 | 1\n",
      "  650 | 1\n",
      "  660 | 5\n",
      "  672 | 4\n",
      "  680 | 2\n",
      "  684 | 2\n",
      "  690 | 2\n",
      "  696 | 1\n",
      "  700 | 2\n",
      "  702 | 1\n",
      "  704 | 1\n",
      "  708 | 1\n",
      "  714 | 1\n",
      "  720 | 6\n",
      "  728 | 2\n",
      "  732 | 1\n",
      "  736 | 1\n",
      "  744 | 1\n",
      "  748 | 1\n",
      "  750 | 1\n",
      "  756 | 4\n",
      "  760 | 2\n",
      "  768 | 1\n",
      "  770 | 2\n",
      "  780 | 4\n",
      "  782 | 1\n",
      "  784 | 1\n",
      "  792 | 3\n",
      "  798 | 1\n",
      "  800 | 2\n",
      "  804 | 1\n",
      "  810 | 2\n",
      "  816 | 2\n",
      "  828 | 2\n",
      "  832 | 1\n",
      "  836 | 1\n",
      "  840 | 8\n",
      "  850 | 1\n",
      "  852 | 1\n",
      "  858 | 1\n",
      "  864 | 3\n",
      "  870 | 2\n",
      "  874 | 1\n",
      "  876 | 1\n",
      "  880 | 3\n",
      "  882 | 1\n",
      "  884 | 1\n",
      "  888 | 1\n",
      "  896 | 1\n",
      "  900 | 4\n",
      "  910 | 2\n",
      "  912 | 2\n",
      "  918 | 2\n",
      "  920 | 2\n",
      "  924 | 5\n",
      "  928 | 1\n",
      "  930 | 1\n",
      "  936 | 3\n",
      "  948 | 1\n",
      "  950 | 1\n",
      "  952 | 2\n",
      "  960 | 4\n",
      "  966 | 1\n",
      "  972 | 1\n",
      "  980 | 1\n",
      "  984 | 1\n",
      "  986 | 1\n",
      "  988 | 1\n",
      "  990 | 4\n",
      "  992 | 1\n",
      "  996 | 1\n"
     ]
    }
   ],
   "source": [
    "N = 50\n",
    "\n",
    "finalResult = 0\n",
    "\n",
    "for p in range(12, 1000, 2):\n",
    "    result = 0\n",
    "    for i in range(1, p - 1):\n",
    "        for j in range(i+1, p):\n",
    "            if check(i, j, p):\n",
    "                result += 1\n",
    "    if result > 0:\n",
    "        print(f'{p:>5d} | {result}')\n",
    "    if result > finalResult:\n",
    "        finalResult = result"
   ]
  },
  {
   "cell_type": "code",
   "execution_count": 12,
   "id": "5e02b817",
   "metadata": {
    "ExecuteTime": {
     "end_time": "2022-02-03T14:05:21.717368Z",
     "start_time": "2022-02-03T14:05:21.715037Z"
    }
   },
   "outputs": [
    {
     "data": {
      "text/plain": [
       "8"
      ]
     },
     "execution_count": 12,
     "metadata": {},
     "output_type": "execute_result"
    }
   ],
   "source": [
    "finalResult"
   ]
  },
  {
   "cell_type": "code",
   "execution_count": null,
   "id": "b071e5b8",
   "metadata": {},
   "outputs": [],
   "source": [
    "p = 840"
   ]
  }
 ],
 "metadata": {
  "hide_input": false,
  "kernelspec": {
   "display_name": "Python 3",
   "language": "python",
   "name": "python3"
  },
  "language_info": {
   "codemirror_mode": {
    "name": "ipython",
    "version": 3
   },
   "file_extension": ".py",
   "mimetype": "text/x-python",
   "name": "python",
   "nbconvert_exporter": "python",
   "pygments_lexer": "ipython3",
   "version": "3.8.10"
  },
  "toc": {
   "base_numbering": 1,
   "nav_menu": {},
   "number_sections": true,
   "sideBar": true,
   "skip_h1_title": false,
   "title_cell": "Table of Contents",
   "title_sidebar": "Contents",
   "toc_cell": false,
   "toc_position": {},
   "toc_section_display": true,
   "toc_window_display": false
  }
 },
 "nbformat": 4,
 "nbformat_minor": 5
}
