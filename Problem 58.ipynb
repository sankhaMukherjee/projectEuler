{
 "cells": [
  {
   "cell_type": "markdown",
   "id": "bb4f48b1",
   "metadata": {},
   "source": [
    "# Problem 58: Spiral primes\n",
    "\n",
    "Starting with 1 and spiralling anticlockwise in the following way, a square spiral with side length 7 is formed.\n",
    "\n",
    "```\n",
    "37 36 35 34 33 32 31\n",
    "38 17 16 15 14 13 30\n",
    "39 18  5  4  3 12 29\n",
    "40 19  6  1  2 11 28\n",
    "41 20  7  8  9 10 27\n",
    "42 21 22 23 24 25 26\n",
    "43 44 45 46 47 48 49\n",
    "```\n",
    "\n",
    "It is interesting to note that the odd squares lie along the bottom right diagonal, but what is more interesting is that 8 out of the 13 numbers lying along both diagonals are prime; that is, a ratio of 8/13 ≈ 62%.\n",
    "\n",
    "If one complete new layer is wrapped around the spiral above, a square spiral with side length 9 will be formed. If this process is continued, what is the side length of the square spiral for which the ratio of primes along both diagonals first falls below 10%?"
   ]
  },
  {
   "cell_type": "code",
   "execution_count": 1,
   "id": "34f5e7b7",
   "metadata": {
    "ExecuteTime": {
     "end_time": "2022-03-25T13:25:17.591714Z",
     "start_time": "2022-03-25T13:25:17.587033Z"
    },
    "code_folding": [
     1
    ]
   },
   "outputs": [],
   "source": [
    "from typing import List\n",
    "def diagElements(i:int) -> List[int]:\n",
    "    if i == 0: return [1]\n",
    "    \n",
    "    sideLength = 2*i+1\n",
    "    d1 = sideLength**2\n",
    "    diagElements = [ (d1 - j*(sideLength-1)) for j in range(4) ]\n",
    "    \n",
    "    return diagElements"
   ]
  },
  {
   "cell_type": "code",
   "execution_count": 34,
   "id": "e74c9f56",
   "metadata": {
    "ExecuteTime": {
     "end_time": "2022-03-25T13:47:43.377786Z",
     "start_time": "2022-03-25T13:47:43.374252Z"
    },
    "code_folding": []
   },
   "outputs": [],
   "source": [
    "from math import ceil \n",
    "def isPrime(n: int) -> bool:\n",
    "    \n",
    "    if n == 1: return False\n",
    "    \n",
    "    if n in [2,3,5, 7, 11, 13, 17]: return True\n",
    "    for i in range(2, ceil(np.sqrt(n)) + 1):\n",
    "        if n % i == 0:\n",
    "            return False\n",
    "    return True"
   ]
  },
  {
   "cell_type": "code",
   "execution_count": 38,
   "id": "23dbc7e1",
   "metadata": {
    "ExecuteTime": {
     "end_time": "2022-03-25T13:48:17.569582Z",
     "start_time": "2022-03-25T13:48:12.599660Z"
    }
   },
   "outputs": [
    {
     "name": "stderr",
     "output_type": "stream",
     "text": [
      " 13%|█▎        | 13120/100000 [00:04<00:32, 2641.98it/s]"
     ]
    },
    {
     "name": "stdout",
     "output_type": "stream",
     "text": [
      "13120 [688590081, 688563841, 688537601, 688511361] 0 4 ratio = 5248/52481\n",
      "sideLength = 26241\n"
     ]
    },
    {
     "name": "stderr",
     "output_type": "stream",
     "text": [
      "\n"
     ]
    }
   ],
   "source": [
    "from tqdm import tqdm\n",
    "totalPrimes, totalElems = 0, 0\n",
    "for i in tqdm(range(100000)):\n",
    "    dI = diagElements(i)\n",
    "    nPrimes = sum(map(isPrime, dI))\n",
    "    nElements = 4 if i>0 else 1\n",
    "    \n",
    "    totalPrimes += nPrimes\n",
    "    totalElems  += nElements\n",
    "    #print((totalPrimes / totalElems))\n",
    "    if ((totalPrimes / totalElems) < 0.1) and (i>1):\n",
    "        print(i, dI, nPrimes, nElements, f'ratio = {totalPrimes}/{totalElems}')\n",
    "        print(f'sideLength = {2*i+1}')\n",
    "        break"
   ]
  },
  {
   "cell_type": "code",
   "execution_count": 24,
   "id": "1fd3a5a9",
   "metadata": {
    "ExecuteTime": {
     "end_time": "2022-03-25T13:41:17.318692Z",
     "start_time": "2022-03-25T13:41:17.304743Z"
    }
   },
   "outputs": [
    {
     "data": {
      "text/plain": [
       "3.0"
      ]
     },
     "execution_count": 24,
     "metadata": {},
     "output_type": "execute_result"
    }
   ],
   "source": [
    "np.sqrt(9)"
   ]
  },
  {
   "cell_type": "code",
   "execution_count": null,
   "id": "e026d43c",
   "metadata": {},
   "outputs": [],
   "source": []
  }
 ],
 "metadata": {
  "hide_input": false,
  "kernelspec": {
   "display_name": "Python 3",
   "language": "python",
   "name": "python3"
  },
  "language_info": {
   "codemirror_mode": {
    "name": "ipython",
    "version": 3
   },
   "file_extension": ".py",
   "mimetype": "text/x-python",
   "name": "python",
   "nbconvert_exporter": "python",
   "pygments_lexer": "ipython3",
   "version": "3.8.10"
  },
  "toc": {
   "base_numbering": 1,
   "nav_menu": {},
   "number_sections": true,
   "sideBar": true,
   "skip_h1_title": false,
   "title_cell": "Table of Contents",
   "title_sidebar": "Contents",
   "toc_cell": false,
   "toc_position": {},
   "toc_section_display": true,
   "toc_window_display": false
  }
 },
 "nbformat": 4,
 "nbformat_minor": 5
}
