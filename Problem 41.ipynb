{
 "cells": [
  {
   "cell_type": "markdown",
   "id": "dd97c39c",
   "metadata": {},
   "source": [
    "# Problem 41: Pandigital prime\n",
    "\n",
    "\n",
    "\n",
    "We shall say that an n-digit number is pandigital if it makes use of all the digits 1 to n exactly once. For example, 2143 is a 4-digit pandigital and is also prime.\n",
    "\n",
    "What is the largest n-digit pandigital prime that exists?\n"
   ]
  },
  {
   "cell_type": "code",
   "execution_count": 5,
   "id": "0fd11eaa",
   "metadata": {
    "ExecuteTime": {
     "end_time": "2022-02-07T13:28:22.488154Z",
     "start_time": "2022-02-07T13:28:22.468889Z"
    }
   },
   "outputs": [
    {
     "name": "stdout",
     "output_type": "stream",
     "text": [
      "1 1 True\n",
      "2 3 False\n",
      "3 6 False\n",
      "4 10 True\n",
      "5 15 False\n",
      "6 21 False\n",
      "7 28 True\n",
      "8 36 False\n",
      "9 45 False\n"
     ]
    }
   ],
   "source": [
    "for i in range(1,10):\n",
    "    print( i, sum(range(1, i+1)), sum(range(1, i+1)) % 3 != 0 )"
   ]
  },
  {
   "cell_type": "code",
   "execution_count": 22,
   "id": "0699d0fe",
   "metadata": {
    "ExecuteTime": {
     "end_time": "2022-02-07T13:35:30.602281Z",
     "start_time": "2022-02-07T13:35:30.559084Z"
    }
   },
   "outputs": [],
   "source": [
    "import itertools as it\n",
    "from math import sqrt, ceil\n",
    "from tqdm.notebook import tqdm"
   ]
  },
  {
   "cell_type": "code",
   "execution_count": 14,
   "id": "12065955",
   "metadata": {
    "ExecuteTime": {
     "end_time": "2022-02-07T13:32:00.798091Z",
     "start_time": "2022-02-07T13:32:00.795827Z"
    }
   },
   "outputs": [],
   "source": [
    "def isPrime(n:int) -> bool:\n",
    "    \n",
    "    for i in range( 2, ceil(sqrt(n)) ):\n",
    "        if n % i == 0:\n",
    "            return False\n",
    "    return True"
   ]
  },
  {
   "cell_type": "code",
   "execution_count": 25,
   "id": "3d43d6fb",
   "metadata": {
    "ExecuteTime": {
     "end_time": "2022-02-07T13:36:15.003043Z",
     "start_time": "2022-02-07T13:36:14.985509Z"
    }
   },
   "outputs": [
    {
     "data": {
      "application/vnd.jupyter.widget-view+json": {
       "model_id": "e89c531a235942b2b9848b8e73efbc56",
       "version_major": 2,
       "version_minor": 0
      },
      "text/plain": [
       "  0%|          | 0/1000 [00:00<?, ?it/s]"
      ]
     },
     "metadata": {},
     "output_type": "display_data"
    },
    {
     "name": "stdout",
     "output_type": "stream",
     "text": [
      "7652413\n"
     ]
    }
   ],
   "source": [
    "N = 1000\n",
    "for v in tqdm(it.islice(it.permutations('7654321'), N), total=N):\n",
    "    v = int( ''.join(v) )\n",
    "    if isPrime(v):\n",
    "        print(v)\n",
    "        break"
   ]
  },
  {
   "cell_type": "code",
   "execution_count": null,
   "id": "8b82286e",
   "metadata": {},
   "outputs": [],
   "source": []
  }
 ],
 "metadata": {
  "hide_input": false,
  "kernelspec": {
   "display_name": "Python 3",
   "language": "python",
   "name": "python3"
  },
  "language_info": {
   "codemirror_mode": {
    "name": "ipython",
    "version": 3
   },
   "file_extension": ".py",
   "mimetype": "text/x-python",
   "name": "python",
   "nbconvert_exporter": "python",
   "pygments_lexer": "ipython3",
   "version": "3.8.10"
  },
  "toc": {
   "base_numbering": 1,
   "nav_menu": {},
   "number_sections": true,
   "sideBar": true,
   "skip_h1_title": false,
   "title_cell": "Table of Contents",
   "title_sidebar": "Contents",
   "toc_cell": false,
   "toc_position": {},
   "toc_section_display": true,
   "toc_window_display": false
  }
 },
 "nbformat": 4,
 "nbformat_minor": 5
}
