{
 "cells": [
  {
   "cell_type": "markdown",
   "id": "9b8c8a47",
   "metadata": {},
   "source": [
    "# Problem 43: Sub-string divisibility\n",
    "\n",
    "\n",
    "\n",
    "The number, 1406357289, is a 0 to 9 pandigital number because it is made up of each of the digits 0 to 9 in some order, but it also has a rather interesting sub-string divisibility property.\n",
    "\n",
    "Let $d_1$ be the 1st digit, d2 be the 2nd digit, and so on. In this way, we note the following:\n",
    "\n",
    "    d2d3d4=406 is divisible by 2\n",
    "    d3d4d5=063 is divisible by 3\n",
    "    d4d5d6=635 is divisible by 5\n",
    "    d5d6d7=357 is divisible by 7\n",
    "    d6d7d8=572 is divisible by 11\n",
    "    d7d8d9=728 is divisible by 13\n",
    "    d8d9d10=289 is divisible by 17\n",
    "\n",
    "Find the sum of all 0 to 9 pandigital numbers with this property.\n"
   ]
  },
  {
   "cell_type": "code",
   "execution_count": 6,
   "id": "ee3f790a",
   "metadata": {
    "ExecuteTime": {
     "end_time": "2022-02-09T13:18:05.895862Z",
     "start_time": "2022-02-09T13:18:05.893884Z"
    }
   },
   "outputs": [],
   "source": [
    "import itertools as it\n",
    "from typing import List, Tuple"
   ]
  },
  {
   "cell_type": "code",
   "execution_count": 4,
   "id": "62b585f2",
   "metadata": {
    "ExecuteTime": {
     "end_time": "2022-02-09T13:08:17.756885Z",
     "start_time": "2022-02-09T13:08:17.753405Z"
    }
   },
   "outputs": [
    {
     "data": {
      "text/plain": [
       "[('0', '1', '2', '3', '4', '5', '6', '7', '8', '9'),\n",
       " ('0', '1', '2', '3', '4', '5', '6', '7', '9', '8'),\n",
       " ('0', '1', '2', '3', '4', '5', '6', '8', '7', '9'),\n",
       " ('0', '1', '2', '3', '4', '5', '6', '8', '9', '7'),\n",
       " ('0', '1', '2', '3', '4', '5', '6', '9', '7', '8'),\n",
       " ('0', '1', '2', '3', '4', '5', '6', '9', '8', '7')]"
      ]
     },
     "execution_count": 4,
     "metadata": {},
     "output_type": "execute_result"
    }
   ],
   "source": [
    "list(it.islice(it.permutations('0123456789'), 6))"
   ]
  },
  {
   "cell_type": "code",
   "execution_count": 14,
   "id": "74b6294e",
   "metadata": {
    "ExecuteTime": {
     "end_time": "2022-02-09T13:23:44.189579Z",
     "start_time": "2022-02-09T13:23:44.179502Z"
    }
   },
   "outputs": [],
   "source": [
    "def getNums() -> Tuple[int]:\n",
    "    \n",
    "    nums = [0,1,2,3,4,6,7,8,9]\n",
    "    for i in it.permutations(nums):\n",
    "        toYield = list(i[:5]) + [5] + list(i[5:])\n",
    "        yield toYield\n",
    "    "
   ]
  },
  {
   "cell_type": "code",
   "execution_count": 31,
   "id": "f320a63b",
   "metadata": {
    "ExecuteTime": {
     "end_time": "2022-02-09T13:32:42.041792Z",
     "start_time": "2022-02-09T13:32:41.773845Z"
    }
   },
   "outputs": [],
   "source": [
    "total = 0\n",
    "for i in getNums():\n",
    "    if i[3] %2 != 0        : continue\n",
    "    if sum(i[2:5]) %3 != 0 : continue\n",
    "    \n",
    "    if int(''.join(map(str, i[4:7]))) %7 != 0 : continue\n",
    "    if int(''.join(map(str, i[5:8]))) %11 != 0: continue\n",
    "    if int(''.join(map(str, i[6:9]))) %13 != 0: continue\n",
    "    if int(''.join(map(str, i[7:10]))) %17 != 0: continue\n",
    "    \n",
    "    i = int(''.join(map(str, i)))\n",
    "    total += i\n",
    "    "
   ]
  },
  {
   "cell_type": "code",
   "execution_count": 32,
   "id": "1bccbf1a",
   "metadata": {
    "ExecuteTime": {
     "end_time": "2022-02-09T13:32:48.749301Z",
     "start_time": "2022-02-09T13:32:48.746869Z"
    }
   },
   "outputs": [
    {
     "data": {
      "text/plain": [
       "16695334890"
      ]
     },
     "execution_count": 32,
     "metadata": {},
     "output_type": "execute_result"
    }
   ],
   "source": [
    "total"
   ]
  },
  {
   "cell_type": "code",
   "execution_count": null,
   "id": "61e4e46f",
   "metadata": {},
   "outputs": [],
   "source": []
  }
 ],
 "metadata": {
  "hide_input": false,
  "kernelspec": {
   "display_name": "Python 3",
   "language": "python",
   "name": "python3"
  },
  "language_info": {
   "codemirror_mode": {
    "name": "ipython",
    "version": 3
   },
   "file_extension": ".py",
   "mimetype": "text/x-python",
   "name": "python",
   "nbconvert_exporter": "python",
   "pygments_lexer": "ipython3",
   "version": "3.8.10"
  },
  "toc": {
   "base_numbering": 1,
   "nav_menu": {},
   "number_sections": true,
   "sideBar": true,
   "skip_h1_title": false,
   "title_cell": "Table of Contents",
   "title_sidebar": "Contents",
   "toc_cell": false,
   "toc_position": {},
   "toc_section_display": true,
   "toc_window_display": false
  }
 },
 "nbformat": 4,
 "nbformat_minor": 5
}
