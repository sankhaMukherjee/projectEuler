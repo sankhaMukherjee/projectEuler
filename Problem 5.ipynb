{
 "cells": [
  {
   "cell_type": "markdown",
   "id": "cfd8fb6f",
   "metadata": {},
   "source": [
    "# Problem 5: Smallest multiple\n",
    "\n",
    "\n",
    "\n",
    "2520 is the smallest number that can be divided by each of the numbers from 1 to 10 without any remainder.\n",
    "\n",
    "What is the smallest positive number that is evenly divisible by all of the numbers from 1 to 20?\n"
   ]
  },
  {
   "cell_type": "code",
   "execution_count": 23,
   "id": "1d7e66d4",
   "metadata": {
    "ExecuteTime": {
     "end_time": "2021-11-16T14:41:05.588934Z",
     "start_time": "2021-11-16T14:41:05.587047Z"
    }
   },
   "outputs": [],
   "source": [
    "nums = [(1 + i) for i in range(20)]"
   ]
  },
  {
   "cell_type": "code",
   "execution_count": 24,
   "id": "4b8dd97b",
   "metadata": {
    "ExecuteTime": {
     "end_time": "2021-11-16T14:41:07.726855Z",
     "start_time": "2021-11-16T14:41:07.724322Z"
    }
   },
   "outputs": [
    {
     "data": {
      "text/plain": [
       "[1, 2, 3, 4, 5, 6, 7, 8, 9, 10, 11, 12, 13, 14, 15, 16, 17, 18, 19, 20]"
      ]
     },
     "execution_count": 24,
     "metadata": {},
     "output_type": "execute_result"
    }
   ],
   "source": [
    "nums"
   ]
  },
  {
   "cell_type": "code",
   "execution_count": 18,
   "id": "6c01bf98",
   "metadata": {
    "ExecuteTime": {
     "end_time": "2021-11-16T14:38:05.140570Z",
     "start_time": "2021-11-16T14:38:05.138407Z"
    }
   },
   "outputs": [],
   "source": [
    "def gcd(a, b):\n",
    "    \n",
    "    if a<b:\n",
    "        a,b = b,a\n",
    "    \n",
    "    if a == 0:\n",
    "        return b\n",
    "    if b == 0:\n",
    "        return a\n",
    "    \n",
    "    r = a % b\n",
    "    return gcd(b, r)\n",
    "    "
   ]
  },
  {
   "cell_type": "code",
   "execution_count": 20,
   "id": "e027df06",
   "metadata": {
    "ExecuteTime": {
     "end_time": "2021-11-16T14:38:27.387954Z",
     "start_time": "2021-11-16T14:38:27.385483Z"
    }
   },
   "outputs": [
    {
     "data": {
      "text/plain": [
       "20"
      ]
     },
     "execution_count": 20,
     "metadata": {},
     "output_type": "execute_result"
    }
   ],
   "source": [
    "gcd(20, 20)"
   ]
  },
  {
   "cell_type": "code",
   "execution_count": 25,
   "id": "2541e247",
   "metadata": {
    "ExecuteTime": {
     "end_time": "2021-11-16T14:41:12.757573Z",
     "start_time": "2021-11-16T14:41:12.749184Z"
    }
   },
   "outputs": [
    {
     "name": "stdout",
     "output_type": "stream",
     "text": [
      "-----------------------\n",
      "1 1\n",
      "-----------------------\n",
      "1 2\n",
      "1 is not divisible by 2\n",
      "The gcd of 1 and 2 = 1\n",
      "The new value for number = 2.0\n",
      "-----------------------\n",
      "2.0 3\n",
      "2.0 is not divisible by 3\n",
      "The gcd of 2.0 and 3 = 1.0\n",
      "The new value for number = 6.0\n",
      "-----------------------\n",
      "6.0 4\n",
      "6.0 is not divisible by 4\n",
      "The gcd of 6.0 and 4 = 2.0\n",
      "The new value for number = 12.0\n",
      "-----------------------\n",
      "12.0 5\n",
      "12.0 is not divisible by 5\n",
      "The gcd of 12.0 and 5 = 1.0\n",
      "The new value for number = 60.0\n",
      "-----------------------\n",
      "60.0 6\n",
      "-----------------------\n",
      "60.0 7\n",
      "60.0 is not divisible by 7\n",
      "The gcd of 60.0 and 7 = 1.0\n",
      "The new value for number = 420.0\n",
      "-----------------------\n",
      "420.0 8\n",
      "420.0 is not divisible by 8\n",
      "The gcd of 420.0 and 8 = 4.0\n",
      "The new value for number = 840.0\n",
      "-----------------------\n",
      "840.0 9\n",
      "840.0 is not divisible by 9\n",
      "The gcd of 840.0 and 9 = 3.0\n",
      "The new value for number = 2520.0\n",
      "-----------------------\n",
      "2520.0 10\n",
      "-----------------------\n",
      "2520.0 11\n",
      "2520.0 is not divisible by 11\n",
      "The gcd of 2520.0 and 11 = 1.0\n",
      "The new value for number = 27720.0\n",
      "-----------------------\n",
      "27720.0 12\n",
      "-----------------------\n",
      "27720.0 13\n",
      "27720.0 is not divisible by 13\n",
      "The gcd of 27720.0 and 13 = 1.0\n",
      "The new value for number = 360360.0\n",
      "-----------------------\n",
      "360360.0 14\n",
      "-----------------------\n",
      "360360.0 15\n",
      "-----------------------\n",
      "360360.0 16\n",
      "360360.0 is not divisible by 16\n",
      "The gcd of 360360.0 and 16 = 8.0\n",
      "The new value for number = 720720.0\n",
      "-----------------------\n",
      "720720.0 17\n",
      "720720.0 is not divisible by 17\n",
      "The gcd of 720720.0 and 17 = 1.0\n",
      "The new value for number = 12252240.0\n",
      "-----------------------\n",
      "12252240.0 18\n",
      "-----------------------\n",
      "12252240.0 19\n",
      "12252240.0 is not divisible by 19\n",
      "The gcd of 12252240.0 and 19 = 1.0\n",
      "The new value for number = 232792560.0\n",
      "-----------------------\n",
      "232792560.0 20\n"
     ]
    }
   ],
   "source": [
    "number = 1\n",
    "for i in nums:\n",
    "    print('-----------------------')\n",
    "    print(number, i)\n",
    "    if number % i != 0:\n",
    "        print(f'{number} is not divisible by {i}')\n",
    "        gcdVal = gcd(i, number)\n",
    "        print(f'The gcd of {number} and {i} = {gcdVal}')\n",
    "        \n",
    "        number *= i/gcdVal\n",
    "        print(f'The new value for number = {number}')\n",
    "        \n",
    "    "
   ]
  },
  {
   "cell_type": "markdown",
   "id": "a9482d30",
   "metadata": {},
   "source": [
    "# Problem 6: Sum square difference\n",
    "\n",
    "The sum of the squares of the first ten natural numbers is,\n",
    "\n",
    "$$1^2 + 2^2 + \\cdots + 10^2 = 385$$\n",
    "\n",
    "The square of the sum of the first ten natural numbers is,\n",
    "\n",
    "$$(1+2+\\cdots+10)^2=55^2 =3025$$\n",
    "\n",
    "Hence the difference between the sum of the squares of the first ten natural numbers and the square of the sum is 3025-385=2640.\n",
    "\n",
    "Find the difference between the sum of the squares of the first one hundred natural numbers and the square of the sum."
   ]
  },
  {
   "cell_type": "code",
   "execution_count": 38,
   "id": "e9ae68f9",
   "metadata": {
    "ExecuteTime": {
     "end_time": "2021-11-16T14:49:01.492151Z",
     "start_time": "2021-11-16T14:49:01.490248Z"
    }
   },
   "outputs": [],
   "source": [
    "import numpy as np\n",
    "N = 100\n",
    "nums = np.linspace(1, N, N)"
   ]
  },
  {
   "cell_type": "code",
   "execution_count": 39,
   "id": "5f28f250",
   "metadata": {
    "ExecuteTime": {
     "end_time": "2021-11-16T14:49:02.465071Z",
     "start_time": "2021-11-16T14:49:02.462144Z"
    }
   },
   "outputs": [
    {
     "data": {
      "text/plain": [
       "25164150.0"
      ]
     },
     "execution_count": 39,
     "metadata": {},
     "output_type": "execute_result"
    }
   ],
   "source": [
    "(nums.sum())**2 - (nums**2).sum()"
   ]
  },
  {
   "cell_type": "markdown",
   "id": "2b81b73e",
   "metadata": {},
   "source": [
    "# Problem 7: 10001st prime\n",
    "\n",
    "By listing the first six prime numbers: 2, 3, 5, 7, 11, and 13, we can see that the 6th prime is 13.\n",
    "\n",
    "What is the 10,001st prime number?"
   ]
  },
  {
   "cell_type": "code",
   "execution_count": 75,
   "id": "59b99e36",
   "metadata": {
    "ExecuteTime": {
     "end_time": "2021-11-16T15:03:07.847260Z",
     "start_time": "2021-11-16T15:03:07.845251Z"
    }
   },
   "outputs": [],
   "source": [
    "N=10001"
   ]
  },
  {
   "cell_type": "code",
   "execution_count": 72,
   "id": "166bfb6e",
   "metadata": {
    "ExecuteTime": {
     "end_time": "2021-11-16T15:02:10.786948Z",
     "start_time": "2021-11-16T15:02:10.781585Z"
    }
   },
   "outputs": [],
   "source": [
    "N=10001\n",
    "largeN = 500000\n",
    "nums = np.linspace(2, largeN, largeN-1).astype(int)"
   ]
  },
  {
   "cell_type": "code",
   "execution_count": 73,
   "id": "53e8675b",
   "metadata": {
    "ExecuteTime": {
     "end_time": "2021-11-16T15:02:22.175094Z",
     "start_time": "2021-11-16T15:02:14.856416Z"
    }
   },
   "outputs": [],
   "source": [
    "primes = []\n",
    "while len(nums) > 0:\n",
    "    p = nums[0]\n",
    "    primes.append(p)\n",
    "    nums = nums[ nums % p != 0 ]"
   ]
  },
  {
   "cell_type": "code",
   "execution_count": 69,
   "id": "027fe825",
   "metadata": {
    "ExecuteTime": {
     "end_time": "2021-11-16T15:01:32.860254Z",
     "start_time": "2021-11-16T15:01:32.857051Z"
    }
   },
   "outputs": [
    {
     "data": {
      "text/plain": [
       "array([], dtype=int64)"
      ]
     },
     "execution_count": 69,
     "metadata": {},
     "output_type": "execute_result"
    }
   ],
   "source": [
    "nums"
   ]
  },
  {
   "cell_type": "code",
   "execution_count": 74,
   "id": "f23130e6",
   "metadata": {
    "ExecuteTime": {
     "end_time": "2021-11-16T15:02:29.822820Z",
     "start_time": "2021-11-16T15:02:29.820483Z"
    }
   },
   "outputs": [
    {
     "data": {
      "text/plain": [
       "41538"
      ]
     },
     "execution_count": 74,
     "metadata": {},
     "output_type": "execute_result"
    }
   ],
   "source": [
    "len(primes)"
   ]
  },
  {
   "cell_type": "code",
   "execution_count": 76,
   "id": "036d047e",
   "metadata": {
    "ExecuteTime": {
     "end_time": "2021-11-16T15:03:12.286561Z",
     "start_time": "2021-11-16T15:03:12.284096Z"
    }
   },
   "outputs": [
    {
     "data": {
      "text/plain": [
       "104743"
      ]
     },
     "execution_count": 76,
     "metadata": {},
     "output_type": "execute_result"
    }
   ],
   "source": [
    "primes[N-1]"
   ]
  },
  {
   "cell_type": "code",
   "execution_count": 65,
   "id": "61b77ec1",
   "metadata": {
    "ExecuteTime": {
     "end_time": "2021-11-16T15:00:45.058123Z",
     "start_time": "2021-11-16T15:00:45.055577Z"
    }
   },
   "outputs": [
    {
     "data": {
      "text/plain": [
       "15"
      ]
     },
     "execution_count": 65,
     "metadata": {},
     "output_type": "execute_result"
    }
   ],
   "source": [
    "len(primes)"
   ]
  },
  {
   "cell_type": "code",
   "execution_count": 67,
   "id": "45cf859b",
   "metadata": {
    "ExecuteTime": {
     "end_time": "2021-11-16T15:01:15.021814Z",
     "start_time": "2021-11-16T15:01:15.019339Z"
    }
   },
   "outputs": [
    {
     "data": {
      "text/plain": [
       "array([    2,     3,     4, ..., 49998, 49999, 50000])"
      ]
     },
     "execution_count": 67,
     "metadata": {},
     "output_type": "execute_result"
    }
   ],
   "source": [
    "nums"
   ]
  },
  {
   "cell_type": "code",
   "execution_count": null,
   "id": "d6597fc8",
   "metadata": {},
   "outputs": [],
   "source": []
  }
 ],
 "metadata": {
  "hide_input": false,
  "kernelspec": {
   "display_name": "Python 3",
   "language": "python",
   "name": "python3"
  },
  "language_info": {
   "codemirror_mode": {
    "name": "ipython",
    "version": 3
   },
   "file_extension": ".py",
   "mimetype": "text/x-python",
   "name": "python",
   "nbconvert_exporter": "python",
   "pygments_lexer": "ipython3",
   "version": "3.8.10"
  },
  "toc": {
   "base_numbering": 1,
   "nav_menu": {},
   "number_sections": true,
   "sideBar": true,
   "skip_h1_title": false,
   "title_cell": "Table of Contents",
   "title_sidebar": "Contents",
   "toc_cell": false,
   "toc_position": {},
   "toc_section_display": true,
   "toc_window_display": false
  }
 },
 "nbformat": 4,
 "nbformat_minor": 5
}
