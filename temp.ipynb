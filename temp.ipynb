{
 "cells": [
  {
   "cell_type": "code",
   "execution_count": 2,
   "id": "235be3cf",
   "metadata": {
    "ExecuteTime": {
     "end_time": "2022-03-03T14:58:01.865758Z",
     "start_time": "2022-03-03T14:58:01.860985Z"
    }
   },
   "outputs": [],
   "source": [
    "import numpy as np\n",
    "primes = []\n",
    "nums = np.arange(2, 1000)\n",
    "while len(nums)>0:\n",
    "    n0 = nums[0]\n",
    "    primes.append( n0 )\n",
    "    nums = nums[ ~(nums % n0 == 0) ]"
   ]
  },
  {
   "cell_type": "code",
   "execution_count": 3,
   "id": "afca560c",
   "metadata": {
    "ExecuteTime": {
     "end_time": "2022-03-03T14:58:23.946537Z",
     "start_time": "2022-03-03T14:58:23.942324Z"
    }
   },
   "outputs": [],
   "source": [
    "nPrimes = len(primes)\n",
    "primes = np.array(primes)"
   ]
  },
  {
   "cell_type": "code",
   "execution_count": 5,
   "id": "65c630ea",
   "metadata": {
    "ExecuteTime": {
     "end_time": "2022-03-03T14:59:06.708629Z",
     "start_time": "2022-03-03T14:59:06.704818Z"
    }
   },
   "outputs": [
    {
     "data": {
      "text/plain": [
       "array([  2,   3,   5,   7,  11,  13,  17,  19,  23,  29,  31,  37,  41,\n",
       "        43,  47,  53,  59,  61,  67,  71,  73,  79,  83,  89,  97, 101,\n",
       "       103, 107, 109, 113, 127, 131, 137, 139, 149, 151, 157, 163, 167,\n",
       "       173, 179, 181, 191, 193, 197, 199, 211, 223, 227, 229, 233, 239,\n",
       "       241, 251, 257, 263, 269, 271, 277, 281, 283, 293, 307, 311, 313,\n",
       "       317, 331, 337, 347, 349, 353, 359, 367, 373, 379, 383, 389, 397,\n",
       "       401, 409, 419, 421, 431, 433, 439, 443, 449, 457, 461, 463, 467,\n",
       "       479, 487, 491, 499, 503, 509, 521, 523, 541, 547, 557, 563, 569,\n",
       "       571, 577, 587, 593, 599, 601, 607, 613, 617, 619, 631, 641, 643,\n",
       "       647, 653, 659, 661, 673, 677, 683, 691, 701, 709, 719, 727, 733,\n",
       "       739, 743, 751, 757, 761, 769, 773, 787, 797, 809, 811, 821, 823,\n",
       "       827, 829, 839, 853, 857, 859, 863, 877, 881, 883, 887, 907, 911,\n",
       "       919, 929, 937, 941, 947, 953, 967, 971, 977, 983, 991, 997])"
      ]
     },
     "execution_count": 5,
     "metadata": {},
     "output_type": "execute_result"
    }
   ],
   "source": [
    "i, j = 2, 5\n",
    "primes"
   ]
  },
  {
   "cell_type": "code",
   "execution_count": 6,
   "id": "94eb8bfe",
   "metadata": {
    "ExecuteTime": {
     "end_time": "2022-03-03T14:59:14.178020Z",
     "start_time": "2022-03-03T14:59:14.167103Z"
    }
   },
   "outputs": [
    {
     "data": {
      "text/plain": [
       "array([ 5,  7, 11])"
      ]
     },
     "execution_count": 6,
     "metadata": {},
     "output_type": "execute_result"
    }
   ],
   "source": [
    "primes[i:j]"
   ]
  },
  {
   "cell_type": "code",
   "execution_count": 1,
   "id": "44ef3aff",
   "metadata": {
    "ExecuteTime": {
     "end_time": "2022-03-08T12:39:22.505966Z",
     "start_time": "2022-03-08T12:39:22.478819Z"
    }
   },
   "outputs": [
    {
     "data": {
      "text/plain": [
       "11.666666666666666"
      ]
     },
     "execution_count": 1,
     "metadata": {},
     "output_type": "execute_result"
    }
   ],
   "source": [
    "700/60"
   ]
  },
  {
   "cell_type": "code",
   "execution_count": null,
   "id": "016792c4",
   "metadata": {},
   "outputs": [],
   "source": []
  }
 ],
 "metadata": {
  "hide_input": false,
  "kernelspec": {
   "display_name": "Python 3",
   "language": "python",
   "name": "python3"
  },
  "language_info": {
   "codemirror_mode": {
    "name": "ipython",
    "version": 3
   },
   "file_extension": ".py",
   "mimetype": "text/x-python",
   "name": "python",
   "nbconvert_exporter": "python",
   "pygments_lexer": "ipython3",
   "version": "3.8.10"
  },
  "toc": {
   "base_numbering": 1,
   "nav_menu": {},
   "number_sections": true,
   "sideBar": true,
   "skip_h1_title": false,
   "title_cell": "Table of Contents",
   "title_sidebar": "Contents",
   "toc_cell": false,
   "toc_position": {},
   "toc_section_display": true,
   "toc_window_display": false
  }
 },
 "nbformat": 4,
 "nbformat_minor": 5
}
