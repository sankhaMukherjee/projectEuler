{
 "cells": [
  {
   "cell_type": "markdown",
   "id": "973be63a",
   "metadata": {},
   "source": [
    "# Problem 55: Lychrel numbers\n",
    "\n",
    "\n",
    "\n",
    "If we take 47, reverse and add, 47 + 74 = 121, which is palindromic.\n",
    "\n",
    "Not all numbers produce palindromes so quickly. For example,\n",
    "\n",
    "$$\n",
    "349 + 943 = 1292, \\\\\n",
    "1292 + 2921 = 4213 \\\\\n",
    "4213 + 3124 = 7337 \\\\\n",
    "$$\n",
    "\n",
    "That is, 349 took three iterations to arrive at a palindrome.\n",
    "\n",
    "Although no one has proved it yet, it is thought that some numbers, like 196, never produce a palindrome. A number that never forms a palindrome through the reverse and add process is called a Lychrel number. Due to the theoretical nature of these numbers, and for the purpose of this problem, we shall assume that a number is Lychrel until proven otherwise. In addition you are given that for every number below ten-thousand, it will either (i) become a palindrome in less than fifty iterations, or, (ii) no one, with all the computing power that exists, has managed so far to map it to a palindrome. In fact, 10677 is the first number to be shown to require over fifty iterations before producing a palindrome: 4668731596684224866951378664 (53 iterations, 28-digits).\n",
    "\n",
    "Surprisingly, there are palindromic numbers that are themselves Lychrel numbers; the first example is 4994.\n",
    "\n",
    "How many Lychrel numbers are there below ten-thousand?\n",
    "\n",
    "NOTE: Wording was modified slightly on 24 April 2007 to emphasise the theoretical nature of Lychrel numbers.\n",
    "\n"
   ]
  },
  {
   "cell_type": "code",
   "execution_count": 1,
   "id": "7b4de3dd",
   "metadata": {
    "ExecuteTime": {
     "end_time": "2022-03-23T13:23:56.512895Z",
     "start_time": "2022-03-23T13:23:56.508308Z"
    },
    "code_folding": [
     0
    ]
   },
   "outputs": [],
   "source": [
    "def isPal(n: int) -> bool:\n",
    "    \n",
    "    nStr = str(n)\n",
    "    if nStr == ''.join(reversed(nStr)):\n",
    "        return True\n",
    "    return False"
   ]
  },
  {
   "cell_type": "code",
   "execution_count": 4,
   "id": "02937373",
   "metadata": {
    "ExecuteTime": {
     "end_time": "2022-03-23T13:28:22.762226Z",
     "start_time": "2022-03-23T13:28:22.760135Z"
    },
    "code_folding": [
     0
    ]
   },
   "outputs": [],
   "source": [
    "def isLychrel(n: int) -> bool:\n",
    "    \n",
    "    for _ in range(50):\n",
    "        nRev = int(''.join(reversed(str(n))))\n",
    "        n += nRev\n",
    "        if isPal(n):\n",
    "            return False\n",
    "    \n",
    "    return True"
   ]
  },
  {
   "cell_type": "code",
   "execution_count": 7,
   "id": "daabb171",
   "metadata": {
    "ExecuteTime": {
     "end_time": "2022-03-23T13:29:05.562923Z",
     "start_time": "2022-03-23T13:29:05.560399Z"
    }
   },
   "outputs": [
    {
     "data": {
      "text/plain": [
       "True"
      ]
     },
     "execution_count": 7,
     "metadata": {},
     "output_type": "execute_result"
    }
   ],
   "source": [
    "isLychrel(196)"
   ]
  },
  {
   "cell_type": "code",
   "execution_count": 9,
   "id": "1d669eea",
   "metadata": {
    "ExecuteTime": {
     "end_time": "2022-03-23T13:30:22.056164Z",
     "start_time": "2022-03-23T13:30:22.010332Z"
    }
   },
   "outputs": [
    {
     "data": {
      "text/plain": [
       "249"
      ]
     },
     "execution_count": 9,
     "metadata": {},
     "output_type": "execute_result"
    }
   ],
   "source": [
    "sum(isLychrel(i) for i in range(10000))"
   ]
  },
  {
   "cell_type": "code",
   "execution_count": null,
   "id": "a23bde8b",
   "metadata": {},
   "outputs": [],
   "source": []
  }
 ],
 "metadata": {
  "hide_input": false,
  "kernelspec": {
   "display_name": "Python 3",
   "language": "python",
   "name": "python3"
  },
  "language_info": {
   "codemirror_mode": {
    "name": "ipython",
    "version": 3
   },
   "file_extension": ".py",
   "mimetype": "text/x-python",
   "name": "python",
   "nbconvert_exporter": "python",
   "pygments_lexer": "ipython3",
   "version": "3.8.10"
  },
  "toc": {
   "base_numbering": 1,
   "nav_menu": {},
   "number_sections": true,
   "sideBar": true,
   "skip_h1_title": false,
   "title_cell": "Table of Contents",
   "title_sidebar": "Contents",
   "toc_cell": false,
   "toc_position": {},
   "toc_section_display": true,
   "toc_window_display": false
  }
 },
 "nbformat": 4,
 "nbformat_minor": 5
}
