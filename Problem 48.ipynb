{
 "cells": [
  {
   "cell_type": "markdown",
   "id": "1f2f33f5",
   "metadata": {},
   "source": [
    "# Problem 48: Self powers\n",
    "\n",
    "\n",
    "\n",
    "The series, $ 1^1 + 2^2 + 3^3 + ... + 10^{10} = 10405071317 $.\n",
    "\n",
    "Find the last ten digits of the series, \n",
    "\n",
    "$$ 1^1 + 2^2 + 3^3 + \\ldots + 1000^{1000)$$ \n",
    "\n",
    ".\n"
   ]
  },
  {
   "cell_type": "code",
   "execution_count": 7,
   "id": "dcaaf7d5",
   "metadata": {
    "ExecuteTime": {
     "end_time": "2022-03-03T13:23:14.538982Z",
     "start_time": "2022-03-03T13:23:14.531392Z"
    }
   },
   "outputs": [],
   "source": [
    "N = 1000\n",
    "result = sum(i**i for i in range(1, N+1))\n",
    "result = str(result)"
   ]
  },
  {
   "cell_type": "code",
   "execution_count": 10,
   "id": "aff756ba",
   "metadata": {
    "ExecuteTime": {
     "end_time": "2022-03-03T13:23:40.805314Z",
     "start_time": "2022-03-03T13:23:40.795269Z"
    }
   },
   "outputs": [
    {
     "data": {
      "text/plain": [
       "'9110846700'"
      ]
     },
     "execution_count": 10,
     "metadata": {},
     "output_type": "execute_result"
    }
   ],
   "source": [
    "result[-10:]"
   ]
  },
  {
   "cell_type": "code",
   "execution_count": null,
   "id": "f85d72af",
   "metadata": {},
   "outputs": [],
   "source": []
  }
 ],
 "metadata": {
  "hide_input": false,
  "kernelspec": {
   "display_name": "Python 3",
   "language": "python",
   "name": "python3"
  },
  "language_info": {
   "codemirror_mode": {
    "name": "ipython",
    "version": 3
   },
   "file_extension": ".py",
   "mimetype": "text/x-python",
   "name": "python",
   "nbconvert_exporter": "python",
   "pygments_lexer": "ipython3",
   "version": "3.8.10"
  },
  "toc": {
   "base_numbering": 1,
   "nav_menu": {},
   "number_sections": true,
   "sideBar": true,
   "skip_h1_title": false,
   "title_cell": "Table of Contents",
   "title_sidebar": "Contents",
   "toc_cell": false,
   "toc_position": {},
   "toc_section_display": true,
   "toc_window_display": false
  }
 },
 "nbformat": 4,
 "nbformat_minor": 5
}
