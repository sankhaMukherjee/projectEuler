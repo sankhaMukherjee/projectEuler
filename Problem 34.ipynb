{
 "cells": [
  {
   "cell_type": "markdown",
   "id": "ae880ea5",
   "metadata": {},
   "source": [
    "# Problem 34: Digit factorials\n",
    "\n",
    "\n",
    "\n",
    "145 is a curious number, as 1! + 4! + 5! = 1 + 24 + 120 = 145.\n",
    "\n",
    "Find the sum of all numbers which are equal to the sum of the factorial of their digits.\n",
    "\n",
    "Note: As 1! = 1 and 2! = 2 are not sums they are not included.\n"
   ]
  },
  {
   "cell_type": "code",
   "execution_count": 17,
   "id": "9eedddbc",
   "metadata": {
    "ExecuteTime": {
     "end_time": "2022-01-23T15:30:17.485422Z",
     "start_time": "2022-01-23T15:30:17.433249Z"
    }
   },
   "outputs": [],
   "source": [
    "import numpy as np\n",
    "from pprint import pprint\n",
    "from tqdm.notebook import tqdm"
   ]
  },
  {
   "cell_type": "code",
   "execution_count": 10,
   "id": "e49c4b48",
   "metadata": {
    "ExecuteTime": {
     "end_time": "2022-01-23T15:25:48.023781Z",
     "start_time": "2022-01-23T15:25:48.021414Z"
    }
   },
   "outputs": [
    {
     "name": "stdout",
     "output_type": "stream",
     "text": [
      "{0: 1, 1: 1, 2: 2, 3: 6, 4: 24, 5: 120, 6: 720, 7: 5040, 8: 40320, 9: 362880}\n"
     ]
    }
   ],
   "source": [
    "factorials = { i:np.arange(1,i+1).prod()  for i in range(1, 10)}\n",
    "factorials[0] = 1\n",
    "pprint(factorials)"
   ]
  },
  {
   "cell_type": "code",
   "execution_count": 11,
   "id": "880223e4",
   "metadata": {
    "ExecuteTime": {
     "end_time": "2022-01-23T15:28:16.986595Z",
     "start_time": "2022-01-23T15:28:16.984725Z"
    }
   },
   "outputs": [],
   "source": [
    "def factSum(n):    \n",
    "    return sum([ factorials[int(i)] for i in str(n)])\n",
    "    "
   ]
  },
  {
   "cell_type": "code",
   "execution_count": 25,
   "id": "aee1116e",
   "metadata": {
    "ExecuteTime": {
     "end_time": "2022-01-23T15:35:12.386839Z",
     "start_time": "2022-01-23T15:35:08.073114Z"
    }
   },
   "outputs": [
    {
     "name": "stdout",
     "output_type": "stream",
     "text": [
      "145\n",
      "40585\n"
     ]
    }
   ],
   "source": [
    "for i in range(3, 2540160):\n",
    "    if factSum(i) == i:\n",
    "        print(i)"
   ]
  },
  {
   "cell_type": "code",
   "execution_count": 23,
   "id": "d5f630e4",
   "metadata": {
    "ExecuteTime": {
     "end_time": "2022-01-23T15:34:25.027278Z",
     "start_time": "2022-01-23T15:34:25.024560Z"
    }
   },
   "outputs": [
    {
     "name": "stdout",
     "output_type": "stream",
     "text": [
      "2 6\n",
      "3 7\n",
      "4 7\n",
      "5 7\n",
      "6 7\n",
      "7 7\n",
      "8 7\n",
      "9 7\n"
     ]
    }
   ],
   "source": [
    "for i in range(2, 10):\n",
    "    print(i, len(str(i*factorials[9])))"
   ]
  },
  {
   "cell_type": "code",
   "execution_count": 24,
   "id": "0b8af2e2",
   "metadata": {
    "ExecuteTime": {
     "end_time": "2022-01-23T15:34:48.101825Z",
     "start_time": "2022-01-23T15:34:48.099296Z"
    }
   },
   "outputs": [
    {
     "data": {
      "text/plain": [
       "2540160"
      ]
     },
     "execution_count": 24,
     "metadata": {},
     "output_type": "execute_result"
    }
   ],
   "source": [
    "7*factorials[9]"
   ]
  },
  {
   "cell_type": "code",
   "execution_count": 27,
   "id": "47957635",
   "metadata": {
    "ExecuteTime": {
     "end_time": "2022-01-23T15:36:04.141434Z",
     "start_time": "2022-01-23T15:36:04.137921Z"
    }
   },
   "outputs": [
    {
     "data": {
      "text/plain": [
       "40730"
      ]
     },
     "execution_count": 27,
     "metadata": {},
     "output_type": "execute_result"
    }
   ],
   "source": [
    "sum([145, 40585])"
   ]
  },
  {
   "cell_type": "code",
   "execution_count": null,
   "id": "3adb509c",
   "metadata": {},
   "outputs": [],
   "source": []
  }
 ],
 "metadata": {
  "hide_input": false,
  "kernelspec": {
   "display_name": "Python 3",
   "language": "python",
   "name": "python3"
  },
  "language_info": {
   "codemirror_mode": {
    "name": "ipython",
    "version": 3
   },
   "file_extension": ".py",
   "mimetype": "text/x-python",
   "name": "python",
   "nbconvert_exporter": "python",
   "pygments_lexer": "ipython3",
   "version": "3.8.10"
  },
  "toc": {
   "base_numbering": 1,
   "nav_menu": {},
   "number_sections": true,
   "sideBar": true,
   "skip_h1_title": false,
   "title_cell": "Table of Contents",
   "title_sidebar": "Contents",
   "toc_cell": false,
   "toc_position": {},
   "toc_section_display": true,
   "toc_window_display": false
  }
 },
 "nbformat": 4,
 "nbformat_minor": 5
}
