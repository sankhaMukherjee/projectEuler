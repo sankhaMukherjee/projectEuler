{
 "cells": [
  {
   "cell_type": "markdown",
   "id": "ae2a1430",
   "metadata": {},
   "source": [
    "# Problem 74: Digit factorial chains\n",
    "\n",
    "\n",
    "\n",
    "The number 145 is well known for the property that the sum of the factorial of its digits is equal to 145:\n",
    "\n",
    "1! + 4! + 5! = 1 + 24 + 120 = 145\n",
    "\n",
    "Perhaps less well known is 169, in that it produces the longest chain of numbers that link back to 169; it turns out that there are only three such loops that exist:\n",
    "\n",
    "169 → 363601 → 1454 → 169\n",
    "871 → 45361 → 871\n",
    "872 → 45362 → 872\n",
    "\n",
    "It is not difficult to prove that EVERY starting number will eventually get stuck in a loop. For example,\n",
    "\n",
    "69 → 363600 → 1454 → 169 → 363601 (→ 1454)\n",
    "78 → 45360 → 871 → 45361 (→ 871)\n",
    "540 → 145 (→ 145)\n",
    "\n",
    "Starting with 69 produces a chain of five non-repeating terms, but the longest non-repeating chain with a starting number below one million is sixty terms.\n",
    "\n",
    "How many chains, with a starting number below one million, contain exactly sixty non-repeating terms?\n"
   ]
  },
  {
   "cell_type": "code",
   "execution_count": 8,
   "id": "0a76f967",
   "metadata": {},
   "outputs": [],
   "source": [
    "from math import factorial\n",
    "from tqdm.notebook import tqdm"
   ]
  },
  {
   "cell_type": "code",
   "execution_count": 4,
   "id": "2934d5fe",
   "metadata": {},
   "outputs": [],
   "source": [
    "def sumFactorial(n:int)-> int:\n",
    "    return sum(factorial(int(d)) for d in str(n))"
   ]
  },
  {
   "cell_type": "code",
   "execution_count": 6,
   "id": "0ae253ac",
   "metadata": {},
   "outputs": [
    {
     "data": {
      "text/plain": [
       "363601"
      ]
     },
     "execution_count": 6,
     "metadata": {},
     "output_type": "execute_result"
    }
   ],
   "source": [
    "sumFactorial(169)"
   ]
  },
  {
   "cell_type": "code",
   "execution_count": 20,
   "id": "109d3120",
   "metadata": {},
   "outputs": [],
   "source": [
    "def chainLength(n:int) -> int:\n",
    "    nValues = 0\n",
    "    valueList = [n]\n",
    "    while True:\n",
    "        #print(valueList)\n",
    "        n = sumFactorial(n)\n",
    "        if n in valueList:\n",
    "            return len(valueList)\n",
    "        valueList.append(n)\n",
    "        \n",
    "    return"
   ]
  },
  {
   "cell_type": "code",
   "execution_count": 29,
   "id": "ca5359e9",
   "metadata": {},
   "outputs": [
    {
     "data": {
      "application/json": {
       "ascii": false,
       "bar_format": null,
       "colour": null,
       "elapsed": 0.03120589256286621,
       "initial": 0,
       "n": 0,
       "ncols": null,
       "nrows": 38,
       "postfix": null,
       "prefix": "",
       "rate": null,
       "total": 999998,
       "unit": "it",
       "unit_divisor": 1000,
       "unit_scale": false
      },
      "application/vnd.jupyter.widget-view+json": {
       "model_id": "796a4feca2c744a99debb039bab2643f",
       "version_major": 2,
       "version_minor": 0
      },
      "text/plain": [
       "  0%|          | 0/999998 [00:00<?, ?it/s]"
      ]
     },
     "metadata": {},
     "output_type": "display_data"
    },
    {
     "name": "stdout",
     "output_type": "stream",
     "text": [
      "402\n"
     ]
    }
   ],
   "source": [
    "N = 1_000_000\n",
    "nVals = 0\n",
    "for i in tqdm(range(2, N)):\n",
    "    r = chainLength(i)\n",
    "    if r > 59:\n",
    "        #tqdm.write(f'{i:>5d} | {r}')\n",
    "        nVals += 1\n",
    "print(nVals)"
   ]
  },
  {
   "cell_type": "code",
   "execution_count": null,
   "id": "33acaf72",
   "metadata": {},
   "outputs": [],
   "source": []
  }
 ],
 "metadata": {
  "kernelspec": {
   "display_name": "Python 3 (ipykernel)",
   "language": "python",
   "name": "python3"
  },
  "language_info": {
   "codemirror_mode": {
    "name": "ipython",
    "version": 3
   },
   "file_extension": ".py",
   "mimetype": "text/x-python",
   "name": "python",
   "nbconvert_exporter": "python",
   "pygments_lexer": "ipython3",
   "version": "3.10.4"
  }
 },
 "nbformat": 4,
 "nbformat_minor": 5
}
