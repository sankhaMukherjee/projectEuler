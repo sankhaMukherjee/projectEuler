{
 "cells": [
  {
   "cell_type": "markdown",
   "id": "43ff3d77",
   "metadata": {},
   "source": [
    "# Problem 68: Magic 5-gon ring\n",
    "\n",
    "Consider the following \"magic\" 3-gon ring, filled with the numbers 1 to 6, and each line adding to nine.\n",
    "\n",
    "![image](https://projecteuler.net/project/images/p068_1.png)\n",
    "\n",
    "Working clockwise, and starting from the group of three with the numerically lowest external node (4,3,2 in this example), each solution can be described uniquely. For example, the above solution can be described by the set: 4,3,2; 6,2,1; 5,1,3.\n",
    "\n",
    "It is possible to complete the ring with four different totals: 9, 10, 11, and 12. There are eight solutions in total.\n",
    "\n",
    "```\n",
    "Total\tSolution Set\n",
    "9\t    4,2,3; 5,3,1; 6,1,2\n",
    "9\t    4,3,2; 6,2,1; 5,1,3\n",
    "10\t    2,3,5; 4,5,1; 6,1,3\n",
    "10\t    2,5,3; 6,3,1; 4,1,5\n",
    "11\t    1,4,6; 3,6,2; 5,2,4\n",
    "11\t    1,6,4; 5,4,2; 3,2,6\n",
    "12\t    1,5,6; 2,6,4; 3,4,5\n",
    "12\t    1,6,5; 3,5,4; 2,4,6\n",
    "```\n",
    "By concatenating each group it is possible to form 9-digit strings; the maximum string for a 3-gon ring is 432621513.\n",
    "\n",
    "Using the numbers 1 to 10, and depending on arrangements, it is possible to form 16- and 17-digit strings. What is the maximum 16-digit string for a \"magic\" 5-gon ring?\n",
    "\n",
    "![image](https://projecteuler.net/project/images/p068_2.png)\n"
   ]
  },
  {
   "cell_type": "code",
   "execution_count": 2,
   "id": "a42c2295",
   "metadata": {
    "ExecuteTime": {
     "end_time": "2022-07-04T14:57:39.009928Z",
     "start_time": "2022-07-04T14:57:39.006426Z"
    }
   },
   "outputs": [],
   "source": [
    "import itertools as it"
   ]
  },
  {
   "cell_type": "code",
   "execution_count": 32,
   "id": "5a021608",
   "metadata": {
    "ExecuteTime": {
     "end_time": "2022-07-04T15:27:30.977821Z",
     "start_time": "2022-07-04T15:27:30.963163Z"
    }
   },
   "outputs": [],
   "source": [
    "def shiftMin(result):\n",
    "    \n",
    "    previous = result.copy()\n",
    "    for _ in range(5):\n",
    "        result = result[1:] + [ result[0] ]\n",
    "        \n",
    "        if result < previous:\n",
    "            previous = result.copy()\n",
    "    \n",
    "    return previous"
   ]
  },
  {
   "cell_type": "code",
   "execution_count": 36,
   "id": "d01dc061",
   "metadata": {
    "ExecuteTime": {
     "end_time": "2022-07-04T15:31:12.421208Z",
     "start_time": "2022-07-04T15:31:12.415465Z"
    }
   },
   "outputs": [
    {
     "name": "stdout",
     "output_type": "stream",
     "text": [
      "[(6, 3, 5), (7, 5, 2), (8, 2, 4), (9, 4, 1), (10, 1, 3)]\n",
      "[(6, 5, 3), (10, 3, 1), (9, 1, 4), (8, 4, 2), (7, 2, 5)]\n",
      "[(6, 3, 5), (7, 5, 2), (8, 2, 4), (9, 4, 1), (10, 1, 3)]\n",
      "[(6, 5, 3), (10, 3, 1), (9, 1, 4), (8, 4, 2), (7, 2, 5)]\n",
      "[(6, 5, 3), (10, 3, 1), (9, 1, 4), (8, 4, 2), (7, 2, 5)]\n",
      "[(6, 3, 5), (7, 5, 2), (8, 2, 4), (9, 4, 1), (10, 1, 3)]\n",
      "[(6, 3, 5), (7, 5, 2), (8, 2, 4), (9, 4, 1), (10, 1, 3)]\n",
      "[(6, 5, 3), (10, 3, 1), (9, 1, 4), (8, 4, 2), (7, 2, 5)]\n",
      "[(6, 3, 5), (7, 5, 2), (8, 2, 4), (9, 4, 1), (10, 1, 3)]\n",
      "[(6, 5, 3), (10, 3, 1), (9, 1, 4), (8, 4, 2), (7, 2, 5)]\n",
      "[(2, 5, 9), (4, 9, 3), (6, 3, 7), (8, 7, 1), (10, 1, 5)]\n",
      "[(2, 9, 5), (10, 5, 1), (8, 1, 7), (6, 7, 3), (4, 3, 9)]\n",
      "[(2, 5, 9), (4, 9, 3), (6, 3, 7), (8, 7, 1), (10, 1, 5)]\n",
      "[(2, 9, 5), (10, 5, 1), (8, 1, 7), (6, 7, 3), (4, 3, 9)]\n",
      "[(2, 9, 5), (10, 5, 1), (8, 1, 7), (6, 7, 3), (4, 3, 9)]\n",
      "[(2, 5, 9), (4, 9, 3), (6, 3, 7), (8, 7, 1), (10, 1, 5)]\n",
      "[(2, 5, 9), (4, 9, 3), (6, 3, 7), (8, 7, 1), (10, 1, 5)]\n",
      "[(2, 9, 5), (10, 5, 1), (8, 1, 7), (6, 7, 3), (4, 3, 9)]\n",
      "[(2, 5, 9), (4, 9, 3), (6, 3, 7), (8, 7, 1), (10, 1, 5)]\n",
      "[(2, 9, 5), (10, 5, 1), (8, 1, 7), (6, 7, 3), (4, 3, 9)]\n"
     ]
    }
   ],
   "source": [
    "full = list(range(1, 11))\n",
    "\n",
    "results = []\n",
    "\n",
    "for inner in it.combinations(list(range(1, 10)), 5):\n",
    "    a, b, c, d, e = inner\n",
    "    if sum(inner) % 5 != 0: continue\n",
    "    k = sum(inner)//5 + 11\n",
    "    \n",
    "    remaining = [x for x in full if x not in inner]\n",
    "        \n",
    "    for a,b,c,d,e in it.permutations(inner):\n",
    "    \n",
    "        m = k - a - b\n",
    "        if m not in remaining: continue\n",
    "\n",
    "        n = k - b - c\n",
    "        if n not in remaining: continue\n",
    "\n",
    "        o = k - c - d\n",
    "        if o not in remaining: continue\n",
    "\n",
    "        p = k - d - e\n",
    "        if p not in remaining: continue\n",
    "\n",
    "        q = k - e - a\n",
    "        if q not in remaining: continue\n",
    "            \n",
    "        if len(set([a,b,c,d,e,m,n,o,p,q])) != 10:\n",
    "            continue\n",
    "\n",
    "        temp = [(m,a,b),(n,b,c),(o,c,d),(p,d,e),(q,e,a)]\n",
    "        temp = shiftMin(temp)\n",
    "        results.append(temp)\n",
    "            \n",
    "for r in results:\n",
    "    print(r)\n",
    "    "
   ]
  },
  {
   "cell_type": "code",
   "execution_count": 37,
   "id": "59d49438",
   "metadata": {
    "ExecuteTime": {
     "end_time": "2022-07-04T15:31:35.069961Z",
     "start_time": "2022-07-04T15:31:35.067287Z"
    }
   },
   "outputs": [],
   "source": [
    "results1 = []"
   ]
  },
  {
   "cell_type": "code",
   "execution_count": 38,
   "id": "c3372e81",
   "metadata": {
    "ExecuteTime": {
     "end_time": "2022-07-04T15:33:03.267898Z",
     "start_time": "2022-07-04T15:33:03.265655Z"
    }
   },
   "outputs": [],
   "source": [
    "def listToInt(l):\n",
    "    \n",
    "    vals = [ ''.join(list(map(str, t))) for t in l]\n",
    "    vals = ''.join(vals)\n",
    "    \n",
    "    return vals\n",
    "        "
   ]
  },
  {
   "cell_type": "code",
   "execution_count": 40,
   "id": "b386273d",
   "metadata": {
    "ExecuteTime": {
     "end_time": "2022-07-04T15:34:49.472996Z",
     "start_time": "2022-07-04T15:34:49.465292Z"
    }
   },
   "outputs": [],
   "source": [
    "results1 = list(map(listToInt, results))\n",
    "results1 = sorted(results1, reverse=True)"
   ]
  },
  {
   "cell_type": "code",
   "execution_count": 41,
   "id": "4915e987",
   "metadata": {
    "ExecuteTime": {
     "end_time": "2022-07-04T15:34:57.594029Z",
     "start_time": "2022-07-04T15:34:57.591226Z"
    }
   },
   "outputs": [
    {
     "data": {
      "text/plain": [
       "['6531031914842725',\n",
       " '6531031914842725',\n",
       " '6531031914842725',\n",
       " '6531031914842725',\n",
       " '6531031914842725',\n",
       " '6357528249411013',\n",
       " '6357528249411013',\n",
       " '6357528249411013',\n",
       " '6357528249411013',\n",
       " '6357528249411013',\n",
       " '2951051817673439',\n",
       " '2951051817673439',\n",
       " '2951051817673439',\n",
       " '2951051817673439',\n",
       " '2951051817673439',\n",
       " '2594936378711015',\n",
       " '2594936378711015',\n",
       " '2594936378711015',\n",
       " '2594936378711015',\n",
       " '2594936378711015']"
      ]
     },
     "execution_count": 41,
     "metadata": {},
     "output_type": "execute_result"
    }
   ],
   "source": [
    "results1"
   ]
  },
  {
   "cell_type": "code",
   "execution_count": null,
   "id": "0985ce27",
   "metadata": {},
   "outputs": [],
   "source": []
  }
 ],
 "metadata": {
  "hide_input": false,
  "kernelspec": {
   "display_name": "Python 3 (ipykernel)",
   "language": "python",
   "name": "python3"
  },
  "language_info": {
   "codemirror_mode": {
    "name": "ipython",
    "version": 3
   },
   "file_extension": ".py",
   "mimetype": "text/x-python",
   "name": "python",
   "nbconvert_exporter": "python",
   "pygments_lexer": "ipython3",
   "version": "3.10.5"
  },
  "toc": {
   "base_numbering": 1,
   "nav_menu": {},
   "number_sections": true,
   "sideBar": true,
   "skip_h1_title": false,
   "title_cell": "Table of Contents",
   "title_sidebar": "Contents",
   "toc_cell": false,
   "toc_position": {},
   "toc_section_display": true,
   "toc_window_display": false
  }
 },
 "nbformat": 4,
 "nbformat_minor": 5
}
