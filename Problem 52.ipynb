{
 "cells": [
  {
   "cell_type": "markdown",
   "id": "3bbd67ba",
   "metadata": {},
   "source": [
    "# Problem 52: Permuted multiples\n",
    "\n",
    "\n",
    "\n",
    "It can be seen that the number, 125874, and its double, 251748, contain exactly the same digits, but in a different order.\n",
    "\n",
    "Find the smallest positive integer, x, such that 2x, 3x, 4x, 5x, and 6x, contain the same digits.\n"
   ]
  },
  {
   "cell_type": "code",
   "execution_count": 12,
   "id": "bde01868",
   "metadata": {
    "ExecuteTime": {
     "end_time": "2022-03-14T14:38:45.405431Z",
     "start_time": "2022-03-14T14:38:45.395895Z"
    }
   },
   "outputs": [],
   "source": [
    "def numContainsMultiples(n: int) -> bool:\n",
    "    \n",
    "    nStr = ''.join(list(sorted( str(n) )))\n",
    "    \n",
    "    for i in [2,3,4,5,6]:\n",
    "        result  = ''.join(list(sorted(str(i*n))))\n",
    "        if result != nStr:\n",
    "            return False\n",
    "    \n",
    "    return True"
   ]
  },
  {
   "cell_type": "code",
   "execution_count": 13,
   "id": "26c8ce46",
   "metadata": {
    "ExecuteTime": {
     "end_time": "2022-03-14T14:38:47.967220Z",
     "start_time": "2022-03-14T14:38:47.781260Z"
    }
   },
   "outputs": [
    {
     "name": "stdout",
     "output_type": "stream",
     "text": [
      "142857\n"
     ]
    }
   ],
   "source": [
    "n = 1\n",
    "\n",
    "while True:\n",
    "    if numContainsMultiples(n):\n",
    "        print(n)\n",
    "        break\n",
    "    n += 1"
   ]
  },
  {
   "cell_type": "code",
   "execution_count": null,
   "id": "0cb49773",
   "metadata": {},
   "outputs": [],
   "source": []
  }
 ],
 "metadata": {
  "hide_input": false,
  "kernelspec": {
   "display_name": "Python 3",
   "language": "python",
   "name": "python3"
  },
  "language_info": {
   "codemirror_mode": {
    "name": "ipython",
    "version": 3
   },
   "file_extension": ".py",
   "mimetype": "text/x-python",
   "name": "python",
   "nbconvert_exporter": "python",
   "pygments_lexer": "ipython3",
   "version": "3.8.10"
  },
  "toc": {
   "base_numbering": 1,
   "nav_menu": {},
   "number_sections": true,
   "sideBar": true,
   "skip_h1_title": false,
   "title_cell": "Table of Contents",
   "title_sidebar": "Contents",
   "toc_cell": false,
   "toc_position": {},
   "toc_section_display": true,
   "toc_window_display": false
  }
 },
 "nbformat": 4,
 "nbformat_minor": 5
}
