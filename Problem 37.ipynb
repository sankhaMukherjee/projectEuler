{
 "cells": [
  {
   "cell_type": "markdown",
   "id": "61cacdbb",
   "metadata": {},
   "source": [
    "# Problem 37: Truncatable primes\n",
    "\n",
    "\n",
    "\n",
    "The number 3797 has an interesting property. Being prime itself, it is possible to continuously remove digits from left to right, and remain prime at each stage: 3797, 797, 97, and 7. Similarly we can work from right to left: 3797, 379, 37, and 3.\n",
    "\n",
    "Find the sum of the only eleven primes that are both truncatable from left to right and right to left.\n",
    "\n",
    "NOTE: 2, 3, 5, and 7 are not considered to be truncatable primes.\n"
   ]
  },
  {
   "cell_type": "code",
   "execution_count": 2,
   "id": "f019a89e",
   "metadata": {
    "ExecuteTime": {
     "end_time": "2022-01-31T08:52:44.226818Z",
     "start_time": "2022-01-31T08:52:44.131514Z"
    }
   },
   "outputs": [],
   "source": [
    "# get a set of primes\n",
    "# filter truncatable primes\n",
    "# add them\n",
    "import numpy as np"
   ]
  },
  {
   "cell_type": "code",
   "execution_count": 38,
   "id": "8f87a6a4",
   "metadata": {
    "ExecuteTime": {
     "end_time": "2022-01-31T09:10:06.274165Z",
     "start_time": "2022-01-31T09:09:41.234134Z"
    }
   },
   "outputs": [],
   "source": [
    "N = 1000000\n",
    "\n",
    "primes = []\n",
    "nums = np.arange(2, N+1)\n",
    "\n",
    "while len(nums) > 0:\n",
    "    primes.append( nums[0] )\n",
    "    mask = nums % nums[0] != 0\n",
    "    nums = nums[mask]"
   ]
  },
  {
   "cell_type": "code",
   "execution_count": 32,
   "id": "da3f4d4f",
   "metadata": {
    "ExecuteTime": {
     "end_time": "2022-01-31T09:07:45.567647Z",
     "start_time": "2022-01-31T09:07:45.559279Z"
    }
   },
   "outputs": [],
   "source": [
    "def useless( n: int ) -> bool:\n",
    "    \n",
    "    if n < 0:\n",
    "        False\n",
    "        \n",
    "    nStr = str(n)\n",
    "    for i in range(1,len(nStr)):\n",
    "        #print(nStr[i])\n",
    "        if nStr[i] in '024685':\n",
    "            return True\n",
    "    \n",
    "    return False"
   ]
  },
  {
   "cell_type": "code",
   "execution_count": 39,
   "id": "3a43477d",
   "metadata": {
    "ExecuteTime": {
     "end_time": "2022-01-31T09:10:15.577006Z",
     "start_time": "2022-01-31T09:10:15.512879Z"
    }
   },
   "outputs": [],
   "source": [
    "usefulPrimes = [p for p in primes if not useless(p)]"
   ]
  },
  {
   "cell_type": "code",
   "execution_count": 40,
   "id": "a48ee513",
   "metadata": {
    "ExecuteTime": {
     "end_time": "2022-01-31T09:10:18.552819Z",
     "start_time": "2022-01-31T09:10:18.550220Z"
    }
   },
   "outputs": [
    {
     "data": {
      "text/plain": [
       "(2543, 78498)"
      ]
     },
     "execution_count": 40,
     "metadata": {},
     "output_type": "execute_result"
    }
   ],
   "source": [
    "len(usefulPrimes), len(primes)"
   ]
  },
  {
   "cell_type": "code",
   "execution_count": 24,
   "id": "b31006c9",
   "metadata": {
    "ExecuteTime": {
     "end_time": "2022-01-31T09:02:33.466692Z",
     "start_time": "2022-01-31T09:02:33.457791Z"
    }
   },
   "outputs": [],
   "source": [
    "def isTrunc( n:int ) -> bool:\n",
    "    \n",
    "    if n < 10:\n",
    "        return False\n",
    "    \n",
    "    nStr = str(n)\n",
    "    for i in range(1,len(nStr)):\n",
    "        if int(nStr[i:]) not in primes:\n",
    "            return False\n",
    "        \n",
    "        if int(nStr[:-i]) not in primes:\n",
    "            return False\n",
    "    \n",
    "    return True"
   ]
  },
  {
   "cell_type": "code",
   "execution_count": 41,
   "id": "3ec2dfe1",
   "metadata": {
    "ExecuteTime": {
     "end_time": "2022-01-31T09:10:58.947830Z",
     "start_time": "2022-01-31T09:10:35.224793Z"
    }
   },
   "outputs": [
    {
     "data": {
      "text/plain": [
       "[23, 37, 53, 73, 313, 317, 373, 797, 3137, 3797, 739397]"
      ]
     },
     "execution_count": 41,
     "metadata": {},
     "output_type": "execute_result"
    }
   ],
   "source": [
    "list(filter(isTrunc, usefulPrimes))"
   ]
  },
  {
   "cell_type": "code",
   "execution_count": 42,
   "id": "930e589b",
   "metadata": {
    "ExecuteTime": {
     "end_time": "2022-01-31T09:11:26.799305Z",
     "start_time": "2022-01-31T09:11:26.791267Z"
    }
   },
   "outputs": [],
   "source": [
    "vals = [23, 37, 53, 73, 313, 317, 373, 797, 3137, 3797, 739397]"
   ]
  },
  {
   "cell_type": "code",
   "execution_count": 43,
   "id": "07bd951e",
   "metadata": {
    "ExecuteTime": {
     "end_time": "2022-01-31T09:11:31.728409Z",
     "start_time": "2022-01-31T09:11:31.725855Z"
    }
   },
   "outputs": [
    {
     "data": {
      "text/plain": [
       "748317"
      ]
     },
     "execution_count": 43,
     "metadata": {},
     "output_type": "execute_result"
    }
   ],
   "source": [
    "sum(vals)"
   ]
  },
  {
   "cell_type": "code",
   "execution_count": null,
   "id": "05ecab43",
   "metadata": {},
   "outputs": [],
   "source": []
  }
 ],
 "metadata": {
  "hide_input": false,
  "kernelspec": {
   "display_name": "Python 3",
   "language": "python",
   "name": "python3"
  },
  "language_info": {
   "codemirror_mode": {
    "name": "ipython",
    "version": 3
   },
   "file_extension": ".py",
   "mimetype": "text/x-python",
   "name": "python",
   "nbconvert_exporter": "python",
   "pygments_lexer": "ipython3",
   "version": "3.8.10"
  },
  "toc": {
   "base_numbering": 1,
   "nav_menu": {},
   "number_sections": true,
   "sideBar": true,
   "skip_h1_title": false,
   "title_cell": "Table of Contents",
   "title_sidebar": "Contents",
   "toc_cell": false,
   "toc_position": {},
   "toc_section_display": true,
   "toc_window_display": false
  }
 },
 "nbformat": 4,
 "nbformat_minor": 5
}
