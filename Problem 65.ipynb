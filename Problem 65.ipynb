{
 "cells": [
  {
   "cell_type": "markdown",
   "id": "5622d2e8",
   "metadata": {},
   "source": [
    "# Problem 65: Convergents of e\n"
   ]
  },
  {
   "cell_type": "code",
   "execution_count": 11,
   "id": "a5072030",
   "metadata": {
    "ExecuteTime": {
     "end_time": "2022-05-25T16:19:05.647759Z",
     "start_time": "2022-05-25T16:19:05.645992Z"
    }
   },
   "outputs": [],
   "source": [
    "import itertools as it"
   ]
  },
  {
   "cell_type": "code",
   "execution_count": 12,
   "id": "0687abd1",
   "metadata": {
    "ExecuteTime": {
     "end_time": "2022-05-25T16:19:06.473196Z",
     "start_time": "2022-05-25T16:19:06.471055Z"
    }
   },
   "outputs": [],
   "source": [
    "def getAs():\n",
    "    \n",
    "    for i in [2, 1]:\n",
    "        yield i\n",
    "    \n",
    "    k = 1\n",
    "    while True:\n",
    "        for i in [k*2, 1, 1]:\n",
    "            yield i\n",
    "        k +=1"
   ]
  },
  {
   "cell_type": "code",
   "execution_count": 27,
   "id": "073148f8",
   "metadata": {
    "ExecuteTime": {
     "end_time": "2022-05-25T16:24:53.533102Z",
     "start_time": "2022-05-25T16:24:53.530488Z"
    }
   },
   "outputs": [],
   "source": [
    "N = 10\n",
    "def getND(N=10):\n",
    "    aVals = list(it.islice(getAs(), N))\n",
    "    aValsReversed = list(reversed(aVals))\n",
    "    n, d = aValsReversed[0], 1\n",
    "    for a in aValsReversed[1:]:\n",
    "        n, d = a*n + d, n\n",
    "    return n, d"
   ]
  },
  {
   "cell_type": "code",
   "execution_count": 29,
   "id": "b003fcf0",
   "metadata": {
    "ExecuteTime": {
     "end_time": "2022-05-25T16:26:06.685069Z",
     "start_time": "2022-05-25T16:26:06.682587Z"
    }
   },
   "outputs": [
    {
     "name": "stdout",
     "output_type": "stream",
     "text": [
      "    1 | (2, 1)\n",
      "    2 | (3, 1)\n",
      "    3 | (8, 3)\n",
      "    4 | (11, 4)\n",
      "    5 | (19, 7)\n",
      "    6 | (87, 32)\n",
      "    7 | (106, 39)\n",
      "    8 | (193, 71)\n",
      "    9 | (1264, 465)\n",
      "   10 | (1457, 536)\n"
     ]
    }
   ],
   "source": [
    "for N in range(1, 11):\n",
    "    print(f'{N:>5d} | {getND(N)}')"
   ]
  },
  {
   "cell_type": "code",
   "execution_count": 31,
   "id": "3f783bb8",
   "metadata": {
    "ExecuteTime": {
     "end_time": "2022-05-25T16:27:06.260881Z",
     "start_time": "2022-05-25T16:27:06.259147Z"
    }
   },
   "outputs": [],
   "source": [
    "n, d = getND(100)"
   ]
  },
  {
   "cell_type": "code",
   "execution_count": 32,
   "id": "1a129f28",
   "metadata": {
    "ExecuteTime": {
     "end_time": "2022-05-25T16:27:11.673996Z",
     "start_time": "2022-05-25T16:27:11.671778Z"
    }
   },
   "outputs": [
    {
     "data": {
      "text/plain": [
       "2.718281828459045"
      ]
     },
     "execution_count": 32,
     "metadata": {},
     "output_type": "execute_result"
    }
   ],
   "source": [
    "n/d"
   ]
  },
  {
   "cell_type": "code",
   "execution_count": 36,
   "id": "de3ec63e",
   "metadata": {
    "ExecuteTime": {
     "end_time": "2022-05-25T16:27:53.450634Z",
     "start_time": "2022-05-25T16:27:53.448135Z"
    }
   },
   "outputs": [
    {
     "data": {
      "text/plain": [
       "'0.000000e+00'"
      ]
     },
     "execution_count": 36,
     "metadata": {},
     "output_type": "execute_result"
    }
   ],
   "source": [
    "import numpy as np\n",
    "f'{np.exp(1) - n/d:e}'"
   ]
  },
  {
   "cell_type": "code",
   "execution_count": 40,
   "id": "3e2ba23f",
   "metadata": {
    "ExecuteTime": {
     "end_time": "2022-05-25T16:28:35.864789Z",
     "start_time": "2022-05-25T16:28:35.862029Z"
    }
   },
   "outputs": [
    {
     "data": {
      "text/plain": [
       "272"
      ]
     },
     "execution_count": 40,
     "metadata": {},
     "output_type": "execute_result"
    }
   ],
   "source": [
    "sum(map(int, list(str(n))))"
   ]
  },
  {
   "cell_type": "code",
   "execution_count": null,
   "id": "9bf824f6",
   "metadata": {},
   "outputs": [],
   "source": []
  }
 ],
 "metadata": {
  "hide_input": false,
  "kernelspec": {
   "display_name": "Python 3",
   "language": "python",
   "name": "python3"
  },
  "language_info": {
   "codemirror_mode": {
    "name": "ipython",
    "version": 3
   },
   "file_extension": ".py",
   "mimetype": "text/x-python",
   "name": "python",
   "nbconvert_exporter": "python",
   "pygments_lexer": "ipython3",
   "version": "3.8.10"
  },
  "toc": {
   "base_numbering": 1,
   "nav_menu": {},
   "number_sections": true,
   "sideBar": true,
   "skip_h1_title": false,
   "title_cell": "Table of Contents",
   "title_sidebar": "Contents",
   "toc_cell": false,
   "toc_position": {},
   "toc_section_display": true,
   "toc_window_display": false
  }
 },
 "nbformat": 4,
 "nbformat_minor": 5
}
