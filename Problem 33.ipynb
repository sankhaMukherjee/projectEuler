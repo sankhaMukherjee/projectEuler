{
 "cells": [
  {
   "cell_type": "markdown",
   "id": "29d39a66",
   "metadata": {},
   "source": [
    "# Problem 33: Digit cancelling fractions\n",
    "\n",
    "\n",
    "The fraction $\\frac {49} {98}$ is a curious fraction, as an inexperienced mathematician in attempting to simplify it may incorrectly believe that 49/98 = 4/8, which is correct, is obtained by cancelling the 9s.\n",
    "\n",
    "We shall consider fractions like, 30/50 = 3/5, to be trivial examples.\n",
    "\n",
    "There are exactly four non-trivial examples of this type of fraction, less than one in value, and containing two digits in the numerator and denominator.\n",
    "\n",
    "If the product of these four fractions is given in its lowest common terms, find the value of the denominator.\n"
   ]
  },
  {
   "cell_type": "code",
   "execution_count": 15,
   "id": "0df100e2",
   "metadata": {
    "ExecuteTime": {
     "end_time": "2022-01-20T15:55:23.926768Z",
     "start_time": "2022-01-20T15:55:23.806638Z"
    }
   },
   "outputs": [],
   "source": [
    "import math\n",
    "import numpy as np"
   ]
  },
  {
   "cell_type": "code",
   "execution_count": 13,
   "id": "6a886476",
   "metadata": {
    "ExecuteTime": {
     "end_time": "2022-01-20T15:54:48.800082Z",
     "start_time": "2022-01-20T15:54:48.793898Z"
    }
   },
   "outputs": [
    {
     "name": "stdout",
     "output_type": "stream",
     "text": [
      "16 -> (1,6), 64 -> (6,4) [(1, 4) <-> (1, 4)] \n",
      "19 -> (1,9), 95 -> (9,5) [(1, 5) <-> (1, 5)] \n",
      "26 -> (2,6), 65 -> (6,5) [(2, 5) <-> (2, 5)] \n",
      "49 -> (4,9), 98 -> (9,8) [(1, 2) <-> (1, 2)] \n"
     ]
    }
   ],
   "source": [
    "nums, dens = [], []\n",
    "for num in range(11, 99):\n",
    "    for den in range(num+1, 100):\n",
    "        if num % 10 == 0: continue\n",
    "        if den % 10 == 0: continue\n",
    "            \n",
    "        num_1, num_2 = num//10, num%10\n",
    "        den_1, den_2 = den//10, den%10\n",
    "        \n",
    "        if (num_1 not in [den_1, den_2]) and (num_2 not in [den_1, den_2]): \n",
    "            continue\n",
    "            \n",
    "        if num_1 == den_1:\n",
    "            nFrac = (num_2, den_2)\n",
    "        elif num_1 == den_2:\n",
    "            nFrac = (num_2, den_1)\n",
    "        elif num_2 == den_1:\n",
    "            nFrac = (num_1, den_2)\n",
    "        else:\n",
    "            nFrac = (num_2, den_2)\n",
    "        \n",
    "            \n",
    "        g = math.gcd(num, den)\n",
    "        sFrac = (num//g, den//g)\n",
    "        \n",
    "        g = math.gcd( nFrac[0], nFrac[1] )\n",
    "        nFrac = ( nFrac[0]//g, nFrac[1]//g )\n",
    "        \n",
    "        if nFrac != sFrac: \n",
    "            continue\n",
    "        \n",
    "        nums.append(sFrac[0])\n",
    "        dens.append(sFrac[1])\n",
    "        \n",
    "        \n",
    "        print(f'{num} -> ({num_1},{num_2}), {den} -> ({den_1},{den_2}) [{sFrac} <-> {nFrac}] ')"
   ]
  },
  {
   "cell_type": "code",
   "execution_count": 14,
   "id": "de32cf8f",
   "metadata": {
    "ExecuteTime": {
     "end_time": "2022-01-20T15:54:55.071263Z",
     "start_time": "2022-01-20T15:54:55.068885Z"
    }
   },
   "outputs": [
    {
     "data": {
      "text/plain": [
       "([1, 1, 2, 1], [4, 5, 5, 2])"
      ]
     },
     "execution_count": 14,
     "metadata": {},
     "output_type": "execute_result"
    }
   ],
   "source": [
    "nums, dens"
   ]
  },
  {
   "cell_type": "code",
   "execution_count": 18,
   "id": "d189ff40",
   "metadata": {
    "ExecuteTime": {
     "end_time": "2022-01-20T15:56:03.483543Z",
     "start_time": "2022-01-20T15:56:03.481802Z"
    }
   },
   "outputs": [],
   "source": [
    "num = np.prod(nums)\n",
    "den = np.prod(dens)"
   ]
  },
  {
   "cell_type": "code",
   "execution_count": 19,
   "id": "6f834473",
   "metadata": {
    "ExecuteTime": {
     "end_time": "2022-01-20T15:56:08.609601Z",
     "start_time": "2022-01-20T15:56:08.607059Z"
    }
   },
   "outputs": [
    {
     "data": {
      "text/plain": [
       "(2, 200)"
      ]
     },
     "execution_count": 19,
     "metadata": {},
     "output_type": "execute_result"
    }
   ],
   "source": [
    "num, den"
   ]
  },
  {
   "cell_type": "code",
   "execution_count": null,
   "id": "68c49088",
   "metadata": {},
   "outputs": [],
   "source": []
  }
 ],
 "metadata": {
  "hide_input": false,
  "kernelspec": {
   "display_name": "Python 3",
   "language": "python",
   "name": "python3"
  },
  "language_info": {
   "codemirror_mode": {
    "name": "ipython",
    "version": 3
   },
   "file_extension": ".py",
   "mimetype": "text/x-python",
   "name": "python",
   "nbconvert_exporter": "python",
   "pygments_lexer": "ipython3",
   "version": "3.8.10"
  },
  "toc": {
   "base_numbering": 1,
   "nav_menu": {},
   "number_sections": true,
   "sideBar": true,
   "skip_h1_title": false,
   "title_cell": "Table of Contents",
   "title_sidebar": "Contents",
   "toc_cell": false,
   "toc_position": {},
   "toc_section_display": true,
   "toc_window_display": false
  }
 },
 "nbformat": 4,
 "nbformat_minor": 5
}
