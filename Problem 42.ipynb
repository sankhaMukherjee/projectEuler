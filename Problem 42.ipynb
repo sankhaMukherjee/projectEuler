{
 "cells": [
  {
   "cell_type": "markdown",
   "id": "ce06b3fb",
   "metadata": {},
   "source": [
    "# Problem 42: Coded triangle numbers\n",
    "\n",
    "\n",
    "\n",
    "The nth term of the sequence of triangle numbers is given by, $t_n$ = $\\frac 1 2 n(n+1)$; so the first ten triangle numbers are:\n",
    "\n",
    "    1, 3, 6, 10, 15, 21, 28, 36, 45, 55, ...\n",
    "\n",
    "By converting each letter in a word to a number corresponding to its alphabetical position and adding these values we form a word value. For example, the word value for SKY is 19 + 11 + 25 = 55 = t10. If the word value is a triangle number then we shall call the word a triangle word.\n",
    "\n",
    "Using words.txt (right click and 'Save Link/Target As...'), a 16K text file containing nearly two-thousand common English words, how many are triangle words?\n"
   ]
  },
  {
   "cell_type": "code",
   "execution_count": 18,
   "id": "9cc5f082",
   "metadata": {
    "ExecuteTime": {
     "end_time": "2022-02-08T13:30:55.170345Z",
     "start_time": "2022-02-08T13:30:55.168495Z"
    }
   },
   "outputs": [],
   "source": [
    "from math import sqrt, floor"
   ]
  },
  {
   "cell_type": "code",
   "execution_count": 8,
   "id": "8ffb1a69",
   "metadata": {
    "ExecuteTime": {
     "end_time": "2022-02-08T13:25:35.019448Z",
     "start_time": "2022-02-08T13:25:35.017296Z"
    }
   },
   "outputs": [
    {
     "name": "stdout",
     "output_type": "stream",
     "text": [
      "16345\n"
     ]
    }
   ],
   "source": [
    "with open('p042_words.txt') as f:\n",
    "    for l in f:\n",
    "        print(len(l))"
   ]
  },
  {
   "cell_type": "code",
   "execution_count": 12,
   "id": "249f4150",
   "metadata": {
    "ExecuteTime": {
     "end_time": "2022-02-08T13:26:38.508553Z",
     "start_time": "2022-02-08T13:26:38.505568Z"
    }
   },
   "outputs": [
    {
     "data": {
      "text/plain": [
       "1786"
      ]
     },
     "execution_count": 12,
     "metadata": {},
     "output_type": "execute_result"
    }
   ],
   "source": [
    "words = [ w.replace('\"', '') for w in l.split(',')]\n",
    "len(words)"
   ]
  },
  {
   "cell_type": "code",
   "execution_count": 21,
   "id": "3603edc3",
   "metadata": {
    "ExecuteTime": {
     "end_time": "2022-02-08T13:33:26.560742Z",
     "start_time": "2022-02-08T13:33:26.557164Z"
    }
   },
   "outputs": [],
   "source": [
    "def wordValue(word:str) -> int:\n",
    "    result = sum((c - 64) for c in map(ord, word))\n",
    "    return result\n",
    "\n",
    "def isTriangle(number:int) -> bool:\n",
    "    \n",
    "    number2 = number*2\n",
    "    \n",
    "    n = floor(sqrt(number2))\n",
    "    return n * (n+1) == number2\n",
    "    "
   ]
  },
  {
   "cell_type": "code",
   "execution_count": 25,
   "id": "f023092a",
   "metadata": {
    "ExecuteTime": {
     "end_time": "2022-02-08T13:35:14.375395Z",
     "start_time": "2022-02-08T13:35:14.372138Z"
    }
   },
   "outputs": [],
   "source": [
    "triangelWords = [word for word in words if isTriangle(wordValue(word))]"
   ]
  },
  {
   "cell_type": "code",
   "execution_count": 26,
   "id": "ca9f5d5e",
   "metadata": {
    "ExecuteTime": {
     "end_time": "2022-02-08T13:35:21.348930Z",
     "start_time": "2022-02-08T13:35:21.345292Z"
    }
   },
   "outputs": [
    {
     "data": {
      "text/plain": [
       "['A',\n",
       " 'ABILITY',\n",
       " 'ABOVE',\n",
       " 'ACCOMPANY',\n",
       " 'ACHIEVEMENT',\n",
       " 'AGENCY',\n",
       " 'AGREE',\n",
       " 'AIR',\n",
       " 'ALREADY',\n",
       " 'AN',\n",
       " 'ANCIENT',\n",
       " 'APPARENT',\n",
       " 'APPOINT',\n",
       " 'APPROACH',\n",
       " 'ASSUME',\n",
       " 'AT',\n",
       " 'ATMOSPHERE',\n",
       " 'BAG',\n",
       " 'BAND',\n",
       " 'BANK',\n",
       " 'BAR',\n",
       " 'BEAT',\n",
       " 'BELONG',\n",
       " 'BENEATH',\n",
       " 'BONE',\n",
       " 'BOTH',\n",
       " 'BRIDGE',\n",
       " 'BUILDING',\n",
       " 'BURN',\n",
       " 'CALL',\n",
       " 'CAPACITY',\n",
       " 'CAREFUL',\n",
       " 'CASE',\n",
       " 'CHILD',\n",
       " 'CIVIL',\n",
       " 'CLOSELY',\n",
       " 'COME',\n",
       " 'CONFIDENCE',\n",
       " 'CONFIRM',\n",
       " 'CONSERVATIVE',\n",
       " 'CONSTRUCTION',\n",
       " 'CONTENT',\n",
       " 'COULD',\n",
       " 'CURRENTLY',\n",
       " 'DECISION',\n",
       " 'DEFINITION',\n",
       " 'DEMOCRATIC',\n",
       " 'DEPUTY',\n",
       " 'DESPITE',\n",
       " 'DISTINCTION',\n",
       " 'EAST',\n",
       " 'EDGE',\n",
       " 'EDUCATIONAL',\n",
       " 'EFFECT',\n",
       " 'EQUIPMENT',\n",
       " 'EVENT',\n",
       " 'FACE',\n",
       " 'FAIL',\n",
       " 'FAMILY',\n",
       " 'FEEL',\n",
       " 'FIELD',\n",
       " 'FIGURE',\n",
       " 'FLOOR',\n",
       " 'FREEDOM',\n",
       " 'FUND',\n",
       " 'FUTURE',\n",
       " 'GENTLEMAN',\n",
       " 'GREY',\n",
       " 'GROWTH',\n",
       " 'HAIR',\n",
       " 'HAPPY',\n",
       " 'HAVE',\n",
       " 'HERE',\n",
       " 'HIS',\n",
       " 'IF',\n",
       " 'INCIDENT',\n",
       " 'INCREASED',\n",
       " 'INCREASINGLY',\n",
       " 'INDIVIDUAL',\n",
       " 'INSTRUMENT',\n",
       " 'INTEND',\n",
       " 'INTENTION',\n",
       " 'IS',\n",
       " 'LAW',\n",
       " 'LEADER',\n",
       " 'LEAVE',\n",
       " 'LENGTH',\n",
       " 'LESS',\n",
       " 'LITTLE',\n",
       " 'LOVELY',\n",
       " 'MAN',\n",
       " 'MATCH',\n",
       " 'MERELY',\n",
       " 'MILK',\n",
       " 'MISTAKE',\n",
       " 'MOVE',\n",
       " 'MUCH',\n",
       " 'NEED',\n",
       " 'NOTICE',\n",
       " 'OBJECT',\n",
       " 'OBJECTIVE',\n",
       " 'OF',\n",
       " 'OIL',\n",
       " 'ONLY',\n",
       " 'OTHER',\n",
       " 'OURSELVES',\n",
       " 'PART',\n",
       " 'PASS',\n",
       " 'PATH',\n",
       " 'PERFORM',\n",
       " 'PRISON',\n",
       " 'PRIVATE',\n",
       " 'PROBABLY',\n",
       " 'PROCEDURE',\n",
       " 'QUALITY',\n",
       " 'QUESTION',\n",
       " 'RANGE',\n",
       " 'READ',\n",
       " 'REAL',\n",
       " 'RELIEF',\n",
       " 'REMOVE',\n",
       " 'REPRESENT',\n",
       " 'REQUEST',\n",
       " 'RESPOND',\n",
       " 'RIDE',\n",
       " 'SAMPLE',\n",
       " 'SAY',\n",
       " 'SEAT',\n",
       " 'SECURITY',\n",
       " 'SINGLE',\n",
       " 'SKY',\n",
       " 'SOIL',\n",
       " 'SOLICITOR',\n",
       " 'SONG',\n",
       " 'SOUTHERN',\n",
       " 'SPIRIT',\n",
       " 'START',\n",
       " 'SUGGESTION',\n",
       " 'TALL',\n",
       " 'TAX',\n",
       " 'THEORY',\n",
       " 'THREATEN',\n",
       " 'THROUGHOUT',\n",
       " 'TITLE',\n",
       " 'TOOTH',\n",
       " 'TOTALLY',\n",
       " 'TRAVEL',\n",
       " 'TYPE',\n",
       " 'UNABLE',\n",
       " 'UNDERSTAND',\n",
       " 'UPON',\n",
       " 'USE',\n",
       " 'VARIOUS',\n",
       " 'VARY',\n",
       " 'VIDEO',\n",
       " 'WAGE',\n",
       " 'WARM',\n",
       " 'WATCH',\n",
       " 'WE',\n",
       " 'WHILST',\n",
       " 'WIDELY',\n",
       " 'WOMAN']"
      ]
     },
     "execution_count": 26,
     "metadata": {},
     "output_type": "execute_result"
    }
   ],
   "source": [
    "triangelWords"
   ]
  },
  {
   "cell_type": "code",
   "execution_count": 27,
   "id": "755b10df",
   "metadata": {
    "ExecuteTime": {
     "end_time": "2022-02-08T13:35:57.185398Z",
     "start_time": "2022-02-08T13:35:57.182952Z"
    }
   },
   "outputs": [
    {
     "data": {
      "text/plain": [
       "162"
      ]
     },
     "execution_count": 27,
     "metadata": {},
     "output_type": "execute_result"
    }
   ],
   "source": [
    "len(triangelWords)"
   ]
  },
  {
   "cell_type": "code",
   "execution_count": null,
   "id": "44b01853",
   "metadata": {},
   "outputs": [],
   "source": []
  }
 ],
 "metadata": {
  "hide_input": false,
  "kernelspec": {
   "display_name": "Python 3",
   "language": "python",
   "name": "python3"
  },
  "language_info": {
   "codemirror_mode": {
    "name": "ipython",
    "version": 3
   },
   "file_extension": ".py",
   "mimetype": "text/x-python",
   "name": "python",
   "nbconvert_exporter": "python",
   "pygments_lexer": "ipython3",
   "version": "3.8.10"
  },
  "toc": {
   "base_numbering": 1,
   "nav_menu": {},
   "number_sections": true,
   "sideBar": true,
   "skip_h1_title": false,
   "title_cell": "Table of Contents",
   "title_sidebar": "Contents",
   "toc_cell": false,
   "toc_position": {},
   "toc_section_display": true,
   "toc_window_display": false
  }
 },
 "nbformat": 4,
 "nbformat_minor": 5
}
