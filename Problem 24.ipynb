{
 "cells": [
  {
   "cell_type": "markdown",
   "id": "d16a2a28",
   "metadata": {},
   "source": [
    "# Problem 24: Lexicographic permutations\n",
    "\n",
    "\n",
    "A permutation is an ordered arrangement of objects. For example, 3124 is one possible permutation of the digits 1, 2, 3 and 4. If all of the permutations are listed numerically or alphabetically, we call it lexicographic order. The lexicographic permutations of 0, 1 and 2 are:\n",
    "\n",
    "012   021   102   120   201   210\n",
    "\n",
    "What is the millionth lexicographic permutation of the digits 0, 1, 2, 3, 4, 5, 6, 7, 8 and 9?\n"
   ]
  },
  {
   "cell_type": "code",
   "execution_count": 16,
   "id": "cc0a8508",
   "metadata": {
    "ExecuteTime": {
     "end_time": "2021-12-07T13:21:03.429166Z",
     "start_time": "2021-12-07T13:21:03.424413Z"
    }
   },
   "outputs": [],
   "source": [
    "nums = [0, 1, 2, 3]"
   ]
  },
  {
   "cell_type": "code",
   "execution_count": 2,
   "id": "c4680777",
   "metadata": {
    "ExecuteTime": {
     "end_time": "2021-12-07T13:15:46.657166Z",
     "start_time": "2021-12-07T13:15:46.655490Z"
    }
   },
   "outputs": [],
   "source": [
    "import itertools as it"
   ]
  },
  {
   "cell_type": "code",
   "execution_count": 9,
   "id": "e18e2015",
   "metadata": {
    "ExecuteTime": {
     "end_time": "2021-12-07T13:18:07.454498Z",
     "start_time": "2021-12-07T13:18:07.448747Z"
    }
   },
   "outputs": [
    {
     "data": {
      "text/plain": [
       "[(0, 1, 2, 3)]"
      ]
     },
     "execution_count": 9,
     "metadata": {},
     "output_type": "execute_result"
    }
   ],
   "source": [
    "list(it.islice(it.permutations(nums), 0, 1))"
   ]
  },
  {
   "cell_type": "code",
   "execution_count": 24,
   "id": "59db326b",
   "metadata": {
    "ExecuteTime": {
     "end_time": "2021-12-07T13:27:15.124017Z",
     "start_time": "2021-12-07T13:27:15.122276Z"
    }
   },
   "outputs": [],
   "source": [
    "nums = [0, 1, 2, 3, 4, 5, 6, 7, 8, 9]"
   ]
  },
  {
   "cell_type": "code",
   "execution_count": 22,
   "id": "73729a70",
   "metadata": {
    "ExecuteTime": {
     "end_time": "2021-12-07T13:26:55.537610Z",
     "start_time": "2021-12-07T13:26:55.534621Z"
    }
   },
   "outputs": [
    {
     "data": {
      "text/plain": [
       "(0, 1, 2, 3)"
      ]
     },
     "execution_count": 22,
     "metadata": {},
     "output_type": "execute_result"
    }
   ],
   "source": [
    "list(it.islice(it.permutations(nums), 0, 1))[0]"
   ]
  },
  {
   "cell_type": "code",
   "execution_count": 25,
   "id": "a69df00e",
   "metadata": {
    "ExecuteTime": {
     "end_time": "2021-12-07T13:27:17.177865Z",
     "start_time": "2021-12-07T13:27:17.150031Z"
    }
   },
   "outputs": [
    {
     "data": {
      "text/plain": [
       "(2, 7, 8, 3, 9, 1, 5, 4, 6, 0)"
      ]
     },
     "execution_count": 25,
     "metadata": {},
     "output_type": "execute_result"
    }
   ],
   "source": [
    "v = list(it.islice(it.permutations(nums), 1000000-1, 1000001))[0]\n",
    "v"
   ]
  },
  {
   "cell_type": "code",
   "execution_count": 26,
   "id": "110f5e56",
   "metadata": {
    "ExecuteTime": {
     "end_time": "2021-12-07T13:27:19.824932Z",
     "start_time": "2021-12-07T13:27:19.822370Z"
    }
   },
   "outputs": [
    {
     "data": {
      "text/plain": [
       "'2783915460'"
      ]
     },
     "execution_count": 26,
     "metadata": {},
     "output_type": "execute_result"
    }
   ],
   "source": [
    "''.join(map(str, v))"
   ]
  },
  {
   "cell_type": "code",
   "execution_count": 17,
   "id": "1b29e0dc",
   "metadata": {
    "ExecuteTime": {
     "end_time": "2021-12-07T13:21:09.223180Z",
     "start_time": "2021-12-07T13:21:09.219814Z"
    }
   },
   "outputs": [
    {
     "data": {
      "text/plain": [
       "[(0, 1, 2, 3),\n",
       " (0, 1, 3, 2),\n",
       " (0, 2, 1, 3),\n",
       " (0, 2, 3, 1),\n",
       " (0, 3, 1, 2),\n",
       " (0, 3, 2, 1),\n",
       " (1, 0, 2, 3),\n",
       " (1, 0, 3, 2),\n",
       " (1, 2, 0, 3),\n",
       " (1, 2, 3, 0),\n",
       " (1, 3, 0, 2),\n",
       " (1, 3, 2, 0),\n",
       " (2, 0, 1, 3),\n",
       " (2, 0, 3, 1),\n",
       " (2, 1, 0, 3),\n",
       " (2, 1, 3, 0),\n",
       " (2, 3, 0, 1),\n",
       " (2, 3, 1, 0),\n",
       " (3, 0, 1, 2),\n",
       " (3, 0, 2, 1),\n",
       " (3, 1, 0, 2),\n",
       " (3, 1, 2, 0),\n",
       " (3, 2, 0, 1),\n",
       " (3, 2, 1, 0)]"
      ]
     },
     "execution_count": 17,
     "metadata": {},
     "output_type": "execute_result"
    }
   ],
   "source": [
    "list(it.permutations(nums))"
   ]
  },
  {
   "cell_type": "code",
   "execution_count": 18,
   "id": "a70d2b73",
   "metadata": {
    "ExecuteTime": {
     "end_time": "2021-12-07T13:23:00.785111Z",
     "start_time": "2021-12-07T13:23:00.783377Z"
    }
   },
   "outputs": [],
   "source": [
    "import math"
   ]
  },
  {
   "cell_type": "code",
   "execution_count": 21,
   "id": "a1c1e7e1",
   "metadata": {
    "ExecuteTime": {
     "end_time": "2021-12-07T13:24:26.776549Z",
     "start_time": "2021-12-07T13:24:26.773250Z"
    }
   },
   "outputs": [
    {
     "data": {
      "text/plain": [
       "2"
      ]
     },
     "execution_count": 21,
     "metadata": {},
     "output_type": "execute_result"
    }
   ],
   "source": [
    "(1000000 - 1) // math.factorial(9)"
   ]
  },
  {
   "cell_type": "code",
   "execution_count": null,
   "id": "5e6da834",
   "metadata": {},
   "outputs": [],
   "source": []
  }
 ],
 "metadata": {
  "hide_input": false,
  "kernelspec": {
   "display_name": "Python 3",
   "language": "python",
   "name": "python3"
  },
  "language_info": {
   "codemirror_mode": {
    "name": "ipython",
    "version": 3
   },
   "file_extension": ".py",
   "mimetype": "text/x-python",
   "name": "python",
   "nbconvert_exporter": "python",
   "pygments_lexer": "ipython3",
   "version": "3.8.10"
  },
  "toc": {
   "base_numbering": 1,
   "nav_menu": {},
   "number_sections": true,
   "sideBar": true,
   "skip_h1_title": false,
   "title_cell": "Table of Contents",
   "title_sidebar": "Contents",
   "toc_cell": false,
   "toc_position": {},
   "toc_section_display": true,
   "toc_window_display": false
  }
 },
 "nbformat": 4,
 "nbformat_minor": 5
}
