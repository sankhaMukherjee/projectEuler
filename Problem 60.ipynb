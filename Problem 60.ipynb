{
 "cells": [
  {
   "cell_type": "markdown",
   "id": "fafde682",
   "metadata": {},
   "source": [
    "# Problem 60: Prime pair sets\n",
    "\n",
    "The primes 3, 7, 109, and 673, are quite remarkable. By taking any two primes and concatenating them in any order the result will always be prime. For example, taking 7 and 109, both 7109 and 1097 are prime. The sum of these four primes, 792, represents the lowest sum for a set of four primes with this property.\n",
    "\n",
    "Find the lowest sum for a set of five primes for which any two primes concatenate to produce another prime."
   ]
  },
  {
   "cell_type": "code",
   "execution_count": 81,
   "id": "656e99ac",
   "metadata": {
    "ExecuteTime": {
     "end_time": "2022-03-31T15:37:59.942684Z",
     "start_time": "2022-03-31T15:37:59.940703Z"
    }
   },
   "outputs": [],
   "source": [
    "import numpy as np\n",
    "from math import ceil\n",
    "import math\n",
    "import itertools as it\n",
    "from tqdm.notebook import tqdm\n",
    "from numba import jit\n",
    "from functools import lru_cache"
   ]
  },
  {
   "cell_type": "code",
   "execution_count": 4,
   "id": "676e5cf4",
   "metadata": {
    "ExecuteTime": {
     "end_time": "2022-03-31T14:35:15.010586Z",
     "start_time": "2022-03-31T14:35:15.007188Z"
    }
   },
   "outputs": [
    {
     "data": {
      "text/plain": [
       "(78498,\n",
       " array([999863, 999883, 999907, 999917, 999931, 999953, 999959, 999961,\n",
       "        999979, 999983]))"
      ]
     },
     "execution_count": 4,
     "metadata": {},
     "output_type": "execute_result"
    }
   ],
   "source": [
    "primes = np.load('primesToMil.npy')\n",
    "len(primes), primes[-10:]"
   ]
  },
  {
   "cell_type": "code",
   "execution_count": 63,
   "id": "24637114",
   "metadata": {
    "ExecuteTime": {
     "end_time": "2022-03-31T15:28:34.874724Z",
     "start_time": "2022-03-31T15:28:34.812833Z"
    },
    "code_folding": [
     1
    ]
   },
   "outputs": [],
   "source": [
    "@jit\n",
    "def isPrime(n:int) -> bool:\n",
    "    \n",
    "    if n ==2: return True\n",
    "    \n",
    "    for i in range(2, ceil(np.sqrt(n))+1):\n",
    "        if n%i == 0: return False\n",
    "    \n",
    "    return True"
   ]
  },
  {
   "cell_type": "code",
   "execution_count": 74,
   "id": "d4dee810",
   "metadata": {
    "ExecuteTime": {
     "end_time": "2022-03-31T15:31:24.765494Z",
     "start_time": "2022-03-31T15:31:24.763228Z"
    },
    "code_folding": []
   },
   "outputs": [],
   "source": [
    "maxPrime = primes[-1]\n",
    "@lru_cache\n",
    "def checkCondition(p1:int, p2:int) -> bool:\n",
    "    v1 = int(str(p1)+str(p2))\n",
    "    if not isPrime(v1):\n",
    "        return False\n",
    "    v1 = int(str(p2)+str(p1))\n",
    "    if not isPrime(v1):\n",
    "        return False\n",
    "    \n",
    "    return True"
   ]
  },
  {
   "cell_type": "code",
   "execution_count": 75,
   "id": "0a2f0fd6",
   "metadata": {
    "ExecuteTime": {
     "end_time": "2022-03-31T15:31:25.309331Z",
     "start_time": "2022-03-31T15:31:25.307245Z"
    },
    "code_folding": [
     1
    ]
   },
   "outputs": [],
   "source": [
    "from typing import Tuple\n",
    "\n",
    "def checkMergable(t1, t2) -> bool:\n",
    "    \n",
    "    if t1[1:] != t2[:-1]: return False\n",
    "    if (t1[0], t2[-1]) not in tups_2: return False\n",
    "    \n",
    "    return True"
   ]
  },
  {
   "cell_type": "code",
   "execution_count": 80,
   "id": "e3ff73f2",
   "metadata": {
    "ExecuteTime": {
     "end_time": "2022-03-31T15:36:07.804464Z",
     "start_time": "2022-03-31T15:35:28.215822Z"
    }
   },
   "outputs": [
    {
     "data": {
      "application/vnd.jupyter.widget-view+json": {
       "model_id": "c7a386dfbf83407597c08a4a9782ad90",
       "version_major": 2,
       "version_minor": 0
      },
      "text/plain": [
       "  0%|          | 0/1999000.0 [00:00<?, ?it/s]"
      ]
     },
     "metadata": {},
     "output_type": "display_data"
    },
    {
     "data": {
      "application/vnd.jupyter.widget-view+json": {
       "model_id": "f37402f4c8724f9ba902fd6a81d405e2",
       "version_major": 2,
       "version_minor": 0
      },
      "text/plain": [
       "  0%|          | 0/751071903 [00:00<?, ?it/s]"
      ]
     },
     "metadata": {},
     "output_type": "display_data"
    },
    {
     "ename": "KeyboardInterrupt",
     "evalue": "",
     "output_type": "error",
     "traceback": [
      "\u001b[0;31m---------------------------------------------------------------------------\u001b[0m",
      "\u001b[0;31mKeyboardInterrupt\u001b[0m                         Traceback (most recent call last)",
      "\u001b[0;32m<ipython-input-80-65e77cb783ce>\u001b[0m in \u001b[0;36m<module>\u001b[0;34m\u001b[0m\n\u001b[1;32m      2\u001b[0m \u001b[0mtups_2\u001b[0m \u001b[0;34m=\u001b[0m \u001b[0;34m[\u001b[0m\u001b[0;34m(\u001b[0m\u001b[0mp1\u001b[0m\u001b[0;34m,\u001b[0m \u001b[0mp2\u001b[0m\u001b[0;34m)\u001b[0m \u001b[0;32mfor\u001b[0m \u001b[0mp1\u001b[0m\u001b[0;34m,\u001b[0m \u001b[0mp2\u001b[0m \u001b[0;32min\u001b[0m \u001b[0mtqdm\u001b[0m\u001b[0;34m(\u001b[0m\u001b[0mit\u001b[0m\u001b[0;34m.\u001b[0m\u001b[0mcombinations\u001b[0m\u001b[0;34m(\u001b[0m\u001b[0mprimes\u001b[0m\u001b[0;34m[\u001b[0m\u001b[0;34m:\u001b[0m\u001b[0mN\u001b[0m\u001b[0;34m]\u001b[0m\u001b[0;34m,\u001b[0m \u001b[0;36m2\u001b[0m\u001b[0;34m)\u001b[0m\u001b[0;34m,\u001b[0m \u001b[0mtotal\u001b[0m\u001b[0;34m=\u001b[0m\u001b[0;34m(\u001b[0m\u001b[0mN\u001b[0m\u001b[0;34m*\u001b[0m\u001b[0;34m(\u001b[0m\u001b[0mN\u001b[0m\u001b[0;34m-\u001b[0m\u001b[0;36m1\u001b[0m\u001b[0;34m)\u001b[0m\u001b[0;34m/\u001b[0m\u001b[0;36m2\u001b[0m\u001b[0;34m)\u001b[0m\u001b[0;34m)\u001b[0m \u001b[0;32mif\u001b[0m \u001b[0mcheckCondition\u001b[0m\u001b[0;34m(\u001b[0m\u001b[0mp1\u001b[0m\u001b[0;34m,\u001b[0m \u001b[0mp2\u001b[0m\u001b[0;34m)\u001b[0m\u001b[0;34m]\u001b[0m\u001b[0;34m\u001b[0m\u001b[0;34m\u001b[0m\u001b[0m\n\u001b[1;32m      3\u001b[0m \u001b[0mN\u001b[0m \u001b[0;34m=\u001b[0m \u001b[0mlen\u001b[0m\u001b[0;34m(\u001b[0m\u001b[0mtups_2\u001b[0m\u001b[0;34m)\u001b[0m\u001b[0;34m\u001b[0m\u001b[0;34m\u001b[0m\u001b[0m\n\u001b[0;32m----> 4\u001b[0;31m \u001b[0mtups_3\u001b[0m \u001b[0;34m=\u001b[0m \u001b[0;34m[\u001b[0m \u001b[0mlist\u001b[0m\u001b[0;34m(\u001b[0m\u001b[0mt1\u001b[0m\u001b[0;34m)\u001b[0m\u001b[0;34m+\u001b[0m\u001b[0;34m[\u001b[0m\u001b[0mt2\u001b[0m\u001b[0;34m[\u001b[0m\u001b[0;34m-\u001b[0m\u001b[0;36m1\u001b[0m\u001b[0;34m]\u001b[0m\u001b[0;34m]\u001b[0m \u001b[0;32mfor\u001b[0m \u001b[0mt1\u001b[0m\u001b[0;34m,\u001b[0m \u001b[0mt2\u001b[0m \u001b[0;32min\u001b[0m \u001b[0mtqdm\u001b[0m\u001b[0;34m(\u001b[0m\u001b[0mit\u001b[0m\u001b[0;34m.\u001b[0m\u001b[0mcombinations\u001b[0m\u001b[0;34m(\u001b[0m\u001b[0mtups_2\u001b[0m\u001b[0;34m,\u001b[0m \u001b[0;36m2\u001b[0m\u001b[0;34m)\u001b[0m\u001b[0;34m,\u001b[0m \u001b[0mtotal\u001b[0m\u001b[0;34m=\u001b[0m\u001b[0;34m(\u001b[0m\u001b[0mN\u001b[0m\u001b[0;34m*\u001b[0m\u001b[0;34m(\u001b[0m\u001b[0mN\u001b[0m\u001b[0;34m-\u001b[0m\u001b[0;36m1\u001b[0m\u001b[0;34m)\u001b[0m\u001b[0;34m)\u001b[0m\u001b[0;34m//\u001b[0m\u001b[0;36m2\u001b[0m\u001b[0;34m)\u001b[0m \u001b[0;32mif\u001b[0m \u001b[0mcheckMergable\u001b[0m\u001b[0;34m(\u001b[0m\u001b[0mt1\u001b[0m\u001b[0;34m,\u001b[0m \u001b[0mt2\u001b[0m\u001b[0;34m)\u001b[0m \u001b[0;34m]\u001b[0m\u001b[0;34m\u001b[0m\u001b[0;34m\u001b[0m\u001b[0m\n\u001b[0m\u001b[1;32m      5\u001b[0m \u001b[0mN\u001b[0m \u001b[0;34m=\u001b[0m \u001b[0mlen\u001b[0m\u001b[0;34m(\u001b[0m\u001b[0mtups_3\u001b[0m\u001b[0;34m)\u001b[0m\u001b[0;34m\u001b[0m\u001b[0;34m\u001b[0m\u001b[0m\n\u001b[1;32m      6\u001b[0m \u001b[0mtups_4\u001b[0m \u001b[0;34m=\u001b[0m \u001b[0;34m[\u001b[0m \u001b[0mlist\u001b[0m\u001b[0;34m(\u001b[0m\u001b[0mt1\u001b[0m\u001b[0;34m)\u001b[0m\u001b[0;34m+\u001b[0m\u001b[0;34m[\u001b[0m\u001b[0mt2\u001b[0m\u001b[0;34m[\u001b[0m\u001b[0;34m-\u001b[0m\u001b[0;36m1\u001b[0m\u001b[0;34m]\u001b[0m\u001b[0;34m]\u001b[0m \u001b[0;32mfor\u001b[0m \u001b[0mt1\u001b[0m\u001b[0;34m,\u001b[0m \u001b[0mt2\u001b[0m \u001b[0;32min\u001b[0m \u001b[0mtqdm\u001b[0m\u001b[0;34m(\u001b[0m\u001b[0mit\u001b[0m\u001b[0;34m.\u001b[0m\u001b[0mcombinations\u001b[0m\u001b[0;34m(\u001b[0m\u001b[0mtups_3\u001b[0m\u001b[0;34m,\u001b[0m \u001b[0;36m2\u001b[0m\u001b[0;34m)\u001b[0m\u001b[0;34m,\u001b[0m \u001b[0mtotal\u001b[0m\u001b[0;34m=\u001b[0m\u001b[0;34m(\u001b[0m\u001b[0mN\u001b[0m\u001b[0;34m*\u001b[0m\u001b[0;34m(\u001b[0m\u001b[0mN\u001b[0m\u001b[0;34m-\u001b[0m\u001b[0;36m1\u001b[0m\u001b[0;34m)\u001b[0m\u001b[0;34m)\u001b[0m\u001b[0;34m//\u001b[0m\u001b[0;36m2\u001b[0m\u001b[0;34m)\u001b[0m \u001b[0;32mif\u001b[0m \u001b[0mcheckMergable\u001b[0m\u001b[0;34m(\u001b[0m\u001b[0mt1\u001b[0m\u001b[0;34m,\u001b[0m \u001b[0mt2\u001b[0m\u001b[0;34m)\u001b[0m \u001b[0;34m]\u001b[0m\u001b[0;34m\u001b[0m\u001b[0;34m\u001b[0m\u001b[0m\n",
      "\u001b[0;32m<ipython-input-80-65e77cb783ce>\u001b[0m in \u001b[0;36m<listcomp>\u001b[0;34m(.0)\u001b[0m\n\u001b[1;32m      2\u001b[0m \u001b[0mtups_2\u001b[0m \u001b[0;34m=\u001b[0m \u001b[0;34m[\u001b[0m\u001b[0;34m(\u001b[0m\u001b[0mp1\u001b[0m\u001b[0;34m,\u001b[0m \u001b[0mp2\u001b[0m\u001b[0;34m)\u001b[0m \u001b[0;32mfor\u001b[0m \u001b[0mp1\u001b[0m\u001b[0;34m,\u001b[0m \u001b[0mp2\u001b[0m \u001b[0;32min\u001b[0m \u001b[0mtqdm\u001b[0m\u001b[0;34m(\u001b[0m\u001b[0mit\u001b[0m\u001b[0;34m.\u001b[0m\u001b[0mcombinations\u001b[0m\u001b[0;34m(\u001b[0m\u001b[0mprimes\u001b[0m\u001b[0;34m[\u001b[0m\u001b[0;34m:\u001b[0m\u001b[0mN\u001b[0m\u001b[0;34m]\u001b[0m\u001b[0;34m,\u001b[0m \u001b[0;36m2\u001b[0m\u001b[0;34m)\u001b[0m\u001b[0;34m,\u001b[0m \u001b[0mtotal\u001b[0m\u001b[0;34m=\u001b[0m\u001b[0;34m(\u001b[0m\u001b[0mN\u001b[0m\u001b[0;34m*\u001b[0m\u001b[0;34m(\u001b[0m\u001b[0mN\u001b[0m\u001b[0;34m-\u001b[0m\u001b[0;36m1\u001b[0m\u001b[0;34m)\u001b[0m\u001b[0;34m/\u001b[0m\u001b[0;36m2\u001b[0m\u001b[0;34m)\u001b[0m\u001b[0;34m)\u001b[0m \u001b[0;32mif\u001b[0m \u001b[0mcheckCondition\u001b[0m\u001b[0;34m(\u001b[0m\u001b[0mp1\u001b[0m\u001b[0;34m,\u001b[0m \u001b[0mp2\u001b[0m\u001b[0;34m)\u001b[0m\u001b[0;34m]\u001b[0m\u001b[0;34m\u001b[0m\u001b[0;34m\u001b[0m\u001b[0m\n\u001b[1;32m      3\u001b[0m \u001b[0mN\u001b[0m \u001b[0;34m=\u001b[0m \u001b[0mlen\u001b[0m\u001b[0;34m(\u001b[0m\u001b[0mtups_2\u001b[0m\u001b[0;34m)\u001b[0m\u001b[0;34m\u001b[0m\u001b[0;34m\u001b[0m\u001b[0m\n\u001b[0;32m----> 4\u001b[0;31m \u001b[0mtups_3\u001b[0m \u001b[0;34m=\u001b[0m \u001b[0;34m[\u001b[0m \u001b[0mlist\u001b[0m\u001b[0;34m(\u001b[0m\u001b[0mt1\u001b[0m\u001b[0;34m)\u001b[0m\u001b[0;34m+\u001b[0m\u001b[0;34m[\u001b[0m\u001b[0mt2\u001b[0m\u001b[0;34m[\u001b[0m\u001b[0;34m-\u001b[0m\u001b[0;36m1\u001b[0m\u001b[0;34m]\u001b[0m\u001b[0;34m]\u001b[0m \u001b[0;32mfor\u001b[0m \u001b[0mt1\u001b[0m\u001b[0;34m,\u001b[0m \u001b[0mt2\u001b[0m \u001b[0;32min\u001b[0m \u001b[0mtqdm\u001b[0m\u001b[0;34m(\u001b[0m\u001b[0mit\u001b[0m\u001b[0;34m.\u001b[0m\u001b[0mcombinations\u001b[0m\u001b[0;34m(\u001b[0m\u001b[0mtups_2\u001b[0m\u001b[0;34m,\u001b[0m \u001b[0;36m2\u001b[0m\u001b[0;34m)\u001b[0m\u001b[0;34m,\u001b[0m \u001b[0mtotal\u001b[0m\u001b[0;34m=\u001b[0m\u001b[0;34m(\u001b[0m\u001b[0mN\u001b[0m\u001b[0;34m*\u001b[0m\u001b[0;34m(\u001b[0m\u001b[0mN\u001b[0m\u001b[0;34m-\u001b[0m\u001b[0;36m1\u001b[0m\u001b[0;34m)\u001b[0m\u001b[0;34m)\u001b[0m\u001b[0;34m//\u001b[0m\u001b[0;36m2\u001b[0m\u001b[0;34m)\u001b[0m \u001b[0;32mif\u001b[0m \u001b[0mcheckMergable\u001b[0m\u001b[0;34m(\u001b[0m\u001b[0mt1\u001b[0m\u001b[0;34m,\u001b[0m \u001b[0mt2\u001b[0m\u001b[0;34m)\u001b[0m \u001b[0;34m]\u001b[0m\u001b[0;34m\u001b[0m\u001b[0;34m\u001b[0m\u001b[0m\n\u001b[0m\u001b[1;32m      5\u001b[0m \u001b[0mN\u001b[0m \u001b[0;34m=\u001b[0m \u001b[0mlen\u001b[0m\u001b[0;34m(\u001b[0m\u001b[0mtups_3\u001b[0m\u001b[0;34m)\u001b[0m\u001b[0;34m\u001b[0m\u001b[0;34m\u001b[0m\u001b[0m\n\u001b[1;32m      6\u001b[0m \u001b[0mtups_4\u001b[0m \u001b[0;34m=\u001b[0m \u001b[0;34m[\u001b[0m \u001b[0mlist\u001b[0m\u001b[0;34m(\u001b[0m\u001b[0mt1\u001b[0m\u001b[0;34m)\u001b[0m\u001b[0;34m+\u001b[0m\u001b[0;34m[\u001b[0m\u001b[0mt2\u001b[0m\u001b[0;34m[\u001b[0m\u001b[0;34m-\u001b[0m\u001b[0;36m1\u001b[0m\u001b[0;34m]\u001b[0m\u001b[0;34m]\u001b[0m \u001b[0;32mfor\u001b[0m \u001b[0mt1\u001b[0m\u001b[0;34m,\u001b[0m \u001b[0mt2\u001b[0m \u001b[0;32min\u001b[0m \u001b[0mtqdm\u001b[0m\u001b[0;34m(\u001b[0m\u001b[0mit\u001b[0m\u001b[0;34m.\u001b[0m\u001b[0mcombinations\u001b[0m\u001b[0;34m(\u001b[0m\u001b[0mtups_3\u001b[0m\u001b[0;34m,\u001b[0m \u001b[0;36m2\u001b[0m\u001b[0;34m)\u001b[0m\u001b[0;34m,\u001b[0m \u001b[0mtotal\u001b[0m\u001b[0;34m=\u001b[0m\u001b[0;34m(\u001b[0m\u001b[0mN\u001b[0m\u001b[0;34m*\u001b[0m\u001b[0;34m(\u001b[0m\u001b[0mN\u001b[0m\u001b[0;34m-\u001b[0m\u001b[0;36m1\u001b[0m\u001b[0;34m)\u001b[0m\u001b[0;34m)\u001b[0m\u001b[0;34m//\u001b[0m\u001b[0;36m2\u001b[0m\u001b[0;34m)\u001b[0m \u001b[0;32mif\u001b[0m \u001b[0mcheckMergable\u001b[0m\u001b[0;34m(\u001b[0m\u001b[0mt1\u001b[0m\u001b[0;34m,\u001b[0m \u001b[0mt2\u001b[0m\u001b[0;34m)\u001b[0m \u001b[0;34m]\u001b[0m\u001b[0;34m\u001b[0m\u001b[0;34m\u001b[0m\u001b[0m\n",
      "\u001b[0;32m<ipython-input-75-b3a65272dbc9>\u001b[0m in \u001b[0;36mcheckMergable\u001b[0;34m(t1, t2)\u001b[0m\n\u001b[1;32m      4\u001b[0m \u001b[0;34m\u001b[0m\u001b[0m\n\u001b[1;32m      5\u001b[0m     \u001b[0;32mif\u001b[0m \u001b[0mt1\u001b[0m\u001b[0;34m[\u001b[0m\u001b[0;36m1\u001b[0m\u001b[0;34m:\u001b[0m\u001b[0;34m]\u001b[0m \u001b[0;34m!=\u001b[0m \u001b[0mt2\u001b[0m\u001b[0;34m[\u001b[0m\u001b[0;34m:\u001b[0m\u001b[0;34m-\u001b[0m\u001b[0;36m1\u001b[0m\u001b[0;34m]\u001b[0m\u001b[0;34m:\u001b[0m \u001b[0;32mreturn\u001b[0m \u001b[0;32mFalse\u001b[0m\u001b[0;34m\u001b[0m\u001b[0;34m\u001b[0m\u001b[0m\n\u001b[0;32m----> 6\u001b[0;31m     \u001b[0;32mif\u001b[0m \u001b[0;34m(\u001b[0m\u001b[0mt1\u001b[0m\u001b[0;34m[\u001b[0m\u001b[0;36m0\u001b[0m\u001b[0;34m]\u001b[0m\u001b[0;34m,\u001b[0m \u001b[0mt2\u001b[0m\u001b[0;34m[\u001b[0m\u001b[0;34m-\u001b[0m\u001b[0;36m1\u001b[0m\u001b[0;34m]\u001b[0m\u001b[0;34m)\u001b[0m \u001b[0;32mnot\u001b[0m \u001b[0;32min\u001b[0m \u001b[0mtups_2\u001b[0m\u001b[0;34m:\u001b[0m \u001b[0;32mreturn\u001b[0m \u001b[0;32mFalse\u001b[0m\u001b[0;34m\u001b[0m\u001b[0;34m\u001b[0m\u001b[0m\n\u001b[0m\u001b[1;32m      7\u001b[0m \u001b[0;34m\u001b[0m\u001b[0m\n\u001b[1;32m      8\u001b[0m     \u001b[0;32mreturn\u001b[0m \u001b[0;32mTrue\u001b[0m\u001b[0;34m\u001b[0m\u001b[0;34m\u001b[0m\u001b[0m\n",
      "\u001b[0;31mKeyboardInterrupt\u001b[0m: "
     ]
    }
   ],
   "source": [
    "N = 2000\n",
    "tups_2 = [(p1, p2) for p1, p2 in tqdm(it.combinations(primes[:N], 2), total=(N*(N-1)/2)) if checkCondition(p1, p2)]\n",
    "N = len(tups_2)\n",
    "tups_3 = [ list(t1)+[t2[-1]] for t1, t2 in tqdm(it.combinations(tups_2, 2), total=(N*(N-1))//2) if checkMergable(t1, t2) ]\n",
    "N = len(tups_3)\n",
    "tups_4 = [ list(t1)+[t2[-1]] for t1, t2 in tqdm(it.combinations(tups_3, 2), total=(N*(N-1))//2) if checkMergable(t1, t2) ]\n",
    "N = len(tups_4)\n",
    "tups_5 = [ list(t1)+[t2[-1]] for t1, t2 in tqdm(it.combinations(tups_4, 2), total=(N*(N-1))//2) if checkMergable(t1, t2) ]\n"
   ]
  },
  {
   "cell_type": "code",
   "execution_count": 79,
   "id": "d34968d8",
   "metadata": {
    "ExecuteTime": {
     "end_time": "2022-03-31T15:32:42.036101Z",
     "start_time": "2022-03-31T15:32:42.026968Z"
    }
   },
   "outputs": [
    {
     "data": {
      "text/plain": [
       "([[3, 7, 109, 673],\n",
       "  [3, 7, 541, 4159],\n",
       "  [3, 11, 2069, 2297],\n",
       "  [3, 17, 449, 2069],\n",
       "  [3, 17, 449, 6353],\n",
       "  [3, 17, 449, 6599],\n",
       "  [3, 17, 2069, 2297],\n",
       "  [3, 31, 1237, 6571],\n",
       "  [3, 37, 67, 2377],\n",
       "  [3, 37, 67, 5923],\n",
       "  [3, 37, 2377, 4159],\n",
       "  [3, 73, 6793, 7159],\n",
       "  [3, 467, 617, 4253],\n",
       "  [3, 2503, 5281, 5869],\n",
       "  [7, 19, 97, 3727],\n",
       "  [7, 19, 97, 4507],\n",
       "  [7, 19, 1249, 3727],\n",
       "  [7, 19, 3727, 5659],\n",
       "  [7, 61, 1693, 3181],\n",
       "  [7, 127, 6949, 7723],\n",
       "  [7, 433, 1471, 3613],\n",
       "  [7, 829, 2671, 3361],\n",
       "  [7, 1237, 1549, 3019],\n",
       "  [7, 1249, 3727, 6949],\n",
       "  [7, 1249, 4441, 6949],\n",
       "  [7, 2089, 2953, 3181],\n",
       "  [7, 2089, 3181, 4219],\n",
       "  [7, 2269, 3613, 5821],\n",
       "  [11, 23, 743, 1871],\n",
       "  [11, 23, 6329, 7331],\n",
       "  [11, 239, 1049, 1847],\n",
       "  [11, 239, 1091, 1847],\n",
       "  [11, 239, 3467, 5807],\n",
       "  [11, 353, 4967, 5849],\n",
       "  [11, 1103, 5807, 6329],\n",
       "  [11, 2297, 4967, 7127],\n",
       "  [11, 4013, 4643, 5153],\n",
       "  [11, 4643, 5153, 5849],\n",
       "  [13, 19, 5077, 6043],\n",
       "  [13, 61, 2383, 5431],\n",
       "  [13, 5197, 5701, 6733],\n",
       "  [17, 2741, 3917, 4649],\n",
       "  [17, 2741, 3917, 6899],\n",
       "  [19, 31, 1237, 6271],\n",
       "  [23, 47, 1481, 4211],\n",
       "  [23, 47, 2333, 5927],\n",
       "  [23, 47, 4211, 5483],\n",
       "  [23, 89, 2357, 6323],\n",
       "  [23, 311, 677, 827],\n",
       "  [23, 677, 827, 1871],\n",
       "  [23, 743, 1871, 6323],\n",
       "  [23, 1607, 5009, 5849],\n",
       "  [23, 2003, 3557, 5051],\n",
       "  [23, 2819, 3617, 7607],\n",
       "  [29, 71, 5237, 6563],\n",
       "  [29, 3767, 4523, 6911],\n",
       "  [31, 1123, 2029, 2281],\n",
       "  [31, 1123, 2029, 5281],\n",
       "  [31, 3037, 3331, 5701],\n",
       "  [37, 991, 2269, 3613],\n",
       "  [37, 1549, 2707, 3463],\n",
       "  [37, 2707, 4909, 5857],\n",
       "  [41, 1013, 7187, 7331],\n",
       "  [43, 613, 6547, 6967],\n",
       "  [47, 251, 5147, 5273],\n",
       "  [47, 947, 1439, 4931],\n",
       "  [47, 2333, 5297, 6701],\n",
       "  [67, 619, 5419, 7687],\n",
       "  [71, 821, 1163, 5849],\n",
       "  [79, 967, 1117, 3511],\n",
       "  [79, 1801, 3253, 3547],\n",
       "  [83, 449, 6491, 7583],\n",
       "  [89, 107, 1061, 4973],\n",
       "  [97, 379, 2221, 5581],\n",
       "  [97, 2221, 4513, 5581],\n",
       "  [101, 2633, 2699, 4337],\n",
       "  [127, 2281, 6361, 6481],\n",
       "  [131, 797, 2411, 5519],\n",
       "  [151, 4801, 5197, 6733],\n",
       "  [163, 367, 4597, 5563],\n",
       "  [199, 3259, 4327, 5107],\n",
       "  [229, 613, 4021, 6733],\n",
       "  [239, 1049, 1847, 7523],\n",
       "  [269, 617, 887, 2741],\n",
       "  [283, 1321, 3001, 6607],\n",
       "  [313, 1231, 4231, 6037],\n",
       "  [313, 1747, 4231, 6037],\n",
       "  [397, 907, 3919, 4567],\n",
       "  [401, 2441, 3671, 7691],\n",
       "  [401, 3407, 3671, 7691],\n",
       "  [419, 443, 7757, 7883],\n",
       "  [419, 449, 563, 5297],\n",
       "  [467, 587, 617, 6323],\n",
       "  [521, 1523, 2447, 7907],\n",
       "  [677, 2309, 4451, 6257],\n",
       "  [809, 1361, 2141, 3947],\n",
       "  [809, 3947, 4679, 5393],\n",
       "  [967, 5623, 6421, 6949],\n",
       "  [1087, 5413, 5569, 6451],\n",
       "  [1103, 3041, 6317, 7529],\n",
       "  [1123, 3919, 5281, 7489],\n",
       "  [1153, 1699, 6691, 7507],\n",
       "  [1217, 2309, 5081, 7817],\n",
       "  [1289, 2801, 4733, 7919],\n",
       "  [1319, 2243, 2789, 4133],\n",
       "  [1439, 2003, 5657, 6983],\n",
       "  [1439, 3833, 5657, 6983],\n",
       "  [1447, 2803, 3769, 4051],\n",
       "  [1451, 2699, 3413, 3761],\n",
       "  [1523, 2447, 5813, 7907],\n",
       "  [1523, 3203, 5279, 6827],\n",
       "  [1583, 1877, 2447, 6113],\n",
       "  [1621, 2767, 3187, 7477],\n",
       "  [1753, 1951, 3547, 3643],\n",
       "  [1783, 2953, 3643, 4273],\n",
       "  [2039, 3299, 3767, 4523],\n",
       "  [2063, 2243, 5477, 6599],\n",
       "  [2269, 4057, 4663, 7879],\n",
       "  [2593, 3307, 5443, 7039],\n",
       "  [2801, 4733, 6689, 7331],\n",
       "  [2897, 4721, 4877, 5501],\n",
       "  [3391, 3433, 3643, 6607],\n",
       "  [5023, 5443, 6841, 7039],\n",
       "  [5443, 6637, 6841, 7039]],\n",
       " [])"
      ]
     },
     "execution_count": 79,
     "metadata": {},
     "output_type": "execute_result"
    }
   ],
   "source": [
    "tups_4, tups_5"
   ]
  },
  {
   "cell_type": "code",
   "execution_count": null,
   "id": "7801d7c1",
   "metadata": {},
   "outputs": [],
   "source": []
  }
 ],
 "metadata": {
  "hide_input": false,
  "kernelspec": {
   "display_name": "Python 3",
   "language": "python",
   "name": "python3"
  },
  "language_info": {
   "codemirror_mode": {
    "name": "ipython",
    "version": 3
   },
   "file_extension": ".py",
   "mimetype": "text/x-python",
   "name": "python",
   "nbconvert_exporter": "python",
   "pygments_lexer": "ipython3",
   "version": "3.8.10"
  },
  "toc": {
   "base_numbering": 1,
   "nav_menu": {},
   "number_sections": true,
   "sideBar": true,
   "skip_h1_title": false,
   "title_cell": "Table of Contents",
   "title_sidebar": "Contents",
   "toc_cell": false,
   "toc_position": {},
   "toc_section_display": true,
   "toc_window_display": false
  }
 },
 "nbformat": 4,
 "nbformat_minor": 5
}
