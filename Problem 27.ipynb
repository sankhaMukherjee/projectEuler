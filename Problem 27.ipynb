{
 "cells": [
  {
   "cell_type": "markdown",
   "id": "7b1761fd",
   "metadata": {},
   "source": [
    "# Problem 27: Quadratic primes\n",
    "\n",
    "\n",
    "Euler discovered the remarkable quadratic formula: $n^2 + n + 41$\n",
    "\n",
    "It turns out that the formula will produce 40 primes for the consecutive integer values $0 \\le n \\le 39$. However, when $n=40, 40^2 + 40 + 1 = 40(40+1) + 41$ is divisible by 41, and certainly when $n = 41, 41^2 + 41 + 41$ is clearly divisible by 41.\n",
    "\n",
    "The incredible formula $n^2 -79n + 1601$ was discovered, which produces 80 primes for the consecutive values $0 \\le n \\le 79$. The product of the coefficients, −79 and 1601, is −126479.\n",
    "\n",
    "Considering quadratics of the form:\n",
    "\n",
    "$n^2 + an + b$, where $|a| < 1000$ and $|b| \\le 1000$\n",
    "\n",
    "where $|n|$ is the modulus/absolute value of $n$\n",
    "e.g. $|11| = 11$ and $|-4| = 4$.\n",
    "\n",
    "Find the product of the coefficients, $a$ and $b$, for the quadratic expression that produces the maximum number of primes for consecutive values of $n$, starting with $n=0$."
   ]
  },
  {
   "cell_type": "code",
   "execution_count": 26,
   "id": "fa44c13c",
   "metadata": {
    "ExecuteTime": {
     "end_time": "2021-12-10T16:02:07.359128Z",
     "start_time": "2021-12-10T16:02:07.201728Z"
    }
   },
   "outputs": [],
   "source": [
    "import numpy as np\n",
    "import matplotlib.pyplot as plt"
   ]
  },
  {
   "cell_type": "code",
   "execution_count": 15,
   "id": "cf9bb474",
   "metadata": {
    "ExecuteTime": {
     "end_time": "2021-12-10T15:52:32.775692Z",
     "start_time": "2021-12-10T15:52:32.772850Z"
    }
   },
   "outputs": [],
   "source": [
    "# find the primes upto 1000\n",
    "\n",
    "primes = []\n",
    "\n",
    "bs = np.arange(2, 1000)\n",
    "while len(bs) > 0:\n",
    "    primes.append( bs[0] )\n",
    "    bs = bs[ bs % bs[0] != 0 ]"
   ]
  },
  {
   "cell_type": "code",
   "execution_count": 18,
   "id": "e53f385a",
   "metadata": {
    "ExecuteTime": {
     "end_time": "2021-12-10T15:53:00.837369Z",
     "start_time": "2021-12-10T15:53:00.835411Z"
    }
   },
   "outputs": [],
   "source": [
    "bs = primes"
   ]
  },
  {
   "cell_type": "code",
   "execution_count": 19,
   "id": "995917f4",
   "metadata": {
    "ExecuteTime": {
     "end_time": "2021-12-10T15:53:16.937816Z",
     "start_time": "2021-12-10T15:53:16.935495Z"
    }
   },
   "outputs": [
    {
     "data": {
      "text/plain": [
       "168"
      ]
     },
     "execution_count": 19,
     "metadata": {},
     "output_type": "execute_result"
    }
   ],
   "source": [
    "len(bs)"
   ]
  },
  {
   "cell_type": "code",
   "execution_count": 22,
   "id": "2edb2845",
   "metadata": {
    "ExecuteTime": {
     "end_time": "2021-12-10T15:56:44.751779Z",
     "start_time": "2021-12-10T15:56:44.748990Z"
    }
   },
   "outputs": [
    {
     "data": {
      "text/plain": [
       "array([  2,   3,   5,   7,  11,  13,  17,  19,  23,  29,  31,  37,  41,\n",
       "        43,  47,  53,  59,  61,  67,  71,  73,  79,  83,  89,  97, 101,\n",
       "       103, 107, 109, 113, 127, 131, 137, 139, 149, 151, 157, 163, 167,\n",
       "       173, 179, 181, 191, 193, 197, 199, 211, 223, 227, 229, 233, 239,\n",
       "       241, 251, 257, 263, 269, 271, 277, 281, 283, 293, 307, 311, 313,\n",
       "       317, 331, 337, 347, 349, 353, 359, 367, 373, 379, 383, 389, 397,\n",
       "       401, 409, 419, 421, 431, 433, 439, 443, 449, 457, 461, 463, 467,\n",
       "       479, 487, 491, 499, 503, 509, 521, 523, 541, 547, 557, 563, 569,\n",
       "       571, 577, 587, 593, 599, 601, 607, 613, 617, 619, 631, 641, 643,\n",
       "       647, 653, 659, 661, 673, 677, 683, 691, 701, 709, 719, 727, 733,\n",
       "       739, 743, 751, 757, 761, 769, 773, 787, 797, 809, 811, 821, 823,\n",
       "       827, 829, 839, 853, 857, 859, 863, 877, 881, 883, 887, 907, 911,\n",
       "       919, 929, 937, 941, 947, 953, 967, 971, 977, 983, 991, 997])"
      ]
     },
     "execution_count": 22,
     "metadata": {},
     "output_type": "execute_result"
    }
   ],
   "source": [
    "bs = np.array(bs)\n",
    "bs"
   ]
  },
  {
   "cell_type": "code",
   "execution_count": 30,
   "id": "ca180f29",
   "metadata": {
    "ExecuteTime": {
     "end_time": "2021-12-10T16:08:09.768284Z",
     "start_time": "2021-12-10T16:08:09.766227Z"
    }
   },
   "outputs": [],
   "source": [
    "def isPrime(n):\n",
    "    \n",
    "    for i in range(2, int(np.sqrt(n))+1):\n",
    "        if n % i == 0:\n",
    "            return False\n",
    "    return True"
   ]
  },
  {
   "cell_type": "code",
   "execution_count": null,
   "id": "658d89d7",
   "metadata": {
    "ExecuteTime": {
     "end_time": "2021-12-10T16:09:11.866803Z",
     "start_time": "2021-12-10T16:09:11.854585Z"
    }
   },
   "outputs": [],
   "source": []
  },
  {
   "cell_type": "code",
   "execution_count": 38,
   "id": "bf04db59",
   "metadata": {
    "ExecuteTime": {
     "end_time": "2021-12-10T16:14:11.168635Z",
     "start_time": "2021-12-10T16:14:06.993921Z"
    }
   },
   "outputs": [
    {
     "name": "stdout",
     "output_type": "stream",
     "text": [
      "1 -999 2 -1998\n",
      "2 -997 997 -994009\n",
      "3 -499 997 -497503\n",
      "4 -325 977 -317525\n",
      "5 -245 977 -239365\n",
      "6 -199 971 -193229\n",
      "7 -163 983 -160229\n",
      "8 -131 941 -123271\n",
      "9 -121 947 -114587\n",
      "11 -105 967 -101535\n",
      "71 -61 971 -59231\n"
     ]
    }
   ],
   "source": [
    "candidates = []\n",
    "maxLen = 0\n",
    "for a in range(-999, 1000):\n",
    "    for b in bs:\n",
    "        nPrimes = 0\n",
    "        for n in range(5000):\n",
    "            v = n**2 + a*n + b\n",
    "            if v < 1:\n",
    "                break\n",
    "            if isPrime(n**2 + a*n + b):\n",
    "                nPrimes += 1\n",
    "            else:\n",
    "                break\n",
    "        if nPrimes > maxLen:\n",
    "            maxLen = nPrimes\n",
    "            print(maxLen, a, b, a*b)"
   ]
  },
  {
   "cell_type": "code",
   "execution_count": 41,
   "id": "185e94ef",
   "metadata": {
    "ExecuteTime": {
     "end_time": "2021-12-10T16:15:43.897471Z",
     "start_time": "2021-12-10T16:15:43.894196Z"
    }
   },
   "outputs": [
    {
     "data": {
      "text/plain": [
       "[971,\n",
       " 911,\n",
       " 853,\n",
       " 797,\n",
       " 743,\n",
       " 691,\n",
       " 641,\n",
       " 593,\n",
       " 547,\n",
       " 503,\n",
       " 461,\n",
       " 421,\n",
       " 383,\n",
       " 347,\n",
       " 313,\n",
       " 281,\n",
       " 251,\n",
       " 223,\n",
       " 197,\n",
       " 173,\n",
       " 151,\n",
       " 131,\n",
       " 113,\n",
       " 97,\n",
       " 83,\n",
       " 71,\n",
       " 61,\n",
       " 53,\n",
       " 47,\n",
       " 43,\n",
       " 41,\n",
       " 41,\n",
       " 43,\n",
       " 47,\n",
       " 53,\n",
       " 61,\n",
       " 71,\n",
       " 83,\n",
       " 97,\n",
       " 113,\n",
       " 131,\n",
       " 151,\n",
       " 173,\n",
       " 197,\n",
       " 223,\n",
       " 251,\n",
       " 281,\n",
       " 313,\n",
       " 347,\n",
       " 383,\n",
       " 421,\n",
       " 461,\n",
       " 503,\n",
       " 547,\n",
       " 593,\n",
       " 641,\n",
       " 691,\n",
       " 743,\n",
       " 797,\n",
       " 853,\n",
       " 911,\n",
       " 971,\n",
       " 1033,\n",
       " 1097,\n",
       " 1163,\n",
       " 1231,\n",
       " 1301,\n",
       " 1373,\n",
       " 1447,\n",
       " 1523,\n",
       " 1601]"
      ]
     },
     "execution_count": 41,
     "metadata": {},
     "output_type": "execute_result"
    }
   ],
   "source": [
    "y = [(n**2 - 61*n + 971) for n in range(71)]\n",
    "y"
   ]
  },
  {
   "cell_type": "code",
   "execution_count": 42,
   "id": "bd88c36a",
   "metadata": {
    "ExecuteTime": {
     "end_time": "2021-12-10T16:15:53.048524Z",
     "start_time": "2021-12-10T16:15:52.969374Z"
    }
   },
   "outputs": [
    {
     "data": {
      "text/plain": [
       "[<matplotlib.lines.Line2D at 0x7f279dca6fa0>]"
      ]
     },
     "execution_count": 42,
     "metadata": {},
     "output_type": "execute_result"
    },
    {
     "data": {
      "image/png": "[encoded data removed]",
      "text/plain": [
       "<Figure size 432x288 with 1 Axes>"
      ]
     },
     "metadata": {
      "needs_background": "light"
     },
     "output_type": "display_data"
    }
   ],
   "source": [
    "plt.plot(y, 's')"
   ]
  },
  {
   "cell_type": "code",
   "execution_count": 43,
   "id": "46ab5a03",
   "metadata": {
    "ExecuteTime": {
     "end_time": "2021-12-10T16:16:11.730756Z",
     "start_time": "2021-12-10T16:16:11.721462Z"
    }
   },
   "outputs": [
    {
     "data": {
      "text/plain": [
       "True"
      ]
     },
     "execution_count": 43,
     "metadata": {},
     "output_type": "execute_result"
    }
   ],
   "source": [
    "isPrime(1601)"
   ]
  },
  {
   "cell_type": "code",
   "execution_count": null,
   "id": "14b88f8d",
   "metadata": {},
   "outputs": [],
   "source": []
  }
 ],
 "metadata": {
  "hide_input": false,
  "kernelspec": {
   "display_name": "Python 3",
   "language": "python",
   "name": "python3"
  },
  "language_info": {
   "codemirror_mode": {
    "name": "ipython",
    "version": 3
   },
   "file_extension": ".py",
   "mimetype": "text/x-python",
   "name": "python",
   "nbconvert_exporter": "python",
   "pygments_lexer": "ipython3",
   "version": "3.8.10"
  },
  "toc": {
   "base_numbering": 1,
   "nav_menu": {},
   "number_sections": true,
   "sideBar": true,
   "skip_h1_title": false,
   "title_cell": "Table of Contents",
   "title_sidebar": "Contents",
   "toc_cell": false,
   "toc_position": {},
   "toc_section_display": true,
   "toc_window_display": false
  }
 },
 "nbformat": 4,
 "nbformat_minor": 5
}
