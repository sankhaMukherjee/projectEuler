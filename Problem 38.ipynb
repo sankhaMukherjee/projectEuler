{
 "cells": [
  {
   "cell_type": "markdown",
   "id": "0f608cbf",
   "metadata": {},
   "source": [
    "# Problem 38: Pandigital multiples\n",
    "\n",
    "\n",
    "\n",
    "Take the number 192 and multiply it by each of 1, 2, and 3:\n",
    "\n",
    "    192 × 1 = 192\n",
    "    192 × 2 = 384\n",
    "    192 × 3 = 576\n",
    "\n",
    "By concatenating each product we get the 1 to 9 pandigital, 192384576. We will call 192384576 the concatenated product of 192 and (1,2,3)\n",
    "\n",
    "The same can be achieved by starting with 9 and multiplying by 1, 2, 3, 4, and 5, giving the pandigital, 918273645, which is the concatenated product of 9 and (1,2,3,4,5).\n",
    "\n",
    "What is the largest 1 to 9 pandigital 9-digit number that can be formed as the concatenated product of an integer with (1,2, ... , n) where n > 1?\n"
   ]
  },
  {
   "cell_type": "code",
   "execution_count": 3,
   "id": "6a7726e5",
   "metadata": {
    "ExecuteTime": {
     "end_time": "2022-02-03T13:33:13.880146Z",
     "start_time": "2022-02-03T13:33:13.878475Z"
    }
   },
   "outputs": [],
   "source": [
    "from typing import Optional"
   ]
  },
  {
   "cell_type": "code",
   "execution_count": 10,
   "id": "919a993b",
   "metadata": {
    "ExecuteTime": {
     "end_time": "2022-02-03T13:36:05.082232Z",
     "start_time": "2022-02-03T13:36:05.079680Z"
    }
   },
   "outputs": [],
   "source": [
    "def mulCon(n:int) -> Optional[int]:\n",
    "    \n",
    "    curNum = ''\n",
    "    \n",
    "    for i in range(1, 10):\n",
    "        curNum += str(i*n)\n",
    "        \n",
    "        if len(curNum) >= 9:\n",
    "            break\n",
    "            \n",
    "    if ''.join(sorted(curNum)) == '123456789':\n",
    "        return int(curNum)\n",
    "            \n",
    "    return None"
   ]
  },
  {
   "cell_type": "code",
   "execution_count": 13,
   "id": "9b28ffd9",
   "metadata": {
    "ExecuteTime": {
     "end_time": "2022-02-03T13:36:18.332870Z",
     "start_time": "2022-02-03T13:36:18.329964Z"
    }
   },
   "outputs": [
    {
     "data": {
      "text/plain": [
       "918273645"
      ]
     },
     "execution_count": 13,
     "metadata": {},
     "output_type": "execute_result"
    }
   ],
   "source": [
    "mulCon(9)"
   ]
  },
  {
   "cell_type": "code",
   "execution_count": 18,
   "id": "0db27def",
   "metadata": {
    "ExecuteTime": {
     "end_time": "2022-02-03T13:39:06.310018Z",
     "start_time": "2022-02-03T13:39:06.295798Z"
    }
   },
   "outputs": [
    {
     "name": "stdout",
     "output_type": "stream",
     "text": [
      "932718654\n",
      "927318546\n",
      "926718534\n",
      "793215864\n",
      "792315846\n",
      "769215384\n",
      "732914658\n",
      "729314586\n",
      "726914538\n",
      "692713854\n",
      "679213584\n",
      "672913458\n"
     ]
    }
   ],
   "source": [
    "for i in range(9999, 900, -1):\n",
    "    temp = mulCon(i)\n",
    "    if temp is not None:\n",
    "        print(temp)\n",
    "        "
   ]
  },
  {
   "cell_type": "code",
   "execution_count": 19,
   "id": "c49cf8fb",
   "metadata": {
    "ExecuteTime": {
     "end_time": "2022-02-03T13:39:40.091147Z",
     "start_time": "2022-02-03T13:39:39.993229Z"
    }
   },
   "outputs": [],
   "source": [
    "for i in range(99999, 9999, -1):\n",
    "    temp = mulCon(i)\n",
    "    if temp is not None:\n",
    "        print(temp)\n",
    "        "
   ]
  },
  {
   "cell_type": "code",
   "execution_count": 21,
   "id": "80a5bf89",
   "metadata": {
    "ExecuteTime": {
     "end_time": "2022-02-03T13:40:01.534481Z",
     "start_time": "2022-02-03T13:40:01.532177Z"
    }
   },
   "outputs": [
    {
     "data": {
      "text/plain": [
       "19998"
      ]
     },
     "execution_count": 21,
     "metadata": {},
     "output_type": "execute_result"
    }
   ],
   "source": [
    "9999*2"
   ]
  },
  {
   "cell_type": "code",
   "execution_count": null,
   "id": "2b2ddbcf",
   "metadata": {},
   "outputs": [],
   "source": []
  }
 ],
 "metadata": {
  "hide_input": false,
  "kernelspec": {
   "display_name": "Python 3",
   "language": "python",
   "name": "python3"
  },
  "language_info": {
   "codemirror_mode": {
    "name": "ipython",
    "version": 3
   },
   "file_extension": ".py",
   "mimetype": "text/x-python",
   "name": "python",
   "nbconvert_exporter": "python",
   "pygments_lexer": "ipython3",
   "version": "3.8.10"
  },
  "toc": {
   "base_numbering": 1,
   "nav_menu": {},
   "number_sections": true,
   "sideBar": true,
   "skip_h1_title": false,
   "title_cell": "Table of Contents",
   "title_sidebar": "Contents",
   "toc_cell": false,
   "toc_position": {},
   "toc_section_display": true,
   "toc_window_display": false
  }
 },
 "nbformat": 4,
 "nbformat_minor": 5
}
