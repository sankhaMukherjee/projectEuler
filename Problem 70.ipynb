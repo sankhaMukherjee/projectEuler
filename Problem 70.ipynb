{
 "cells": [
  {
   "cell_type": "markdown",
   "id": "24e0fa3e",
   "metadata": {},
   "source": [
    "# Problem 70: Totient permutation\n",
    "\n",
    "Euler's Totient function, φ(n) [sometimes called the phi function], is used to determine the number of positive numbers less than or equal to n which are relatively prime to n. For example, as 1, 2, 4, 5, 7, and 8, are all less than nine and relatively prime to nine, φ(9)=6.\n",
    "The number 1 is considered to be relatively prime to every positive number, so φ(1)=1.\n",
    "\n",
    "Interestingly, φ(87109)=79180, and it can be seen that 87109 is a permutation of 79180.\n",
    "\n",
    "Find the value of n, 1 < n < 107, for which φ(n) is a permutation of n and the ratio n/φ(n) produces a minimum."
   ]
  },
  {
   "cell_type": "code",
   "execution_count": 2,
   "id": "7a984864",
   "metadata": {
    "ExecuteTime": {
     "end_time": "2022-07-31T00:29:21.136382Z",
     "start_time": "2022-07-31T00:29:21.041914Z"
    }
   },
   "outputs": [],
   "source": [
    "import numpy as np\n",
    "primes = np.load('primesToMil.npy')"
   ]
  },
  {
   "cell_type": "code",
   "execution_count": 5,
   "id": "85f4df9d",
   "metadata": {
    "ExecuteTime": {
     "end_time": "2022-07-31T00:33:47.983009Z",
     "start_time": "2022-07-31T00:33:47.980843Z"
    },
    "code_folding": [
     0
    ]
   },
   "outputs": [],
   "source": [
    "def isPerm(n1:int, n2:int) -> bool:\n",
    "    \n",
    "    n1Str = sorted(str(n1))\n",
    "    n2Str = sorted(str(n2))\n",
    "    \n",
    "    if n1Str == n2Str:\n",
    "        return True\n",
    "    \n",
    "    return False"
   ]
  },
  {
   "cell_type": "code",
   "execution_count": 30,
   "id": "5331a449",
   "metadata": {
    "ExecuteTime": {
     "end_time": "2022-07-31T00:50:10.514870Z",
     "start_time": "2022-07-31T00:50:09.588440Z"
    }
   },
   "outputs": [
    {
     "name": "stdout",
     "output_type": "stream",
     "text": [
      "    7 x 3     |       21 | 12       | 7.5000e-01\n",
      "   97 x 3     |      291 | 192      | 5.1562e-01\n",
      "  389 x 53    |    20617 | 20176    | 2.1858e-02\n",
      "  509 x 149   |    75841 | 75184    | 8.7386e-03\n",
      "  557 x 317   |   176569 | 175696   | 4.9688e-03\n",
      "  659 x 431   |   284029 | 282940   | 3.8489e-03\n",
      "  809 x 587   |   474883 | 473488   | 2.9462e-03\n",
      "  947 x 773   |   732031 | 730312   | 2.3538e-03\n",
      "  947 x 827   |   783169 | 781396   | 2.2690e-03\n",
      " 1319 x 977   |  1288663 | 1286368  | 1.7841e-03\n",
      " 1373 x 1103  |  1514419 | 1511944  | 1.6370e-03\n",
      " 1877 x 1193  |  2239261 | 2236192  | 1.3724e-03\n",
      " 2153 x 1259  |  2710627 | 2707216  | 1.2600e-03\n",
      " 2357 x 1217  |  2868469 | 2864896  | 1.2472e-03\n",
      " 2441 x 2069  |  5050429 | 5045920  | 8.9359e-04\n",
      " 2693 x 2609  |  7026037 | 7020736  | 7.5505e-04\n",
      " 3203 x 2297  |  7357291 | 7351792  | 7.4798e-04\n",
      " 3347 x 2243  |  7507321 | 7501732  | 7.4503e-04\n",
      " 3557 x 2339  |  8319823 | 8313928  | 7.0905e-04\n"
     ]
    }
   ],
   "source": [
    "curFrac = 1\n",
    "\n",
    "for p1 in primes[1:1000]:\n",
    "    for p2 in primes:\n",
    "        if p2 == p1: break\n",
    "            \n",
    "        n    = p1 * p2\n",
    "        phi  = (p1 - 1)*(p2 - 1)\n",
    "        frac = n / phi - 1\n",
    "\n",
    "        if isPerm(n, phi) and (n < 1e7) and (curFrac > frac):\n",
    "            print(f'{p1:>5} x {p2:<5} | {n:>8} | {phi:<8} | {frac:.4e}')\n",
    "            curFrac = frac\n",
    "\n",
    "    "
   ]
  },
  {
   "cell_type": "code",
   "execution_count": 17,
   "id": "9f80f183",
   "metadata": {
    "ExecuteTime": {
     "end_time": "2022-07-31T00:43:00.238203Z",
     "start_time": "2022-07-31T00:43:00.235259Z"
    }
   },
   "outputs": [
    {
     "data": {
      "text/plain": [
       "array([     2,      3,      5, ..., 999961, 999979, 999983])"
      ]
     },
     "execution_count": 17,
     "metadata": {},
     "output_type": "execute_result"
    }
   ],
   "source": [
    "primes"
   ]
  },
  {
   "cell_type": "code",
   "execution_count": null,
   "id": "1d40c802",
   "metadata": {},
   "outputs": [],
   "source": [
    "8_319_823, 56_250_763"
   ]
  }
 ],
 "metadata": {
  "hide_input": false,
  "kernelspec": {
   "display_name": "Python 3 (ipykernel)",
   "language": "python",
   "name": "python3"
  },
  "language_info": {
   "codemirror_mode": {
    "name": "ipython",
    "version": 3
   },
   "file_extension": ".py",
   "mimetype": "text/x-python",
   "name": "python",
   "nbconvert_exporter": "python",
   "pygments_lexer": "ipython3",
   "version": "3.10.5"
  },
  "toc": {
   "base_numbering": 1,
   "nav_menu": {},
   "number_sections": true,
   "sideBar": true,
   "skip_h1_title": false,
   "title_cell": "Table of Contents",
   "title_sidebar": "Contents",
   "toc_cell": false,
   "toc_position": {},
   "toc_section_display": true,
   "toc_window_display": false
  }
 },
 "nbformat": 4,
 "nbformat_minor": 5
}
