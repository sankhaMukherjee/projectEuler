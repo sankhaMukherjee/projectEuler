{
 "cells": [
  {
   "cell_type": "markdown",
   "id": "0abda835",
   "metadata": {},
   "source": [
    "# Problem 40: \n",
    "\n",
    "\n",
    "\n",
    "An irrational decimal fraction is created by concatenating the positive integers:\n",
    "\n",
    "0.123456789101112131415161718192021...\n",
    "\n",
    "It can be seen that the 12th digit of the fractional part is 1.\n",
    "\n",
    "If $d_n$ represents the $n^{\\mathrm {th}}$ digit of the fractional part, find the value of the following expression.\n",
    "\n",
    "$d_1 × d_{10} × d_{100} × d_{1000} × d_{10000} × d_{100000} × d_{1000000}$\n"
   ]
  },
  {
   "cell_type": "code",
   "execution_count": 40,
   "id": "1c0e7362",
   "metadata": {
    "ExecuteTime": {
     "end_time": "2022-02-04T15:10:32.683477Z",
     "start_time": "2022-02-04T15:10:32.538735Z"
    }
   },
   "outputs": [],
   "source": [
    "import itertools as it\n",
    "from tqdm.notebook import tqdm\n",
    "import numpy as np"
   ]
  },
  {
   "cell_type": "code",
   "execution_count": 12,
   "id": "cb1ec260",
   "metadata": {
    "ExecuteTime": {
     "end_time": "2022-02-04T14:49:36.657543Z",
     "start_time": "2022-02-04T14:49:36.653937Z"
    }
   },
   "outputs": [],
   "source": [
    "def func(n):\n",
    "    pointer    = 1\n",
    "    oldPointer = 1\n",
    "    for i in range(1,n+1):\n",
    "        oldPointer = pointer\n",
    "        pointer    += len(str(i))\n",
    "        yield str(i), oldPointer, pointer-1"
   ]
  },
  {
   "cell_type": "code",
   "execution_count": 14,
   "id": "6650d719",
   "metadata": {
    "ExecuteTime": {
     "end_time": "2022-02-04T14:49:59.945008Z",
     "start_time": "2022-02-04T14:49:59.942190Z"
    },
    "scrolled": false
   },
   "outputs": [
    {
     "data": {
      "text/plain": [
       "[('1', 1, 1), ('2', 2, 2), ('3', 3, 3), ('4', 4, 4), ('5', 5, 5)]"
      ]
     },
     "execution_count": 14,
     "metadata": {},
     "output_type": "execute_result"
    }
   ],
   "source": [
    "list(func(5))"
   ]
  },
  {
   "cell_type": "code",
   "execution_count": 31,
   "id": "9f003c5c",
   "metadata": {
    "ExecuteTime": {
     "end_time": "2022-02-04T15:08:42.564527Z",
     "start_time": "2022-02-04T15:08:42.562701Z"
    }
   },
   "outputs": [],
   "source": [
    "nList = [1, 10, 100, 1000, 10000, 100000, 1000000]"
   ]
  },
  {
   "cell_type": "code",
   "execution_count": 37,
   "id": "27fb548c",
   "metadata": {
    "ExecuteTime": {
     "end_time": "2022-02-04T15:10:13.840451Z",
     "start_time": "2022-02-04T15:10:13.702866Z"
    }
   },
   "outputs": [
    {
     "data": {
      "application/vnd.jupyter.widget-view+json": {
       "model_id": "2309d298d2cb4d2cbaee3c3932e67b61",
       "version_major": 2,
       "version_minor": 0
      },
      "text/plain": [
       "  0%|          | 0/1000000 [00:00<?, ?it/s]"
      ]
     },
     "metadata": {},
     "output_type": "display_data"
    },
    {
     "name": "stdout",
     "output_type": "stream",
     "text": [
      "1      ,       1,       1 ->       1 -> 1\n",
      "10     ,      10,      11 ->      10 -> 1\n",
      "55     ,     100,     101 ->     100 -> 5\n",
      "370    ,    1000,    1002 ->    1000 -> 3\n",
      "2777   ,    9998,   10001 ->   10000 -> 7\n",
      "22222  ,  100000,  100004 ->  100000 -> 2\n",
      "185185 , 1000000, 1000005 -> 1000000 -> 1\n"
     ]
    }
   ],
   "source": [
    "nFound = []\n",
    "curN   = 0\n",
    "toFind = nList[curN]\n",
    "\n",
    "N = 1000000\n",
    "\n",
    "for v1, start, end in tqdm(func(N), total=N):\n",
    "    \n",
    "    if (start <= toFind) and (end >= toFind):\n",
    "        \n",
    "        nThVal    = toFind - start\n",
    "        toExtract = v1[nThVal]\n",
    "        \n",
    "        print(f'{v1:7}, {start:7}, {end:7} -> {toFind:7} -> {toExtract}')\n",
    "        nFound.append(int(toExtract))\n",
    "        curN +=1\n",
    "        \n",
    "        if len(nFound) == len(nList):\n",
    "            break\n",
    "            \n",
    "        toFind = nList[curN]\n",
    "    \n"
   ]
  },
  {
   "cell_type": "code",
   "execution_count": 41,
   "id": "0d3d7c4b",
   "metadata": {
    "ExecuteTime": {
     "end_time": "2022-02-04T15:10:37.016109Z",
     "start_time": "2022-02-04T15:10:37.013328Z"
    }
   },
   "outputs": [
    {
     "data": {
      "text/plain": [
       "210"
      ]
     },
     "execution_count": 41,
     "metadata": {},
     "output_type": "execute_result"
    }
   ],
   "source": [
    "np.prod(nFound)"
   ]
  },
  {
   "cell_type": "code",
   "execution_count": null,
   "id": "6eea5d0c",
   "metadata": {},
   "outputs": [],
   "source": []
  }
 ],
 "metadata": {
  "hide_input": false,
  "kernelspec": {
   "display_name": "Python 3",
   "language": "python",
   "name": "python3"
  },
  "language_info": {
   "codemirror_mode": {
    "name": "ipython",
    "version": 3
   },
   "file_extension": ".py",
   "mimetype": "text/x-python",
   "name": "python",
   "nbconvert_exporter": "python",
   "pygments_lexer": "ipython3",
   "version": "3.8.10"
  },
  "toc": {
   "base_numbering": 1,
   "nav_menu": {},
   "number_sections": true,
   "sideBar": true,
   "skip_h1_title": false,
   "title_cell": "Table of Contents",
   "title_sidebar": "Contents",
   "toc_cell": false,
   "toc_position": {},
   "toc_section_display": true,
   "toc_window_display": false
  }
 },
 "nbformat": 4,
 "nbformat_minor": 5
}
