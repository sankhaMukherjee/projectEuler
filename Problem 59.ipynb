{
 "cells": [
  {
   "cell_type": "markdown",
   "id": "4488d3d3",
   "metadata": {},
   "source": [
    "# Problem 59: XOR decryption\n",
    "\n",
    "Each character on a computer is assigned a unique code and the preferred standard is ASCII (American Standard Code for Information Interchange). For example, uppercase A = 65, asterisk (*) = 42, and lowercase k = 107.\n",
    "\n",
    "A modern encryption method is to take a text file, convert the bytes to ASCII, then XOR each byte with a given value, taken from a secret key. The advantage with the XOR function is that using the same encryption key on the cipher text, restores the plain text; for example, 65 XOR 42 = 107, then 107 XOR 42 = 65.\n",
    "\n",
    "For unbreakable encryption, the key is the same length as the plain text message, and the key is made up of random bytes. The user would keep the encrypted message and the encryption key in different locations, and without both \"halves\", it is impossible to decrypt the message.\n",
    "\n",
    "Unfortunately, this method is impractical for most users, so the modified method is to use a password as a key. If the password is shorter than the message, which is likely, the key is repeated cyclically throughout the message. The balance for this method is using a sufficiently long password key for security, but short enough to be memorable.\n",
    "\n",
    "Your task has been made easy, as the encryption key consists of three lower case characters. Using p059_cipher.txt (right click and 'Save Link/Target As...'), a file containing the encrypted ASCII codes, and the knowledge that the plain text must contain common English words, decrypt the message and find the sum of the ASCII values in the original text."
   ]
  },
  {
   "cell_type": "code",
   "execution_count": 2,
   "id": "023b5e94",
   "metadata": {
    "ExecuteTime": {
     "end_time": "2022-03-29T12:57:18.438934Z",
     "start_time": "2022-03-29T12:57:18.436515Z"
    }
   },
   "outputs": [
    {
     "data": {
      "text/plain": [
       "(65, 'A')"
      ]
     },
     "execution_count": 2,
     "metadata": {},
     "output_type": "execute_result"
    }
   ],
   "source": [
    "ord('A'), chr(65)"
   ]
  },
  {
   "cell_type": "code",
   "execution_count": 14,
   "id": "913923b2",
   "metadata": {
    "ExecuteTime": {
     "end_time": "2022-03-29T13:04:32.291067Z",
     "start_time": "2022-03-29T13:04:32.289163Z"
    }
   },
   "outputs": [],
   "source": [
    "with open('p059_cipher.txt') as f: data = f.read()"
   ]
  },
  {
   "cell_type": "code",
   "execution_count": 17,
   "id": "3b74ee74",
   "metadata": {
    "ExecuteTime": {
     "end_time": "2022-03-29T13:05:25.730408Z",
     "start_time": "2022-03-29T13:05:25.723579Z"
    }
   },
   "outputs": [],
   "source": [
    "dataList = list(map(int, data.split(',')))"
   ]
  },
  {
   "cell_type": "code",
   "execution_count": 36,
   "id": "8e3ba022",
   "metadata": {
    "ExecuteTime": {
     "end_time": "2022-03-29T13:15:18.410288Z",
     "start_time": "2022-03-29T13:15:18.404964Z"
    }
   },
   "outputs": [],
   "source": [
    "import string\n",
    "import itertools as it\n",
    "from tqdm import tqdm\n",
    "passwords = list(it.product(string.ascii_lowercase, repeat=3))"
   ]
  },
  {
   "cell_type": "code",
   "execution_count": 40,
   "id": "954e8f58",
   "metadata": {
    "ExecuteTime": {
     "end_time": "2022-03-29T13:16:18.821913Z",
     "start_time": "2022-03-29T13:16:18.355133Z"
    }
   },
   "outputs": [
    {
     "name": "stderr",
     "output_type": "stream",
     "text": [
      " 19%|█▉        | 3317/17576 [00:00<00:01, 7174.87it/s]"
     ]
    },
    {
     "name": "stdout",
     "output_type": "stream",
     "text": [
      "Password = ('e', 'x', 'p')\n",
      "----------------------\n",
      "An extract taken from the introduction of one of Euler's most celebrated papers, \"De summis serierum reciprocarum\" [On the sums of series of reciprocals]: I have recently found, quite unexpectedly, an elegant expression for the entire sum of this series 1 + 1/4 + 1/9 + 1/16 + etc., which depends on the quadrature of the circle, so that if the true sum of this series is obtained, from it at once the quadrature of the circle follows. Namely, I have found that the sum of this series is a sixth part of the square of the perimeter of the circle whose diameter is 1; or by putting the sum of this series equal to s, it has the ratio sqrt(6) multiplied by s to 1 of the perimeter to the diameter. I will soon show that the sum of this series to be approximately 1.644934066842264364; and from multiplying this number by six, and then taking the square root, the number 3.141592653589793238 is indeed produced, which expresses the perimeter of a circle whose diameter is 1. Following again the same steps by which I had arrived at this sum, I have discovered that the sum of the series 1 + 1/16 + 1/81 + 1/256 + 1/625 + etc. also depends on the quadrature of the circle. Namely, the sum of this multiplied by 90 gives the biquadrate (fourth power) of the circumference of the perimeter of a circle whose diameter is 1. And by similar reasoning I have likewise been able to determine the sums of the subsequent series in which the exponents are even numbers.\n",
      "----------------------------------------\n"
     ]
    },
    {
     "name": "stderr",
     "output_type": "stream",
     "text": [
      "\n"
     ]
    }
   ],
   "source": [
    "for i, pw in enumerate(tqdm(passwords)):\n",
    "    decrypted = ''.join([chr(ord(a)^b) for a, b in zip(it.cycle( pw ), dataList)])\n",
    "    if ' the ' in decrypted:\n",
    "        print(f'Password = {pw}\\n----------------------')\n",
    "        print(decrypted)\n",
    "        print('----------------------------------------')\n",
    "        break\n",
    "    \n",
    "        "
   ]
  },
  {
   "cell_type": "code",
   "execution_count": 41,
   "id": "14deedb4",
   "metadata": {
    "ExecuteTime": {
     "end_time": "2022-03-29T13:16:21.994314Z",
     "start_time": "2022-03-29T13:16:21.992499Z"
    }
   },
   "outputs": [
    {
     "name": "stdout",
     "output_type": "stream",
     "text": [
      "An extract taken from the introduction of one of Euler's most celebrated papers, \"De summis serierum reciprocarum\" [On the sums of series of reciprocals]: I have recently found, quite unexpectedly, an elegant expression for the entire sum of this series 1 + 1/4 + 1/9 + 1/16 + etc., which depends on the quadrature of the circle, so that if the true sum of this series is obtained, from it at once the quadrature of the circle follows. Namely, I have found that the sum of this series is a sixth part of the square of the perimeter of the circle whose diameter is 1; or by putting the sum of this series equal to s, it has the ratio sqrt(6) multiplied by s to 1 of the perimeter to the diameter. I will soon show that the sum of this series to be approximately 1.644934066842264364; and from multiplying this number by six, and then taking the square root, the number 3.141592653589793238 is indeed produced, which expresses the perimeter of a circle whose diameter is 1. Following again the same steps by which I had arrived at this sum, I have discovered that the sum of the series 1 + 1/16 + 1/81 + 1/256 + 1/625 + etc. also depends on the quadrature of the circle. Namely, the sum of this multiplied by 90 gives the biquadrate (fourth power) of the circumference of the perimeter of a circle whose diameter is 1. And by similar reasoning I have likewise been able to determine the sums of the subsequent series in which the exponents are even numbers.\n"
     ]
    }
   ],
   "source": [
    "print(decrypted)"
   ]
  },
  {
   "cell_type": "code",
   "execution_count": 42,
   "id": "0947b789",
   "metadata": {
    "ExecuteTime": {
     "end_time": "2022-03-29T13:17:24.845265Z",
     "start_time": "2022-03-29T13:17:24.842764Z"
    }
   },
   "outputs": [
    {
     "data": {
      "text/plain": [
       "129448"
      ]
     },
     "execution_count": 42,
     "metadata": {},
     "output_type": "execute_result"
    }
   ],
   "source": [
    "sum(map(ord, decrypted))"
   ]
  },
  {
   "cell_type": "code",
   "execution_count": null,
   "id": "eb64a4d6",
   "metadata": {},
   "outputs": [],
   "source": []
  }
 ],
 "metadata": {
  "hide_input": false,
  "kernelspec": {
   "display_name": "Python 3",
   "language": "python",
   "name": "python3"
  },
  "language_info": {
   "codemirror_mode": {
    "name": "ipython",
    "version": 3
   },
   "file_extension": ".py",
   "mimetype": "text/x-python",
   "name": "python",
   "nbconvert_exporter": "python",
   "pygments_lexer": "ipython3",
   "version": "3.8.10"
  },
  "toc": {
   "base_numbering": 1,
   "nav_menu": {},
   "number_sections": true,
   "sideBar": true,
   "skip_h1_title": false,
   "title_cell": "Table of Contents",
   "title_sidebar": "Contents",
   "toc_cell": false,
   "toc_position": {},
   "toc_section_display": true,
   "toc_window_display": false
  }
 },
 "nbformat": 4,
 "nbformat_minor": 5
}
