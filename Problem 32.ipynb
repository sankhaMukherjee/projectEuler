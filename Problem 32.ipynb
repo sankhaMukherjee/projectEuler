{
 "cells": [
  {
   "cell_type": "markdown",
   "id": "45550f04",
   "metadata": {},
   "source": [
    "# Problem 32: Pandigital products\n",
    "\n",
    "\n",
    "\n",
    "We shall say that an n-digit number is pandigital if it makes use of all the digits 1 to n exactly once; for example, the 5-digit number, 15234, is 1 through 5 pandigital.\n",
    "\n",
    "The product 7254 is unusual, as the identity, 39 × 186 = 7254, containing multiplicand, multiplier, and product is 1 through 9 pandigital.\n",
    "\n",
    "Find the sum of all products whose multiplicand/multiplier/product identity can be written as a 1 through 9 pandigital.\n",
    "HINT: Some products can be obtained in more than one way so be sure to only include it once in your sum.\n"
   ]
  },
  {
   "cell_type": "code",
   "execution_count": 47,
   "id": "ea7b216c",
   "metadata": {
    "ExecuteTime": {
     "end_time": "2022-01-12T15:55:29.405065Z",
     "start_time": "2022-01-12T15:55:29.399317Z"
    }
   },
   "outputs": [],
   "source": [
    "import itertools as it\n",
    "from tqdm import tqdm"
   ]
  },
  {
   "cell_type": "code",
   "execution_count": 22,
   "id": "3be87ae5",
   "metadata": {
    "ExecuteTime": {
     "end_time": "2022-01-12T15:33:07.571001Z",
     "start_time": "2022-01-12T15:33:07.565887Z"
    }
   },
   "outputs": [
    {
     "name": "stdout",
     "output_type": "stream",
     "text": [
      "2 3 6\n",
      "2 4 8\n",
      "2 7 4\n",
      "2 8 6\n",
      "2 9 8\n",
      "3 4 2\n",
      "3 6 8\n",
      "3 7 1\n",
      "3 8 4\n",
      "3 9 7\n",
      "4 7 8\n",
      "4 8 2\n",
      "4 9 6\n",
      "6 7 2\n",
      "6 9 4\n",
      "7 8 6\n",
      "7 9 3\n",
      "8 9 2\n"
     ]
    }
   ],
   "source": [
    "valueList = []\n",
    "for i in range(1, 10):\n",
    "    for j in range(i+1, 10):\n",
    "        k = i*j % 10\n",
    "        if (k != i) and (k!=j) and (k!=0):\n",
    "            print(i, j, k )\n",
    "            valueList.append((i, j, k))\n",
    "valueList = sorted(list(set(valueList)), key =lambda m: m[2])"
   ]
  },
  {
   "cell_type": "code",
   "execution_count": 23,
   "id": "6e5ec5b7",
   "metadata": {
    "ExecuteTime": {
     "end_time": "2022-01-12T15:33:08.643167Z",
     "start_time": "2022-01-12T15:33:08.640193Z"
    }
   },
   "outputs": [
    {
     "data": {
      "text/plain": [
       "[(3, 7, 1),\n",
       " (4, 8, 2),\n",
       " (8, 9, 2),\n",
       " (6, 7, 2),\n",
       " (3, 4, 2),\n",
       " (7, 9, 3),\n",
       " (3, 8, 4),\n",
       " (2, 7, 4),\n",
       " (6, 9, 4),\n",
       " (2, 8, 6),\n",
       " (2, 3, 6),\n",
       " (4, 9, 6),\n",
       " (7, 8, 6),\n",
       " (3, 9, 7),\n",
       " (2, 9, 8),\n",
       " (2, 4, 8),\n",
       " (4, 7, 8),\n",
       " (3, 6, 8)]"
      ]
     },
     "execution_count": 23,
     "metadata": {},
     "output_type": "execute_result"
    }
   ],
   "source": [
    "valueList"
   ]
  },
  {
   "cell_type": "code",
   "execution_count": 29,
   "id": "231237ee",
   "metadata": {
    "ExecuteTime": {
     "end_time": "2022-01-12T15:37:46.228725Z",
     "start_time": "2022-01-12T15:37:46.225954Z"
    }
   },
   "outputs": [
    {
     "data": {
      "text/plain": [
       "((6, 9, 4), [1, 2, 3, 5, 7, 8])"
      ]
     },
     "execution_count": 29,
     "metadata": {},
     "output_type": "execute_result"
    }
   ],
   "source": [
    "values = (6, 9, 4)\n",
    "otherValues = [i for i in range(1, 10) if i not in values]\n",
    "values, otherValues"
   ]
  },
  {
   "cell_type": "code",
   "execution_count": 31,
   "id": "c2339dee",
   "metadata": {
    "ExecuteTime": {
     "end_time": "2022-01-12T15:39:33.856210Z",
     "start_time": "2022-01-12T15:39:33.854364Z"
    }
   },
   "outputs": [],
   "source": [
    "otherPermutations = list(it.permutations(otherValues))"
   ]
  },
  {
   "cell_type": "code",
   "execution_count": 48,
   "id": "6c8b1a6a",
   "metadata": {
    "ExecuteTime": {
     "end_time": "2022-01-12T15:55:52.666376Z",
     "start_time": "2022-01-12T15:55:51.874340Z"
    }
   },
   "outputs": [
    {
     "name": "stderr",
     "output_type": "stream",
     "text": [
      "  0%|          | 0/18 [00:00<?, ?it/s]\n",
      "100%|██████████| 720/720 [00:00<00:00, 17424.34it/s]\n",
      "\n",
      "100%|██████████| 720/720 [00:00<00:00, 18622.73it/s]\n",
      "\n",
      "100%|██████████| 720/720 [00:00<00:00, 18860.81it/s]\n",
      " 17%|█▋        | 3/18 [00:00<00:00, 24.42it/s]\n",
      "100%|██████████| 720/720 [00:00<00:00, 18050.80it/s]\n",
      "\n",
      "100%|██████████| 720/720 [00:00<00:00, 13209.48it/s]\n",
      "\n",
      "100%|██████████| 720/720 [00:00<00:00, 18865.17it/s]"
     ]
    },
    {
     "name": "stdout",
     "output_type": "stream",
     "text": [
      "4 1738 6952\n",
      "48 159 7632\n"
     ]
    },
    {
     "name": "stderr",
     "output_type": "stream",
     "text": [
      "\n",
      " 33%|███▎      | 6/18 [00:00<00:00, 22.85it/s]\n",
      "100%|██████████| 720/720 [00:00<00:00, 18843.98it/s]\n",
      "\n",
      "100%|██████████| 720/720 [00:00<00:00, 19103.37it/s]\n",
      "\n",
      "100%|██████████| 720/720 [00:00<00:00, 18830.94it/s]\n",
      " 50%|█████     | 9/18 [00:00<00:00, 23.85it/s]\n",
      "100%|██████████| 720/720 [00:00<00:00, 18571.19it/s]\n",
      "\n",
      "100%|██████████| 720/720 [00:00<00:00, 18324.74it/s]\n",
      "\n",
      "100%|██████████| 720/720 [00:00<00:00, 12221.21it/s]\n",
      " 67%|██████▋   | 12/18 [00:00<00:00, 22.70it/s]\n",
      "100%|██████████| 720/720 [00:00<00:00, 13822.19it/s]\n",
      "\n",
      "  0%|          | 0/720 [00:00<?, ?it/s]\u001b[A"
     ]
    },
    {
     "name": "stdout",
     "output_type": "stream",
     "text": [
      "186 39 7254\n",
      "42 138 5796\n",
      "12 483 5796\n",
      "157 28 4396\n",
      "27 198 5346\n",
      "297 18 5346\n"
     ]
    },
    {
     "name": "stderr",
     "output_type": "stream",
     "text": [
      "100%|██████████| 720/720 [00:00<00:00, 18810.53it/s]\n",
      "\n",
      "100%|██████████| 720/720 [00:00<00:00, 15342.83it/s]\n",
      " 83%|████████▎ | 15/18 [00:00<00:00, 22.10it/s]\n",
      "100%|██████████| 720/720 [00:00<00:00, 18795.08it/s]\n",
      "\n",
      "100%|██████████| 720/720 [00:00<00:00, 18963.50it/s]\n",
      "\n",
      "100%|██████████| 720/720 [00:00<00:00, 18506.89it/s]\n",
      "100%|██████████| 18/18 [00:00<00:00, 22.98it/s]\n"
     ]
    }
   ],
   "source": [
    "allProducts = []\n",
    "\n",
    "for values in tqdm(valueList):\n",
    "    \n",
    "    otherValues = [i for i in range(1, 10) if i not in values]\n",
    "    otherPermutations = list(it.permutations(otherValues))\n",
    "    \n",
    "    for otherPermutation in tqdm(otherPermutations):\n",
    "        for i in range(len(otherPermutation)):\n",
    "            for j in range(i+1, len(otherPermutation)+1):\n",
    "\n",
    "                g1 = otherPermutation[:i]\n",
    "                g2 = otherPermutation[i:j]\n",
    "                g3 = otherPermutation[j:]\n",
    "\n",
    "                g1 = ''.join(map(str, g1))\n",
    "                g2 = ''.join(map(str, g2))\n",
    "                g3 = ''.join(map(str, g3))\n",
    "\n",
    "                v1, v2, v3 = values\n",
    "\n",
    "                g1 += str(v1)\n",
    "                g2 += str(v2)\n",
    "                g3 += str(v3)\n",
    "\n",
    "                g1 = int(g1)\n",
    "                g2 = int(g2)\n",
    "                g3 = int(g3)\n",
    "\n",
    "                if g1 * g2 == g3:\n",
    "                    print(g1, g2, g3)\n",
    "                    allProducts.append(g3)\n"
   ]
  },
  {
   "cell_type": "code",
   "execution_count": 50,
   "id": "65932aa9",
   "metadata": {
    "ExecuteTime": {
     "end_time": "2022-01-12T15:56:56.177254Z",
     "start_time": "2022-01-12T15:56:56.174554Z"
    }
   },
   "outputs": [
    {
     "data": {
      "text/plain": [
       "[5346, 5796, 6952, 4396, 7632, 7254]"
      ]
     },
     "execution_count": 50,
     "metadata": {},
     "output_type": "execute_result"
    }
   ],
   "source": [
    "allProducts = list(set(allProducts))\n",
    "allProducts"
   ]
  },
  {
   "cell_type": "code",
   "execution_count": 51,
   "id": "a588b91f",
   "metadata": {
    "ExecuteTime": {
     "end_time": "2022-01-12T15:57:21.914087Z",
     "start_time": "2022-01-12T15:57:21.911675Z"
    }
   },
   "outputs": [
    {
     "data": {
      "text/plain": [
       "37376"
      ]
     },
     "execution_count": 51,
     "metadata": {},
     "output_type": "execute_result"
    }
   ],
   "source": [
    "sum(allProducts)"
   ]
  },
  {
   "cell_type": "code",
   "execution_count": 52,
   "id": "a9992539",
   "metadata": {
    "ExecuteTime": {
     "end_time": "2022-01-12T15:58:12.802112Z",
     "start_time": "2022-01-12T15:58:12.799278Z"
    }
   },
   "outputs": [
    {
     "data": {
      "text/plain": [
       "5346"
      ]
     },
     "execution_count": 52,
     "metadata": {},
     "output_type": "execute_result"
    }
   ],
   "source": [
    "27*198"
   ]
  },
  {
   "cell_type": "code",
   "execution_count": 55,
   "id": "cdaf47e4",
   "metadata": {
    "ExecuteTime": {
     "end_time": "2022-01-12T15:59:38.265456Z",
     "start_time": "2022-01-12T15:59:38.186374Z"
    }
   },
   "outputs": [],
   "source": [
    "allCombinations = list(it.permutations(list(range(1, 10))))"
   ]
  },
  {
   "cell_type": "code",
   "execution_count": 56,
   "id": "e44118cc",
   "metadata": {
    "ExecuteTime": {
     "end_time": "2022-01-12T15:59:44.825812Z",
     "start_time": "2022-01-12T15:59:44.823411Z"
    }
   },
   "outputs": [
    {
     "data": {
      "text/plain": [
       "362880"
      ]
     },
     "execution_count": 56,
     "metadata": {},
     "output_type": "execute_result"
    }
   ],
   "source": [
    "len(allCombinations)"
   ]
  },
  {
   "cell_type": "code",
   "execution_count": 57,
   "id": "71fb26fd",
   "metadata": {
    "ExecuteTime": {
     "end_time": "2022-01-12T16:00:04.312770Z",
     "start_time": "2022-01-12T16:00:04.310989Z"
    }
   },
   "outputs": [],
   "source": [
    "curr = allCombinations[0]"
   ]
  },
  {
   "cell_type": "code",
   "execution_count": 58,
   "id": "420dbfdb",
   "metadata": {
    "ExecuteTime": {
     "end_time": "2022-01-12T16:00:06.839351Z",
     "start_time": "2022-01-12T16:00:06.836849Z"
    }
   },
   "outputs": [
    {
     "data": {
      "text/plain": [
       "(1, 2, 3, 4, 5, 6, 7, 8, 9)"
      ]
     },
     "execution_count": 58,
     "metadata": {},
     "output_type": "execute_result"
    }
   ],
   "source": [
    "curr"
   ]
  },
  {
   "cell_type": "code",
   "execution_count": 66,
   "id": "cf6ac642",
   "metadata": {
    "ExecuteTime": {
     "end_time": "2022-01-12T16:07:04.490922Z",
     "start_time": "2022-01-12T16:06:42.947912Z"
    }
   },
   "outputs": [
    {
     "name": "stdout",
     "output_type": "stream",
     "text": [
      "12 483 5796\n",
      "138 42 5796\n",
      "157 28 4396\n",
      "159 48 7632\n",
      "1738 4 6952\n",
      "18 297 5346\n",
      "186 39 7254\n",
      "1963 4 7852\n",
      "198 27 5346\n",
      "27 198 5346\n",
      "28 157 4396\n",
      "297 18 5346\n",
      "39 186 7254\n",
      "4 1738 6952\n",
      "4 1963 7852\n",
      "42 138 5796\n",
      "48 159 7632\n",
      "483 12 5796\n"
     ]
    }
   ],
   "source": [
    "allProducts = []\n",
    "\n",
    "for curr in allCombinations:\n",
    "    for i in range(1,9):\n",
    "        for j in range(i+1, 9):\n",
    "            g1, g2, g3 = curr[:i], curr[i:j], curr[j:] \n",
    "            g1 = int(''.join(map(str, g1)) )\n",
    "            g2 = int(''.join(map(str, g2)) )\n",
    "            g3 = int(''.join(map(str, g3)) )\n",
    "\n",
    "            if g1*g2 == g3:\n",
    "                print(g1, g2, g3)\n",
    "                \n",
    "                allProducts.append(g3)"
   ]
  },
  {
   "cell_type": "code",
   "execution_count": 69,
   "id": "b92e0976",
   "metadata": {
    "ExecuteTime": {
     "end_time": "2022-01-12T16:07:54.124218Z",
     "start_time": "2022-01-12T16:07:54.121452Z"
    }
   },
   "outputs": [
    {
     "data": {
      "text/plain": [
       "45228"
      ]
     },
     "execution_count": 69,
     "metadata": {},
     "output_type": "execute_result"
    }
   ],
   "source": [
    "sum(set(allProducts))"
   ]
  },
  {
   "cell_type": "code",
   "execution_count": null,
   "id": "c5e95896",
   "metadata": {},
   "outputs": [],
   "source": []
  }
 ],
 "metadata": {
  "hide_input": false,
  "kernelspec": {
   "display_name": "Python 3",
   "language": "python",
   "name": "python3"
  },
  "language_info": {
   "codemirror_mode": {
    "name": "ipython",
    "version": 3
   },
   "file_extension": ".py",
   "mimetype": "text/x-python",
   "name": "python",
   "nbconvert_exporter": "python",
   "pygments_lexer": "ipython3",
   "version": "3.8.10"
  },
  "toc": {
   "base_numbering": 1,
   "nav_menu": {},
   "number_sections": true,
   "sideBar": true,
   "skip_h1_title": false,
   "title_cell": "Table of Contents",
   "title_sidebar": "Contents",
   "toc_cell": false,
   "toc_position": {},
   "toc_section_display": true,
   "toc_window_display": false
  }
 },
 "nbformat": 4,
 "nbformat_minor": 5
}
