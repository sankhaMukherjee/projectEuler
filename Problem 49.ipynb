{
 "cells": [
  {
   "cell_type": "markdown",
   "id": "ace2b843",
   "metadata": {},
   "source": [
    "# Problem 49: Prime permutations\n",
    "\n",
    "\n",
    "The arithmetic sequence, 1487, 4817, 8147, in which each of the terms increases by 3330, is unusual in two ways: (i) each of the three terms are prime, and, (ii) each of the 4-digit numbers are permutations of one another.\n",
    "\n",
    "There are no arithmetic sequences made up of three 1-, 2-, or 3-digit primes, exhibiting this property, but there is one other 4-digit increasing sequence.\n",
    "\n",
    "What 12-digit number do you form by concatenating the three terms in this sequence?\n"
   ]
  },
  {
   "cell_type": "code",
   "execution_count": 30,
   "id": "549a76ce",
   "metadata": {
    "ExecuteTime": {
     "end_time": "2022-03-03T14:15:06.127485Z",
     "start_time": "2022-03-03T14:15:06.114719Z"
    }
   },
   "outputs": [],
   "source": [
    "import numpy as np\n",
    "primes = []\n",
    "nums = np.arange(2, 10000)\n",
    "while len(nums)>0:\n",
    "    n0 = nums[0]\n",
    "    primes.append( n0 )\n",
    "    nums = nums[ ~(nums % n0 == 0) ]"
   ]
  },
  {
   "cell_type": "code",
   "execution_count": 31,
   "id": "8718ff42",
   "metadata": {
    "ExecuteTime": {
     "end_time": "2022-03-03T14:15:08.868311Z",
     "start_time": "2022-03-03T14:15:08.864863Z"
    }
   },
   "outputs": [
    {
     "data": {
      "text/plain": [
       "[2, 3, 5, 7, 11, 13, 17, 19, 23, 29]"
      ]
     },
     "execution_count": 31,
     "metadata": {},
     "output_type": "execute_result"
    }
   ],
   "source": [
    "primes[:10]"
   ]
  },
  {
   "cell_type": "code",
   "execution_count": 32,
   "id": "81be125d",
   "metadata": {
    "ExecuteTime": {
     "end_time": "2022-03-03T14:15:18.468557Z",
     "start_time": "2022-03-03T14:15:18.453050Z"
    }
   },
   "outputs": [
    {
     "name": "stdout",
     "output_type": "stream",
     "text": [
      "1229\n"
     ]
    },
    {
     "data": {
      "text/plain": [
       "1061"
      ]
     },
     "execution_count": 32,
     "metadata": {},
     "output_type": "execute_result"
    }
   ],
   "source": [
    "print(len(primes))\n",
    "primes = [p for p in primes if p > 999]\n",
    "len(primes)"
   ]
  },
  {
   "cell_type": "code",
   "execution_count": 33,
   "id": "c50d6c24",
   "metadata": {
    "ExecuteTime": {
     "end_time": "2022-03-03T14:15:25.193105Z",
     "start_time": "2022-03-03T14:15:25.191443Z"
    }
   },
   "outputs": [],
   "source": [
    "Nprimes = len(primes)"
   ]
  },
  {
   "cell_type": "code",
   "execution_count": 41,
   "id": "2af84831",
   "metadata": {
    "ExecuteTime": {
     "end_time": "2022-03-03T14:19:08.150510Z",
     "start_time": "2022-03-03T14:19:08.138951Z"
    }
   },
   "outputs": [],
   "source": [
    "def findPrimeSequences(i):\n",
    "    sequence = []\n",
    "    \n",
    "    pa = primes[i]\n",
    "    nList = sorted(str(pa))\n",
    "    for j in range(i+1, Nprimes):\n",
    "        pb = primes[j]\n",
    "        if sorted(str(pb)) != nList: continue\n",
    "        pc = 2*pb -pa\n",
    "        if sorted(str(pc)) != nList: continue\n",
    "        if pc in primes:\n",
    "            sequence = [pa, pb, pc]\n",
    "            break\n",
    "    \n",
    "    return sequence"
   ]
  },
  {
   "cell_type": "code",
   "execution_count": 42,
   "id": "396fe801",
   "metadata": {
    "ExecuteTime": {
     "end_time": "2022-03-03T14:19:22.997052Z",
     "start_time": "2022-03-03T14:19:22.643914Z"
    }
   },
   "outputs": [
    {
     "name": "stdout",
     "output_type": "stream",
     "text": [
      "[1487, 4817, 8147]\n",
      "[2969, 6299, 9629]\n"
     ]
    }
   ],
   "source": [
    "for i in range(1000):\n",
    "    seq = findPrimeSequences(i)\n",
    "    if seq != []:\n",
    "        print(seq)"
   ]
  },
  {
   "cell_type": "code",
   "execution_count": 37,
   "id": "12415597",
   "metadata": {
    "ExecuteTime": {
     "end_time": "2022-03-03T14:16:59.214932Z",
     "start_time": "2022-03-03T14:16:59.212295Z"
    }
   },
   "outputs": [
    {
     "data": {
      "text/plain": [
       "['3', '3', '6', '7']"
      ]
     },
     "execution_count": 37,
     "metadata": {},
     "output_type": "execute_result"
    }
   ],
   "source": [
    "sorted(str(3637))"
   ]
  },
  {
   "cell_type": "code",
   "execution_count": null,
   "id": "3f8d5225",
   "metadata": {},
   "outputs": [],
   "source": []
  }
 ],
 "metadata": {
  "hide_input": false,
  "kernelspec": {
   "display_name": "Python 3",
   "language": "python",
   "name": "python3"
  },
  "language_info": {
   "codemirror_mode": {
    "name": "ipython",
    "version": 3
   },
   "file_extension": ".py",
   "mimetype": "text/x-python",
   "name": "python",
   "nbconvert_exporter": "python",
   "pygments_lexer": "ipython3",
   "version": "3.8.10"
  },
  "toc": {
   "base_numbering": 1,
   "nav_menu": {},
   "number_sections": true,
   "sideBar": true,
   "skip_h1_title": false,
   "title_cell": "Table of Contents",
   "title_sidebar": "Contents",
   "toc_cell": false,
   "toc_position": {},
   "toc_section_display": true,
   "toc_window_display": false
  }
 },
 "nbformat": 4,
 "nbformat_minor": 5
}
