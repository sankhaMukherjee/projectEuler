{
 "cells": [
  {
   "cell_type": "markdown",
   "id": "20939130",
   "metadata": {},
   "source": [
    "# Problem 46: Goldbach's other conjecture\n",
    "\n",
    "\n",
    "\n",
    "It was proposed by Christian Goldbach that every odd composite number can be written as the sum of a prime and twice a square.\n",
    "\n",
    "$$\n",
    "    9 = 7 + 2×1^2  \\\\\n",
    "    15 = 7 + 2×2^2 \\\\\n",
    "    21 = 3 + 2×3^2 \\\\\n",
    "    25 = 7 + 2×3^2 \\\\\n",
    "    27 = 19 + 2×2^2 \\\\\n",
    "    33 = 31 + 2×1^2 \\\\\n",
    "$$\n",
    "\n",
    "It turns out that the conjecture was false.\n",
    "\n",
    "What is the smallest odd composite that cannot be written as the sum of a prime and twice a square?\n"
   ]
  },
  {
   "cell_type": "code",
   "execution_count": 1,
   "id": "9609e2a2",
   "metadata": {
    "ExecuteTime": {
     "end_time": "2022-03-01T15:22:58.814335Z",
     "start_time": "2022-03-01T15:22:58.693380Z"
    }
   },
   "outputs": [],
   "source": [
    "import numpy as np"
   ]
  },
  {
   "cell_type": "code",
   "execution_count": 9,
   "id": "35bdc7bf",
   "metadata": {
    "ExecuteTime": {
     "end_time": "2022-03-01T15:26:33.154276Z",
     "start_time": "2022-03-01T15:26:32.753257Z"
    }
   },
   "outputs": [],
   "source": [
    "N = 100000\n",
    "\n",
    "primes = []\n",
    "nums   = np.arange(2, N)\n",
    "\n",
    "while len(nums)> 0:\n",
    "    n0 = nums[0]\n",
    "    primes.append(n0)\n",
    "    nums = nums[ nums % n0!= 0 ]"
   ]
  },
  {
   "cell_type": "code",
   "execution_count": 11,
   "id": "8ab546ac",
   "metadata": {
    "ExecuteTime": {
     "end_time": "2022-03-01T15:30:14.254258Z",
     "start_time": "2022-03-01T15:30:14.251744Z"
    }
   },
   "outputs": [],
   "source": [
    "primes = np.array(primes)"
   ]
  },
  {
   "cell_type": "code",
   "execution_count": 13,
   "id": "4a2b924c",
   "metadata": {
    "ExecuteTime": {
     "end_time": "2022-03-01T15:30:30.991662Z",
     "start_time": "2022-03-01T15:30:30.989027Z"
    }
   },
   "outputs": [
    {
     "data": {
      "text/plain": [
       "array([ 2,  3,  5,  7, 11, 13, 17, 19, 23, 29])"
      ]
     },
     "execution_count": 13,
     "metadata": {},
     "output_type": "execute_result"
    }
   ],
   "source": [
    "primes[:10]"
   ]
  },
  {
   "cell_type": "code",
   "execution_count": 20,
   "id": "a712cf82",
   "metadata": {
    "ExecuteTime": {
     "end_time": "2022-03-01T15:38:30.180163Z",
     "start_time": "2022-03-01T15:38:30.178025Z"
    }
   },
   "outputs": [],
   "source": [
    "def checkCondition(odd:int) -> bool:\n",
    "    \n",
    "    selectedPrimes = list(reversed(primes[ primes<odd ]))\n",
    "    for p in selectedPrimes:\n",
    "        v = np.sqrt((odd - p)/2)\n",
    "        if round(v) == v:\n",
    "            #print(f'{odd} = {p} + 2*{v}^2')\n",
    "            return True\n",
    "    \n",
    "    return False"
   ]
  },
  {
   "cell_type": "code",
   "execution_count": 22,
   "id": "d566e991",
   "metadata": {
    "ExecuteTime": {
     "end_time": "2022-03-01T15:39:02.828775Z",
     "start_time": "2022-03-01T15:39:02.684597Z"
    },
    "scrolled": false
   },
   "outputs": [
    {
     "name": "stdout",
     "output_type": "stream",
     "text": [
      "5777\n"
     ]
    }
   ],
   "source": [
    "N = 100000\n",
    "for i in range(1, N):\n",
    "    odd = 2*i+1\n",
    "    if odd in primes:\n",
    "        continue\n",
    "        \n",
    "    if not checkCondition(odd):\n",
    "        print( odd )\n",
    "        break\n",
    "    \n",
    "    "
   ]
  },
  {
   "cell_type": "code",
   "execution_count": null,
   "id": "308cc3da",
   "metadata": {},
   "outputs": [],
   "source": []
  }
 ],
 "metadata": {
  "hide_input": false,
  "kernelspec": {
   "display_name": "Python 3",
   "language": "python",
   "name": "python3"
  },
  "language_info": {
   "codemirror_mode": {
    "name": "ipython",
    "version": 3
   },
   "file_extension": ".py",
   "mimetype": "text/x-python",
   "name": "python",
   "nbconvert_exporter": "python",
   "pygments_lexer": "ipython3",
   "version": "3.8.10"
  },
  "toc": {
   "base_numbering": 1,
   "nav_menu": {},
   "number_sections": true,
   "sideBar": true,
   "skip_h1_title": false,
   "title_cell": "Table of Contents",
   "title_sidebar": "Contents",
   "toc_cell": false,
   "toc_position": {},
   "toc_section_display": true,
   "toc_window_display": false
  }
 },
 "nbformat": 4,
 "nbformat_minor": 5
}
