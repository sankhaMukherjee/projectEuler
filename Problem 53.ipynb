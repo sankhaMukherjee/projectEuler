{
 "cells": [
  {
   "cell_type": "markdown",
   "id": "841085cc",
   "metadata": {},
   "source": [
    "# Problem 53: Combinatoric selections\n",
    "\n",
    "There are exactly ten ways of selecting three from five, 12345:\n",
    "\n",
    "123, 124, 125, 134, 135, 145, 234, 235, 245, and 345\n",
    "\n",
    "In combinatorics  we use the notation, $\\left( \\frac 5  3\\right) = 10$.\n",
    "\n",
    "\n",
    "In general,$\\left( \\frac 5  3\\right) = \\frac {n!} {{r}! {(n-r)}!}$, where $r\\le n$, $n!=n\\times(n-1)\\times\\ldots\\times3\\times2\\times1$, and $0!=1$.\n",
    "\n",
    "It is not until $n=23$, that a value exceeds one-million: $\\left( \\frac {23} {10}\\right) = 1144066$.\n",
    "\n",
    "How many, not necessarily distinct, values of  $\\left( \\frac n  r\\right)$ for $1 \\le n \\le 100$, are greater than one-million?"
   ]
  },
  {
   "cell_type": "code",
   "execution_count": 6,
   "id": "ac39aba5",
   "metadata": {
    "ExecuteTime": {
     "end_time": "2022-03-14T14:57:44.705052Z",
     "start_time": "2022-03-14T14:57:44.703107Z"
    }
   },
   "outputs": [],
   "source": [
    "from math import comb"
   ]
  },
  {
   "cell_type": "code",
   "execution_count": 7,
   "id": "4552df6c",
   "metadata": {
    "ExecuteTime": {
     "end_time": "2022-03-14T14:57:57.942816Z",
     "start_time": "2022-03-14T14:57:57.940306Z"
    }
   },
   "outputs": [
    {
     "data": {
      "text/plain": [
       "1144066"
      ]
     },
     "execution_count": 7,
     "metadata": {},
     "output_type": "execute_result"
    }
   ],
   "source": [
    "comb(23, 10)"
   ]
  },
  {
   "cell_type": "code",
   "execution_count": 19,
   "id": "422c0b9c",
   "metadata": {
    "ExecuteTime": {
     "end_time": "2022-03-14T15:10:20.671389Z",
     "start_time": "2022-03-14T15:10:20.659301Z"
    }
   },
   "outputs": [
    {
     "name": "stdout",
     "output_type": "stream",
     "text": [
      "4075\n"
     ]
    }
   ],
   "source": [
    "count = 0\n",
    "for n in range(1, 101):\n",
    "    for r in range(0, n+1):\n",
    "        result = comb(n, r)\n",
    "        if result > 1e6:\n",
    "            count += 1\n",
    "            \n",
    "print(count)"
   ]
  },
  {
   "cell_type": "code",
   "execution_count": null,
   "id": "00c8c074",
   "metadata": {},
   "outputs": [],
   "source": []
  }
 ],
 "metadata": {
  "hide_input": false,
  "kernelspec": {
   "display_name": "Python 3",
   "language": "python",
   "name": "python3"
  },
  "language_info": {
   "codemirror_mode": {
    "name": "ipython",
    "version": 3
   },
   "file_extension": ".py",
   "mimetype": "text/x-python",
   "name": "python",
   "nbconvert_exporter": "python",
   "pygments_lexer": "ipython3",
   "version": "3.8.10"
  },
  "toc": {
   "base_numbering": 1,
   "nav_menu": {},
   "number_sections": true,
   "sideBar": true,
   "skip_h1_title": false,
   "title_cell": "Table of Contents",
   "title_sidebar": "Contents",
   "toc_cell": false,
   "toc_position": {},
   "toc_section_display": true,
   "toc_window_display": false
  }
 },
 "nbformat": 4,
 "nbformat_minor": 5
}
