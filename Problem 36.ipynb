{
 "cells": [
  {
   "cell_type": "markdown",
   "id": "766d3711",
   "metadata": {},
   "source": [
    "# Problem 36: Double-base palindromes\n",
    "\n",
    "The decimal number, 585 = $1001001001_2$ (binary), is palindromic in both bases.\n",
    "\n",
    "Find the sum of all numbers, less than one million, which are palindromic in base 10 and base 2.\n",
    "\n",
    "(Please note that the palindromic number, in either base, may not include leading zeros."
   ]
  },
  {
   "cell_type": "code",
   "execution_count": 5,
   "id": "84fd2681",
   "metadata": {
    "ExecuteTime": {
     "end_time": "2022-01-30T01:43:02.040425Z",
     "start_time": "2022-01-30T01:43:02.036999Z"
    }
   },
   "outputs": [
    {
     "data": {
      "text/plain": [
       "'4321'"
      ]
     },
     "execution_count": 5,
     "metadata": {},
     "output_type": "execute_result"
    }
   ],
   "source": [
    "''.join(reversed('1234'))"
   ]
  },
  {
   "cell_type": "code",
   "execution_count": 15,
   "id": "2f2c4fa9",
   "metadata": {
    "ExecuteTime": {
     "end_time": "2022-01-30T01:47:05.490377Z",
     "start_time": "2022-01-30T01:47:05.488033Z"
    }
   },
   "outputs": [
    {
     "data": {
      "text/plain": [
       "'1001001001'"
      ]
     },
     "execution_count": 15,
     "metadata": {},
     "output_type": "execute_result"
    }
   ],
   "source": [
    "n = 585\n",
    "f'{n:b}'"
   ]
  },
  {
   "cell_type": "code",
   "execution_count": 7,
   "id": "61b00de9",
   "metadata": {
    "ExecuteTime": {
     "end_time": "2022-01-30T01:43:44.293990Z",
     "start_time": "2022-01-30T01:43:44.289944Z"
    }
   },
   "outputs": [],
   "source": [
    "def isPal( n: int ) -> bool:\n",
    "    \n",
    "    nStr = str(n)\n",
    "    if nStr == ''.join(reversed(nStr)):\n",
    "        return True\n",
    "    \n",
    "    return False    "
   ]
  },
  {
   "cell_type": "code",
   "execution_count": 21,
   "id": "0f421667",
   "metadata": {
    "ExecuteTime": {
     "end_time": "2022-01-30T01:51:19.648095Z",
     "start_time": "2022-01-30T01:51:19.277292Z"
    }
   },
   "outputs": [
    {
     "name": "stdout",
     "output_type": "stream",
     "text": [
      "872187\n"
     ]
    }
   ],
   "source": [
    "N = 1000000\n",
    "\n",
    "nSum = 0\n",
    "\n",
    "for i in filter(isPal, range(1, N+1)):\n",
    "    iBin = f'{i:b}'\n",
    "    if iBin == ''.join(reversed(iBin)):\n",
    "        nSum += i\n",
    "print(nSum)"
   ]
  },
  {
   "cell_type": "code",
   "execution_count": null,
   "id": "e8ffa67d",
   "metadata": {},
   "outputs": [],
   "source": []
  },
  {
   "cell_type": "code",
   "execution_count": null,
   "id": "cb53347a",
   "metadata": {},
   "outputs": [],
   "source": []
  }
 ],
 "metadata": {
  "hide_input": false,
  "kernelspec": {
   "display_name": "Python 3",
   "language": "python",
   "name": "python3"
  },
  "language_info": {
   "codemirror_mode": {
    "name": "ipython",
    "version": 3
   },
   "file_extension": ".py",
   "mimetype": "text/x-python",
   "name": "python",
   "nbconvert_exporter": "python",
   "pygments_lexer": "ipython3",
   "version": "3.8.10"
  },
  "toc": {
   "base_numbering": 1,
   "nav_menu": {},
   "number_sections": true,
   "sideBar": true,
   "skip_h1_title": false,
   "title_cell": "Table of Contents",
   "title_sidebar": "Contents",
   "toc_cell": false,
   "toc_position": {},
   "toc_section_display": true,
   "toc_window_display": false
  }
 },
 "nbformat": 4,
 "nbformat_minor": 5
}
