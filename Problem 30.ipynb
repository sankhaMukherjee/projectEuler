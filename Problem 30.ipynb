{
 "cells": [
  {
   "cell_type": "markdown",
   "id": "5074dfba",
   "metadata": {},
   "source": [
    "# Problem 30: Digit fifth powers\n",
    "\n",
    "\n",
    "\n",
    "Surprisingly there are only three numbers that can be written as the sum of fourth powers of their digits:\n",
    "\n",
    "$$\n",
    "    1634 = 1^4 + 6^4 + 3^4 + 4^4 \\\\\n",
    "    8208 = 8^4 + 2^4 + 0^4 + 8^4 \\\\\n",
    "    9474 = 9^4 + 4^4 + 7^4 + 4^4 \\\\\n",
    "$$\n",
    "\n",
    "As 1 = 14 is not a sum it is not included.\n",
    "\n",
    "The sum of these numbers is 1634 + 8208 + 9474 = 19316.\n",
    "\n",
    "Find the sum of all the numbers that can be written as the sum of fifth powers of their digits.\n"
   ]
  },
  {
   "cell_type": "code",
   "execution_count": 10,
   "id": "e659bc6c",
   "metadata": {
    "ExecuteTime": {
     "end_time": "2021-12-11T13:30:20.483962Z",
     "start_time": "2021-12-11T13:30:20.478629Z"
    }
   },
   "outputs": [
    {
     "data": {
      "text/plain": [
       "15625"
      ]
     },
     "execution_count": 10,
     "metadata": {},
     "output_type": "execute_result"
    }
   ],
   "source": [
    "5*5**5"
   ]
  },
  {
   "cell_type": "code",
   "execution_count": 15,
   "id": "ef044f85",
   "metadata": {
    "ExecuteTime": {
     "end_time": "2021-12-11T13:34:25.448084Z",
     "start_time": "2021-12-11T13:34:25.445834Z"
    }
   },
   "outputs": [
    {
     "name": "stdout",
     "output_type": "stream",
     "text": [
      "  1 |       4,       5,       6,       7\n",
      "  2 |     128,     160,     192,     224\n",
      "  3 |     972,    1215,    1458,    1701\n",
      "  4 |    4096,    5120,    6144,    7168\n",
      "  5 |   12500,   15625,   18750,   21875\n",
      "  6 |   31104,   38880,   46656,   54432\n",
      "  7 |   67228,   84035,  100842,  117649\n",
      "  8 |  131072,  163840,  196608,  229376\n",
      "  9 |  236196,  295245,  354294,  413343\n"
     ]
    }
   ],
   "source": [
    "for i in range(1, 10):\n",
    "    print(f'{i:>3d} | {4*i**5:7d}, {5*i**5:7d}, {6*i**5:7d}, {7*i**5:7d}')"
   ]
  },
  {
   "cell_type": "code",
   "execution_count": 23,
   "id": "49e47db2",
   "metadata": {
    "ExecuteTime": {
     "end_time": "2021-12-11T13:41:34.321723Z",
     "start_time": "2021-12-11T13:41:34.310277Z"
    }
   },
   "outputs": [
    {
     "data": {
      "text/plain": [
       "[1024, 1, 3125, 0]"
      ]
     },
     "execution_count": 23,
     "metadata": {},
     "output_type": "execute_result"
    }
   ],
   "source": [
    "[i**p for i in map(int, str(4150))]"
   ]
  },
  {
   "cell_type": "code",
   "execution_count": 22,
   "id": "c2011870",
   "metadata": {
    "ExecuteTime": {
     "end_time": "2021-12-11T13:41:07.261867Z",
     "start_time": "2021-12-11T13:41:05.535500Z"
    }
   },
   "outputs": [
    {
     "name": "stdout",
     "output_type": "stream",
     "text": [
      "4150\n",
      "4151\n",
      "54748\n",
      "92727\n",
      "93084\n",
      "194979\n"
     ]
    },
    {
     "data": {
      "text/plain": [
       "443839"
      ]
     },
     "execution_count": 22,
     "metadata": {},
     "output_type": "execute_result"
    }
   ],
   "source": [
    "allValues = []\n",
    "p = 5\n",
    "for n in range(2, 999999):\n",
    "    n1 = sum([i**p for i in map(int, str(n))])\n",
    "    if (n == n1):\n",
    "        print(n)\n",
    "        allValues.append( n )\n",
    "        \n",
    "sum(allValues)"
   ]
  },
  {
   "cell_type": "code",
   "execution_count": null,
   "id": "162df360",
   "metadata": {},
   "outputs": [],
   "source": []
  }
 ],
 "metadata": {
  "hide_input": false,
  "kernelspec": {
   "display_name": "Python 3",
   "language": "python",
   "name": "python3"
  },
  "language_info": {
   "codemirror_mode": {
    "name": "ipython",
    "version": 3
   },
   "file_extension": ".py",
   "mimetype": "text/x-python",
   "name": "python",
   "nbconvert_exporter": "python",
   "pygments_lexer": "ipython3",
   "version": "3.8.10"
  },
  "toc": {
   "base_numbering": 1,
   "nav_menu": {},
   "number_sections": true,
   "sideBar": true,
   "skip_h1_title": false,
   "title_cell": "Table of Contents",
   "title_sidebar": "Contents",
   "toc_cell": false,
   "toc_position": {},
   "toc_section_display": true,
   "toc_window_display": false
  }
 },
 "nbformat": 4,
 "nbformat_minor": 5
}
