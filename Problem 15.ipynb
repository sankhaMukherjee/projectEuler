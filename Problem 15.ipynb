{
 "cells": [
  {
   "cell_type": "markdown",
   "id": "125309c2",
   "metadata": {},
   "source": [
    "# Problem 15: Lattice paths\n",
    "\n",
    "Starting in the top left corner of a 2×2 grid, and only being able to move to the right and down, there are exactly 6 routes to the bottom right corner.\n",
    "\n",
    "![img](https://projecteuler.net/project/images/p015.png)\n",
    "\n",
    "How many such routes are there through a 20×20 grid?"
   ]
  },
  {
   "cell_type": "code",
   "execution_count": 1,
   "id": "5d23920f",
   "metadata": {
    "ExecuteTime": {
     "end_time": "2021-11-29T15:55:30.674084Z",
     "start_time": "2021-11-29T15:55:30.669796Z"
    }
   },
   "outputs": [],
   "source": [
    "import math"
   ]
  },
  {
   "cell_type": "code",
   "execution_count": 3,
   "id": "3b15ae62",
   "metadata": {
    "ExecuteTime": {
     "end_time": "2021-11-29T15:56:05.820291Z",
     "start_time": "2021-11-29T15:56:05.817630Z"
    }
   },
   "outputs": [
    {
     "data": {
      "text/plain": [
       "137846528820.0"
      ]
     },
     "execution_count": 3,
     "metadata": {},
     "output_type": "execute_result"
    }
   ],
   "source": [
    "math.factorial(40)/( math.factorial(20)**2  )"
   ]
  },
  {
   "cell_type": "markdown",
   "id": "ee6fddf7",
   "metadata": {},
   "source": [
    "# Problem 16: Power digit sum\n",
    "\n",
    "\n",
    "\n",
    "$2^{15}$ = 32768 and the sum of its digits is 3 + 2 + 7 + 6 + 8 = 26.\n",
    "\n",
    "What is the sum of the digits of the number $2^{1000}$?\n"
   ]
  },
  {
   "cell_type": "code",
   "execution_count": 6,
   "id": "099b296c",
   "metadata": {
    "ExecuteTime": {
     "end_time": "2021-11-29T15:58:43.498333Z",
     "start_time": "2021-11-29T15:58:43.495762Z"
    }
   },
   "outputs": [
    {
     "data": {
      "text/plain": [
       "1366"
      ]
     },
     "execution_count": 6,
     "metadata": {},
     "output_type": "execute_result"
    }
   ],
   "source": [
    "sum(map(int, str(2**1000)))"
   ]
  },
  {
   "cell_type": "code",
   "execution_count": null,
   "id": "f1aee5a7",
   "metadata": {},
   "outputs": [],
   "source": []
  }
 ],
 "metadata": {
  "hide_input": false,
  "kernelspec": {
   "display_name": "Python 3",
   "language": "python",
   "name": "python3"
  },
  "language_info": {
   "codemirror_mode": {
    "name": "ipython",
    "version": 3
   },
   "file_extension": ".py",
   "mimetype": "text/x-python",
   "name": "python",
   "nbconvert_exporter": "python",
   "pygments_lexer": "ipython3",
   "version": "3.8.10"
  },
  "toc": {
   "base_numbering": 1,
   "nav_menu": {},
   "number_sections": true,
   "sideBar": true,
   "skip_h1_title": false,
   "title_cell": "Table of Contents",
   "title_sidebar": "Contents",
   "toc_cell": false,
   "toc_position": {},
   "toc_section_display": true,
   "toc_window_display": false
  }
 },
 "nbformat": 4,
 "nbformat_minor": 5
}
