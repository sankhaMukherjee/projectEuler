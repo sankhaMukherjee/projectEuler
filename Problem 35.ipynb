{
 "cells": [
  {
   "cell_type": "markdown",
   "id": "46a07aae",
   "metadata": {},
   "source": [
    "# Problem 35: Circular primes\n",
    "\n",
    "\n",
    "\n",
    "\n",
    "The number, 197, is called a circular prime because all rotations of the digits: 197, 971, and 719, are themselves prime.\n",
    "\n",
    "There are thirteen such primes below 100: 2, 3, 5, 7, 11, 13, 17, 31, 37, 71, 73, 79, and 97.\n",
    "\n",
    "How many circular primes are there below one million?\n"
   ]
  },
  {
   "cell_type": "code",
   "execution_count": 31,
   "id": "6e24b131",
   "metadata": {
    "ExecuteTime": {
     "end_time": "2022-01-23T15:53:56.394450Z",
     "start_time": "2022-01-23T15:53:56.368708Z"
    }
   },
   "outputs": [],
   "source": [
    "import numpy as np\n",
    "from typing import List\n",
    "from tqdm.notebook import tqdm"
   ]
  },
  {
   "cell_type": "code",
   "execution_count": 2,
   "id": "3206ac09",
   "metadata": {
    "ExecuteTime": {
     "end_time": "2022-01-23T15:39:21.938308Z",
     "start_time": "2022-01-23T15:39:21.927032Z"
    }
   },
   "outputs": [
    {
     "data": {
      "text/plain": [
       "array([     2,      3,      4, ..., 999997, 999998, 999999])"
      ]
     },
     "execution_count": 2,
     "metadata": {},
     "output_type": "execute_result"
    }
   ],
   "source": [
    "nums = np.arange(2, 1000000)\n",
    "nums"
   ]
  },
  {
   "cell_type": "code",
   "execution_count": 3,
   "id": "c6c275ca",
   "metadata": {
    "ExecuteTime": {
     "end_time": "2022-01-23T15:41:41.836590Z",
     "start_time": "2022-01-23T15:41:17.077023Z"
    }
   },
   "outputs": [],
   "source": [
    "primes = []\n",
    "while len(nums) > 0:\n",
    "    primes.append( nums[0] )\n",
    "    mask = nums % nums[0] != 0\n",
    "    nums = nums[ mask ]"
   ]
  },
  {
   "cell_type": "code",
   "execution_count": 8,
   "id": "853071c0",
   "metadata": {
    "ExecuteTime": {
     "end_time": "2022-01-23T15:43:02.416511Z",
     "start_time": "2022-01-23T15:43:02.414897Z"
    }
   },
   "outputs": [],
   "source": [
    "primesBelow100 = primes[:25]"
   ]
  },
  {
   "cell_type": "code",
   "execution_count": 17,
   "id": "e7f53357",
   "metadata": {
    "ExecuteTime": {
     "end_time": "2022-01-23T15:47:55.256351Z",
     "start_time": "2022-01-23T15:47:55.253904Z"
    }
   },
   "outputs": [],
   "source": [
    "def checkCircular(n:int) -> List[int]:\n",
    "    \n",
    "    n = str(n)\n",
    "    \n",
    "    if len(n)== 1: return [int(n)]\n",
    "    \n",
    "    N = len(n)\n",
    "    circulars = []\n",
    "    for _ in range(N):\n",
    "        circulars.append( int(n) )\n",
    "        n  = n[1:] + n[0]\n",
    "    \n",
    "    \n",
    "    return circulars"
   ]
  },
  {
   "cell_type": "code",
   "execution_count": 22,
   "id": "cd23cac6",
   "metadata": {
    "ExecuteTime": {
     "end_time": "2022-01-23T15:50:11.869084Z",
     "start_time": "2022-01-23T15:50:11.867306Z"
    }
   },
   "outputs": [],
   "source": [
    "def checkAllPrimes(n):\n",
    "    return all([(v in primes) for v in checkCircular(n)])"
   ]
  },
  {
   "cell_type": "code",
   "execution_count": 34,
   "id": "91f1ddc0",
   "metadata": {
    "ExecuteTime": {
     "end_time": "2022-01-23T16:08:34.850246Z",
     "start_time": "2022-01-23T16:00:19.011580Z"
    }
   },
   "outputs": [
    {
     "data": {
      "application/vnd.jupyter.widget-view+json": {
       "model_id": "be90746a845e442fb61efcc700a0970f",
       "version_major": 2,
       "version_minor": 0
      },
      "text/plain": [
       "  0%|          | 0/78498 [00:00<?, ?it/s]"
      ]
     },
     "metadata": {},
     "output_type": "display_data"
    },
    {
     "ename": "KeyboardInterrupt",
     "evalue": "",
     "output_type": "error",
     "traceback": [
      "\u001b[0;31m---------------------------------------------------------------------------\u001b[0m",
      "\u001b[0;31mKeyboardInterrupt\u001b[0m                         Traceback (most recent call last)",
      "\u001b[0;32m<ipython-input-34-074bdede4324>\u001b[0m in \u001b[0;36m<module>\u001b[0;34m\u001b[0m\n\u001b[1;32m      4\u001b[0m     \u001b[0;32mif\u001b[0m \u001b[0mp\u001b[0m \u001b[0;32min\u001b[0m \u001b[0mcP\u001b[0m\u001b[0;34m:\u001b[0m \u001b[0;32mcontinue\u001b[0m\u001b[0;34m\u001b[0m\u001b[0;34m\u001b[0m\u001b[0m\n\u001b[1;32m      5\u001b[0m     \u001b[0mps\u001b[0m \u001b[0;34m=\u001b[0m \u001b[0mcheckCircular\u001b[0m\u001b[0;34m(\u001b[0m\u001b[0mp\u001b[0m\u001b[0;34m)\u001b[0m\u001b[0;34m\u001b[0m\u001b[0;34m\u001b[0m\u001b[0m\n\u001b[0;32m----> 6\u001b[0;31m     \u001b[0;32mif\u001b[0m \u001b[0mcheckAllPrimes\u001b[0m\u001b[0;34m(\u001b[0m\u001b[0mp\u001b[0m\u001b[0;34m)\u001b[0m\u001b[0;34m:\u001b[0m\u001b[0;34m\u001b[0m\u001b[0;34m\u001b[0m\u001b[0m\n\u001b[0m\u001b[1;32m      7\u001b[0m         \u001b[0mcP\u001b[0m \u001b[0;34m+=\u001b[0m \u001b[0mps\u001b[0m\u001b[0;34m\u001b[0m\u001b[0;34m\u001b[0m\u001b[0m\n",
      "\u001b[0;32m<ipython-input-22-400f347339fb>\u001b[0m in \u001b[0;36mcheckAllPrimes\u001b[0;34m(n)\u001b[0m\n\u001b[1;32m      1\u001b[0m \u001b[0;32mdef\u001b[0m \u001b[0mcheckAllPrimes\u001b[0m\u001b[0;34m(\u001b[0m\u001b[0mn\u001b[0m\u001b[0;34m)\u001b[0m\u001b[0;34m:\u001b[0m\u001b[0;34m\u001b[0m\u001b[0;34m\u001b[0m\u001b[0m\n\u001b[0;32m----> 2\u001b[0;31m     \u001b[0;32mreturn\u001b[0m \u001b[0mall\u001b[0m\u001b[0;34m(\u001b[0m\u001b[0;34m[\u001b[0m\u001b[0;34m(\u001b[0m\u001b[0mv\u001b[0m \u001b[0;32min\u001b[0m \u001b[0mprimes\u001b[0m\u001b[0;34m)\u001b[0m \u001b[0;32mfor\u001b[0m \u001b[0mv\u001b[0m \u001b[0;32min\u001b[0m \u001b[0mcheckCircular\u001b[0m\u001b[0;34m(\u001b[0m\u001b[0mn\u001b[0m\u001b[0;34m)\u001b[0m\u001b[0;34m]\u001b[0m\u001b[0;34m)\u001b[0m\u001b[0;34m\u001b[0m\u001b[0;34m\u001b[0m\u001b[0m\n\u001b[0m",
      "\u001b[0;32m<ipython-input-22-400f347339fb>\u001b[0m in \u001b[0;36m<listcomp>\u001b[0;34m(.0)\u001b[0m\n\u001b[1;32m      1\u001b[0m \u001b[0;32mdef\u001b[0m \u001b[0mcheckAllPrimes\u001b[0m\u001b[0;34m(\u001b[0m\u001b[0mn\u001b[0m\u001b[0;34m)\u001b[0m\u001b[0;34m:\u001b[0m\u001b[0;34m\u001b[0m\u001b[0;34m\u001b[0m\u001b[0m\n\u001b[0;32m----> 2\u001b[0;31m     \u001b[0;32mreturn\u001b[0m \u001b[0mall\u001b[0m\u001b[0;34m(\u001b[0m\u001b[0;34m[\u001b[0m\u001b[0;34m(\u001b[0m\u001b[0mv\u001b[0m \u001b[0;32min\u001b[0m \u001b[0mprimes\u001b[0m\u001b[0;34m)\u001b[0m \u001b[0;32mfor\u001b[0m \u001b[0mv\u001b[0m \u001b[0;32min\u001b[0m \u001b[0mcheckCircular\u001b[0m\u001b[0;34m(\u001b[0m\u001b[0mn\u001b[0m\u001b[0;34m)\u001b[0m\u001b[0;34m]\u001b[0m\u001b[0;34m)\u001b[0m\u001b[0;34m\u001b[0m\u001b[0;34m\u001b[0m\u001b[0m\n\u001b[0m",
      "\u001b[0;31mKeyboardInterrupt\u001b[0m: "
     ]
    }
   ],
   "source": [
    "cP = []\n",
    "for p in tqdm(primes):\n",
    "    \n",
    "    if p in cP: continue\n",
    "    ps = checkCircular(p)\n",
    "    if checkAllPrimes(p):\n",
    "        cP += ps"
   ]
  },
  {
   "cell_type": "code",
   "execution_count": 29,
   "id": "ae067dc4",
   "metadata": {
    "ExecuteTime": {
     "end_time": "2022-01-23T15:52:19.739526Z",
     "start_time": "2022-01-23T15:52:19.737081Z"
    }
   },
   "outputs": [
    {
     "data": {
      "text/plain": [
       "13"
      ]
     },
     "execution_count": 29,
     "metadata": {},
     "output_type": "execute_result"
    }
   ],
   "source": [
    "\n",
    "\n"
   ]
  },
  {
   "cell_type": "code",
   "execution_count": 45,
   "id": "f0e5e6a2",
   "metadata": {
    "ExecuteTime": {
     "end_time": "2022-01-23T16:12:06.003178Z",
     "start_time": "2022-01-23T16:12:06.000356Z"
    }
   },
   "outputs": [],
   "source": [
    "def getCircular(n:int) -> List[int]:\n",
    "    \n",
    "    if len(str(n))== 1: \n",
    "        return [n]\n",
    "    \n",
    "    n = str(n)\n",
    "    N = len(n)\n",
    "    \n",
    "    circulars = []\n",
    "    for _ in range(N):\n",
    "        if int(n) not in primes: return []\n",
    "        circulars.append( int(n) )\n",
    "        n  = n[1:] + n[0]\n",
    "    \n",
    "    return circulars"
   ]
  },
  {
   "cell_type": "code",
   "execution_count": 47,
   "id": "dff0e8ea",
   "metadata": {
    "ExecuteTime": {
     "end_time": "2022-01-23T16:12:12.163639Z",
     "start_time": "2022-01-23T16:12:12.154122Z"
    }
   },
   "outputs": [
    {
     "data": {
      "text/plain": [
       "[13, 31]"
      ]
     },
     "execution_count": 47,
     "metadata": {},
     "output_type": "execute_result"
    }
   ],
   "source": [
    "getCircular(13)"
   ]
  },
  {
   "cell_type": "code",
   "execution_count": 48,
   "id": "0e77304d",
   "metadata": {
    "ExecuteTime": {
     "end_time": "2022-01-23T16:16:51.840113Z",
     "start_time": "2022-01-23T16:12:26.200646Z"
    }
   },
   "outputs": [
    {
     "data": {
      "application/vnd.jupyter.widget-view+json": {
       "model_id": "58df3d34ba744efa86113024d95ebddf",
       "version_major": 2,
       "version_minor": 0
      },
      "text/plain": [
       "  0%|          | 0/78498 [00:00<?, ?it/s]"
      ]
     },
     "metadata": {},
     "output_type": "display_data"
    }
   ],
   "source": [
    "from multiprocessing import Pool\n",
    "\n",
    "p = Pool()\n",
    "\n",
    "cP = []\n",
    "\n",
    "for v in tqdm(p.imap_unordered( getCircular, primes ), total=len(primes)):\n",
    "    cP += v\n"
   ]
  },
  {
   "cell_type": "code",
   "execution_count": 49,
   "id": "f91c13ab",
   "metadata": {
    "ExecuteTime": {
     "end_time": "2022-01-23T16:16:51.845139Z",
     "start_time": "2022-01-23T16:16:51.842010Z"
    }
   },
   "outputs": [],
   "source": [
    "p.close()"
   ]
  },
  {
   "cell_type": "code",
   "execution_count": 50,
   "id": "edf2a2b1",
   "metadata": {
    "ExecuteTime": {
     "end_time": "2022-01-23T16:17:02.179959Z",
     "start_time": "2022-01-23T16:17:02.177531Z"
    }
   },
   "outputs": [
    {
     "data": {
      "text/plain": [
       "212"
      ]
     },
     "execution_count": 50,
     "metadata": {},
     "output_type": "execute_result"
    }
   ],
   "source": [
    "len(cP)"
   ]
  },
  {
   "cell_type": "code",
   "execution_count": 52,
   "id": "41dc0ff7",
   "metadata": {
    "ExecuteTime": {
     "end_time": "2022-01-23T16:17:25.580309Z",
     "start_time": "2022-01-23T16:17:25.575534Z"
    }
   },
   "outputs": [],
   "source": [
    "cP = list(set(cP))"
   ]
  },
  {
   "cell_type": "code",
   "execution_count": 54,
   "id": "b5d339de",
   "metadata": {
    "ExecuteTime": {
     "end_time": "2022-01-23T16:17:54.805209Z",
     "start_time": "2022-01-23T16:17:54.802829Z"
    }
   },
   "outputs": [
    {
     "data": {
      "text/plain": [
       "55"
      ]
     },
     "execution_count": 54,
     "metadata": {},
     "output_type": "execute_result"
    }
   ],
   "source": [
    "len(cP)"
   ]
  },
  {
   "cell_type": "code",
   "execution_count": null,
   "id": "959aa2dc",
   "metadata": {},
   "outputs": [],
   "source": []
  }
 ],
 "metadata": {
  "hide_input": false,
  "kernelspec": {
   "display_name": "Python 3",
   "language": "python",
   "name": "python3"
  },
  "language_info": {
   "codemirror_mode": {
    "name": "ipython",
    "version": 3
   },
   "file_extension": ".py",
   "mimetype": "text/x-python",
   "name": "python",
   "nbconvert_exporter": "python",
   "pygments_lexer": "ipython3",
   "version": "3.8.10"
  },
  "toc": {
   "base_numbering": 1,
   "nav_menu": {},
   "number_sections": true,
   "sideBar": true,
   "skip_h1_title": false,
   "title_cell": "Table of Contents",
   "title_sidebar": "Contents",
   "toc_cell": false,
   "toc_position": {},
   "toc_section_display": true,
   "toc_window_display": false
  }
 },
 "nbformat": 4,
 "nbformat_minor": 5
}
