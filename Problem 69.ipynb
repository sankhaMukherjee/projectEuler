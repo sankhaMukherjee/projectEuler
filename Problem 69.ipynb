{
 "cells": [
  {
   "cell_type": "markdown",
   "id": "ea8a4239",
   "metadata": {},
   "source": [
    "# Problem 69: Totient maximum\n",
    "\n",
    "Euler's Totient function, φ(n) [sometimes called the phi function], is used to determine the number of numbers less than n which are relatively prime to n. For example, as 1, 2, 4, 5, 7, and 8, are all less than nine and relatively prime to nine, φ(9)=6.\n",
    "\n",
    "|n   | Relatively Prime | φ(n) | n/φ(n)    |\n",
    "|----|------------------|------|-----------|\n",
    "|2   | 1                |  1   | 2         |\n",
    "|3   | 1,2              |  2   | 1.5       |\n",
    "|4   | 1,3              |  2   | 2         |\n",
    "|5   | 1,2,3,4          |  4   | 1.25      |\n",
    "|6   | 1,5              |  2   | 3         |\n",
    "|7   | 1,2,3,4,5,6      |  6   | 1.1666... |\n",
    "|8   | 1,3,5,7          |  4   | 2         |\n",
    "|9   | 1,2,4,5,7,8      |  6   | 1.5       |\n",
    "|10  | 1,3,7,9          |  4   | 2.5       |\n",
    "\n",
    "It can be seen that n=6 produces a maximum n/φ(n) for n ≤ 10.\n",
    "\n",
    "Find the value of n ≤ 1,000,000 for which n/φ(n) is a maximum.\n"
   ]
  },
  {
   "cell_type": "code",
   "execution_count": 3,
   "id": "56cc5f8f",
   "metadata": {
    "ExecuteTime": {
     "end_time": "2022-07-17T10:54:48.437641Z",
     "start_time": "2022-07-17T10:54:48.435465Z"
    }
   },
   "outputs": [],
   "source": [
    "import numpy as np\n",
    "primes  = np.load('primesToMil.npy')"
   ]
  },
  {
   "cell_type": "code",
   "execution_count": 5,
   "id": "8342fd04",
   "metadata": {
    "ExecuteTime": {
     "end_time": "2022-07-17T11:10:15.617956Z",
     "start_time": "2022-07-17T11:10:15.615548Z"
    }
   },
   "outputs": [],
   "source": [
    "results = {}\n",
    "n = 1\n",
    "totient = 1\n",
    "\n",
    "for p in primes[:10]:\n",
    "    n *= p\n",
    "    totient *= p / (p-1)\n",
    "    results[n] = totient\n",
    "    "
   ]
  },
  {
   "cell_type": "code",
   "execution_count": 6,
   "id": "3d59364c",
   "metadata": {
    "ExecuteTime": {
     "end_time": "2022-07-17T11:10:43.372306Z",
     "start_time": "2022-07-17T11:10:43.369811Z"
    }
   },
   "outputs": [
    {
     "name": "stdout",
     "output_type": "stream",
     "text": [
      "2 2.0\n",
      "6 3.0\n",
      "30 3.75\n",
      "210 4.375\n",
      "2310 4.8125\n",
      "30030 5.213541666666666\n",
      "510510 5.539388020833333\n",
      "9699690 5.847131799768518\n",
      "223092870 6.112910517939814\n",
      "6469693230 6.33122875072338\n"
     ]
    }
   ],
   "source": [
    "for k, v in results.items():\n",
    "    print(k, v)"
   ]
  },
  {
   "cell_type": "code",
   "execution_count": null,
   "id": "ea331fd1",
   "metadata": {},
   "outputs": [],
   "source": [
    "510510; 9,699,690"
   ]
  }
 ],
 "metadata": {
  "hide_input": false,
  "kernelspec": {
   "display_name": "Python 3 (ipykernel)",
   "language": "python",
   "name": "python3"
  },
  "language_info": {
   "codemirror_mode": {
    "name": "ipython",
    "version": 3
   },
   "file_extension": ".py",
   "mimetype": "text/x-python",
   "name": "python",
   "nbconvert_exporter": "python",
   "pygments_lexer": "ipython3",
   "version": "3.10.5"
  },
  "toc": {
   "base_numbering": 1,
   "nav_menu": {},
   "number_sections": true,
   "sideBar": true,
   "skip_h1_title": false,
   "title_cell": "Table of Contents",
   "title_sidebar": "Contents",
   "toc_cell": false,
   "toc_position": {},
   "toc_section_display": true,
   "toc_window_display": false
  }
 },
 "nbformat": 4,
 "nbformat_minor": 5
}
