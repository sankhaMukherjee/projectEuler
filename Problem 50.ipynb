{
 "cells": [
  {
   "cell_type": "markdown",
   "id": "a772261a",
   "metadata": {},
   "source": [
    "# Problem 50: Consecutive prime sum\n",
    "\n",
    "\n",
    "\n",
    "The prime 41, can be written as the sum of six consecutive primes:\n",
    "41 = 2 + 3 + 5 + 7 + 11 + 13\n",
    "\n",
    "This is the longest sum of consecutive primes that adds to a prime below one-hundred.\n",
    "\n",
    "The longest sum of consecutive primes below one-thousand that adds to a prime, contains 21 terms, and is equal to 953.\n",
    "\n",
    "Which prime, below one-million, can be written as the sum of the most consecutive primes?\n"
   ]
  },
  {
   "cell_type": "code",
   "execution_count": 1,
   "id": "9600c84b",
   "metadata": {
    "ExecuteTime": {
     "end_time": "2022-03-06T14:09:08.694818Z",
     "start_time": "2022-03-06T14:08:43.222939Z"
    }
   },
   "outputs": [],
   "source": [
    "import numpy as np\n",
    "primes = []\n",
    "nums = np.arange(2, 1000000)\n",
    "while len(nums)>0:\n",
    "    n0 = nums[0]\n",
    "    primes.append( n0 )\n",
    "    nums = nums[ ~(nums % n0 == 0) ]"
   ]
  },
  {
   "cell_type": "code",
   "execution_count": 2,
   "id": "e150d4db",
   "metadata": {
    "ExecuteTime": {
     "end_time": "2022-03-06T14:09:08.702121Z",
     "start_time": "2022-03-06T14:09:08.695899Z"
    }
   },
   "outputs": [
    {
     "data": {
      "text/plain": [
       "[2,\n",
       " 3,\n",
       " 5,\n",
       " 7,\n",
       " 11,\n",
       " 13,\n",
       " 17,\n",
       " 19,\n",
       " 23,\n",
       " 29,\n",
       " 31,\n",
       " 37,\n",
       " 41,\n",
       " 43,\n",
       " 47,\n",
       " 53,\n",
       " 59,\n",
       " 61,\n",
       " 67,\n",
       " 71,\n",
       " 73,\n",
       " 79,\n",
       " 83,\n",
       " 89,\n",
       " 97,\n",
       " 101,\n",
       " 103,\n",
       " 107,\n",
       " 109,\n",
       " 113]"
      ]
     },
     "execution_count": 2,
     "metadata": {},
     "output_type": "execute_result"
    }
   ],
   "source": [
    "primes[:30]"
   ]
  },
  {
   "cell_type": "code",
   "execution_count": 3,
   "id": "20f07ecf",
   "metadata": {
    "ExecuteTime": {
     "end_time": "2022-03-06T14:09:08.704793Z",
     "start_time": "2022-03-06T14:09:08.703229Z"
    }
   },
   "outputs": [],
   "source": [
    "nPrimes = len(primes)"
   ]
  },
  {
   "cell_type": "code",
   "execution_count": 4,
   "id": "8619fc2a",
   "metadata": {
    "ExecuteTime": {
     "end_time": "2022-03-06T14:09:08.714681Z",
     "start_time": "2022-03-06T14:09:08.706044Z"
    }
   },
   "outputs": [],
   "source": [
    "primes = np.array(primes)"
   ]
  },
  {
   "cell_type": "code",
   "execution_count": 5,
   "id": "6d8d0f17",
   "metadata": {
    "ExecuteTime": {
     "end_time": "2022-03-06T14:09:08.718533Z",
     "start_time": "2022-03-06T14:09:08.715742Z"
    }
   },
   "outputs": [
    {
     "data": {
      "text/plain": [
       "78498"
      ]
     },
     "execution_count": 5,
     "metadata": {},
     "output_type": "execute_result"
    }
   ],
   "source": [
    "len(primes)"
   ]
  },
  {
   "cell_type": "code",
   "execution_count": 7,
   "id": "eba84ace",
   "metadata": {
    "ExecuteTime": {
     "end_time": "2022-03-06T13:51:14.032898Z",
     "start_time": "2022-03-06T13:51:14.030137Z"
    }
   },
   "outputs": [],
   "source": [
    "from typing import List\n",
    "def findSeq(n:int) -> List[int]:\n",
    "    largestSeq = []\n",
    "    \n",
    "    seq = []\n",
    "    \n",
    "    for i, p in enumerate(primes):\n",
    "        if p > n: break\n",
    "        for j in range(i+1, nPrimes):\n",
    "            seq = primes[i:j]\n",
    "            s = sum(seq)\n",
    "            if s > n: break\n",
    "                \n",
    "            if (s==n):\n",
    "                print(seq)\n",
    "            if (s == n) and len(seq)>len(largestSeq):\n",
    "                largestSeq = seq\n",
    "                \n",
    "    return n, largestSeq"
   ]
  },
  {
   "cell_type": "code",
   "execution_count": 8,
   "id": "36f19074",
   "metadata": {
    "ExecuteTime": {
     "end_time": "2022-03-06T13:51:14.983492Z",
     "start_time": "2022-03-06T13:51:14.980031Z"
    }
   },
   "outputs": [
    {
     "name": "stdout",
     "output_type": "stream",
     "text": [
      "[ 2  3  5  7 11 13]\n",
      "[11 13 17]\n",
      "[41]\n"
     ]
    },
    {
     "data": {
      "text/plain": [
       "(41, array([ 2,  3,  5,  7, 11, 13]))"
      ]
     },
     "execution_count": 8,
     "metadata": {},
     "output_type": "execute_result"
    }
   ],
   "source": [
    "findSeq(41)"
   ]
  },
  {
   "cell_type": "code",
   "execution_count": 9,
   "id": "b7fd4dc8",
   "metadata": {
    "ExecuteTime": {
     "end_time": "2022-03-06T13:51:18.595518Z",
     "start_time": "2022-03-06T13:51:18.592689Z"
    }
   },
   "outputs": [],
   "source": [
    "from typing import List\n",
    "def findSeq1(n:int) -> List[int]:\n",
    "    largestSeq = []\n",
    "    seq = []\n",
    "    \n",
    "    for i, p in enumerate(primes):\n",
    "        if p > n: break\n",
    "        s = p\n",
    "        for j in range(i+1, nPrimes):\n",
    "            s += primes[j]\n",
    "            if s > n: break\n",
    "            if (s == n):\n",
    "                seq = list(primes[i:j])\n",
    "                if len(seq)>len(largestSeq):\n",
    "                    largestSeq = seq\n",
    "                \n",
    "    return n, largestSeq"
   ]
  },
  {
   "cell_type": "code",
   "execution_count": 10,
   "id": "41c18c92",
   "metadata": {
    "ExecuteTime": {
     "end_time": "2022-03-06T13:51:22.058048Z",
     "start_time": "2022-03-06T13:51:22.055431Z"
    }
   },
   "outputs": [],
   "source": [
    "from typing import List, Tuple\n",
    "def findSeq2(n:int) -> Tuple[int, int]:\n",
    "    largestSeq = 0\n",
    "    seq = []\n",
    "    \n",
    "    for i, p in enumerate(primes):\n",
    "        if p > n: break\n",
    "        s = p\n",
    "        for j in range(i+1, nPrimes):\n",
    "            s += primes[j]\n",
    "            if s > n: break\n",
    "            if (s == n) and (j-i+1)>largestSeq:\n",
    "                    largestSeq = j-i+1\n",
    "                    #print(primes[i:j+1])\n",
    "                \n",
    "    return n, largestSeq"
   ]
  },
  {
   "cell_type": "code",
   "execution_count": 7,
   "id": "1c6c5ffd",
   "metadata": {
    "ExecuteTime": {
     "end_time": "2022-03-06T14:09:15.824789Z",
     "start_time": "2022-03-06T14:09:15.822064Z"
    }
   },
   "outputs": [],
   "source": [
    "from typing import List, Tuple\n",
    "def findSeq3(n:int) -> Tuple[int, int]:\n",
    "    largestSeq = 0\n",
    "    seq = []\n",
    "    \n",
    "    for i, p in enumerate(primes):\n",
    "        if p > n: break\n",
    "        s = p\n",
    "        for j in range(i+1, nPrimes):\n",
    "            s += primes[j]\n",
    "            if s > n: break\n",
    "            if (s == n):\n",
    "                largestSeq = j-i+1\n",
    "                return n, largestSeq\n",
    "                \n",
    "    return n, largestSeq"
   ]
  },
  {
   "cell_type": "code",
   "execution_count": 14,
   "id": "057e7bdf",
   "metadata": {
    "ExecuteTime": {
     "end_time": "2022-03-06T14:14:52.862184Z",
     "start_time": "2022-03-06T14:14:52.389990Z"
    }
   },
   "outputs": [
    {
     "data": {
      "text/plain": [
       "(953, 21)"
      ]
     },
     "execution_count": 14,
     "metadata": {},
     "output_type": "execute_result"
    }
   ],
   "source": [
    "@jit\n",
    "def findSeq4(n:int)-> Tuple[int, int]:\n",
    "    seqLen = 0\n",
    "    \n",
    "    i, j = 0,0\n",
    "    lenSum = primes[i]\n",
    "    #print('Starting iteration')\n",
    "    #print(f'lenSum == n, {i=}, {j=}, [{primes[i:j+1]}], {lenSum}')\n",
    "    while primes[i] < n:\n",
    "        \n",
    "        if lenSum == n:\n",
    "            seqLen = j-i+1\n",
    "            #print(f'lenSum == n, {i=}, {j=}, [{primes[i:j+1]}], {lenSum}')\n",
    "            break\n",
    "        \n",
    "        if lenSum < n:\n",
    "            j+=1\n",
    "            lenSum += primes[j]\n",
    "            #print(f'lenSum == n, {i=}, {j=}, [{primes[i:j+1]}], {lenSum}')\n",
    "            continue\n",
    "            \n",
    "        if lenSum > n:\n",
    "            lenSum -= primes[i]\n",
    "            i+=1\n",
    "            #print(f'lenSum == n, {i=}, {j=}, [{primes[i:j+1]}], {lenSum}')\n",
    "            \n",
    "    return n, seqLen\n",
    "\n",
    "findSeq4(953)"
   ]
  },
  {
   "cell_type": "code",
   "execution_count": 19,
   "id": "be3264b4",
   "metadata": {
    "ExecuteTime": {
     "end_time": "2022-03-06T13:52:53.009111Z",
     "start_time": "2022-03-06T13:52:53.005054Z"
    }
   },
   "outputs": [
    {
     "name": "stdout",
     "output_type": "stream",
     "text": [
      "[ 7 11 13 17 19 23 29 31 37 41 43 47 53 59 61 67 71 73 79 83 89]\n",
      "[953]\n",
      "CPU times: user 2.02 ms, sys: 45 µs, total: 2.06 ms\n",
      "Wall time: 1.88 ms\n"
     ]
    }
   ],
   "source": [
    "%%time\n",
    "_ = findSeq(953)"
   ]
  },
  {
   "cell_type": "code",
   "execution_count": 26,
   "id": "7950be1b",
   "metadata": {
    "ExecuteTime": {
     "end_time": "2022-03-06T13:53:29.045060Z",
     "start_time": "2022-03-06T13:53:29.042426Z"
    }
   },
   "outputs": [
    {
     "name": "stdout",
     "output_type": "stream",
     "text": [
      "CPU times: user 325 µs, sys: 0 ns, total: 325 µs\n",
      "Wall time: 327 µs\n"
     ]
    }
   ],
   "source": [
    "%%time\n",
    "_ = findSeq1(953)"
   ]
  },
  {
   "cell_type": "code",
   "execution_count": 23,
   "id": "521b55f0",
   "metadata": {
    "ExecuteTime": {
     "end_time": "2022-03-06T13:53:22.172578Z",
     "start_time": "2022-03-06T13:53:22.169196Z"
    }
   },
   "outputs": [
    {
     "name": "stdout",
     "output_type": "stream",
     "text": [
      "CPU times: user 312 µs, sys: 0 ns, total: 312 µs\n",
      "Wall time: 314 µs\n"
     ]
    },
    {
     "data": {
      "text/plain": [
       "(953, 21)"
      ]
     },
     "execution_count": 23,
     "metadata": {},
     "output_type": "execute_result"
    }
   ],
   "source": [
    "%%time\n",
    "findSeq2(953)"
   ]
  },
  {
   "cell_type": "code",
   "execution_count": 27,
   "id": "3d915c8a",
   "metadata": {
    "ExecuteTime": {
     "end_time": "2022-03-06T13:53:38.125695Z",
     "start_time": "2022-03-06T13:53:38.120386Z"
    }
   },
   "outputs": [
    {
     "name": "stdout",
     "output_type": "stream",
     "text": [
      "CPU times: user 83 µs, sys: 2 µs, total: 85 µs\n",
      "Wall time: 89.2 µs\n"
     ]
    },
    {
     "data": {
      "text/plain": [
       "(953, 21)"
      ]
     },
     "execution_count": 27,
     "metadata": {},
     "output_type": "execute_result"
    }
   ],
   "source": [
    "%%time\n",
    "findSeq3(953)"
   ]
  },
  {
   "cell_type": "code",
   "execution_count": 19,
   "id": "f64d32f8",
   "metadata": {
    "ExecuteTime": {
     "end_time": "2022-03-06T14:15:16.651390Z",
     "start_time": "2022-03-06T14:15:16.648191Z"
    }
   },
   "outputs": [
    {
     "name": "stdout",
     "output_type": "stream",
     "text": [
      "CPU times: user 5 µs, sys: 0 ns, total: 5 µs\n",
      "Wall time: 6.91 µs\n"
     ]
    },
    {
     "data": {
      "text/plain": [
       "(953, 21)"
      ]
     },
     "execution_count": 19,
     "metadata": {},
     "output_type": "execute_result"
    }
   ],
   "source": [
    "%%time\n",
    "findSeq4(953)"
   ]
  },
  {
   "cell_type": "code",
   "execution_count": 10,
   "id": "cd795868",
   "metadata": {
    "ExecuteTime": {
     "end_time": "2022-03-06T14:09:29.824554Z",
     "start_time": "2022-03-06T14:09:29.796242Z"
    }
   },
   "outputs": [],
   "source": [
    "from tqdm.notebook import tqdm\n",
    "from multiprocessing import Pool"
   ]
  },
  {
   "cell_type": "code",
   "execution_count": 20,
   "id": "bec2dc8d",
   "metadata": {
    "ExecuteTime": {
     "end_time": "2022-03-06T14:16:02.601984Z",
     "start_time": "2022-03-06T14:15:25.427095Z"
    }
   },
   "outputs": [
    {
     "data": {
      "application/vnd.jupyter.widget-view+json": {
       "model_id": "02ee903195034a2da01b1b2d6f4d5da4",
       "version_major": 2,
       "version_minor": 0
      },
      "text/plain": [
       "  0%|          | 0/78498 [00:00<?, ?it/s]"
      ]
     },
     "metadata": {},
     "output_type": "display_data"
    },
    {
     "data": {
      "text/plain": [
       "(997651, 543)"
      ]
     },
     "execution_count": 20,
     "metadata": {},
     "output_type": "execute_result"
    }
   ],
   "source": [
    "pLongest, seqLongest = -1, 0\n",
    "\n",
    "pl = Pool()\n",
    "\n",
    "for p, seqLen in tqdm(pl.imap_unordered(findSeq4, primes[:]), total=len(primes)):\n",
    "    #print(p, seqLen)\n",
    "    if seqLen > seqLongest:\n",
    "        pLongest, seqLongest = p, seqLen\n",
    "        \n",
    "pl.close()\n",
    "pLongest, seqLongest"
   ]
  },
  {
   "cell_type": "code",
   "execution_count": 12,
   "id": "b84499d0",
   "metadata": {
    "ExecuteTime": {
     "end_time": "2022-03-06T14:14:39.419860Z",
     "start_time": "2022-03-06T14:14:33.335940Z"
    }
   },
   "outputs": [
    {
     "name": "stdout",
     "output_type": "stream",
     "text": [
      "Defaulting to user installation because normal site-packages is not writeable\n",
      "Collecting numba\n",
      "  Downloading numba-0.55.1-1-cp39-cp39-manylinux2014_x86_64.manylinux_2_17_x86_64.whl (3.3 MB)\n",
      "     |████████████████████████████████| 3.3 MB 14.6 MB/s            \n",
      "\u001b[?25hRequirement already satisfied: setuptools in /usr/lib/python3/dist-packages (from numba) (45.2.0)\n",
      "Collecting llvmlite<0.39,>=0.38.0rc1\n",
      "  Downloading llvmlite-0.38.0-cp39-cp39-manylinux_2_17_x86_64.manylinux2014_x86_64.whl (34.5 MB)\n",
      "     |████████████████████████████████| 34.5 MB 24.7 MB/s            \n",
      "\u001b[?25hCollecting numpy<1.22,>=1.18\n",
      "  Downloading numpy-1.21.5-cp39-cp39-manylinux_2_12_x86_64.manylinux2010_x86_64.whl (15.7 MB)\n",
      "     |████████████████████████████████| 15.7 MB 43.0 MB/s            \n",
      "\u001b[?25hInstalling collected packages: numpy, llvmlite, numba\n",
      "Successfully installed llvmlite-0.38.0 numba-0.55.1 numpy-1.21.5\n",
      "\u001b[33mWARNING: You are using pip version 21.3.1; however, version 22.0.3 is available.\n",
      "You should consider upgrading via the '/usr/bin/python3.9 -m pip install --upgrade pip' command.\u001b[0m\n"
     ]
    }
   ],
   "source": [
    "!pip3 install numba"
   ]
  },
  {
   "cell_type": "code",
   "execution_count": 13,
   "id": "5b1ba281",
   "metadata": {
    "ExecuteTime": {
     "end_time": "2022-03-06T14:14:42.910628Z",
     "start_time": "2022-03-06T14:14:42.635642Z"
    }
   },
   "outputs": [],
   "source": [
    "from numba import jit"
   ]
  },
  {
   "cell_type": "code",
   "execution_count": 22,
   "id": "6a2f4939",
   "metadata": {
    "ExecuteTime": {
     "end_time": "2022-03-03T14:54:17.990847Z",
     "start_time": "2022-03-03T14:54:17.782337Z"
    }
   },
   "outputs": [
    {
     "data": {
      "application/vnd.jupyter.widget-view+json": {
       "model_id": "8c42b1dc00e140fa820e8b24feb20f3a",
       "version_major": 2,
       "version_minor": 0
      },
      "text/plain": [
       "  0%|          | 0/78498 [00:00<?, ?it/s]"
      ]
     },
     "metadata": {},
     "output_type": "display_data"
    }
   ],
   "source": [
    "pLongest, seqLongest = -1, []\n",
    "\n",
    "pl = Pool()\n",
    "\n",
    "for p, seq in tqdm(pl.imap_unordered(findSeq, primes[:170]), total=len(primes)):\n",
    "    if len(seq) > len(seqLongest):\n",
    "        pLongest, seqLongest = p, seq\n",
    "        \n",
    "pl.close()"
   ]
  },
  {
   "cell_type": "code",
   "execution_count": 24,
   "id": "c785f46a",
   "metadata": {
    "ExecuteTime": {
     "end_time": "2022-03-05T06:36:56.383393Z",
     "start_time": "2022-03-05T06:36:56.373135Z"
    }
   },
   "outputs": [
    {
     "data": {
      "text/plain": [
       "127"
      ]
     },
     "execution_count": 24,
     "metadata": {},
     "output_type": "execute_result"
    }
   ],
   "source": [
    "primes[30]"
   ]
  },
  {
   "cell_type": "code",
   "execution_count": null,
   "id": "c8d9d275",
   "metadata": {},
   "outputs": [],
   "source": []
  }
 ],
 "metadata": {
  "hide_input": false,
  "kernelspec": {
   "display_name": "Python 3",
   "language": "python",
   "name": "python3"
  },
  "language_info": {
   "codemirror_mode": {
    "name": "ipython",
    "version": 3
   },
   "file_extension": ".py",
   "mimetype": "text/x-python",
   "name": "python",
   "nbconvert_exporter": "python",
   "pygments_lexer": "ipython3",
   "version": "3.8.10"
  },
  "toc": {
   "base_numbering": 1,
   "nav_menu": {},
   "number_sections": true,
   "sideBar": true,
   "skip_h1_title": false,
   "title_cell": "Table of Contents",
   "title_sidebar": "Contents",
   "toc_cell": false,
   "toc_position": {},
   "toc_section_display": true,
   "toc_window_display": false
  }
 },
 "nbformat": 4,
 "nbformat_minor": 5
}
