{
 "cells": [
  {
   "cell_type": "markdown",
   "id": "a772261a",
   "metadata": {},
   "source": [
    "# Problem 50: Consecutive prime sum\n",
    "\n",
    "\n",
    "\n",
    "The prime 41, can be written as the sum of six consecutive primes:\n",
    "41 = 2 + 3 + 5 + 7 + 11 + 13\n",
    "\n",
    "This is the longest sum of consecutive primes that adds to a prime below one-hundred.\n",
    "\n",
    "The longest sum of consecutive primes below one-thousand that adds to a prime, contains 21 terms, and is equal to 953.\n",
    "\n",
    "Which prime, below one-million, can be written as the sum of the most consecutive primes?\n"
   ]
  },
  {
   "cell_type": "code",
   "execution_count": 1,
   "id": "9600c84b",
   "metadata": {
    "ExecuteTime": {
     "end_time": "2022-03-05T06:26:44.783318Z",
     "start_time": "2022-03-05T06:26:19.308888Z"
    }
   },
   "outputs": [],
   "source": [
    "import numpy as np\n",
    "primes = []\n",
    "nums = np.arange(2, 1000000)\n",
    "while len(nums)>0:\n",
    "    n0 = nums[0]\n",
    "    primes.append( n0 )\n",
    "    nums = nums[ ~(nums % n0 == 0) ]"
   ]
  },
  {
   "cell_type": "code",
   "execution_count": 2,
   "id": "20f07ecf",
   "metadata": {
    "ExecuteTime": {
     "end_time": "2022-03-05T06:26:44.785966Z",
     "start_time": "2022-03-05T06:26:44.784273Z"
    }
   },
   "outputs": [],
   "source": [
    "nPrimes = len(primes)"
   ]
  },
  {
   "cell_type": "code",
   "execution_count": 3,
   "id": "8619fc2a",
   "metadata": {
    "ExecuteTime": {
     "end_time": "2022-03-05T06:26:44.796530Z",
     "start_time": "2022-03-05T06:26:44.787154Z"
    }
   },
   "outputs": [],
   "source": [
    "primes = np.array(primes)"
   ]
  },
  {
   "cell_type": "code",
   "execution_count": 7,
   "id": "9a88c931",
   "metadata": {
    "ExecuteTime": {
     "end_time": "2022-03-05T06:27:25.904605Z",
     "start_time": "2022-03-05T06:27:25.897739Z"
    }
   },
   "outputs": [
    {
     "data": {
      "text/plain": [
       "78498"
      ]
     },
     "execution_count": 7,
     "metadata": {},
     "output_type": "execute_result"
    }
   ],
   "source": [
    "len(primes)"
   ]
  },
  {
   "cell_type": "code",
   "execution_count": 12,
   "id": "eba84ace",
   "metadata": {
    "ExecuteTime": {
     "end_time": "2022-03-05T06:29:36.991596Z",
     "start_time": "2022-03-05T06:29:36.988948Z"
    }
   },
   "outputs": [],
   "source": [
    "from typing import List\n",
    "def findSeq(n:int) -> List[int]:\n",
    "    largestSeq = []\n",
    "    \n",
    "    seq = []\n",
    "    \n",
    "    for i, p in enumerate(primes):\n",
    "        if p > n: break\n",
    "        for j in range(i+1, nPrimes):\n",
    "            seq = primes[i:j]\n",
    "            s = sum(seq)\n",
    "            if s > n: break\n",
    "                \n",
    "            if (s==n):\n",
    "                print(seq)\n",
    "            if (s == n) and len(seq)>len(largestSeq):\n",
    "                largestSeq = seq\n",
    "                \n",
    "    return n, largestSeq"
   ]
  },
  {
   "cell_type": "code",
   "execution_count": 13,
   "id": "aaecc08a",
   "metadata": {
    "ExecuteTime": {
     "end_time": "2022-03-05T06:29:37.440883Z",
     "start_time": "2022-03-05T06:29:37.437751Z"
    }
   },
   "outputs": [
    {
     "name": "stdout",
     "output_type": "stream",
     "text": [
      "[ 2  3  5  7 11 13]\n",
      "[11 13 17]\n",
      "[41]\n"
     ]
    },
    {
     "data": {
      "text/plain": [
       "(41, array([ 2,  3,  5,  7, 11, 13]))"
      ]
     },
     "execution_count": 13,
     "metadata": {},
     "output_type": "execute_result"
    }
   ],
   "source": [
    "findSeq(41)"
   ]
  },
  {
   "cell_type": "code",
   "execution_count": 5,
   "id": "b7fd4dc8",
   "metadata": {
    "ExecuteTime": {
     "end_time": "2022-03-05T06:26:44.804146Z",
     "start_time": "2022-03-05T06:26:44.801517Z"
    }
   },
   "outputs": [],
   "source": [
    "from typing import List\n",
    "def findSeq1(n:int) -> List[int]:\n",
    "    largestSeq = []\n",
    "    seq = []\n",
    "    \n",
    "    for i, p in enumerate(primes):\n",
    "        if p > n: break\n",
    "        s = p\n",
    "        for j in range(i+1, nPrimes):\n",
    "            s += primes[j]\n",
    "            if s > n: break\n",
    "            if (s == n):\n",
    "                seq = list(primes[i:j])\n",
    "                if len(seq)>len(largestSeq):\n",
    "                    largestSeq = seq\n",
    "                \n",
    "    return n, largestSeq"
   ]
  },
  {
   "cell_type": "code",
   "execution_count": 14,
   "id": "41c18c92",
   "metadata": {
    "ExecuteTime": {
     "end_time": "2022-03-05T06:33:22.358658Z",
     "start_time": "2022-03-05T06:33:22.356007Z"
    }
   },
   "outputs": [],
   "source": [
    "from typing import List, Tuple\n",
    "def findSeq2(n:int) -> Tuple[int, int]:\n",
    "    largestSeq = 0\n",
    "    seq = []\n",
    "    \n",
    "    for i, p in enumerate(primes):\n",
    "        if p > n: break\n",
    "        s = p\n",
    "        for j in range(i+1, nPrimes):\n",
    "            s += primes[j]\n",
    "            if s > n: break\n",
    "            if (s == n) and (j-i+1)>largestSeq:\n",
    "                    largestSeq = j-i+1\n",
    "                    #print(primes[i:j+1])\n",
    "                \n",
    "    return n, largestSeq"
   ]
  },
  {
   "cell_type": "code",
   "execution_count": 20,
   "id": "669e4214",
   "metadata": {
    "ExecuteTime": {
     "end_time": "2022-03-05T06:35:54.550101Z",
     "start_time": "2022-03-05T06:35:54.546421Z"
    }
   },
   "outputs": [
    {
     "name": "stdout",
     "output_type": "stream",
     "text": [
      "CPU times: user 318 µs, sys: 8 µs, total: 326 µs\n",
      "Wall time: 328 µs\n"
     ]
    },
    {
     "data": {
      "text/plain": [
       "(953, 21)"
      ]
     },
     "execution_count": 20,
     "metadata": {},
     "output_type": "execute_result"
    }
   ],
   "source": [
    "%%time\n",
    "findSeq2(953)"
   ]
  },
  {
   "cell_type": "code",
   "execution_count": 16,
   "id": "3538824f",
   "metadata": {
    "ExecuteTime": {
     "end_time": "2022-03-05T06:34:57.028018Z",
     "start_time": "2022-03-05T06:34:57.018379Z"
    }
   },
   "outputs": [],
   "source": [
    "from typing import List, Tuple\n",
    "def findSeq3(n:int) -> Tuple[int, int]:\n",
    "    largestSeq = 0\n",
    "    seq = []\n",
    "    \n",
    "    for i, p in enumerate(primes):\n",
    "        if p > n: break\n",
    "        s = p\n",
    "        for j in range(i+1, nPrimes):\n",
    "            s += primes[j]\n",
    "            if s > n: break\n",
    "            if (s == n):\n",
    "                largestSeq = j-i+1\n",
    "                return n, largestSeq\n",
    "                \n",
    "    return n, largestSeq"
   ]
  },
  {
   "cell_type": "code",
   "execution_count": null,
   "id": "4ae76d48",
   "metadata": {},
   "outputs": [],
   "source": [
    "from typing import List, Tuple\n",
    "def findSeq3(n:int) -> Tuple[int, int]:\n",
    "    largestSeq = 0\n",
    "    seq = []\n",
    "    \n",
    "    for i, p in enumerate(primes):\n",
    "        if p > n: break\n",
    "        s = p\n",
    "        for j in range(i+1, nPrimes):\n",
    "            s += primes[j]\n",
    "            if s > n: break\n",
    "            if (s == n):\n",
    "                largestSeq = j-i+1\n",
    "                return n, largestSeq\n",
    "                \n",
    "    return n, largestSeq"
   ]
  },
  {
   "cell_type": "code",
   "execution_count": 21,
   "id": "3d915c8a",
   "metadata": {
    "ExecuteTime": {
     "end_time": "2022-03-05T06:36:05.474665Z",
     "start_time": "2022-03-05T06:36:05.471712Z"
    }
   },
   "outputs": [
    {
     "name": "stdout",
     "output_type": "stream",
     "text": [
      "CPU times: user 48 µs, sys: 1 µs, total: 49 µs\n",
      "Wall time: 50.3 µs\n"
     ]
    },
    {
     "data": {
      "text/plain": [
       "(953, 21)"
      ]
     },
     "execution_count": 21,
     "metadata": {},
     "output_type": "execute_result"
    }
   ],
   "source": [
    "%%time\n",
    "findSeq3(953)"
   ]
  },
  {
   "cell_type": "code",
   "execution_count": 22,
   "id": "cd795868",
   "metadata": {
    "ExecuteTime": {
     "end_time": "2022-03-05T06:36:33.754397Z",
     "start_time": "2022-03-05T06:36:33.709519Z"
    }
   },
   "outputs": [],
   "source": [
    "from tqdm.notebook import tqdm\n",
    "from multiprocessing import Pool"
   ]
  },
  {
   "cell_type": "code",
   "execution_count": 27,
   "id": "bec2dc8d",
   "metadata": {
    "ExecuteTime": {
     "end_time": "2022-03-05T06:54:32.668838Z",
     "start_time": "2022-03-05T06:37:58.386447Z"
    }
   },
   "outputs": [
    {
     "data": {
      "application/vnd.jupyter.widget-view+json": {
       "model_id": "6a70951d5cd44ba8b844e767d077bcfd",
       "version_major": 2,
       "version_minor": 0
      },
      "text/plain": [
       "  0%|          | 0/78498 [00:00<?, ?it/s]"
      ]
     },
     "metadata": {},
     "output_type": "display_data"
    },
    {
     "data": {
      "text/plain": [
       "(997651, 543)"
      ]
     },
     "execution_count": 27,
     "metadata": {},
     "output_type": "execute_result"
    }
   ],
   "source": [
    "pLongest, seqLongest = -1, 0\n",
    "\n",
    "pl = Pool()\n",
    "\n",
    "for p, seqLen in tqdm(pl.imap_unordered(findSeq3, primes[:]), total=len(primes)):\n",
    "    #print(p, seqLen)\n",
    "    if seqLen > seqLongest:\n",
    "        pLongest, seqLongest = p, seqLen\n",
    "        \n",
    "pl.close()\n",
    "pLongest, seqLongest"
   ]
  },
  {
   "cell_type": "code",
   "execution_count": 27,
   "id": "b84499d0",
   "metadata": {
    "ExecuteTime": {
     "end_time": "2022-03-03T15:09:02.170478Z",
     "start_time": "2022-03-03T15:09:02.161722Z"
    }
   },
   "outputs": [
    {
     "data": {
      "text/plain": [
       "(953, 21)"
      ]
     },
     "execution_count": 27,
     "metadata": {},
     "output_type": "execute_result"
    }
   ],
   "source": [
    "pLongest, seqLongest"
   ]
  },
  {
   "cell_type": "code",
   "execution_count": 22,
   "id": "6a2f4939",
   "metadata": {
    "ExecuteTime": {
     "end_time": "2022-03-03T14:54:17.990847Z",
     "start_time": "2022-03-03T14:54:17.782337Z"
    }
   },
   "outputs": [
    {
     "data": {
      "application/vnd.jupyter.widget-view+json": {
       "model_id": "8c42b1dc00e140fa820e8b24feb20f3a",
       "version_major": 2,
       "version_minor": 0
      },
      "text/plain": [
       "  0%|          | 0/78498 [00:00<?, ?it/s]"
      ]
     },
     "metadata": {},
     "output_type": "display_data"
    }
   ],
   "source": [
    "pLongest, seqLongest = -1, []\n",
    "\n",
    "pl = Pool()\n",
    "\n",
    "for p, seq in tqdm(pl.imap_unordered(findSeq, primes[:170]), total=len(primes)):\n",
    "    if len(seq) > len(seqLongest):\n",
    "        pLongest, seqLongest = p, seq\n",
    "        \n",
    "pl.close()"
   ]
  },
  {
   "cell_type": "code",
   "execution_count": 24,
   "id": "c785f46a",
   "metadata": {
    "ExecuteTime": {
     "end_time": "2022-03-05T06:36:56.383393Z",
     "start_time": "2022-03-05T06:36:56.373135Z"
    }
   },
   "outputs": [
    {
     "data": {
      "text/plain": [
       "127"
      ]
     },
     "execution_count": 24,
     "metadata": {},
     "output_type": "execute_result"
    }
   ],
   "source": [
    "primes[30]"
   ]
  },
  {
   "cell_type": "code",
   "execution_count": null,
   "id": "f5ad972f",
   "metadata": {},
   "outputs": [],
   "source": []
  }
 ],
 "metadata": {
  "hide_input": false,
  "kernelspec": {
   "display_name": "Python 3",
   "language": "python",
   "name": "python3"
  },
  "language_info": {
   "codemirror_mode": {
    "name": "ipython",
    "version": 3
   },
   "file_extension": ".py",
   "mimetype": "text/x-python",
   "name": "python",
   "nbconvert_exporter": "python",
   "pygments_lexer": "ipython3",
   "version": "3.8.10"
  },
  "toc": {
   "base_numbering": 1,
   "nav_menu": {},
   "number_sections": true,
   "sideBar": true,
   "skip_h1_title": false,
   "title_cell": "Table of Contents",
   "title_sidebar": "Contents",
   "toc_cell": false,
   "toc_position": {},
   "toc_section_display": true,
   "toc_window_display": false
  }
 },
 "nbformat": 4,
 "nbformat_minor": 5
}
