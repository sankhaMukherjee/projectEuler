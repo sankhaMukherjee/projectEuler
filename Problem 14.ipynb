{
 "cells": [
  {
   "cell_type": "markdown",
   "id": "383e0b18",
   "metadata": {},
   "source": [
    "# Problem 14: Longest Collatz sequence\n",
    "\n",
    "The following iterative sequence is defined for the set of positive integers:\n",
    "\n",
    "```\n",
    "n → n/2 (n is even)\n",
    "n → 3n + 1 (n is odd)\n",
    "```\n",
    "\n",
    "Using the rule above and starting with 13, we generate the following sequence:\n",
    "`13 → 40 → 20 → 10 → 5 → 16 → 8 → 4 → 2 → 1`\n",
    "\n",
    "It can be seen that this sequence (starting at 13 and finishing at 1) contains 10 terms. Although it has not been proved yet (Collatz Problem), it is thought that all starting numbers finish at 1.\n",
    "\n",
    "Which starting number, under one million, produces the lon"
   ]
  },
  {
   "cell_type": "code",
   "execution_count": 13,
   "id": "5395a5c6",
   "metadata": {
    "ExecuteTime": {
     "end_time": "2021-11-27T16:39:03.619821Z",
     "start_time": "2021-11-27T16:39:03.617726Z"
    }
   },
   "outputs": [],
   "source": [
    "def cSequenceOld(n):\n",
    "    \n",
    "    sequence = [n]\n",
    "    while n != 1:\n",
    "        if n %2 == 0:\n",
    "            n = n//2\n",
    "        else:\n",
    "            n = 3*n + 1\n",
    "        sequence.append( n )\n",
    "        \n",
    "    return sequence, len(sequence)"
   ]
  },
  {
   "cell_type": "code",
   "execution_count": 55,
   "id": "8662ca9a",
   "metadata": {
    "ExecuteTime": {
     "end_time": "2021-11-27T17:01:02.055691Z",
     "start_time": "2021-11-27T17:01:02.052557Z"
    }
   },
   "outputs": [],
   "source": [
    "def cSequence(nOrig, prevSeq):\n",
    "    \n",
    "    n = nOrig\n",
    "    if n in prevSeq:\n",
    "        return prevSeq[n], prevSeq\n",
    "    \n",
    "    sequence = [n]\n",
    "    \n",
    "    while n != 1:\n",
    "        if n % 2 == 0:\n",
    "            n = n//2\n",
    "        else:\n",
    "            n = 3*n + 1\n",
    "            \n",
    "        if n in prevSeq:\n",
    "            sequence += prevSeq[n]\n",
    "            #prevSeq[ nOrig ] = sequence\n",
    "            #return sequence, prevSeq\n",
    "            break\n",
    "        \n",
    "        sequence.append(n)\n",
    "        \n",
    "    prevSeq[ nOrig ] = sequence\n",
    "    for i, s in enumerate(sequence):\n",
    "        if s not in prevSeq:\n",
    "            prevSeq[s] = sequence[i:]\n",
    "        \n",
    "    return sequence, prevSeq"
   ]
  },
  {
   "cell_type": "code",
   "execution_count": 62,
   "id": "9831aca8",
   "metadata": {
    "ExecuteTime": {
     "end_time": "2021-11-27T17:02:03.958927Z",
     "start_time": "2021-11-27T17:02:03.955492Z"
    }
   },
   "outputs": [],
   "source": [
    "prevSeq = {}"
   ]
  },
  {
   "cell_type": "code",
   "execution_count": 65,
   "id": "bc2f9125",
   "metadata": {
    "ExecuteTime": {
     "end_time": "2021-11-27T17:04:17.309902Z",
     "start_time": "2021-11-27T17:04:17.303184Z"
    }
   },
   "outputs": [],
   "source": [
    "from tqdm import tqdm"
   ]
  },
  {
   "cell_type": "code",
   "execution_count": 66,
   "id": "92a9f5cd",
   "metadata": {
    "ExecuteTime": {
     "end_time": "2021-11-27T17:05:00.695138Z",
     "start_time": "2021-11-27T17:04:55.428924Z"
    }
   },
   "outputs": [
    {
     "name": "stderr",
     "output_type": "stream",
     "text": [
      " 25%|██▍       | 247486/999998 [00:00<00:00, 1300978.02it/s]"
     ]
    },
    {
     "name": "stdout",
     "output_type": "stream",
     "text": [
      "     2, 2\n",
      "     3, 8\n",
      "     6, 9\n",
      "     7, 17\n",
      "     9, 20\n",
      "    18, 21\n",
      "    25, 24\n",
      "    27, 112\n",
      "    54, 113\n",
      "    73, 116\n",
      "    97, 119\n",
      "   129, 122\n",
      "   171, 125\n",
      "   231, 128\n",
      "   313, 131\n",
      "   327, 144\n",
      "   649, 145\n",
      "   703, 171\n",
      "   871, 179\n",
      "  1161, 182\n",
      "  2223, 183\n",
      "  2463, 209\n",
      "  2919, 217\n",
      "  3711, 238\n",
      "  6171, 262\n",
      " 10971, 268\n",
      " 13255, 276\n",
      " 17647, 279\n",
      " 23529, 282\n",
      " 26623, 308\n",
      " 34239, 311\n",
      " 35655, 324\n",
      " 52527, 340\n",
      " 77031, 351\n",
      "106239, 354\n",
      "142587, 375\n",
      "156159, 383\n",
      "216367, 386\n",
      "230631, 443\n"
     ]
    },
    {
     "name": "stderr",
     "output_type": "stream",
     "text": [
      " 58%|█████▊    | 581569/999998 [00:00<00:00, 1549823.46it/s]"
     ]
    },
    {
     "name": "stdout",
     "output_type": "stream",
     "text": [
      "410011, 449\n",
      "511935, 470\n",
      "626331, 509\n"
     ]
    },
    {
     "name": "stderr",
     "output_type": "stream",
     "text": [
      " 84%|████████▍ | 839584/999998 [00:02<00:00, 211873.45it/s] "
     ]
    },
    {
     "name": "stdout",
     "output_type": "stream",
     "text": [
      "837799, 525\n"
     ]
    },
    {
     "name": "stderr",
     "output_type": "stream",
     "text": [
      "100%|██████████| 999998/999998 [00:05<00:00, 190187.24it/s]\n"
     ]
    }
   ],
   "source": [
    "maxLen = 0\n",
    "for i in tqdm(range(2, 1000000)):\n",
    "    seq, prevSeq = cSequence(i, prevSeq)\n",
    "    n = len(seq)\n",
    "    if n > maxLen:\n",
    "        maxLen = n\n",
    "        tqdm.write(f'{i:6d}, {maxLen}')\n",
    "    #print( f'{i:5}, {n:5}, {seq}' )\n",
    "    #print(list(prevSeq.keys()))"
   ]
  },
  {
   "cell_type": "code",
   "execution_count": null,
   "id": "dacbc579",
   "metadata": {},
   "outputs": [],
   "source": []
  }
 ],
 "metadata": {
  "hide_input": false,
  "kernelspec": {
   "display_name": "Python 3",
   "language": "python",
   "name": "python3"
  },
  "language_info": {
   "codemirror_mode": {
    "name": "ipython",
    "version": 3
   },
   "file_extension": ".py",
   "mimetype": "text/x-python",
   "name": "python",
   "nbconvert_exporter": "python",
   "pygments_lexer": "ipython3",
   "version": "3.8.10"
  },
  "toc": {
   "base_numbering": 1,
   "nav_menu": {},
   "number_sections": true,
   "sideBar": true,
   "skip_h1_title": false,
   "title_cell": "Table of Contents",
   "title_sidebar": "Contents",
   "toc_cell": false,
   "toc_position": {},
   "toc_section_display": true,
   "toc_window_display": false
  }
 },
 "nbformat": 4,
 "nbformat_minor": 5
}
