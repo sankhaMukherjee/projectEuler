{
 "cells": [
  {
   "cell_type": "markdown",
   "id": "59f08630",
   "metadata": {},
   "source": [
    "# Problem 54: Poker hands\n",
    "\n",
    "\n",
    "\n",
    "In the card game poker, a hand consists of five cards and are ranked, from lowest to highest, in the following way:\n",
    "\n",
    "- High Card: Highest value card.\n",
    "- One Pair: Two cards of the same value.\n",
    "- Two Pairs: Two different pairs.\n",
    "- Three of a Kind: Three cards of the same value.\n",
    "- Straight: All cards are consecutive values.\n",
    "- Flush: All cards of the same suit.\n",
    "- Full House: Three of a kind and a pair.\n",
    "- Four of a Kind: Four cards of the same value.\n",
    "- Straight Flush: All cards are consecutive values of same suit.\n",
    "- Royal Flush: Ten, Jack, Queen, King, Ace, in same suit.\n",
    "\n",
    "The cards are valued in the order:\n",
    "2, 3, 4, 5, 6, 7, 8, 9, 10, Jack, Queen, King, Ace.\n",
    "\n",
    "If two players have the same ranked hands then the rank made up of the highest value wins; for example, a pair of eights beats a pair of fives (see example 1 below). But if two ranks tie, for example, both players have a pair of queens, then highest cards in each hand are compared (see example 4 below); if the highest cards tie then the next highest cards are compared, and so on.\n",
    "\n",
    "Consider the following five hands dealt to two players:\n",
    "Hand\t \tPlayer 1\t \tPlayer 2\t \tWinner\n",
    "1\t \t5H 5C 6S 7S KD      2C 3S 8S 8D TD\n",
    "        Pair of Fives      Pair of Eights\n",
    "\t \t\n",
    "\n",
    "\t \tPlayer 2\n",
    "2\t \t5D 8C 9S JS AC\n",
    "Highest card Ace\n",
    "\t \t2C 5C 7D 8S QH\n",
    "Highest card Queen\n",
    "\t \tPlayer 1\n",
    "3\t \t2D 9C AS AH AC\n",
    "Three Aces\n",
    "\t \t3D 6D 7D TD QD\n",
    "Flush with Diamonds\n",
    "\t \tPlayer 2\n",
    "4\t \t4D 6S 9H QH QC\n",
    "Pair of Queens\n",
    "Highest card Nine\n",
    "\t \t3D 6D 7H QD QS\n",
    "Pair of Queens\n",
    "Highest card Seven\n",
    "\t \tPlayer 1\n",
    "5\t \t2H 2D 4C 4D 4S\n",
    "Full House\n",
    "With Three Fours\n",
    "\t \t3C 3D 3S 9S 9D\n",
    "Full House\n",
    "with Three Threes\n",
    "\t \tPlayer 1\n",
    "\n",
    "The file, poker.txt, contains one-thousand random hands dealt to two players. Each line of the file contains ten cards (separated by a single space): the first five are Player 1's cards and the last five are Player 2's cards. You can assume that all hands are valid (no invalid characters or repeated cards), each player's hand is in no specific order, and in each hand there is a clear winner.\n",
    "\n",
    "How many hands does Player 1 win?\n"
   ]
  },
  {
   "cell_type": "code",
   "execution_count": 51,
   "id": "60319d3b",
   "metadata": {
    "ExecuteTime": {
     "end_time": "2022-03-15T13:16:55.967869Z",
     "start_time": "2022-03-15T13:16:55.965016Z"
    }
   },
   "outputs": [
    {
     "name": "stdout",
     "output_type": "stream",
     "text": [
      "((8, 10, 13, 9, 4), ('C', 'S', 'C', 'H', 'S')) ((7, 2, 5, 3, 14), ('D', 'S', 'D', 'S', 'C'))\n",
      "((5, 14, 5, 14, 9), ('C', 'D', 'D', 'C', 'C')) ((7, 5, 8, 10, 13), ('C', 'H', 'D', 'D', 'S'))\n",
      "((3, 7, 6, 13, 11), ('H', 'H', 'S', 'C', 'S')) ((12, 10, 11, 2, 8), ('H', 'D', 'C', 'D', 'S'))\n"
     ]
    }
   ],
   "source": [
    "with open('poker.txt') as f:\n",
    "    for i, l in enumerate(f):\n",
    "        if i > 2: break\n",
    "        l = l.strip().split()\n",
    "        p1 = toNumStrTuple(l[:5])\n",
    "        p2 = toNumStrTuple(l[5:])\n",
    "        print(p1, p2)"
   ]
  },
  {
   "cell_type": "code",
   "execution_count": 24,
   "id": "b259148e",
   "metadata": {
    "ExecuteTime": {
     "end_time": "2022-03-15T12:58:17.734188Z",
     "start_time": "2022-03-15T12:58:17.731804Z"
    }
   },
   "outputs": [],
   "source": [
    "def toNumStrTuple(cards: List[str]) -> List[Tuple[int, str]]:\n",
    "    nums, suits = zip(*( (c[:-1], c[-1]) for c in cards ))\n",
    "    numsConvert = { v:(i+2) for i, v in enumerate('23456789TJQKA')}\n",
    "    nums = tuple(numsConvert[n] for n in nums)\n",
    "    return nums, suits"
   ]
  },
  {
   "cell_type": "code",
   "execution_count": 10,
   "id": "edc18489",
   "metadata": {
    "ExecuteTime": {
     "end_time": "2022-03-15T12:48:15.581818Z",
     "start_time": "2022-03-15T12:48:15.574637Z"
    }
   },
   "outputs": [],
   "source": [
    "from typing import List, Tuple"
   ]
  },
  {
   "cell_type": "code",
   "execution_count": 39,
   "id": "ad19342c",
   "metadata": {
    "ExecuteTime": {
     "end_time": "2022-03-15T13:10:43.752252Z",
     "start_time": "2022-03-15T13:10:43.749891Z"
    }
   },
   "outputs": [],
   "source": [
    "def royalFlush(nums: List[int], suits: List[str]) -> bool:\n",
    "    \n",
    "    # if all nums are not present, return a False\n",
    "    for i in [10, 11, 12, 13, 14]:\n",
    "        if i not in nums: return False\n",
    "        \n",
    "    # we have 10, 11, 12, 13, 14\n",
    "    for i in range(5):\n",
    "        if suits[i] != suits[0]:\n",
    "            return False\n",
    "        \n",
    "    return True"
   ]
  },
  {
   "cell_type": "code",
   "execution_count": 42,
   "id": "7aba1b31",
   "metadata": {
    "ExecuteTime": {
     "end_time": "2022-03-15T13:13:35.828630Z",
     "start_time": "2022-03-15T13:13:35.826212Z"
    }
   },
   "outputs": [],
   "source": [
    "def straightFlush(nums: List[int], suits: List[str]) -> bool:\n",
    "    \n",
    "    # All suits are the same\n",
    "    for i in range(5):\n",
    "        if suits[i] != suits[0]:\n",
    "            return False\n",
    "    \n",
    "    for i, n in enumerate(sorted(nums)):\n",
    "        if n != nums[0]+i: \n",
    "            return False\n",
    "        \n",
    "    return True"
   ]
  },
  {
   "cell_type": "code",
   "execution_count": 49,
   "id": "00ff330e",
   "metadata": {
    "ExecuteTime": {
     "end_time": "2022-03-15T13:15:15.394001Z",
     "start_time": "2022-03-15T13:15:15.390345Z"
    }
   },
   "outputs": [
    {
     "data": {
      "text/plain": [
       "(True, False)"
      ]
     },
     "execution_count": 49,
     "metadata": {},
     "output_type": "execute_result"
    }
   ],
   "source": [
    "rf = ['TH', 'JH', 'QH', 'AH', 'KH']\n",
    "sf = ['2H', '3H', '5H', '4H', '6H']\n",
    "royalFlush( *toNumStrTuple(rf) ), royalFlush( *toNumStrTuple(sf) )"
   ]
  },
  {
   "cell_type": "code",
   "execution_count": 50,
   "id": "c7646c13",
   "metadata": {
    "ExecuteTime": {
     "end_time": "2022-03-15T13:15:16.281138Z",
     "start_time": "2022-03-15T13:15:16.277867Z"
    }
   },
   "outputs": [
    {
     "data": {
      "text/plain": [
       "(True, True)"
      ]
     },
     "execution_count": 50,
     "metadata": {},
     "output_type": "execute_result"
    }
   ],
   "source": [
    "straightFlush( *toNumStrTuple(rf) ), straightFlush( *toNumStrTuple(sf) )"
   ]
  },
  {
   "cell_type": "code",
   "execution_count": null,
   "id": "031cb948",
   "metadata": {},
   "outputs": [],
   "source": []
  }
 ],
 "metadata": {
  "hide_input": false,
  "kernelspec": {
   "display_name": "Python 3",
   "language": "python",
   "name": "python3"
  },
  "language_info": {
   "codemirror_mode": {
    "name": "ipython",
    "version": 3
   },
   "file_extension": ".py",
   "mimetype": "text/x-python",
   "name": "python",
   "nbconvert_exporter": "python",
   "pygments_lexer": "ipython3",
   "version": "3.8.10"
  },
  "toc": {
   "base_numbering": 1,
   "nav_menu": {},
   "number_sections": true,
   "sideBar": true,
   "skip_h1_title": false,
   "title_cell": "Table of Contents",
   "title_sidebar": "Contents",
   "toc_cell": false,
   "toc_position": {},
   "toc_section_display": true,
   "toc_window_display": false
  }
 },
 "nbformat": 4,
 "nbformat_minor": 5
}
