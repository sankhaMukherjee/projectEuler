{
 "cells": [
  {
   "cell_type": "markdown",
   "id": "59f08630",
   "metadata": {},
   "source": [
    "# Problem 54: Poker hands\n",
    "\n",
    "\n",
    "\n",
    "In the card game poker, a hand consists of five cards and are ranked, from lowest to highest, in the following way:\n",
    "\n",
    "- High Card: Highest value card.\n",
    "- One Pair: Two cards of the same value.\n",
    "- Two Pairs: Two different pairs.\n",
    "- Three of a Kind: Three cards of the same value.\n",
    "- Straight: All cards are consecutive values.\n",
    "- Flush: All cards of the same suit.\n",
    "- Full House: Three of a kind and a pair.\n",
    "- Four of a Kind: Four cards of the same value.\n",
    "- Straight Flush: All cards are consecutive values of same suit.\n",
    "- Royal Flush: Ten, Jack, Queen, King, Ace, in same suit.\n",
    "\n",
    "The cards are valued in the order:\n",
    "\n",
    "2, 3, 4, 5, 6, 7, 8, 9, 10, Jack, Queen, King, Ace.\n",
    "\n",
    "If two players have the same ranked hands then the rank made up of the highest value wins; for example, a pair of eights beats a pair of fives (see example 1 below). But if two ranks tie, for example, both players have a pair of queens, then highest cards in each hand are compared (see example 4 below); if the highest cards tie then the next highest cards are compared, and so on.\n",
    "\n",
    "```\n",
    "Consider the following five hands dealt to two players:\n",
    "Hand\t \tPlayer 1\t \t  Player 2\t \t              Winner\n",
    "1\t \t5H 5C 6S 7S KD       2C 3S 8S 8D TD\n",
    "        Pair of Fives        Pair of Eights               Player 2\n",
    "2\t \t5D 8C 9S JS AC       2C 5C 7D 8S QH\n",
    "        Highest card Ace     Highest card Queen           Player 1\n",
    "3\t \t2D 9C AS AH AC       3D 6D 7D TD QD         \n",
    "        Three Aces           Flush with Diamonds          Player 2\n",
    "4\t \t4D 6S 9H QH QC       3D 6D 7H QD QS\n",
    "        Pair of Queens       Pair of Queens\n",
    "        Highest card Nine    Highest card Seven           Player 1\n",
    "5\t \t2H 2D 4C 4D 4S       3C 3D 3S 9S 9D\n",
    "        Full House           Full House\n",
    "        With Three Fours     with Three Threes            Player 1\n",
    "```\n",
    "\n",
    "The file, poker.txt, contains one-thousand random hands dealt to two players. Each line of the file contains ten cards (separated by a single space): the first five are Player 1's cards and the last five are Player 2's cards. You can assume that all hands are valid (no invalid characters or repeated cards), each player's hand is in no specific order, and in each hand there is a clear winner.\n",
    "\n",
    "How many hands does Player 1 win?\n"
   ]
  },
  {
   "cell_type": "code",
   "execution_count": 1,
   "id": "edc18489",
   "metadata": {
    "ExecuteTime": {
     "end_time": "2022-03-21T16:34:13.191939Z",
     "start_time": "2022-03-21T16:34:13.187694Z"
    }
   },
   "outputs": [],
   "source": [
    "from typing import List, Tuple"
   ]
  },
  {
   "cell_type": "code",
   "execution_count": 2,
   "id": "b259148e",
   "metadata": {
    "ExecuteTime": {
     "end_time": "2022-03-21T16:34:13.195611Z",
     "start_time": "2022-03-21T16:34:13.193117Z"
    },
    "code_folding": [
     0
    ]
   },
   "outputs": [],
   "source": [
    "def toNumStrTuple(cards: List[str]) -> List[Tuple[int, str]]:\n",
    "    nums, suits = zip(*( (c[:-1], c[-1]) for c in cards ))\n",
    "    numsConvert = { v:(i+2) for i, v in enumerate('23456789TJQKA')}\n",
    "    nums = tuple(numsConvert[n] for n in nums)\n",
    "    return nums, suits"
   ]
  },
  {
   "cell_type": "code",
   "execution_count": 3,
   "id": "60319d3b",
   "metadata": {
    "ExecuteTime": {
     "end_time": "2022-03-21T16:34:13.199495Z",
     "start_time": "2022-03-21T16:34:13.196696Z"
    },
    "code_folding": []
   },
   "outputs": [
    {
     "name": "stdout",
     "output_type": "stream",
     "text": [
      "((8, 10, 13, 9, 4), ('C', 'S', 'C', 'H', 'S')) ((7, 2, 5, 3, 14), ('D', 'S', 'D', 'S', 'C'))\n",
      "((5, 14, 5, 14, 9), ('C', 'D', 'D', 'C', 'C')) ((7, 5, 8, 10, 13), ('C', 'H', 'D', 'D', 'S'))\n",
      "((3, 7, 6, 13, 11), ('H', 'H', 'S', 'C', 'S')) ((12, 10, 11, 2, 8), ('H', 'D', 'C', 'D', 'S'))\n"
     ]
    }
   ],
   "source": [
    "with open('poker.txt') as f:\n",
    "    for i, l in enumerate(f):\n",
    "        if i > 2: break\n",
    "        l = l.strip().split()\n",
    "        p1 = toNumStrTuple(l[:5])\n",
    "        p2 = toNumStrTuple(l[5:])\n",
    "        print(p1, p2)"
   ]
  },
  {
   "cell_type": "code",
   "execution_count": 56,
   "id": "ad19342c",
   "metadata": {
    "ExecuteTime": {
     "end_time": "2022-03-21T17:20:59.351296Z",
     "start_time": "2022-03-21T17:20:59.348678Z"
    },
    "code_folding": []
   },
   "outputs": [],
   "source": [
    "def royalFlush(nums: List[int], suits: List[str]) -> Tuple[bool, int]:\n",
    "    \n",
    "    # if all nums are not present, return a False\n",
    "    for i in [10, 11, 12, 13, 14]:\n",
    "        if i not in nums: return False, -1\n",
    "        \n",
    "    # we have 10, 11, 12, 13, 14\n",
    "    for i in range(5):\n",
    "        if suits[i] != suits[0]:\n",
    "            return False, -1\n",
    "        \n",
    "    return True, 10"
   ]
  },
  {
   "cell_type": "code",
   "execution_count": 34,
   "id": "7aba1b31",
   "metadata": {
    "ExecuteTime": {
     "end_time": "2022-03-21T16:51:09.470416Z",
     "start_time": "2022-03-21T16:51:09.467529Z"
    },
    "code_folding": [
     0
    ]
   },
   "outputs": [],
   "source": [
    "def straightFlush(nums: List[int], suits: List[str]) -> Tuple[bool, int]:\n",
    "    \n",
    "    # All suits are the same\n",
    "    for i in range(5):\n",
    "        if suits[i] != suits[0]:\n",
    "            return False, -1\n",
    "        \n",
    "    nums = sorted(nums)\n",
    "    for i, n in enumerate(nums):\n",
    "        if n != nums[0]+i: \n",
    "            return False, -1\n",
    "        \n",
    "    return True, max(nums)"
   ]
  },
  {
   "cell_type": "code",
   "execution_count": 35,
   "id": "031cb948",
   "metadata": {
    "ExecuteTime": {
     "end_time": "2022-03-21T16:51:41.209117Z",
     "start_time": "2022-03-21T16:51:41.205733Z"
    },
    "code_folding": [
     0
    ]
   },
   "outputs": [],
   "source": [
    "def fourOfAKind(nums: List[int], suits: List[str]) -> Tuple[bool, int]:\n",
    "    \n",
    "    nums = sorted(nums)\n",
    "    nCheck = nums[0]\n",
    "    if sum([1 for n in nums if n == nCheck]) == 4:\n",
    "        return True, nCheck\n",
    "    \n",
    "    nCheck = nums[-1]\n",
    "    if sum([1 for n in nums if n == nCheck]) == 4:\n",
    "        return True, nCheck\n",
    "    \n",
    "    return False, -1"
   ]
  },
  {
   "cell_type": "code",
   "execution_count": 40,
   "id": "2c91b5be",
   "metadata": {
    "ExecuteTime": {
     "end_time": "2022-03-21T16:59:39.347753Z",
     "start_time": "2022-03-21T16:59:39.344643Z"
    },
    "code_folding": [
     0
    ]
   },
   "outputs": [],
   "source": [
    "def fullHouse(nums: List[int], suits: List[str]) -> Tuple[bool, int, int]:\n",
    "    \n",
    "    nums = sorted(nums)\n",
    "    sum1 = sum([1 for n in nums if n == nums[0]])\n",
    "    sum2 = sum([1 for n in nums if n == nums[-1]])\n",
    "    \n",
    "    if sorted([sum1, sum2]) == [2, 3]:\n",
    "        # We have a full house\n",
    "        if sum1 == 2:\n",
    "            return True, nums[-1], nums[0]\n",
    "        else:\n",
    "            return True, nums[1], nums[-1]\n",
    "        \n",
    "    return False, -1, -1"
   ]
  },
  {
   "cell_type": "code",
   "execution_count": 41,
   "id": "0cd91692",
   "metadata": {
    "ExecuteTime": {
     "end_time": "2022-03-21T17:02:19.593859Z",
     "start_time": "2022-03-21T17:02:19.591456Z"
    },
    "code_folding": [
     0
    ]
   },
   "outputs": [],
   "source": [
    "def flush(nums: List[int], suits: List[str]) -> Tuple[bool, int, int, int, int, int]:\n",
    "    \n",
    "    if sum([1 for s in suits if s == suits[0]]) == 5:\n",
    "        return [True] + list(sorted(nums, reverse=True))\n",
    "    \n",
    "    return False, -1, -1, -1, -1, -1"
   ]
  },
  {
   "cell_type": "code",
   "execution_count": 42,
   "id": "7b7d0923",
   "metadata": {
    "ExecuteTime": {
     "end_time": "2022-03-21T17:04:12.148204Z",
     "start_time": "2022-03-21T17:04:12.145700Z"
    },
    "code_folding": [
     0
    ]
   },
   "outputs": [],
   "source": [
    "def straight(nums: List[int], suits: List[str]) -> Tuple[bool, int]:\n",
    "    \n",
    "    nums = sorted(nums)\n",
    "    \n",
    "    for i, n in enumerate(nums):\n",
    "        if n != nums[0]+i: \n",
    "            return False, -1\n",
    "        \n",
    "    return True, max(nums)"
   ]
  },
  {
   "cell_type": "code",
   "execution_count": 47,
   "id": "14b462ff",
   "metadata": {
    "ExecuteTime": {
     "end_time": "2022-03-21T17:10:10.889466Z",
     "start_time": "2022-03-21T17:10:10.885396Z"
    },
    "code_folding": [
     0
    ]
   },
   "outputs": [],
   "source": [
    "def threeOfAKind(nums: List[int], suits: List[str]) -> Tuple[bool, int, int, int]:\n",
    "    \n",
    "    nUniq = list(set(nums))\n",
    "    for i, n in enumerate(nUniq):\n",
    "        if sum(1 for m in nums if n == m) == 3:\n",
    "            nUniq.pop(i)\n",
    "            return [True, n] + nUniq\n",
    "    \n",
    "    return False, -1, -1, -1"
   ]
  },
  {
   "cell_type": "code",
   "execution_count": 48,
   "id": "63826ff7",
   "metadata": {
    "ExecuteTime": {
     "end_time": "2022-03-21T17:14:33.941640Z",
     "start_time": "2022-03-21T17:14:33.936605Z"
    },
    "code_folding": [
     0
    ]
   },
   "outputs": [],
   "source": [
    "def twoPairs(nums: List[int], suits: List[str]) -> Tuple[bool, int, int, int]:\n",
    "    \n",
    "    uniques = list(set(nums))\n",
    "    uniques1 = list(set(nums))\n",
    "    conditionMatches = []\n",
    "    for u in uniques:\n",
    "        if sum(1 for n in nums if n == u) == 2:\n",
    "            conditionMatches.append( u )\n",
    "            uniques1.pop( uniques1.index(u) )\n",
    "            \n",
    "    if len(conditionMatches) == 2:\n",
    "        return [True] + sorted(conditionMatches, reverse=True) + uniques1\n",
    "    \n",
    "    return False, -1, -1, -1"
   ]
  },
  {
   "cell_type": "code",
   "execution_count": 64,
   "id": "61de19b5",
   "metadata": {
    "ExecuteTime": {
     "end_time": "2022-03-21T17:23:21.555163Z",
     "start_time": "2022-03-21T17:23:21.552425Z"
    },
    "code_folding": []
   },
   "outputs": [],
   "source": [
    "def onePair(nums: List[int], suits: List[str]) -> Tuple[bool, int, int, int, int]:\n",
    "    \n",
    "    uniques = list(set(nums))\n",
    "    uniques1 = list(set(nums))\n",
    "    for u in uniques:\n",
    "        if sum(1 for n in nums if n == u) == 2:\n",
    "            uniques1.pop( uniques1.index(u) )\n",
    "            return [True, u] + sorted(uniques1, reverse=True)\n",
    "            \n",
    "    return False, -1, -1, -1, -1"
   ]
  },
  {
   "cell_type": "code",
   "execution_count": 51,
   "id": "db1fa84e",
   "metadata": {
    "ExecuteTime": {
     "end_time": "2022-03-21T17:18:02.865587Z",
     "start_time": "2022-03-21T17:18:02.862734Z"
    },
    "code_folding": []
   },
   "outputs": [],
   "source": [
    "def highCard(nums: List[int], suits: List[str]) -> Tuple[bool, int, int, int, int, int]:\n",
    "    return [True] + sorted(nums, reverse=True)"
   ]
  },
  {
   "cell_type": "code",
   "execution_count": 65,
   "id": "d85cd3f4",
   "metadata": {
    "ExecuteTime": {
     "end_time": "2022-03-21T17:23:40.454419Z",
     "start_time": "2022-03-21T17:23:40.452473Z"
    }
   },
   "outputs": [],
   "source": [
    "functionList = [\n",
    "    highCard,\n",
    "    onePair,\n",
    "    twoPairs,\n",
    "    threeOfAKind,\n",
    "    straight,\n",
    "    flush,\n",
    "    fullHouse,\n",
    "    fourOfAKind,\n",
    "    straightFlush,\n",
    "    royalFlush\n",
    "]"
   ]
  },
  {
   "cell_type": "code",
   "execution_count": 66,
   "id": "42bbff49",
   "metadata": {
    "ExecuteTime": {
     "end_time": "2022-03-21T17:23:40.791684Z",
     "start_time": "2022-03-21T17:23:40.790036Z"
    }
   },
   "outputs": [],
   "source": [
    "checkOrderFunctions = list(reversed(list(enumerate(functionList))))"
   ]
  },
  {
   "cell_type": "code",
   "execution_count": 71,
   "id": "9f6af2f2",
   "metadata": {
    "ExecuteTime": {
     "end_time": "2022-03-21T17:27:32.258837Z",
     "start_time": "2022-03-21T17:27:32.251289Z"
    }
   },
   "outputs": [],
   "source": [
    "hands = [\n",
    "    ['QH', 'AD', '5H', '6H', 'JH'],\n",
    "    ['QH', 'AD', '5H', '6H', 'QH'],\n",
    "    ['TH', 'AD', '5H', 'AH', 'TH'],\n",
    "    ['2H', 'AD', '2H', 'QH', '2H'],\n",
    "    ['JH', 'AD', 'KH', 'QH', 'TH'],\n",
    "    ['2H', '2H', '5H', '2H', '5H'],\n",
    "    ['2H', '2H', '2H', '2H', '5H'],\n",
    "    ['2H', '2H', '5H', '6H', '2H'],\n",
    "    ['2H', '3H', '5H', '4H', '6H'],\n",
    "    ['TH', 'JH', 'QH', 'AH', 'KH'],\n",
    "]"
   ]
  },
  {
   "cell_type": "code",
   "execution_count": 72,
   "id": "d2799ec0",
   "metadata": {
    "ExecuteTime": {
     "end_time": "2022-03-21T17:27:32.621643Z",
     "start_time": "2022-03-21T17:27:32.616527Z"
    }
   },
   "outputs": [
    {
     "name": "stdout",
     "output_type": "stream",
     "text": [
      "['QH', 'AD', '5H', '6H', 'JH'] 0 highCard             [14, 12, 11, 6, 5]\n",
      "['QH', 'AD', '5H', '6H', 'QH'] 1 onePair              [12, 14, 6, 5]\n",
      "['TH', 'AD', '5H', 'AH', 'TH'] 2 twoPairs             [14, 10, 5]\n",
      "['2H', 'AD', '2H', 'QH', '2H'] 3 threeOfAKind         [2, 12, 14]\n",
      "['JH', 'AD', 'KH', 'QH', 'TH'] 4 straight             [14]\n",
      "['2H', '2H', '5H', '2H', '5H'] 6 fullHouse            [2, 5]\n",
      "['2H', '2H', '2H', '2H', '5H'] 7 fourOfAKind          [2]\n",
      "['2H', '2H', '5H', '6H', '2H'] 5 flush                [6, 5, 2, 2, 2]\n",
      "['2H', '3H', '5H', '4H', '6H'] 8 straightFlush        [6]\n",
      "['TH', 'JH', 'QH', 'AH', 'KH'] 9 royalFlush           [10]\n"
     ]
    }
   ],
   "source": [
    "for h in hands:\n",
    "    result = toNumStrTuple(h)\n",
    "    for i, f in checkOrderFunctions:\n",
    "        condition, *rest = f(*result)\n",
    "        if condition:\n",
    "            print(h, i, f'{f.__name__:20}', rest)\n",
    "            break\n",
    "    \n",
    "    "
   ]
  },
  {
   "cell_type": "code",
   "execution_count": 29,
   "id": "62a899ac",
   "metadata": {
    "ExecuteTime": {
     "end_time": "2022-03-21T16:41:32.441688Z",
     "start_time": "2022-03-21T16:41:32.439533Z"
    },
    "code_folding": [
     0
    ]
   },
   "outputs": [],
   "source": [
    "def findRank(hand):\n",
    "    result = toNumStrTuple(hand)\n",
    "    for i, f in checkOrderFunctions:\n",
    "        if f(*result):\n",
    "            return i\n",
    "        \n",
    "    return -1"
   ]
  },
  {
   "cell_type": "code",
   "execution_count": 31,
   "id": "ac2ad09e",
   "metadata": {
    "ExecuteTime": {
     "end_time": "2022-03-21T16:43:08.984621Z",
     "start_time": "2022-03-21T16:43:08.977006Z"
    }
   },
   "outputs": [
    {
     "name": "stdout",
     "output_type": "stream",
     "text": [
      "['8C', 'TS', 'KC', '9H', '4S'] ['7D', '2S', '5D', '3S', 'AC'] -1 -1\n",
      "['5C', 'AD', '5D', 'AC', '9C'] ['7C', '5H', '8D', 'TD', 'KS'] 1 -1\n",
      "['3H', '7H', '6S', 'KC', 'JS'] ['QH', 'TD', 'JC', '2D', '8S'] -1 -1\n",
      "['TH', '8H', '5C', 'QS', 'TC'] ['9H', '4D', 'JC', 'KS', 'JS'] 0 0\n",
      "['7C', '5H', 'KC', 'QH', 'JD'] ['AS', 'KH', '4C', 'AD', '4S'] -1 1\n",
      "['5H', 'KS', '9C', '7D', '9H'] ['8D', '3S', '5D', '5C', 'AH'] 0 0\n",
      "['6H', '4H', '5C', '3H', '2H'] ['3S', 'QH', '5S', '6S', 'AS'] 3 -1\n",
      "['TD', '8C', '4H', '7C', 'TC'] ['KC', '4C', '3H', '7S', 'KS'] 0 0\n",
      "['7C', '9C', '6D', 'KD', '3H'] ['4C', 'QS', 'QC', 'AC', 'KH'] -1 0\n",
      "['JC', '6S', '5H', '2H', '2D'] ['KD', '9D', '7C', 'AS', 'JS'] 0 -1\n",
      "['AD', 'QH', 'TH', '9D', '8H'] ['TS', '6D', '3S', 'AS', 'AC'] -1 0\n",
      "['2H', '4S', '5C', '5S', 'TC'] ['KC', 'JD', '6C', 'TS', '3C'] 0 -1\n",
      "['QD', 'AS', '6H', 'JS', '2C'] ['3D', '9H', 'KC', '4H', '8S'] -1 -1\n",
      "['KD', '8S', '9S', '7C', '2S'] ['3S', '6D', '6S', '4H', 'KC'] -1 0\n",
      "['3C', '8C', '2D', '7D', '4D'] ['9S', '4S', 'QH', '4H', 'JD'] -1 0\n",
      "['8C', 'KC', '7S', 'TC', '2D'] ['TS', '8H', 'QD', 'AC', '5C'] -1 -1\n",
      "['3D', 'KH', 'QD', '6C', '6S'] ['AD', 'AS', '8H', '2H', 'QS'] 0 0\n",
      "['6S', '8D', '4C', '8S', '6C'] ['QH', 'TC', '6D', '7D', '9D'] 1 -1\n",
      "['2S', '8D', '8C', '4C', 'TS'] ['9S', '9D', '9C', 'AC', '3D'] 0 2\n",
      "['3C', 'QS', '2S', '4H', 'JH'] ['3D', '2D', 'TD', '8S', '9H'] -1 -1\n",
      "['5H', 'QS', '8S', '6D', '3C'] ['8C', 'JD', 'AS', '7H', '7D'] -1 0\n"
     ]
    }
   ],
   "source": [
    "with open('poker.txt') as f:\n",
    "    for i, l in enumerate(f):\n",
    "        if i > 20: break\n",
    "        l = l.strip().split()\n",
    "        p1, p2 = l[:5], l[5:]\n",
    "        r1, r2 = map(findRank, [p1, p2])\n",
    "        \n",
    "        print(p1, p2, r1, r2)\n",
    "        \n",
    "        \n",
    "        "
   ]
  },
  {
   "cell_type": "code",
   "execution_count": null,
   "id": "9f5a5825",
   "metadata": {},
   "outputs": [],
   "source": []
  }
 ],
 "metadata": {
  "hide_input": false,
  "kernelspec": {
   "display_name": "Python 3",
   "language": "python",
   "name": "python3"
  },
  "language_info": {
   "codemirror_mode": {
    "name": "ipython",
    "version": 3
   },
   "file_extension": ".py",
   "mimetype": "text/x-python",
   "name": "python",
   "nbconvert_exporter": "python",
   "pygments_lexer": "ipython3",
   "version": "3.8.10"
  },
  "toc": {
   "base_numbering": 1,
   "nav_menu": {},
   "number_sections": true,
   "sideBar": true,
   "skip_h1_title": false,
   "title_cell": "Table of Contents",
   "title_sidebar": "Contents",
   "toc_cell": false,
   "toc_position": {},
   "toc_section_display": true,
   "toc_window_display": false
  }
 },
 "nbformat": 4,
 "nbformat_minor": 5
}
