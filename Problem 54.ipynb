{
 "cells": [
  {
   "cell_type": "markdown",
   "id": "59f08630",
   "metadata": {},
   "source": [
    "# Problem 54: Poker hands\n",
    "\n",
    "\n",
    "\n",
    "In the card game poker, a hand consists of five cards and are ranked, from lowest to highest, in the following way:\n",
    "\n",
    "- High Card: Highest value card.\n",
    "- One Pair: Two cards of the same value.\n",
    "- Two Pairs: Two different pairs.\n",
    "- Three of a Kind: Three cards of the same value.\n",
    "- Straight: All cards are consecutive values.\n",
    "- Flush: All cards of the same suit.\n",
    "- Full House: Three of a kind and a pair.\n",
    "- Four of a Kind: Four cards of the same value.\n",
    "- Straight Flush: All cards are consecutive values of same suit.\n",
    "- Royal Flush: Ten, Jack, Queen, King, Ace, in same suit.\n",
    "\n",
    "The cards are valued in the order:\n",
    "\n",
    "2, 3, 4, 5, 6, 7, 8, 9, 10, Jack, Queen, King, Ace.\n",
    "\n",
    "If two players have the same ranked hands then the rank made up of the highest value wins; for example, a pair of eights beats a pair of fives (see example 1 below). But if two ranks tie, for example, both players have a pair of queens, then highest cards in each hand are compared (see example 4 below); if the highest cards tie then the next highest cards are compared, and so on.\n",
    "\n",
    "```\n",
    "Consider the following five hands dealt to two players:\n",
    "Hand\t \tPlayer 1\t \t  Player 2\t \t              Winner\n",
    "1\t \t5H 5C 6S 7S KD       2C 3S 8S 8D TD\n",
    "        Pair of Fives        Pair of Eights               Player 2\n",
    "2\t \t5D 8C 9S JS AC       2C 5C 7D 8S QH\n",
    "        Highest card Ace     Highest card Queen           Player 1\n",
    "3\t \t2D 9C AS AH AC       3D 6D 7D TD QD         \n",
    "        Three Aces           Flush with Diamonds          Player 2\n",
    "4\t \t4D 6S 9H QH QC       3D 6D 7H QD QS\n",
    "        Pair of Queens       Pair of Queens\n",
    "        Highest card Nine    Highest card Seven           Player 1\n",
    "5\t \t2H 2D 4C 4D 4S       3C 3D 3S 9S 9D\n",
    "        Full House           Full House\n",
    "        With Three Fours     with Three Threes            Player 1\n",
    "```\n",
    "\n",
    "The file, poker.txt, contains one-thousand random hands dealt to two players. Each line of the file contains ten cards (separated by a single space): the first five are Player 1's cards and the last five are Player 2's cards. You can assume that all hands are valid (no invalid characters or repeated cards), each player's hand is in no specific order, and in each hand there is a clear winner.\n",
    "\n",
    "How many hands does Player 1 win?\n"
   ]
  },
  {
   "cell_type": "code",
   "execution_count": 51,
   "id": "60319d3b",
   "metadata": {
    "ExecuteTime": {
     "end_time": "2022-03-15T13:16:55.967869Z",
     "start_time": "2022-03-15T13:16:55.965016Z"
    }
   },
   "outputs": [
    {
     "name": "stdout",
     "output_type": "stream",
     "text": [
      "((8, 10, 13, 9, 4), ('C', 'S', 'C', 'H', 'S')) ((7, 2, 5, 3, 14), ('D', 'S', 'D', 'S', 'C'))\n",
      "((5, 14, 5, 14, 9), ('C', 'D', 'D', 'C', 'C')) ((7, 5, 8, 10, 13), ('C', 'H', 'D', 'D', 'S'))\n",
      "((3, 7, 6, 13, 11), ('H', 'H', 'S', 'C', 'S')) ((12, 10, 11, 2, 8), ('H', 'D', 'C', 'D', 'S'))\n"
     ]
    }
   ],
   "source": [
    "with open('poker.txt') as f:\n",
    "    for i, l in enumerate(f):\n",
    "        if i > 2: break\n",
    "        l = l.strip().split()\n",
    "        p1 = toNumStrTuple(l[:5])\n",
    "        p2 = toNumStrTuple(l[5:])\n",
    "        print(p1, p2)"
   ]
  },
  {
   "cell_type": "code",
   "execution_count": 5,
   "id": "b259148e",
   "metadata": {
    "ExecuteTime": {
     "end_time": "2022-03-17T09:15:45.572774Z",
     "start_time": "2022-03-17T09:15:45.570148Z"
    }
   },
   "outputs": [],
   "source": [
    "def toNumStrTuple(cards: List[str]) -> List[Tuple[int, str]]:\n",
    "    nums, suits = zip(*( (c[:-1], c[-1]) for c in cards ))\n",
    "    numsConvert = { v:(i+2) for i, v in enumerate('23456789TJQKA')}\n",
    "    nums = tuple(numsConvert[n] for n in nums)\n",
    "    return nums, suits"
   ]
  },
  {
   "cell_type": "code",
   "execution_count": 2,
   "id": "edc18489",
   "metadata": {
    "ExecuteTime": {
     "end_time": "2022-03-17T09:14:44.335206Z",
     "start_time": "2022-03-17T09:14:44.333295Z"
    }
   },
   "outputs": [],
   "source": [
    "from typing import List, Tuple"
   ]
  },
  {
   "cell_type": "code",
   "execution_count": 36,
   "id": "ad19342c",
   "metadata": {
    "ExecuteTime": {
     "end_time": "2022-03-17T09:31:25.923975Z",
     "start_time": "2022-03-17T09:31:25.921586Z"
    }
   },
   "outputs": [],
   "source": [
    "def royalFlush(nums: List[int], suits: List[str]) -> bool:\n",
    "    \n",
    "    # if all nums are not present, return a False\n",
    "    for i in [10, 11, 12, 13, 14]:\n",
    "        if i not in nums: return False\n",
    "        \n",
    "    # we have 10, 11, 12, 13, 14\n",
    "    for i in range(5):\n",
    "        if suits[i] != suits[0]:\n",
    "            return False\n",
    "        \n",
    "    return True"
   ]
  },
  {
   "cell_type": "code",
   "execution_count": 34,
   "id": "7aba1b31",
   "metadata": {
    "ExecuteTime": {
     "end_time": "2022-03-17T09:31:18.753175Z",
     "start_time": "2022-03-17T09:31:18.750680Z"
    }
   },
   "outputs": [],
   "source": [
    "def straightFlush(nums: List[int], suits: List[str]) -> bool:\n",
    "    \n",
    "    # All suits are the same\n",
    "    for i in range(5):\n",
    "        if suits[i] != suits[0]:\n",
    "            return False\n",
    "    nums = sorted(nums)\n",
    "    for i, n in enumerate(nums):\n",
    "        if n != nums[0]+i: \n",
    "            return False\n",
    "        \n",
    "    return True"
   ]
  },
  {
   "cell_type": "code",
   "execution_count": 37,
   "id": "00ff330e",
   "metadata": {
    "ExecuteTime": {
     "end_time": "2022-03-17T09:31:28.260640Z",
     "start_time": "2022-03-17T09:31:28.257511Z"
    }
   },
   "outputs": [
    {
     "data": {
      "text/plain": [
       "(True, False)"
      ]
     },
     "execution_count": 37,
     "metadata": {},
     "output_type": "execute_result"
    }
   ],
   "source": [
    "rf = ['TH', 'JH', 'QH', 'AH', 'KH']\n",
    "sf = ['2H', '3H', '5H', '4H', '6H']\n",
    "royalFlush( *toNumStrTuple(rf) ), royalFlush( *toNumStrTuple(sf) )"
   ]
  },
  {
   "cell_type": "code",
   "execution_count": 38,
   "id": "c7646c13",
   "metadata": {
    "ExecuteTime": {
     "end_time": "2022-03-17T09:31:33.943668Z",
     "start_time": "2022-03-17T09:31:33.941002Z"
    }
   },
   "outputs": [
    {
     "data": {
      "text/plain": [
       "(True, True)"
      ]
     },
     "execution_count": 38,
     "metadata": {},
     "output_type": "execute_result"
    }
   ],
   "source": [
    "straightFlush( *toNumStrTuple(rf) ), straightFlush( *toNumStrTuple(sf) )"
   ]
  },
  {
   "cell_type": "code",
   "execution_count": 3,
   "id": "031cb948",
   "metadata": {
    "ExecuteTime": {
     "end_time": "2022-03-17T09:14:49.497729Z",
     "start_time": "2022-03-17T09:14:49.495060Z"
    }
   },
   "outputs": [],
   "source": [
    "def fourOfAKind(nums: List[int], suits: List[str]) -> bool:\n",
    "    \n",
    "    nums = sorted(nums)\n",
    "    nCheck = nums[0]\n",
    "    if sum([1 for n in nums if n == nCheck]) == 4:\n",
    "        return True\n",
    "    \n",
    "    nCheck = nums[-1]\n",
    "    if sum([1 for n in nums if n == nCheck]) == 4:\n",
    "        return True\n",
    "    \n",
    "    return False"
   ]
  },
  {
   "cell_type": "code",
   "execution_count": 7,
   "id": "810fee17",
   "metadata": {
    "ExecuteTime": {
     "end_time": "2022-03-17T09:16:41.310450Z",
     "start_time": "2022-03-17T09:16:41.307870Z"
    }
   },
   "outputs": [
    {
     "data": {
      "text/plain": [
       "False"
      ]
     },
     "execution_count": 7,
     "metadata": {},
     "output_type": "execute_result"
    }
   ],
   "source": [
    "foak = ['2H', '2H', '5H', '6H', '2H']\n",
    "fourOfAKind( *toNumStrTuple(foak) )"
   ]
  },
  {
   "cell_type": "code",
   "execution_count": 14,
   "id": "2c91b5be",
   "metadata": {
    "ExecuteTime": {
     "end_time": "2022-03-17T09:25:10.925605Z",
     "start_time": "2022-03-17T09:25:10.922907Z"
    }
   },
   "outputs": [],
   "source": [
    "def fullHouse(nums: List[int], suits: List[str]) -> bool:\n",
    "    \n",
    "    nums = sorted(nums)\n",
    "    sum1 = sum([1 for n in nums if n == nums[0]])\n",
    "    sum2 = sum([1 for n in nums if n == nums[-1]])\n",
    "    \n",
    "    if sorted([sum1, sum2]) == [2, 3]:\n",
    "        return True\n",
    "    \n",
    "    return False"
   ]
  },
  {
   "cell_type": "code",
   "execution_count": 12,
   "id": "eff71936",
   "metadata": {
    "ExecuteTime": {
     "end_time": "2022-03-17T09:23:07.325020Z",
     "start_time": "2022-03-17T09:23:07.322567Z"
    }
   },
   "outputs": [
    {
     "data": {
      "text/plain": [
       "True"
      ]
     },
     "execution_count": 12,
     "metadata": {},
     "output_type": "execute_result"
    }
   ],
   "source": [
    "fh = ['2H', '2H', '5H', '2H', '5H']\n",
    "fullHouse( *toNumStrTuple(fh) )"
   ]
  },
  {
   "cell_type": "code",
   "execution_count": 16,
   "id": "0cd91692",
   "metadata": {
    "ExecuteTime": {
     "end_time": "2022-03-17T09:25:39.313241Z",
     "start_time": "2022-03-17T09:25:39.311156Z"
    }
   },
   "outputs": [],
   "source": [
    "def flush(nums: List[int], suits: List[str]) -> bool:\n",
    "    \n",
    "    if sum([1 for s in suits if s == suits[0]]) == 5:\n",
    "        return True\n",
    "    \n",
    "    return False"
   ]
  },
  {
   "cell_type": "code",
   "execution_count": 18,
   "id": "2147bc21",
   "metadata": {
    "ExecuteTime": {
     "end_time": "2022-03-17T09:25:57.401913Z",
     "start_time": "2022-03-17T09:25:57.399308Z"
    }
   },
   "outputs": [
    {
     "data": {
      "text/plain": [
       "False"
      ]
     },
     "execution_count": 18,
     "metadata": {},
     "output_type": "execute_result"
    }
   ],
   "source": [
    "f = ['2H', '2D', '5H', '2H', '5H']\n",
    "flush( *toNumStrTuple(f) )"
   ]
  },
  {
   "cell_type": "code",
   "execution_count": 31,
   "id": "7b7d0923",
   "metadata": {
    "ExecuteTime": {
     "end_time": "2022-03-17T09:30:40.803523Z",
     "start_time": "2022-03-17T09:30:40.801244Z"
    }
   },
   "outputs": [],
   "source": [
    "def straight(nums: List[int], suits: List[str]) -> bool:\n",
    "    \n",
    "    nums = sorted(nums)\n",
    "    \n",
    "    for i, n in enumerate(nums):\n",
    "        if n != nums[0]+i: \n",
    "            return False\n",
    "        \n",
    "    return True"
   ]
  },
  {
   "cell_type": "code",
   "execution_count": 33,
   "id": "e4bc1596",
   "metadata": {
    "ExecuteTime": {
     "end_time": "2022-03-17T09:30:48.215440Z",
     "start_time": "2022-03-17T09:30:48.212967Z"
    }
   },
   "outputs": [
    {
     "data": {
      "text/plain": [
       "True"
      ]
     },
     "execution_count": 33,
     "metadata": {},
     "output_type": "execute_result"
    }
   ],
   "source": [
    "s = ['JH', 'AD', 'KH', 'QH', 'TH']\n",
    "straight( *toNumStrTuple(s) )"
   ]
  },
  {
   "cell_type": "code",
   "execution_count": 40,
   "id": "14b462ff",
   "metadata": {
    "ExecuteTime": {
     "end_time": "2022-03-17T09:36:22.304849Z",
     "start_time": "2022-03-17T09:36:22.302539Z"
    }
   },
   "outputs": [],
   "source": [
    "def threeOfAKind(nums: List[int], suits: List[str]) -> bool:\n",
    "    \n",
    "    nums = sorted(nums)\n",
    "    for n in nums:\n",
    "        if sum(1 for m in nums if n == m) == 3:\n",
    "            return True\n",
    "    \n",
    "    return False"
   ]
  },
  {
   "cell_type": "code",
   "execution_count": 42,
   "id": "67621a22",
   "metadata": {
    "ExecuteTime": {
     "end_time": "2022-03-17T09:36:43.593063Z",
     "start_time": "2022-03-17T09:36:43.590448Z"
    }
   },
   "outputs": [
    {
     "data": {
      "text/plain": [
       "True"
      ]
     },
     "execution_count": 42,
     "metadata": {},
     "output_type": "execute_result"
    }
   ],
   "source": [
    "toak = ['TH', 'AD', 'TH', 'QH', 'TH']\n",
    "threeOfAKind( *toNumStrTuple(toak) )"
   ]
  },
  {
   "cell_type": "code",
   "execution_count": null,
   "id": "63826ff7",
   "metadata": {},
   "outputs": [],
   "source": []
  }
 ],
 "metadata": {
  "hide_input": false,
  "kernelspec": {
   "display_name": "Python 3",
   "language": "python",
   "name": "python3"
  },
  "language_info": {
   "codemirror_mode": {
    "name": "ipython",
    "version": 3
   },
   "file_extension": ".py",
   "mimetype": "text/x-python",
   "name": "python",
   "nbconvert_exporter": "python",
   "pygments_lexer": "ipython3",
   "version": "3.8.10"
  },
  "toc": {
   "base_numbering": 1,
   "nav_menu": {},
   "number_sections": true,
   "sideBar": true,
   "skip_h1_title": false,
   "title_cell": "Table of Contents",
   "title_sidebar": "Contents",
   "toc_cell": false,
   "toc_position": {},
   "toc_section_display": true,
   "toc_window_display": false
  }
 },
 "nbformat": 4,
 "nbformat_minor": 5
}
