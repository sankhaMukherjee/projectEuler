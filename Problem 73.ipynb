{
 "cells": [
  {
   "cell_type": "markdown",
   "id": "84d13246",
   "metadata": {},
   "source": [
    "# Problem 73: Counting fractions in a range\n",
    "\n",
    "Consider the fraction, n/d, where n and d are positive integers. If n<d and HCF(n,d)=1, it is called a reduced proper fraction.\n",
    "\n",
    "If we list the set of reduced proper fractions for d ≤ 8 in ascending order of size, we get:\n",
    "\n",
    "1/8, 1/7, 1/6, 1/5, 1/4, 2/7, 1/3, **3/8, 2/5, 3/7**, 1/2, 4/7, 3/5, 5/8, 2/3, 5/7, 3/4, 4/5, 5/6, 6/7, 7/8\n",
    "\n",
    "It can be seen that there are 3 fractions between 1/3 and 1/2.\n",
    "\n",
    "How many fractions lie between 1/3 and 1/2 in the sorted set of reduced proper fractions for d ≤ 12,000?"
   ]
  },
  {
   "cell_type": "code",
   "execution_count": 30,
   "id": "eec047ce",
   "metadata": {
    "ExecuteTime": {
     "end_time": "2022-08-21T10:50:11.575303Z",
     "start_time": "2022-08-21T10:50:11.566977Z"
    }
   },
   "outputs": [],
   "source": [
    "from math import gcd, ceil, floor\n",
    "from tqdm.notebook import tqdm"
   ]
  },
  {
   "cell_type": "code",
   "execution_count": 6,
   "id": "66b3a5fa",
   "metadata": {
    "ExecuteTime": {
     "end_time": "2022-08-21T10:38:03.269395Z",
     "start_time": "2022-08-21T10:38:03.267260Z"
    }
   },
   "outputs": [],
   "source": [
    "from typing import List\n",
    "def getNList(d:int) -> List[int]:\n",
    "    nUpper = ceil(d/2)\n",
    "    nLower = floor(d/3) + 1\n",
    "    return list(range( nLower, nUpper ))"
   ]
  },
  {
   "cell_type": "code",
   "execution_count": 20,
   "id": "224282fa",
   "metadata": {
    "ExecuteTime": {
     "end_time": "2022-08-21T10:47:00.362076Z",
     "start_time": "2022-08-21T10:47:00.353817Z"
    }
   },
   "outputs": [],
   "source": [
    "def onlyProper(d: int, nList: List[int]) -> List[int]:\n",
    "    newList = [n for n in nList if (gcd(n, d) == 1)]\n",
    "    return newList"
   ]
  },
  {
   "cell_type": "code",
   "execution_count": 28,
   "id": "b0ae406d",
   "metadata": {
    "ExecuteTime": {
     "end_time": "2022-08-21T10:49:33.974145Z",
     "start_time": "2022-08-21T10:49:32.132148Z"
    }
   },
   "outputs": [
    {
     "data": {
      "application/vnd.jupyter.widget-view+json": {
       "model_id": "8ed1a440ca51425fb092d5fdebc9ad99",
       "version_major": 2,
       "version_minor": 0
      },
      "text/plain": [
       "  0%|          | 0/11997 [00:00<?, ?it/s]"
      ]
     },
     "metadata": {},
     "output_type": "display_data"
    },
    {
     "name": "stdout",
     "output_type": "stream",
     "text": [
      "7295372\n",
      "CPU times: user 1.84 s, sys: 0 ns, total: 1.84 s\n",
      "Wall time: 1.83 s\n"
     ]
    }
   ],
   "source": [
    "%%time\n",
    "nMax = 12_000\n",
    "nVals = 0\n",
    "for d in tqdm(range(4, nMax+1)):\n",
    "    nList = onlyProper(d, getNList(d))\n",
    "    #print(f'{d:>5d} | {nList}')\n",
    "    nVals += len( nList )\n",
    "    \n",
    "print(nVals)"
   ]
  },
  {
   "cell_type": "code",
   "execution_count": null,
   "id": "48f0feea",
   "metadata": {},
   "outputs": [],
   "source": []
  }
 ],
 "metadata": {
  "hide_input": false,
  "kernelspec": {
   "display_name": "Python 3 (ipykernel)",
   "language": "python",
   "name": "python3"
  },
  "language_info": {
   "codemirror_mode": {
    "name": "ipython",
    "version": 3
   },
   "file_extension": ".py",
   "mimetype": "text/x-python",
   "name": "python",
   "nbconvert_exporter": "python",
   "pygments_lexer": "ipython3",
   "version": "3.10.6"
  },
  "toc": {
   "base_numbering": 1,
   "nav_menu": {},
   "number_sections": true,
   "sideBar": true,
   "skip_h1_title": false,
   "title_cell": "Table of Contents",
   "title_sidebar": "Contents",
   "toc_cell": false,
   "toc_position": {},
   "toc_section_display": true,
   "toc_window_display": false
  }
 },
 "nbformat": 4,
 "nbformat_minor": 5
}
