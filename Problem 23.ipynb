{
 "cells": [
  {
   "cell_type": "markdown",
   "id": "ba13d8f3",
   "metadata": {},
   "source": [
    "# Problem 23: Non-abundant sums\n",
    "\n",
    "\n",
    "A perfect number is a number for which the sum of its proper divisors is exactly equal to the number. For example, the sum of the proper divisors of 28 would be 1 + 2 + 4 + 7 + 14 = 28, which means that 28 is a perfect number.\n",
    "\n",
    "A number n is called deficient if the sum of its proper divisors is less than n and it is called abundant if this sum exceeds n.\n",
    "\n",
    "As 12 is the smallest abundant number, 1 + 2 + 3 + 4 + 6 = 16, the smallest number that can be written as the sum of two abundant numbers is 24. By mathematical analysis, it can be shown that all integers greater than 28123 can be written as the sum of two abundant numbers. However, this upper limit cannot be reduced any further by analysis even though it is known that the greatest number that cannot be expressed as the sum of two abundant numbers is less than this limit.\n",
    "\n",
    "Find the sum of all the positive integers which cannot be written as the sum of two abundant numbers.\n"
   ]
  },
  {
   "cell_type": "code",
   "execution_count": 20,
   "id": "8729c679",
   "metadata": {
    "ExecuteTime": {
     "end_time": "2021-12-06T16:58:02.685782Z",
     "start_time": "2021-12-06T16:58:02.679707Z"
    }
   },
   "outputs": [],
   "source": [
    "from tqdm import tqdm"
   ]
  },
  {
   "cell_type": "code",
   "execution_count": 2,
   "id": "3de31600",
   "metadata": {
    "ExecuteTime": {
     "end_time": "2021-12-06T16:50:59.627399Z",
     "start_time": "2021-12-06T16:50:59.625810Z"
    }
   },
   "outputs": [],
   "source": [
    "# 1. find the proper factors of a number\n",
    "# 2. find if a number is an abundant number\n",
    "# 3. Find a list of all abundant numbers till 28123\n",
    "# 4. loop through the numbers to find whether the number can be composed of two abundant numbers\n",
    "# 5. The sum of these is the answer\n"
   ]
  },
  {
   "cell_type": "code",
   "execution_count": 13,
   "id": "535ddd9a",
   "metadata": {
    "ExecuteTime": {
     "end_time": "2021-12-06T16:55:18.829441Z",
     "start_time": "2021-12-06T16:55:18.827049Z"
    }
   },
   "outputs": [],
   "source": [
    "def properFactors(n):\n",
    "    \n",
    "    factors = [1]\n",
    "    for i in range(2, n//2+1):\n",
    "        if n%i == 0:\n",
    "            factors.append(i)\n",
    "            \n",
    "    return factors\n",
    "\n",
    "def properFactorsSum(n):\n",
    "    return sum(properFactors(n))\n",
    "\n",
    "def abundant(n):\n",
    "    return n < properFactorsSum(n)"
   ]
  },
  {
   "cell_type": "code",
   "execution_count": 19,
   "id": "f098d2f9",
   "metadata": {
    "ExecuteTime": {
     "end_time": "2021-12-06T16:57:51.769171Z",
     "start_time": "2021-12-06T16:57:43.440886Z"
    }
   },
   "outputs": [],
   "source": [
    "abundantNumbers = []\n",
    "for i in range(2, 28123+1):\n",
    "    if abundant(i):\n",
    "        abundantNumbers.append( i )"
   ]
  },
  {
   "cell_type": "code",
   "execution_count": 22,
   "id": "ff9441ab",
   "metadata": {
    "ExecuteTime": {
     "end_time": "2021-12-06T16:58:18.030999Z",
     "start_time": "2021-12-06T16:58:18.028566Z"
    }
   },
   "outputs": [
    {
     "data": {
      "text/plain": [
       "6965"
      ]
     },
     "execution_count": 22,
     "metadata": {},
     "output_type": "execute_result"
    }
   ],
   "source": [
    "len(abundantNumbers)"
   ]
  },
  {
   "cell_type": "code",
   "execution_count": 31,
   "id": "d4321a38",
   "metadata": {
    "ExecuteTime": {
     "end_time": "2021-12-06T17:08:17.728537Z",
     "start_time": "2021-12-06T17:04:19.918085Z"
    }
   },
   "outputs": [
    {
     "name": "stderr",
     "output_type": "stream",
     "text": [
      "100%|██████████| 28103/28103 [03:57<00:00, 118.18it/s]\n"
     ]
    }
   ],
   "source": [
    "sumTwo = []\n",
    "for i in tqdm(range(21, 28123+1)):\n",
    "    for j in abundantNumbers:\n",
    "        if j > i: break\n",
    "        \n",
    "        if (i-j) in abundantNumbers:\n",
    "            sumTwo.append( i )\n",
    "            break"
   ]
  },
  {
   "cell_type": "code",
   "execution_count": 30,
   "id": "e846ac72",
   "metadata": {
    "ExecuteTime": {
     "end_time": "2021-12-06T17:02:56.872221Z",
     "start_time": "2021-12-06T17:02:56.869194Z"
    }
   },
   "outputs": [
    {
     "data": {
      "text/plain": [
       "[(24, 12, 12),\n",
       " (30, 12, 18),\n",
       " (32, 12, 20),\n",
       " (36, 12, 24),\n",
       " (38, 18, 20),\n",
       " (40, 20, 20),\n",
       " (42, 12, 30),\n",
       " (44, 20, 24),\n",
       " (48, 12, 36)]"
      ]
     },
     "execution_count": 30,
     "metadata": {},
     "output_type": "execute_result"
    }
   ],
   "source": [
    "sumTwo"
   ]
  },
  {
   "cell_type": "code",
   "execution_count": 33,
   "id": "966a6155",
   "metadata": {
    "ExecuteTime": {
     "end_time": "2021-12-06T17:08:38.398358Z",
     "start_time": "2021-12-06T17:08:38.395171Z"
    }
   },
   "outputs": [
    {
     "data": {
      "text/plain": [
       "26667"
      ]
     },
     "execution_count": 33,
     "metadata": {},
     "output_type": "execute_result"
    }
   ],
   "source": [
    "len(sumTwo)"
   ]
  },
  {
   "cell_type": "code",
   "execution_count": 34,
   "id": "c507cd18",
   "metadata": {
    "ExecuteTime": {
     "end_time": "2021-12-06T17:09:39.949717Z",
     "start_time": "2021-12-06T17:09:37.007231Z"
    }
   },
   "outputs": [],
   "source": [
    "rest = [i for i in range(1, 28123+1) if i not in sumTwo]"
   ]
  },
  {
   "cell_type": "code",
   "execution_count": 36,
   "id": "5362b421",
   "metadata": {
    "ExecuteTime": {
     "end_time": "2021-12-06T17:09:58.248684Z",
     "start_time": "2021-12-06T17:09:58.245569Z"
    }
   },
   "outputs": [
    {
     "data": {
      "text/plain": [
       "1456"
      ]
     },
     "execution_count": 36,
     "metadata": {},
     "output_type": "execute_result"
    }
   ],
   "source": [
    "len(rest)"
   ]
  },
  {
   "cell_type": "code",
   "execution_count": 37,
   "id": "b2983266",
   "metadata": {
    "ExecuteTime": {
     "end_time": "2021-12-06T17:10:05.210815Z",
     "start_time": "2021-12-06T17:10:05.207776Z"
    }
   },
   "outputs": [
    {
     "data": {
      "text/plain": [
       "[1, 2, 3, 4, 5, 6, 7, 8, 9, 10]"
      ]
     },
     "execution_count": 37,
     "metadata": {},
     "output_type": "execute_result"
    }
   ],
   "source": [
    "rest[:10]"
   ]
  },
  {
   "cell_type": "code",
   "execution_count": 39,
   "id": "646b3794",
   "metadata": {
    "ExecuteTime": {
     "end_time": "2021-12-06T17:10:23.436562Z",
     "start_time": "2021-12-06T17:10:23.433377Z"
    }
   },
   "outputs": [
    {
     "data": {
      "text/plain": [
       "[14251, 14297, 15371, 15557, 16187, 17261, 17891, 18437, 19067, 20161]"
      ]
     },
     "execution_count": 39,
     "metadata": {},
     "output_type": "execute_result"
    }
   ],
   "source": [
    "rest[-10:]"
   ]
  },
  {
   "cell_type": "code",
   "execution_count": 40,
   "id": "e2bc9610",
   "metadata": {
    "ExecuteTime": {
     "end_time": "2021-12-06T17:10:49.098132Z",
     "start_time": "2021-12-06T17:10:49.095564Z"
    }
   },
   "outputs": [
    {
     "data": {
      "text/plain": [
       "4179871"
      ]
     },
     "execution_count": 40,
     "metadata": {},
     "output_type": "execute_result"
    }
   ],
   "source": [
    "sum(rest)"
   ]
  },
  {
   "cell_type": "code",
   "execution_count": null,
   "id": "b6748da6",
   "metadata": {},
   "outputs": [],
   "source": []
  }
 ],
 "metadata": {
  "hide_input": false,
  "kernelspec": {
   "display_name": "Python 3",
   "language": "python",
   "name": "python3"
  },
  "language_info": {
   "codemirror_mode": {
    "name": "ipython",
    "version": 3
   },
   "file_extension": ".py",
   "mimetype": "text/x-python",
   "name": "python",
   "nbconvert_exporter": "python",
   "pygments_lexer": "ipython3",
   "version": "3.8.10"
  },
  "toc": {
   "base_numbering": 1,
   "nav_menu": {},
   "number_sections": true,
   "sideBar": true,
   "skip_h1_title": false,
   "title_cell": "Table of Contents",
   "title_sidebar": "Contents",
   "toc_cell": false,
   "toc_position": {},
   "toc_section_display": true,
   "toc_window_display": false
  }
 },
 "nbformat": 4,
 "nbformat_minor": 5
}
