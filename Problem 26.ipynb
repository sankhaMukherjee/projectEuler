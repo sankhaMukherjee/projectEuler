{
 "cells": [
  {
   "cell_type": "markdown",
   "id": "3b54af1d",
   "metadata": {},
   "source": [
    "# Problem 26: Reciprocal cycles\n",
    "\n",
    "\n",
    "\n",
    "A unit fraction contains 1 in the numerator. The decimal representation of the unit fractions with denominators 2 to 10 are given:\n",
    "\n",
    "    1/2\t= \t0.5\n",
    "    1/3\t= \t0.(3)\n",
    "    1/4\t= \t0.25\n",
    "    1/5\t= \t0.2\n",
    "    1/6\t= \t0.1(6)\n",
    "    1/7\t= \t0.(142857)\n",
    "    1/8\t= \t0.125\n",
    "    1/9\t= \t0.(1)\n",
    "    1/10\t= \t0.1 \n",
    "\n",
    "Where 0.1(6) means 0.166666..., and has a 1-digit recurring cycle. It can be seen that 1/7 has a 6-digit recurring cycle.\n",
    "\n",
    "Find the value of d < 1000 for which 1/d contains the longest recurring cycle in its decimal fraction part.\n"
   ]
  },
  {
   "cell_type": "code",
   "execution_count": 59,
   "id": "86803c7d",
   "metadata": {
    "ExecuteTime": {
     "end_time": "2021-12-09T18:00:32.168147Z",
     "start_time": "2021-12-09T18:00:32.164200Z"
    }
   },
   "outputs": [],
   "source": [
    "def findDiv(d):\n",
    "    \n",
    "    n      = 1\n",
    "    result = []\n",
    "    ns     = [n]\n",
    "    \n",
    "    #print(result)\n",
    "    \n",
    "    while True:\n",
    "        v, n   = n*10//d, n*10%d\n",
    "        result.append( v )\n",
    "        \n",
    "        if (n == 0):\n",
    "            break\n",
    "        \n",
    "        if (n in ns):\n",
    "            ns.append(n)\n",
    "            break\n",
    "        \n",
    "        ns.append(n)\n",
    "        \n",
    "    #print(result, ns) \n",
    "    \n",
    "    if len(result) == len(ns):\n",
    "        return 0\n",
    "    \n",
    "    # ---we do have recurring digits ------\n",
    "    last = ns[-1]\n",
    "    rest = list(reversed(ns[:-1]))\n",
    "    #print(last, rest)\n",
    "    for i, r in enumerate(rest):\n",
    "        #print(i, r)\n",
    "        if r == last:\n",
    "            return i+1\n",
    "    return\n",
    "        "
   ]
  },
  {
   "cell_type": "code",
   "execution_count": 69,
   "id": "e244b844",
   "metadata": {
    "ExecuteTime": {
     "end_time": "2021-12-09T18:04:59.777796Z",
     "start_time": "2021-12-09T18:04:59.600948Z"
    }
   },
   "outputs": [
    {
     "name": "stdout",
     "output_type": "stream",
     "text": [
      "983\n"
     ]
    }
   ],
   "source": [
    "longest, longest_d = 0, 1\n",
    "for i in range(2, 1000):\n",
    "    result = findDiv(i)\n",
    "    #print(i, result)\n",
    "    if result > longest:\n",
    "        longest, longest_d = result, i\n",
    "\n",
    "print(longest_d)"
   ]
  },
  {
   "cell_type": "code",
   "execution_count": null,
   "id": "41a2507d",
   "metadata": {},
   "outputs": [],
   "source": []
  }
 ],
 "metadata": {
  "hide_input": false,
  "kernelspec": {
   "display_name": "Python 3",
   "language": "python",
   "name": "python3"
  },
  "language_info": {
   "codemirror_mode": {
    "name": "ipython",
    "version": 3
   },
   "file_extension": ".py",
   "mimetype": "text/x-python",
   "name": "python",
   "nbconvert_exporter": "python",
   "pygments_lexer": "ipython3",
   "version": "3.8.10"
  },
  "toc": {
   "base_numbering": 1,
   "nav_menu": {},
   "number_sections": true,
   "sideBar": true,
   "skip_h1_title": false,
   "title_cell": "Table of Contents",
   "title_sidebar": "Contents",
   "toc_cell": false,
   "toc_position": {},
   "toc_section_display": true,
   "toc_window_display": false
  }
 },
 "nbformat": 4,
 "nbformat_minor": 5
}
