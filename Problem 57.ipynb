{
 "cells": [
  {
   "cell_type": "markdown",
   "id": "bf2e14f4",
   "metadata": {},
   "source": [
    "# Problem 57: Square root convergents\n",
    "\n",
    "It is possible to show that the square root of two can be expressed as an infinite continued fraction.\n",
    "\n",
    "By expanding this for the first four iterations, we get:\n",
    "\n",
    "\n",
    "The next three expansions are \n",
    " \n",
    ", \n",
    " \n",
    ", and \n",
    " \n",
    ", but the eighth expansion, \n",
    " \n",
    ", is the first example where the number of digits in the numerator exceeds the number of digits in the denominator.\n",
    "\n",
    "In the first one-thousand expansions, how many fractions contain a numerator with more digits than the denominator?"
   ]
  },
  {
   "cell_type": "markdown",
   "id": "f30ae2e3",
   "metadata": {},
   "source": [
    "$n_{m+1} = n_m + 2d_m$\n",
    "\n",
    "$d_{m+1} = n_m + d_m$\n"
   ]
  },
  {
   "cell_type": "code",
   "execution_count": 4,
   "id": "91f2c9a1",
   "metadata": {
    "ExecuteTime": {
     "end_time": "2022-03-24T13:18:15.546461Z",
     "start_time": "2022-03-24T13:18:15.544670Z"
    }
   },
   "outputs": [],
   "source": [
    "def numGden(n:int, d:int) -> bool:\n",
    "    return len(str(n)) > len(str(d))"
   ]
  },
  {
   "cell_type": "code",
   "execution_count": 8,
   "id": "11189ce9",
   "metadata": {
    "ExecuteTime": {
     "end_time": "2022-03-24T13:19:16.186131Z",
     "start_time": "2022-03-24T13:19:16.181005Z"
    }
   },
   "outputs": [
    {
     "name": "stdout",
     "output_type": "stream",
     "text": [
      "153\n"
     ]
    }
   ],
   "source": [
    "N = 1000\n",
    "n, d = 3, 2\n",
    "count = 0\n",
    "for i in range(N-1):\n",
    "    n, d = n + 2*d, n+d\n",
    "    if numGden(n, d):\n",
    "        count += 1\n",
    "        \n",
    "print(count)"
   ]
  },
  {
   "cell_type": "code",
   "execution_count": null,
   "id": "de4fd482",
   "metadata": {},
   "outputs": [],
   "source": []
  }
 ],
 "metadata": {
  "hide_input": false,
  "kernelspec": {
   "display_name": "Python 3",
   "language": "python",
   "name": "python3"
  },
  "language_info": {
   "codemirror_mode": {
    "name": "ipython",
    "version": 3
   },
   "file_extension": ".py",
   "mimetype": "text/x-python",
   "name": "python",
   "nbconvert_exporter": "python",
   "pygments_lexer": "ipython3",
   "version": "3.8.10"
  },
  "toc": {
   "base_numbering": 1,
   "nav_menu": {},
   "number_sections": true,
   "sideBar": true,
   "skip_h1_title": false,
   "title_cell": "Table of Contents",
   "title_sidebar": "Contents",
   "toc_cell": false,
   "toc_position": {},
   "toc_section_display": true,
   "toc_window_display": false
  }
 },
 "nbformat": 4,
 "nbformat_minor": 5
}
