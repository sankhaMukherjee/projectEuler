{
 "cells": [
  {
   "cell_type": "markdown",
   "id": "69ff75fa",
   "metadata": {},
   "source": [
    "# Problem 47: Distinct primes factors\n",
    "\n",
    "\n",
    "\n",
    "The first two consecutive numbers to have two distinct prime factors are:\n",
    "\n",
    "    14 = 2 × 7\n",
    "    15 = 3 × 5\n",
    "\n",
    "The first three consecutive numbers to have three distinct prime factors are:\n",
    "\n",
    "    644 = 2² × 7 × 23\n",
    "    645 = 3 × 5 × 43\n",
    "    646 = 2 × 17 × 19.\n",
    "\n",
    "Find the first four consecutive integers to have four distinct prime factors each. What is the first of these numbers?\n"
   ]
  },
  {
   "cell_type": "code",
   "execution_count": 40,
   "id": "c1fdceea",
   "metadata": {
    "ExecuteTime": {
     "end_time": "2022-03-02T14:53:13.912295Z",
     "start_time": "2022-03-02T14:53:13.881277Z"
    }
   },
   "outputs": [],
   "source": [
    "import numpy as np\n",
    "from typing import List\n",
    "from collections import deque\n",
    "from tqdm.notebook import tqdm"
   ]
  },
  {
   "cell_type": "code",
   "execution_count": 44,
   "id": "cd22accf",
   "metadata": {
    "ExecuteTime": {
     "end_time": "2022-03-02T14:58:09.456966Z",
     "start_time": "2022-03-02T14:57:44.388624Z"
    }
   },
   "outputs": [],
   "source": [
    "N = 1000000\n",
    "\n",
    "primes = []\n",
    "nums   = np.arange(2, N)\n",
    "\n",
    "while len(nums)> 0:\n",
    "    n0 = nums[0]\n",
    "    primes.append(n0)\n",
    "    nums = nums[ nums % n0!= 0 ]"
   ]
  },
  {
   "cell_type": "code",
   "execution_count": 45,
   "id": "cf34c49e",
   "metadata": {
    "ExecuteTime": {
     "end_time": "2022-03-02T14:58:19.438463Z",
     "start_time": "2022-03-02T14:58:19.429442Z"
    }
   },
   "outputs": [],
   "source": [
    "primes = np.array(primes)"
   ]
  },
  {
   "cell_type": "code",
   "execution_count": 5,
   "id": "3ec37d2c",
   "metadata": {
    "ExecuteTime": {
     "end_time": "2022-03-02T14:35:38.831589Z",
     "start_time": "2022-03-02T14:35:38.829159Z"
    }
   },
   "outputs": [
    {
     "data": {
      "text/plain": [
       "9592"
      ]
     },
     "execution_count": 5,
     "metadata": {},
     "output_type": "execute_result"
    }
   ],
   "source": [
    "len(primes)"
   ]
  },
  {
   "cell_type": "code",
   "execution_count": 67,
   "id": "7a83f70c",
   "metadata": {
    "ExecuteTime": {
     "end_time": "2022-03-02T15:21:14.091305Z",
     "start_time": "2022-03-02T15:21:14.080850Z"
    }
   },
   "outputs": [],
   "source": [
    "def primeFactors(n:int)-> int:\n",
    "    result = 0\n",
    "    \n",
    "    if n in primes:\n",
    "        return 1\n",
    "    \n",
    "    #primes1 = reversed(primes[primes<=n])\n",
    "    \n",
    "    for p in primes:\n",
    "        if p > n:\n",
    "            break\n",
    "        if n % p == 0:\n",
    "            #print('------')\n",
    "            #print(p, n)\n",
    "            n = n/p\n",
    "            result += 1\n",
    "            #print(p, n, result)\n",
    "    return result"
   ]
  },
  {
   "cell_type": "code",
   "execution_count": 68,
   "id": "f14d2c2c",
   "metadata": {
    "ExecuteTime": {
     "end_time": "2022-03-02T15:21:14.624387Z",
     "start_time": "2022-03-02T15:21:14.620749Z"
    }
   },
   "outputs": [
    {
     "name": "stdout",
     "output_type": "stream",
     "text": [
      "----> 644 3\n",
      "----> 645 3\n",
      "----> 646 3\n"
     ]
    }
   ],
   "source": [
    "for n in [644, 645, 646]:\n",
    "    print('---->', n, primeFactors(n))"
   ]
  },
  {
   "cell_type": "code",
   "execution_count": 69,
   "id": "46c79daf",
   "metadata": {
    "ExecuteTime": {
     "end_time": "2022-03-02T15:21:59.649200Z",
     "start_time": "2022-03-02T15:21:17.174829Z"
    }
   },
   "outputs": [
    {
     "data": {
      "application/vnd.jupyter.widget-view+json": {
       "model_id": "0a2a67b9fac2492a84bafa54df80c64e",
       "version_major": 2,
       "version_minor": 0
      },
      "text/plain": [
       "  0%|          | 0/900000 [00:00<?, ?it/s]"
      ]
     },
     "metadata": {},
     "output_type": "display_data"
    },
    {
     "name": "stdout",
     "output_type": "stream",
     "text": [
      "134046, True, deque([4, 4, 4, 4], maxlen=4)\n",
      "134043\n"
     ]
    }
   ],
   "source": [
    "N=4\n",
    "d = deque([], N)\n",
    "for n in tqdm(range(100000, 1000000)):\n",
    "    d.append(primeFactors(n))\n",
    "    if list(d) == [N]*N:\n",
    "        print(f'{n:>5d}, {list(d) == [N]*N}, {d}')\n",
    "        print(n-N+1)\n",
    "        break"
   ]
  },
  {
   "cell_type": "code",
   "execution_count": null,
   "id": "78b3357c",
   "metadata": {},
   "outputs": [],
   "source": []
  }
 ],
 "metadata": {
  "hide_input": false,
  "kernelspec": {
   "display_name": "Python 3",
   "language": "python",
   "name": "python3"
  },
  "language_info": {
   "codemirror_mode": {
    "name": "ipython",
    "version": 3
   },
   "file_extension": ".py",
   "mimetype": "text/x-python",
   "name": "python",
   "nbconvert_exporter": "python",
   "pygments_lexer": "ipython3",
   "version": "3.8.10"
  },
  "toc": {
   "base_numbering": 1,
   "nav_menu": {},
   "number_sections": true,
   "sideBar": true,
   "skip_h1_title": false,
   "title_cell": "Table of Contents",
   "title_sidebar": "Contents",
   "toc_cell": false,
   "toc_position": {},
   "toc_section_display": true,
   "toc_window_display": false
  }
 },
 "nbformat": 4,
 "nbformat_minor": 5
}
