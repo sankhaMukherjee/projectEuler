{
 "cells": [
  {
   "cell_type": "markdown",
   "id": "f3d1213b",
   "metadata": {},
   "source": [
    "# Problem 56: Powerful digit sum\n",
    "\n",
    "A googol ( $10^{100}$ ) is a massive number: one followed by one-hundred zeros; $100^{100}$ is almost unimaginably large: one followed by two-hundred zeros. Despite their size, the sum of the digits in each number is only 1.\n",
    "\n",
    "Considering natural numbers of the form, ab, where a, b < 100, what is the maximum digital sum?"
   ]
  },
  {
   "cell_type": "code",
   "execution_count": 12,
   "id": "00cf8e49",
   "metadata": {
    "ExecuteTime": {
     "end_time": "2022-03-24T12:59:53.547998Z",
     "start_time": "2022-03-24T12:59:53.487698Z"
    }
   },
   "outputs": [
    {
     "name": "stdout",
     "output_type": "stream",
     "text": [
      "  0,   0,       1\n",
      "  2,   1,       2\n",
      "  2,   2,       4\n",
      "  2,   3,       8\n",
      "  2,   6,      10\n",
      "  2,   7,      11\n",
      "  2,   8,      13\n",
      "  2,  11,      14\n",
      "  2,  12,      19\n",
      "  2,  13,      20\n",
      "  2,  14,      22\n",
      "  2,  15,      26\n",
      "  2,  19,      29\n",
      "  2,  20,      31\n",
      "  2,  23,      41\n",
      "  2,  28,      43\n",
      "  2,  31,      47\n",
      "  2,  32,      58\n",
      "  2,  33,      62\n",
      "  2,  36,      64\n",
      "  2,  38,      67\n",
      "  2,  39,      71\n",
      "  2,  48,      73\n",
      "  2,  50,      76\n",
      "  2,  51,      80\n",
      "  2,  54,      82\n",
      "  2,  55,      92\n",
      "  2,  66,     109\n",
      "  2,  67,     110\n",
      "  2,  74,     130\n",
      "  2,  91,     146\n",
      "  2,  94,     151\n",
      "  3,  62,     153\n",
      "  3,  67,     162\n",
      "  3,  71,     180\n",
      "  3,  79,     189\n",
      "  3,  82,     198\n",
      "  3,  90,     216\n",
      "  3,  98,     225\n",
      "  4,  75,     235\n",
      "  4,  76,     238\n",
      "  4,  83,     250\n",
      "  4,  86,     259\n",
      "  4,  89,     268\n",
      "  4,  92,     277\n",
      "  4,  93,     289\n",
      "  5,  83,     290\n",
      "  5,  90,     316\n",
      "  5,  94,     319\n",
      "  5,  96,     325\n",
      "  6,  83,     333\n",
      "  6,  90,     360\n",
      "  7,  86,     364\n",
      "  7,  94,     376\n",
      "  8,  85,     377\n",
      "  8,  89,     386\n",
      "  8,  94,     415\n",
      "  9,  97,     459\n",
      " 11,  88,     466\n",
      " 11,  98,     499\n",
      " 13,  91,     508\n",
      " 13,  93,     514\n",
      " 13,  98,     529\n",
      " 13,  99,     532\n",
      " 14,  93,     548\n",
      " 15,  98,     558\n",
      " 17,  87,     566\n",
      " 17,  98,     577\n",
      " 18,  99,     594\n",
      " 19,  97,     595\n",
      " 19,  98,     604\n",
      " 21,  98,     612\n",
      " 22,  98,     664\n",
      " 24,  97,     666\n",
      " 26,  99,     692\n",
      " 27,  96,     720\n",
      " 32,  95,     731\n",
      " 37,  97,     757\n",
      " 39,  98,     792\n",
      " 48,  97,     801\n",
      " 51,  98,     846\n",
      " 58,  99,     865\n",
      " 64,  99,     892\n",
      " 79,  97,     907\n",
      " 79,  99,     955\n",
      " 94,  98,     970\n",
      " 99,  95,     972\n"
     ]
    }
   ],
   "source": [
    "maxVal = 0\n",
    "for a in range(100):\n",
    "    for b in range(100):\n",
    "        vals = a**b\n",
    "        sVals = sum(map(int, str(vals)))\n",
    "        if sVals > maxVal:\n",
    "            maxVal = sVals\n",
    "            print(f'{a:3d}, {b:3d}, {maxVal:7d}')"
   ]
  },
  {
   "cell_type": "code",
   "execution_count": null,
   "id": "f80cba29",
   "metadata": {},
   "outputs": [],
   "source": []
  }
 ],
 "metadata": {
  "hide_input": false,
  "kernelspec": {
   "display_name": "Python 3",
   "language": "python",
   "name": "python3"
  },
  "language_info": {
   "codemirror_mode": {
    "name": "ipython",
    "version": 3
   },
   "file_extension": ".py",
   "mimetype": "text/x-python",
   "name": "python",
   "nbconvert_exporter": "python",
   "pygments_lexer": "ipython3",
   "version": "3.8.10"
  },
  "toc": {
   "base_numbering": 1,
   "nav_menu": {},
   "number_sections": true,
   "sideBar": true,
   "skip_h1_title": false,
   "title_cell": "Table of Contents",
   "title_sidebar": "Contents",
   "toc_cell": false,
   "toc_position": {},
   "toc_section_display": true,
   "toc_window_display": false
  }
 },
 "nbformat": 4,
 "nbformat_minor": 5
}
