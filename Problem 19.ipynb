{
 "cells": [
  {
   "cell_type": "markdown",
   "id": "87c9bfc6",
   "metadata": {},
   "source": [
    "# Problem 19: Counting Sundays\n",
    "\n",
    "\n",
    "\n",
    "You are given the following information, but you may prefer to do some research for yourself.\n",
    "\n",
    "    1 Jan 1900 was a Monday.\n",
    "    Thirty days has September,\n",
    "    April, June and November.\n",
    "    All the rest have thirty-one,\n",
    "    Saving February alone,\n",
    "    Which has twenty-eight, rain or shine.\n",
    "    And on leap years, twenty-nine.\n",
    "    A leap year occurs on any year evenly divisible by 4, but not on a century unless it is divisible by 400.\n",
    "\n",
    "How many Sundays fell on the first of the month during the twentieth century (1 Jan 1901 to 31 Dec 2000)?\n"
   ]
  },
  {
   "cell_type": "code",
   "execution_count": 1,
   "id": "772ec69f",
   "metadata": {
    "ExecuteTime": {
     "end_time": "2021-12-04T12:28:02.630881Z",
     "start_time": "2021-12-04T12:28:02.616503Z"
    }
   },
   "outputs": [],
   "source": [
    "from datetime import datetime as dt\n",
    "from datetime import timedelta as tDel"
   ]
  },
  {
   "cell_type": "code",
   "execution_count": 2,
   "id": "edd7197c",
   "metadata": {
    "ExecuteTime": {
     "end_time": "2021-12-04T12:28:14.330201Z",
     "start_time": "2021-12-04T12:28:14.312229Z"
    }
   },
   "outputs": [
    {
     "data": {
      "text/plain": [
       "datetime.datetime(2021, 12, 4, 20, 28, 14, 313915)"
      ]
     },
     "execution_count": 2,
     "metadata": {},
     "output_type": "execute_result"
    }
   ],
   "source": [
    "dt.now().day"
   ]
  },
  {
   "cell_type": "code",
   "execution_count": 3,
   "id": "3dbcdf50",
   "metadata": {
    "ExecuteTime": {
     "end_time": "2021-12-04T12:28:45.839264Z",
     "start_time": "2021-12-04T12:28:45.835641Z"
    }
   },
   "outputs": [
    {
     "data": {
      "text/plain": [
       "4"
      ]
     },
     "execution_count": 3,
     "metadata": {},
     "output_type": "execute_result"
    }
   ],
   "source": [
    "dt.now().day"
   ]
  },
  {
   "cell_type": "code",
   "execution_count": 5,
   "id": "1244a1b7",
   "metadata": {
    "ExecuteTime": {
     "end_time": "2021-12-04T12:30:04.739982Z",
     "start_time": "2021-12-04T12:30:04.736260Z"
    }
   },
   "outputs": [
    {
     "data": {
      "text/plain": [
       "False"
      ]
     },
     "execution_count": 5,
     "metadata": {},
     "output_type": "execute_result"
    }
   ],
   "source": [
    "dt.now().weekday() == 6"
   ]
  },
  {
   "cell_type": "code",
   "execution_count": 10,
   "id": "647f48d4",
   "metadata": {
    "ExecuteTime": {
     "end_time": "2021-12-04T12:31:31.329210Z",
     "start_time": "2021-12-04T12:31:31.322297Z"
    }
   },
   "outputs": [
    {
     "data": {
      "text/plain": [
       "6"
      ]
     },
     "execution_count": 10,
     "metadata": {},
     "output_type": "execute_result"
    }
   ],
   "source": [
    "dt(1900, 1, 7).weekday()"
   ]
  },
  {
   "cell_type": "code",
   "execution_count": 12,
   "id": "ab60f142",
   "metadata": {
    "ExecuteTime": {
     "end_time": "2021-12-04T12:32:05.926316Z",
     "start_time": "2021-12-04T12:32:05.923668Z"
    }
   },
   "outputs": [
    {
     "data": {
      "text/plain": [
       "6"
      ]
     },
     "execution_count": 12,
     "metadata": {},
     "output_type": "execute_result"
    }
   ],
   "source": [
    "(dt(1900, 1, 7) + tDel(days=7)).weekday()"
   ]
  },
  {
   "cell_type": "code",
   "execution_count": 24,
   "id": "25ffdb10",
   "metadata": {
    "ExecuteTime": {
     "end_time": "2021-12-04T12:40:58.316908Z",
     "start_time": "2021-12-04T12:40:58.302545Z"
    }
   },
   "outputs": [
    {
     "name": "stdout",
     "output_type": "stream",
     "text": [
      "1901-09-01 | Sunday\n",
      "1901-12-01 | Sunday\n",
      "1902-06-01 | Sunday\n",
      "1903-02-01 | Sunday\n",
      "1903-03-01 | Sunday\n",
      "1903-11-01 | Sunday\n",
      "1904-05-01 | Sunday\n",
      "1905-01-01 | Sunday\n",
      "1905-10-01 | Sunday\n",
      "1906-04-01 | Sunday\n",
      "1906-07-01 | Sunday\n",
      "1907-09-01 | Sunday\n",
      "1907-12-01 | Sunday\n",
      "1908-03-01 | Sunday\n",
      "1908-11-01 | Sunday\n",
      "1909-08-01 | Sunday\n",
      "1910-05-01 | Sunday\n",
      "1911-01-01 | Sunday\n",
      "1911-10-01 | Sunday\n",
      "1912-09-01 | Sunday\n",
      "1912-12-01 | Sunday\n",
      "1913-06-01 | Sunday\n",
      "1914-02-01 | Sunday\n",
      "1914-03-01 | Sunday\n",
      "1914-11-01 | Sunday\n",
      "1915-08-01 | Sunday\n",
      "1916-10-01 | Sunday\n",
      "1917-04-01 | Sunday\n",
      "1917-07-01 | Sunday\n",
      "1918-09-01 | Sunday\n",
      "1918-12-01 | Sunday\n",
      "1919-06-01 | Sunday\n",
      "1920-02-01 | Sunday\n",
      "1920-08-01 | Sunday\n",
      "1921-05-01 | Sunday\n",
      "1922-01-01 | Sunday\n",
      "1922-10-01 | Sunday\n",
      "1923-04-01 | Sunday\n",
      "1923-07-01 | Sunday\n",
      "1924-06-01 | Sunday\n",
      "1925-02-01 | Sunday\n",
      "1925-03-01 | Sunday\n",
      "1925-11-01 | Sunday\n",
      "1926-08-01 | Sunday\n",
      "1927-05-01 | Sunday\n",
      "1928-01-01 | Sunday\n",
      "1928-04-01 | Sunday\n",
      "1928-07-01 | Sunday\n",
      "1929-09-01 | Sunday\n",
      "1929-12-01 | Sunday\n",
      "1930-06-01 | Sunday\n",
      "1931-02-01 | Sunday\n",
      "1931-03-01 | Sunday\n",
      "1931-11-01 | Sunday\n",
      "1932-05-01 | Sunday\n",
      "1933-01-01 | Sunday\n",
      "1933-10-01 | Sunday\n",
      "1934-04-01 | Sunday\n",
      "1934-07-01 | Sunday\n",
      "1935-09-01 | Sunday\n",
      "1935-12-01 | Sunday\n",
      "1936-03-01 | Sunday\n",
      "1936-11-01 | Sunday\n",
      "1937-08-01 | Sunday\n",
      "1938-05-01 | Sunday\n",
      "1939-01-01 | Sunday\n",
      "1939-10-01 | Sunday\n",
      "1940-09-01 | Sunday\n",
      "1940-12-01 | Sunday\n",
      "1941-06-01 | Sunday\n",
      "1942-02-01 | Sunday\n",
      "1942-03-01 | Sunday\n",
      "1942-11-01 | Sunday\n",
      "1943-08-01 | Sunday\n",
      "1944-10-01 | Sunday\n",
      "1945-04-01 | Sunday\n",
      "1945-07-01 | Sunday\n",
      "1946-09-01 | Sunday\n",
      "1946-12-01 | Sunday\n",
      "1947-06-01 | Sunday\n",
      "1948-02-01 | Sunday\n",
      "1948-08-01 | Sunday\n",
      "1949-05-01 | Sunday\n",
      "1950-01-01 | Sunday\n",
      "1950-10-01 | Sunday\n",
      "1951-04-01 | Sunday\n",
      "1951-07-01 | Sunday\n",
      "1952-06-01 | Sunday\n",
      "1953-02-01 | Sunday\n",
      "1953-03-01 | Sunday\n",
      "1953-11-01 | Sunday\n",
      "1954-08-01 | Sunday\n",
      "1955-05-01 | Sunday\n",
      "1956-01-01 | Sunday\n",
      "1956-04-01 | Sunday\n",
      "1956-07-01 | Sunday\n",
      "1957-09-01 | Sunday\n",
      "1957-12-01 | Sunday\n",
      "1958-06-01 | Sunday\n",
      "1959-02-01 | Sunday\n",
      "1959-03-01 | Sunday\n",
      "1959-11-01 | Sunday\n",
      "1960-05-01 | Sunday\n",
      "1961-01-01 | Sunday\n",
      "1961-10-01 | Sunday\n",
      "1962-04-01 | Sunday\n",
      "1962-07-01 | Sunday\n",
      "1963-09-01 | Sunday\n",
      "1963-12-01 | Sunday\n",
      "1964-03-01 | Sunday\n",
      "1964-11-01 | Sunday\n",
      "1965-08-01 | Sunday\n",
      "1966-05-01 | Sunday\n",
      "1967-01-01 | Sunday\n",
      "1967-10-01 | Sunday\n",
      "1968-09-01 | Sunday\n",
      "1968-12-01 | Sunday\n",
      "1969-06-01 | Sunday\n",
      "1970-02-01 | Sunday\n",
      "1970-03-01 | Sunday\n",
      "1970-11-01 | Sunday\n",
      "1971-08-01 | Sunday\n",
      "1972-10-01 | Sunday\n",
      "1973-04-01 | Sunday\n",
      "1973-07-01 | Sunday\n",
      "1974-09-01 | Sunday\n",
      "1974-12-01 | Sunday\n",
      "1975-06-01 | Sunday\n",
      "1976-02-01 | Sunday\n",
      "1976-08-01 | Sunday\n",
      "1977-05-01 | Sunday\n",
      "1978-01-01 | Sunday\n",
      "1978-10-01 | Sunday\n",
      "1979-04-01 | Sunday\n",
      "1979-07-01 | Sunday\n",
      "1980-06-01 | Sunday\n",
      "1981-02-01 | Sunday\n",
      "1981-03-01 | Sunday\n",
      "1981-11-01 | Sunday\n",
      "1982-08-01 | Sunday\n",
      "1983-05-01 | Sunday\n",
      "1984-01-01 | Sunday\n",
      "1984-04-01 | Sunday\n",
      "1984-07-01 | Sunday\n",
      "1985-09-01 | Sunday\n",
      "1985-12-01 | Sunday\n",
      "1986-06-01 | Sunday\n",
      "1987-02-01 | Sunday\n",
      "1987-03-01 | Sunday\n",
      "1987-11-01 | Sunday\n",
      "1988-05-01 | Sunday\n",
      "1989-01-01 | Sunday\n",
      "1989-10-01 | Sunday\n",
      "1990-04-01 | Sunday\n",
      "1990-07-01 | Sunday\n",
      "1991-09-01 | Sunday\n",
      "1991-12-01 | Sunday\n",
      "1992-03-01 | Sunday\n",
      "1992-11-01 | Sunday\n",
      "1993-08-01 | Sunday\n",
      "1994-05-01 | Sunday\n",
      "1995-01-01 | Sunday\n",
      "1995-10-01 | Sunday\n",
      "1996-09-01 | Sunday\n",
      "1996-12-01 | Sunday\n",
      "1997-06-01 | Sunday\n",
      "1998-02-01 | Sunday\n",
      "1998-03-01 | Sunday\n",
      "1998-11-01 | Sunday\n",
      "1999-08-01 | Sunday\n",
      "2000-10-01 | Sunday\n"
     ]
    }
   ],
   "source": [
    "curDate = dt(1900, 1, 7)\n",
    "lastDate = dt(2001, 1, 1)\n",
    "startDate = dt(1901, 1, 1)\n",
    "nDays = 0\n",
    "while True:\n",
    "    \n",
    "    if (curDate.day == 1) and (curDate >= startDate):\n",
    "        print(curDate.strftime('%Y-%m-%d | %A'))\n",
    "        nDays += 1\n",
    "    curDate += tDel(days=7)\n",
    "    \n",
    "    if curDate >= lastDate:\n",
    "        break\n",
    "    "
   ]
  },
  {
   "cell_type": "code",
   "execution_count": 25,
   "id": "d29475a2",
   "metadata": {
    "ExecuteTime": {
     "end_time": "2021-12-04T12:41:03.333446Z",
     "start_time": "2021-12-04T12:41:03.331224Z"
    }
   },
   "outputs": [
    {
     "data": {
      "text/plain": [
       "171"
      ]
     },
     "execution_count": 25,
     "metadata": {},
     "output_type": "execute_result"
    }
   ],
   "source": [
    "nDays"
   ]
  },
  {
   "cell_type": "code",
   "execution_count": 23,
   "id": "68fa2460",
   "metadata": {
    "ExecuteTime": {
     "end_time": "2021-12-04T12:39:45.066285Z",
     "start_time": "2021-12-04T12:39:45.063859Z"
    }
   },
   "outputs": [
    {
     "data": {
      "text/plain": [
       "'Sunday'"
      ]
     },
     "execution_count": 23,
     "metadata": {},
     "output_type": "execute_result"
    }
   ],
   "source": [
    "dt(1900,4, 1).strftime('%A')"
   ]
  },
  {
   "cell_type": "markdown",
   "id": "ae2bd71d",
   "metadata": {},
   "source": [
    "# Problem 20: Factorial digit sum\n",
    "\n",
    "\n",
    "\n",
    "For example, 10! = 10 × 9 × ... × 3 × 2 × 1 = 3628800,\n",
    "and the sum of the digits in the number 10! is 3 + 6 + 2 + 8 + 8 + 0 + 0 = 27.\n",
    "\n",
    "Find the sum of the digits in the number 100!"
   ]
  },
  {
   "cell_type": "code",
   "execution_count": 26,
   "id": "a75ce442",
   "metadata": {
    "ExecuteTime": {
     "end_time": "2021-12-04T12:42:28.125018Z",
     "start_time": "2021-12-04T12:42:28.123457Z"
    }
   },
   "outputs": [],
   "source": [
    "import math"
   ]
  },
  {
   "cell_type": "code",
   "execution_count": 29,
   "id": "c5b86f3d",
   "metadata": {
    "ExecuteTime": {
     "end_time": "2021-12-04T12:43:29.281150Z",
     "start_time": "2021-12-04T12:43:29.278353Z"
    }
   },
   "outputs": [
    {
     "data": {
      "text/plain": [
       "648"
      ]
     },
     "execution_count": 29,
     "metadata": {},
     "output_type": "execute_result"
    }
   ],
   "source": [
    "sum(map(int, str(math.factorial( 100 ))))"
   ]
  },
  {
   "cell_type": "code",
   "execution_count": null,
   "id": "acecedf0",
   "metadata": {},
   "outputs": [],
   "source": []
  }
 ],
 "metadata": {
  "hide_input": false,
  "kernelspec": {
   "display_name": "Python 3",
   "language": "python",
   "name": "python3"
  },
  "language_info": {
   "codemirror_mode": {
    "name": "ipython",
    "version": 3
   },
   "file_extension": ".py",
   "mimetype": "text/x-python",
   "name": "python",
   "nbconvert_exporter": "python",
   "pygments_lexer": "ipython3",
   "version": "3.8.10"
  },
  "toc": {
   "base_numbering": 1,
   "nav_menu": {},
   "number_sections": true,
   "sideBar": true,
   "skip_h1_title": false,
   "title_cell": "Table of Contents",
   "title_sidebar": "Contents",
   "toc_cell": false,
   "toc_position": {},
   "toc_section_display": true,
   "toc_window_display": false
  }
 },
 "nbformat": 4,
 "nbformat_minor": 5
}
