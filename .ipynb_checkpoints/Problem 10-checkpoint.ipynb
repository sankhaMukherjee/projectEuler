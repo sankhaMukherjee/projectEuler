{
 "cells": [
  {
   "cell_type": "markdown",
   "id": "47667cbf",
   "metadata": {},
   "source": [
    "# Problem 10: Summation of primes\n",
    "\n",
    "The sum of the primes below 10 is 2 + 3 + 5 + 7 = 17.\n",
    "\n",
    "Find the sum of all the primes below two million.\n"
   ]
  },
  {
   "cell_type": "code",
   "execution_count": 2,
   "id": "618a3a87",
   "metadata": {
    "ExecuteTime": {
     "end_time": "2021-11-23T13:47:31.840026Z",
     "start_time": "2021-11-23T13:47:31.709169Z"
    }
   },
   "outputs": [],
   "source": [
    "import numpy as np"
   ]
  },
  {
   "cell_type": "code",
   "execution_count": 29,
   "id": "60226483",
   "metadata": {
    "ExecuteTime": {
     "end_time": "2021-11-23T13:55:25.093954Z",
     "start_time": "2021-11-23T13:55:17.951466Z"
    }
   },
   "outputs": [],
   "source": [
    "largeN = 500000\n",
    "nums = np.linspace(2, largeN, largeN-1).astype(int)\n",
    "\n",
    "primes = []\n",
    "while len(nums) > 0:\n",
    "    p = nums[0]\n",
    "    primes.append(p)\n",
    "    nums = nums[ nums % p != 0 ]"
   ]
  },
  {
   "cell_type": "code",
   "execution_count": 30,
   "id": "02fa9d01",
   "metadata": {
    "ExecuteTime": {
     "end_time": "2021-11-23T13:55:36.948165Z",
     "start_time": "2021-11-23T13:55:36.938835Z"
    }
   },
   "outputs": [
    {
     "data": {
      "text/plain": [
       "array([], dtype=int64)"
      ]
     },
     "execution_count": 30,
     "metadata": {},
     "output_type": "execute_result"
    }
   ],
   "source": [
    "nums"
   ]
  },
  {
   "cell_type": "code",
   "execution_count": 48,
   "id": "8a824c1a",
   "metadata": {
    "ExecuteTime": {
     "end_time": "2021-11-23T13:59:18.531757Z",
     "start_time": "2021-11-23T13:59:18.527574Z"
    }
   },
   "outputs": [],
   "source": [
    "i = 3\n",
    "nums = np.linspace(i*largeN+1, (i+1)*largeN, largeN).astype(int)"
   ]
  },
  {
   "cell_type": "code",
   "execution_count": 49,
   "id": "4830edda",
   "metadata": {
    "ExecuteTime": {
     "end_time": "2021-11-23T13:59:19.455340Z",
     "start_time": "2021-11-23T13:59:19.452467Z"
    }
   },
   "outputs": [
    {
     "data": {
      "text/plain": [
       "array([1500001, 1500002, 1500003, ..., 1999998, 1999999, 2000000])"
      ]
     },
     "execution_count": 49,
     "metadata": {},
     "output_type": "execute_result"
    }
   ],
   "source": [
    "nums"
   ]
  },
  {
   "cell_type": "code",
   "execution_count": 50,
   "id": "c1f2b59e",
   "metadata": {
    "ExecuteTime": {
     "end_time": "2021-11-23T14:00:02.903168Z",
     "start_time": "2021-11-23T13:59:30.890606Z"
    }
   },
   "outputs": [],
   "source": [
    "for p in primes:\n",
    "    nums = nums[ nums % p != 0 ]"
   ]
  },
  {
   "cell_type": "code",
   "execution_count": 51,
   "id": "3847b5af",
   "metadata": {
    "ExecuteTime": {
     "end_time": "2021-11-23T14:00:14.917668Z",
     "start_time": "2021-11-23T14:00:14.915322Z"
    }
   },
   "outputs": [
    {
     "data": {
      "text/plain": [
       "34778"
      ]
     },
     "execution_count": 51,
     "metadata": {},
     "output_type": "execute_result"
    }
   ],
   "source": [
    "len(nums)"
   ]
  },
  {
   "cell_type": "code",
   "execution_count": 52,
   "id": "36f87a6f",
   "metadata": {
    "ExecuteTime": {
     "end_time": "2021-11-23T14:00:25.417483Z",
     "start_time": "2021-11-23T14:00:20.478610Z"
    }
   },
   "outputs": [],
   "source": [
    "while len(nums) > 0:\n",
    "    p = nums[0]\n",
    "    primes.append(p)\n",
    "    nums = nums[ nums % p != 0 ]"
   ]
  },
  {
   "cell_type": "code",
   "execution_count": 53,
   "id": "0ead7248",
   "metadata": {
    "ExecuteTime": {
     "end_time": "2021-11-23T14:00:27.743462Z",
     "start_time": "2021-11-23T14:00:27.740443Z"
    }
   },
   "outputs": [
    {
     "data": {
      "text/plain": [
       "array([], dtype=int64)"
      ]
     },
     "execution_count": 53,
     "metadata": {},
     "output_type": "execute_result"
    }
   ],
   "source": [
    "nums"
   ]
  },
  {
   "cell_type": "code",
   "execution_count": 55,
   "id": "78952507",
   "metadata": {
    "ExecuteTime": {
     "end_time": "2021-11-23T14:00:37.256784Z",
     "start_time": "2021-11-23T14:00:37.230541Z"
    }
   },
   "outputs": [
    {
     "data": {
      "text/plain": [
       "142913828922"
      ]
     },
     "execution_count": 55,
     "metadata": {},
     "output_type": "execute_result"
    }
   ],
   "source": [
    "sum(primes)"
   ]
  },
  {
   "cell_type": "code",
   "execution_count": null,
   "id": "ae9ccf49",
   "metadata": {},
   "outputs": [],
   "source": []
  }
 ],
 "metadata": {
  "hide_input": false,
  "kernelspec": {
   "display_name": "Python 3",
   "language": "python",
   "name": "python3"
  },
  "language_info": {
   "codemirror_mode": {
    "name": "ipython",
    "version": 3
   },
   "file_extension": ".py",
   "mimetype": "text/x-python",
   "name": "python",
   "nbconvert_exporter": "python",
   "pygments_lexer": "ipython3",
   "version": "3.8.10"
  },
  "toc": {
   "base_numbering": 1,
   "nav_menu": {},
   "number_sections": true,
   "sideBar": true,
   "skip_h1_title": false,
   "title_cell": "Table of Contents",
   "title_sidebar": "Contents",
   "toc_cell": false,
   "toc_position": {},
   "toc_section_display": true,
   "toc_window_display": false
  }
 },
 "nbformat": 4,
 "nbformat_minor": 5
}
